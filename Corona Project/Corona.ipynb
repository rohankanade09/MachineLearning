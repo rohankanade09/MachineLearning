{
 "cells": [
  {
   "cell_type": "markdown",
   "metadata": {},
   "source": [
    "<center><h1>CORONA VIRUS PREDICTION<h1></center>"
   ]
  },
  {
   "cell_type": "markdown",
   "metadata": {},
   "source": [
    "![CORONA VIRUS PREDICTION](corona.jpg)\n"
   ]
  },
  {
   "cell_type": "code",
   "execution_count": 46,
   "metadata": {},
   "outputs": [],
   "source": [
    "import numpy as np\n",
    "import pandas as pd \n",
    "import seaborn as sns\n",
    "import matplotlib.pyplot as plt\n",
    "import matplotlib.dates as mdates\n",
    "import plotly.express as px\n",
    "import datetime\n",
    "from datetime import date, timedelta\n",
    "from fbprophet import Prophet\n",
    "from fbprophet.plot import plot_plotly, add_changepoints_to_plot\n",
    "import plotly.offline as py\n",
    "from keras.models import Sequential\n",
    "from keras.layers import LSTM, Dense\n",
    "from keras.layers import Dropout\n",
    "from sklearn.preprocessing import MinMaxScaler\n",
    "from tensorflow.keras.preprocessing.sequence import TimeseriesGenerator\n",
    "from tensorflow.keras.callbacks import EarlyStopping"
   ]
  },
  {
   "cell_type": "markdown",
   "metadata": {},
   "source": [
    "<h3>Reading Dataset<h3>"
   ]
  },
  {
   "cell_type": "code",
   "execution_count": 47,
   "metadata": {},
   "outputs": [],
   "source": [
    "df = pd.read_csv('dataset.csv', index_col = 'Date')\n",
    "df_india = df[df['Country/Region'] == 'India'].copy()"
   ]
  },
  {
   "cell_type": "code",
   "execution_count": 48,
   "metadata": {},
   "outputs": [
    {
     "data": {
      "text/html": [
       "<div>\n",
       "<style scoped>\n",
       "    .dataframe tbody tr th:only-of-type {\n",
       "        vertical-align: middle;\n",
       "    }\n",
       "\n",
       "    .dataframe tbody tr th {\n",
       "        vertical-align: top;\n",
       "    }\n",
       "\n",
       "    .dataframe thead th {\n",
       "        text-align: right;\n",
       "    }\n",
       "</style>\n",
       "<table border=\"1\" class=\"dataframe\">\n",
       "  <thead>\n",
       "    <tr style=\"text-align: right;\">\n",
       "      <th></th>\n",
       "      <th>Province/State</th>\n",
       "      <th>Country/Region</th>\n",
       "      <th>Lat</th>\n",
       "      <th>Long</th>\n",
       "      <th>Confirmed</th>\n",
       "      <th>Deaths</th>\n",
       "      <th>Recovered</th>\n",
       "    </tr>\n",
       "    <tr>\n",
       "      <th>Date</th>\n",
       "      <th></th>\n",
       "      <th></th>\n",
       "      <th></th>\n",
       "      <th></th>\n",
       "      <th></th>\n",
       "      <th></th>\n",
       "      <th></th>\n",
       "    </tr>\n",
       "  </thead>\n",
       "  <tbody>\n",
       "    <tr>\n",
       "      <th>1/22/20</th>\n",
       "      <td>NaN</td>\n",
       "      <td>India</td>\n",
       "      <td>21.0</td>\n",
       "      <td>78.0</td>\n",
       "      <td>0</td>\n",
       "      <td>0</td>\n",
       "      <td>0</td>\n",
       "    </tr>\n",
       "    <tr>\n",
       "      <th>1/23/20</th>\n",
       "      <td>NaN</td>\n",
       "      <td>India</td>\n",
       "      <td>21.0</td>\n",
       "      <td>78.0</td>\n",
       "      <td>0</td>\n",
       "      <td>0</td>\n",
       "      <td>0</td>\n",
       "    </tr>\n",
       "    <tr>\n",
       "      <th>1/24/20</th>\n",
       "      <td>NaN</td>\n",
       "      <td>India</td>\n",
       "      <td>21.0</td>\n",
       "      <td>78.0</td>\n",
       "      <td>0</td>\n",
       "      <td>0</td>\n",
       "      <td>0</td>\n",
       "    </tr>\n",
       "    <tr>\n",
       "      <th>1/25/20</th>\n",
       "      <td>NaN</td>\n",
       "      <td>India</td>\n",
       "      <td>21.0</td>\n",
       "      <td>78.0</td>\n",
       "      <td>0</td>\n",
       "      <td>0</td>\n",
       "      <td>0</td>\n",
       "    </tr>\n",
       "    <tr>\n",
       "      <th>1/26/20</th>\n",
       "      <td>NaN</td>\n",
       "      <td>India</td>\n",
       "      <td>21.0</td>\n",
       "      <td>78.0</td>\n",
       "      <td>0</td>\n",
       "      <td>0</td>\n",
       "      <td>0</td>\n",
       "    </tr>\n",
       "  </tbody>\n",
       "</table>\n",
       "</div>"
      ],
      "text/plain": [
       "        Province/State Country/Region   Lat  Long  Confirmed  Deaths  \\\n",
       "Date                                                                   \n",
       "1/22/20            NaN          India  21.0  78.0          0       0   \n",
       "1/23/20            NaN          India  21.0  78.0          0       0   \n",
       "1/24/20            NaN          India  21.0  78.0          0       0   \n",
       "1/25/20            NaN          India  21.0  78.0          0       0   \n",
       "1/26/20            NaN          India  21.0  78.0          0       0   \n",
       "\n",
       "         Recovered  \n",
       "Date                \n",
       "1/22/20          0  \n",
       "1/23/20          0  \n",
       "1/24/20          0  \n",
       "1/25/20          0  \n",
       "1/26/20          0  "
      ]
     },
     "execution_count": 48,
     "metadata": {},
     "output_type": "execute_result"
    }
   ],
   "source": [
    "df_india.head()"
   ]
  },
  {
   "cell_type": "code",
   "execution_count": 49,
   "metadata": {},
   "outputs": [
    {
     "data": {
      "text/plain": [
       "(76, 7)"
      ]
     },
     "execution_count": 49,
     "metadata": {},
     "output_type": "execute_result"
    }
   ],
   "source": [
    "df_india.shape"
   ]
  },
  {
   "cell_type": "markdown",
   "metadata": {},
   "source": [
    "<h3>Check NULL Values<h3>"
   ]
  },
  {
   "cell_type": "code",
   "execution_count": 50,
   "metadata": {},
   "outputs": [
    {
     "data": {
      "text/plain": [
       "Province/State    76\n",
       "Country/Region     0\n",
       "Lat                0\n",
       "Long               0\n",
       "Confirmed          0\n",
       "Deaths             0\n",
       "Recovered          0\n",
       "dtype: int64"
      ]
     },
     "execution_count": 50,
     "metadata": {},
     "output_type": "execute_result"
    }
   ],
   "source": [
    "df_india.isna().sum()"
   ]
  },
  {
   "cell_type": "markdown",
   "metadata": {},
   "source": [
    "<h3>Graphical Representation of Cases in India<h3>"
   ]
  },
  {
   "cell_type": "code",
   "execution_count": 51,
   "metadata": {},
   "outputs": [
    {
     "data": {
      "text/html": [
       "        <script type=\"text/javascript\">\n",
       "        window.PlotlyConfig = {MathJaxConfig: 'local'};\n",
       "        if (window.MathJax) {MathJax.Hub.Config({SVG: {font: \"STIX-Web\"}});}\n",
       "        if (typeof require !== 'undefined') {\n",
       "        require.undef(\"plotly\");\n",
       "        requirejs.config({\n",
       "            paths: {\n",
       "                'plotly': ['https://cdn.plot.ly/plotly-latest.min']\n",
       "            }\n",
       "        });\n",
       "        require(['plotly'], function(Plotly) {\n",
       "            window._Plotly = Plotly;\n",
       "        });\n",
       "        }\n",
       "        </script>\n",
       "        "
      ]
     },
     "metadata": {},
     "output_type": "display_data"
    },
    {
     "data": {
      "application/vnd.plotly.v1+json": {
       "config": {
        "linkText": "Export to plot.ly",
        "plotlyServerURL": "https://plot.ly",
        "showLink": false
       },
       "data": [
        {
         "coloraxis": "coloraxis",
         "customdata": [
          [
           0,
           0,
           0
          ]
         ],
         "geo": "geo",
         "hovertemplate": "<b>%{hovertext}</b><br><br>Date=01/22/2020<br>Recovered=%{customdata[0]}<br>Deaths=%{customdata[1]}<br>Active=%{customdata[2]}<br>Country=%{location}<br>Confirmed=%{z}<extra></extra>",
         "hovertext": [
          "India"
         ],
         "locationmode": "country names",
         "locations": [
          "India"
         ],
         "name": "",
         "type": "choropleth",
         "z": [
          0
         ]
        }
       ],
       "frames": [
        {
         "data": [
          {
           "coloraxis": "coloraxis",
           "customdata": [
            [
             0,
             0,
             0
            ]
           ],
           "geo": "geo",
           "hovertemplate": "<b>%{hovertext}</b><br><br>Date=01/22/2020<br>Recovered=%{customdata[0]}<br>Deaths=%{customdata[1]}<br>Active=%{customdata[2]}<br>Country=%{location}<br>Confirmed=%{z}<extra></extra>",
           "hovertext": [
            "India"
           ],
           "locationmode": "country names",
           "locations": [
            "India"
           ],
           "name": "",
           "type": "choropleth",
           "z": [
            0
           ]
          }
         ],
         "name": "01/22/2020"
        },
        {
         "data": [
          {
           "coloraxis": "coloraxis",
           "customdata": [
            [
             0,
             0,
             0
            ]
           ],
           "geo": "geo",
           "hovertemplate": "<b>%{hovertext}</b><br><br>Date=01/23/2020<br>Recovered=%{customdata[0]}<br>Deaths=%{customdata[1]}<br>Active=%{customdata[2]}<br>Country=%{location}<br>Confirmed=%{z}<extra></extra>",
           "hovertext": [
            "India"
           ],
           "locationmode": "country names",
           "locations": [
            "India"
           ],
           "name": "",
           "type": "choropleth",
           "z": [
            0
           ]
          }
         ],
         "name": "01/23/2020"
        },
        {
         "data": [
          {
           "coloraxis": "coloraxis",
           "customdata": [
            [
             0,
             0,
             0
            ]
           ],
           "geo": "geo",
           "hovertemplate": "<b>%{hovertext}</b><br><br>Date=01/24/2020<br>Recovered=%{customdata[0]}<br>Deaths=%{customdata[1]}<br>Active=%{customdata[2]}<br>Country=%{location}<br>Confirmed=%{z}<extra></extra>",
           "hovertext": [
            "India"
           ],
           "locationmode": "country names",
           "locations": [
            "India"
           ],
           "name": "",
           "type": "choropleth",
           "z": [
            0
           ]
          }
         ],
         "name": "01/24/2020"
        },
        {
         "data": [
          {
           "coloraxis": "coloraxis",
           "customdata": [
            [
             0,
             0,
             0
            ]
           ],
           "geo": "geo",
           "hovertemplate": "<b>%{hovertext}</b><br><br>Date=01/25/2020<br>Recovered=%{customdata[0]}<br>Deaths=%{customdata[1]}<br>Active=%{customdata[2]}<br>Country=%{location}<br>Confirmed=%{z}<extra></extra>",
           "hovertext": [
            "India"
           ],
           "locationmode": "country names",
           "locations": [
            "India"
           ],
           "name": "",
           "type": "choropleth",
           "z": [
            0
           ]
          }
         ],
         "name": "01/25/2020"
        },
        {
         "data": [
          {
           "coloraxis": "coloraxis",
           "customdata": [
            [
             0,
             0,
             0
            ]
           ],
           "geo": "geo",
           "hovertemplate": "<b>%{hovertext}</b><br><br>Date=01/26/2020<br>Recovered=%{customdata[0]}<br>Deaths=%{customdata[1]}<br>Active=%{customdata[2]}<br>Country=%{location}<br>Confirmed=%{z}<extra></extra>",
           "hovertext": [
            "India"
           ],
           "locationmode": "country names",
           "locations": [
            "India"
           ],
           "name": "",
           "type": "choropleth",
           "z": [
            0
           ]
          }
         ],
         "name": "01/26/2020"
        },
        {
         "data": [
          {
           "coloraxis": "coloraxis",
           "customdata": [
            [
             0,
             0,
             0
            ]
           ],
           "geo": "geo",
           "hovertemplate": "<b>%{hovertext}</b><br><br>Date=01/27/2020<br>Recovered=%{customdata[0]}<br>Deaths=%{customdata[1]}<br>Active=%{customdata[2]}<br>Country=%{location}<br>Confirmed=%{z}<extra></extra>",
           "hovertext": [
            "India"
           ],
           "locationmode": "country names",
           "locations": [
            "India"
           ],
           "name": "",
           "type": "choropleth",
           "z": [
            0
           ]
          }
         ],
         "name": "01/27/2020"
        },
        {
         "data": [
          {
           "coloraxis": "coloraxis",
           "customdata": [
            [
             0,
             0,
             0
            ]
           ],
           "geo": "geo",
           "hovertemplate": "<b>%{hovertext}</b><br><br>Date=01/28/2020<br>Recovered=%{customdata[0]}<br>Deaths=%{customdata[1]}<br>Active=%{customdata[2]}<br>Country=%{location}<br>Confirmed=%{z}<extra></extra>",
           "hovertext": [
            "India"
           ],
           "locationmode": "country names",
           "locations": [
            "India"
           ],
           "name": "",
           "type": "choropleth",
           "z": [
            0
           ]
          }
         ],
         "name": "01/28/2020"
        },
        {
         "data": [
          {
           "coloraxis": "coloraxis",
           "customdata": [
            [
             0,
             0,
             0
            ]
           ],
           "geo": "geo",
           "hovertemplate": "<b>%{hovertext}</b><br><br>Date=01/29/2020<br>Recovered=%{customdata[0]}<br>Deaths=%{customdata[1]}<br>Active=%{customdata[2]}<br>Country=%{location}<br>Confirmed=%{z}<extra></extra>",
           "hovertext": [
            "India"
           ],
           "locationmode": "country names",
           "locations": [
            "India"
           ],
           "name": "",
           "type": "choropleth",
           "z": [
            0
           ]
          }
         ],
         "name": "01/29/2020"
        },
        {
         "data": [
          {
           "coloraxis": "coloraxis",
           "customdata": [
            [
             0,
             0,
             1
            ]
           ],
           "geo": "geo",
           "hovertemplate": "<b>%{hovertext}</b><br><br>Date=01/30/2020<br>Recovered=%{customdata[0]}<br>Deaths=%{customdata[1]}<br>Active=%{customdata[2]}<br>Country=%{location}<br>Confirmed=%{z}<extra></extra>",
           "hovertext": [
            "India"
           ],
           "locationmode": "country names",
           "locations": [
            "India"
           ],
           "name": "",
           "type": "choropleth",
           "z": [
            1
           ]
          }
         ],
         "name": "01/30/2020"
        },
        {
         "data": [
          {
           "coloraxis": "coloraxis",
           "customdata": [
            [
             0,
             0,
             1
            ]
           ],
           "geo": "geo",
           "hovertemplate": "<b>%{hovertext}</b><br><br>Date=01/31/2020<br>Recovered=%{customdata[0]}<br>Deaths=%{customdata[1]}<br>Active=%{customdata[2]}<br>Country=%{location}<br>Confirmed=%{z}<extra></extra>",
           "hovertext": [
            "India"
           ],
           "locationmode": "country names",
           "locations": [
            "India"
           ],
           "name": "",
           "type": "choropleth",
           "z": [
            1
           ]
          }
         ],
         "name": "01/31/2020"
        },
        {
         "data": [
          {
           "coloraxis": "coloraxis",
           "customdata": [
            [
             0,
             0,
             1
            ]
           ],
           "geo": "geo",
           "hovertemplate": "<b>%{hovertext}</b><br><br>Date=02/01/2020<br>Recovered=%{customdata[0]}<br>Deaths=%{customdata[1]}<br>Active=%{customdata[2]}<br>Country=%{location}<br>Confirmed=%{z}<extra></extra>",
           "hovertext": [
            "India"
           ],
           "locationmode": "country names",
           "locations": [
            "India"
           ],
           "name": "",
           "type": "choropleth",
           "z": [
            1
           ]
          }
         ],
         "name": "02/01/2020"
        },
        {
         "data": [
          {
           "coloraxis": "coloraxis",
           "customdata": [
            [
             0,
             0,
             3
            ]
           ],
           "geo": "geo",
           "hovertemplate": "<b>%{hovertext}</b><br><br>Date=02/10/2020<br>Recovered=%{customdata[0]}<br>Deaths=%{customdata[1]}<br>Active=%{customdata[2]}<br>Country=%{location}<br>Confirmed=%{z}<extra></extra>",
           "hovertext": [
            "India"
           ],
           "locationmode": "country names",
           "locations": [
            "India"
           ],
           "name": "",
           "type": "choropleth",
           "z": [
            3
           ]
          }
         ],
         "name": "02/10/2020"
        },
        {
         "data": [
          {
           "coloraxis": "coloraxis",
           "customdata": [
            [
             0,
             0,
             3
            ]
           ],
           "geo": "geo",
           "hovertemplate": "<b>%{hovertext}</b><br><br>Date=02/11/2020<br>Recovered=%{customdata[0]}<br>Deaths=%{customdata[1]}<br>Active=%{customdata[2]}<br>Country=%{location}<br>Confirmed=%{z}<extra></extra>",
           "hovertext": [
            "India"
           ],
           "locationmode": "country names",
           "locations": [
            "India"
           ],
           "name": "",
           "type": "choropleth",
           "z": [
            3
           ]
          }
         ],
         "name": "02/11/2020"
        },
        {
         "data": [
          {
           "coloraxis": "coloraxis",
           "customdata": [
            [
             0,
             0,
             3
            ]
           ],
           "geo": "geo",
           "hovertemplate": "<b>%{hovertext}</b><br><br>Date=02/12/2020<br>Recovered=%{customdata[0]}<br>Deaths=%{customdata[1]}<br>Active=%{customdata[2]}<br>Country=%{location}<br>Confirmed=%{z}<extra></extra>",
           "hovertext": [
            "India"
           ],
           "locationmode": "country names",
           "locations": [
            "India"
           ],
           "name": "",
           "type": "choropleth",
           "z": [
            3
           ]
          }
         ],
         "name": "02/12/2020"
        },
        {
         "data": [
          {
           "coloraxis": "coloraxis",
           "customdata": [
            [
             0,
             0,
             3
            ]
           ],
           "geo": "geo",
           "hovertemplate": "<b>%{hovertext}</b><br><br>Date=02/13/2020<br>Recovered=%{customdata[0]}<br>Deaths=%{customdata[1]}<br>Active=%{customdata[2]}<br>Country=%{location}<br>Confirmed=%{z}<extra></extra>",
           "hovertext": [
            "India"
           ],
           "locationmode": "country names",
           "locations": [
            "India"
           ],
           "name": "",
           "type": "choropleth",
           "z": [
            3
           ]
          }
         ],
         "name": "02/13/2020"
        },
        {
         "data": [
          {
           "coloraxis": "coloraxis",
           "customdata": [
            [
             0,
             0,
             3
            ]
           ],
           "geo": "geo",
           "hovertemplate": "<b>%{hovertext}</b><br><br>Date=02/14/2020<br>Recovered=%{customdata[0]}<br>Deaths=%{customdata[1]}<br>Active=%{customdata[2]}<br>Country=%{location}<br>Confirmed=%{z}<extra></extra>",
           "hovertext": [
            "India"
           ],
           "locationmode": "country names",
           "locations": [
            "India"
           ],
           "name": "",
           "type": "choropleth",
           "z": [
            3
           ]
          }
         ],
         "name": "02/14/2020"
        },
        {
         "data": [
          {
           "coloraxis": "coloraxis",
           "customdata": [
            [
             0,
             0,
             3
            ]
           ],
           "geo": "geo",
           "hovertemplate": "<b>%{hovertext}</b><br><br>Date=02/15/2020<br>Recovered=%{customdata[0]}<br>Deaths=%{customdata[1]}<br>Active=%{customdata[2]}<br>Country=%{location}<br>Confirmed=%{z}<extra></extra>",
           "hovertext": [
            "India"
           ],
           "locationmode": "country names",
           "locations": [
            "India"
           ],
           "name": "",
           "type": "choropleth",
           "z": [
            3
           ]
          }
         ],
         "name": "02/15/2020"
        },
        {
         "data": [
          {
           "coloraxis": "coloraxis",
           "customdata": [
            [
             3,
             0,
             0
            ]
           ],
           "geo": "geo",
           "hovertemplate": "<b>%{hovertext}</b><br><br>Date=02/16/2020<br>Recovered=%{customdata[0]}<br>Deaths=%{customdata[1]}<br>Active=%{customdata[2]}<br>Country=%{location}<br>Confirmed=%{z}<extra></extra>",
           "hovertext": [
            "India"
           ],
           "locationmode": "country names",
           "locations": [
            "India"
           ],
           "name": "",
           "type": "choropleth",
           "z": [
            3
           ]
          }
         ],
         "name": "02/16/2020"
        },
        {
         "data": [
          {
           "coloraxis": "coloraxis",
           "customdata": [
            [
             3,
             0,
             0
            ]
           ],
           "geo": "geo",
           "hovertemplate": "<b>%{hovertext}</b><br><br>Date=02/17/2020<br>Recovered=%{customdata[0]}<br>Deaths=%{customdata[1]}<br>Active=%{customdata[2]}<br>Country=%{location}<br>Confirmed=%{z}<extra></extra>",
           "hovertext": [
            "India"
           ],
           "locationmode": "country names",
           "locations": [
            "India"
           ],
           "name": "",
           "type": "choropleth",
           "z": [
            3
           ]
          }
         ],
         "name": "02/17/2020"
        },
        {
         "data": [
          {
           "coloraxis": "coloraxis",
           "customdata": [
            [
             3,
             0,
             0
            ]
           ],
           "geo": "geo",
           "hovertemplate": "<b>%{hovertext}</b><br><br>Date=02/18/2020<br>Recovered=%{customdata[0]}<br>Deaths=%{customdata[1]}<br>Active=%{customdata[2]}<br>Country=%{location}<br>Confirmed=%{z}<extra></extra>",
           "hovertext": [
            "India"
           ],
           "locationmode": "country names",
           "locations": [
            "India"
           ],
           "name": "",
           "type": "choropleth",
           "z": [
            3
           ]
          }
         ],
         "name": "02/18/2020"
        },
        {
         "data": [
          {
           "coloraxis": "coloraxis",
           "customdata": [
            [
             3,
             0,
             0
            ]
           ],
           "geo": "geo",
           "hovertemplate": "<b>%{hovertext}</b><br><br>Date=02/19/2020<br>Recovered=%{customdata[0]}<br>Deaths=%{customdata[1]}<br>Active=%{customdata[2]}<br>Country=%{location}<br>Confirmed=%{z}<extra></extra>",
           "hovertext": [
            "India"
           ],
           "locationmode": "country names",
           "locations": [
            "India"
           ],
           "name": "",
           "type": "choropleth",
           "z": [
            3
           ]
          }
         ],
         "name": "02/19/2020"
        },
        {
         "data": [
          {
           "coloraxis": "coloraxis",
           "customdata": [
            [
             0,
             0,
             2
            ]
           ],
           "geo": "geo",
           "hovertemplate": "<b>%{hovertext}</b><br><br>Date=02/02/2020<br>Recovered=%{customdata[0]}<br>Deaths=%{customdata[1]}<br>Active=%{customdata[2]}<br>Country=%{location}<br>Confirmed=%{z}<extra></extra>",
           "hovertext": [
            "India"
           ],
           "locationmode": "country names",
           "locations": [
            "India"
           ],
           "name": "",
           "type": "choropleth",
           "z": [
            2
           ]
          }
         ],
         "name": "02/02/2020"
        },
        {
         "data": [
          {
           "coloraxis": "coloraxis",
           "customdata": [
            [
             3,
             0,
             0
            ]
           ],
           "geo": "geo",
           "hovertemplate": "<b>%{hovertext}</b><br><br>Date=02/20/2020<br>Recovered=%{customdata[0]}<br>Deaths=%{customdata[1]}<br>Active=%{customdata[2]}<br>Country=%{location}<br>Confirmed=%{z}<extra></extra>",
           "hovertext": [
            "India"
           ],
           "locationmode": "country names",
           "locations": [
            "India"
           ],
           "name": "",
           "type": "choropleth",
           "z": [
            3
           ]
          }
         ],
         "name": "02/20/2020"
        },
        {
         "data": [
          {
           "coloraxis": "coloraxis",
           "customdata": [
            [
             3,
             0,
             0
            ]
           ],
           "geo": "geo",
           "hovertemplate": "<b>%{hovertext}</b><br><br>Date=02/21/2020<br>Recovered=%{customdata[0]}<br>Deaths=%{customdata[1]}<br>Active=%{customdata[2]}<br>Country=%{location}<br>Confirmed=%{z}<extra></extra>",
           "hovertext": [
            "India"
           ],
           "locationmode": "country names",
           "locations": [
            "India"
           ],
           "name": "",
           "type": "choropleth",
           "z": [
            3
           ]
          }
         ],
         "name": "02/21/2020"
        },
        {
         "data": [
          {
           "coloraxis": "coloraxis",
           "customdata": [
            [
             3,
             0,
             0
            ]
           ],
           "geo": "geo",
           "hovertemplate": "<b>%{hovertext}</b><br><br>Date=02/22/2020<br>Recovered=%{customdata[0]}<br>Deaths=%{customdata[1]}<br>Active=%{customdata[2]}<br>Country=%{location}<br>Confirmed=%{z}<extra></extra>",
           "hovertext": [
            "India"
           ],
           "locationmode": "country names",
           "locations": [
            "India"
           ],
           "name": "",
           "type": "choropleth",
           "z": [
            3
           ]
          }
         ],
         "name": "02/22/2020"
        },
        {
         "data": [
          {
           "coloraxis": "coloraxis",
           "customdata": [
            [
             3,
             0,
             0
            ]
           ],
           "geo": "geo",
           "hovertemplate": "<b>%{hovertext}</b><br><br>Date=02/23/2020<br>Recovered=%{customdata[0]}<br>Deaths=%{customdata[1]}<br>Active=%{customdata[2]}<br>Country=%{location}<br>Confirmed=%{z}<extra></extra>",
           "hovertext": [
            "India"
           ],
           "locationmode": "country names",
           "locations": [
            "India"
           ],
           "name": "",
           "type": "choropleth",
           "z": [
            3
           ]
          }
         ],
         "name": "02/23/2020"
        },
        {
         "data": [
          {
           "coloraxis": "coloraxis",
           "customdata": [
            [
             3,
             0,
             0
            ]
           ],
           "geo": "geo",
           "hovertemplate": "<b>%{hovertext}</b><br><br>Date=02/24/2020<br>Recovered=%{customdata[0]}<br>Deaths=%{customdata[1]}<br>Active=%{customdata[2]}<br>Country=%{location}<br>Confirmed=%{z}<extra></extra>",
           "hovertext": [
            "India"
           ],
           "locationmode": "country names",
           "locations": [
            "India"
           ],
           "name": "",
           "type": "choropleth",
           "z": [
            3
           ]
          }
         ],
         "name": "02/24/2020"
        },
        {
         "data": [
          {
           "coloraxis": "coloraxis",
           "customdata": [
            [
             3,
             0,
             0
            ]
           ],
           "geo": "geo",
           "hovertemplate": "<b>%{hovertext}</b><br><br>Date=02/25/2020<br>Recovered=%{customdata[0]}<br>Deaths=%{customdata[1]}<br>Active=%{customdata[2]}<br>Country=%{location}<br>Confirmed=%{z}<extra></extra>",
           "hovertext": [
            "India"
           ],
           "locationmode": "country names",
           "locations": [
            "India"
           ],
           "name": "",
           "type": "choropleth",
           "z": [
            3
           ]
          }
         ],
         "name": "02/25/2020"
        },
        {
         "data": [
          {
           "coloraxis": "coloraxis",
           "customdata": [
            [
             3,
             0,
             0
            ]
           ],
           "geo": "geo",
           "hovertemplate": "<b>%{hovertext}</b><br><br>Date=02/26/2020<br>Recovered=%{customdata[0]}<br>Deaths=%{customdata[1]}<br>Active=%{customdata[2]}<br>Country=%{location}<br>Confirmed=%{z}<extra></extra>",
           "hovertext": [
            "India"
           ],
           "locationmode": "country names",
           "locations": [
            "India"
           ],
           "name": "",
           "type": "choropleth",
           "z": [
            3
           ]
          }
         ],
         "name": "02/26/2020"
        },
        {
         "data": [
          {
           "coloraxis": "coloraxis",
           "customdata": [
            [
             3,
             0,
             0
            ]
           ],
           "geo": "geo",
           "hovertemplate": "<b>%{hovertext}</b><br><br>Date=02/27/2020<br>Recovered=%{customdata[0]}<br>Deaths=%{customdata[1]}<br>Active=%{customdata[2]}<br>Country=%{location}<br>Confirmed=%{z}<extra></extra>",
           "hovertext": [
            "India"
           ],
           "locationmode": "country names",
           "locations": [
            "India"
           ],
           "name": "",
           "type": "choropleth",
           "z": [
            3
           ]
          }
         ],
         "name": "02/27/2020"
        },
        {
         "data": [
          {
           "coloraxis": "coloraxis",
           "customdata": [
            [
             3,
             0,
             0
            ]
           ],
           "geo": "geo",
           "hovertemplate": "<b>%{hovertext}</b><br><br>Date=02/28/2020<br>Recovered=%{customdata[0]}<br>Deaths=%{customdata[1]}<br>Active=%{customdata[2]}<br>Country=%{location}<br>Confirmed=%{z}<extra></extra>",
           "hovertext": [
            "India"
           ],
           "locationmode": "country names",
           "locations": [
            "India"
           ],
           "name": "",
           "type": "choropleth",
           "z": [
            3
           ]
          }
         ],
         "name": "02/28/2020"
        },
        {
         "data": [
          {
           "coloraxis": "coloraxis",
           "customdata": [
            [
             3,
             0,
             0
            ]
           ],
           "geo": "geo",
           "hovertemplate": "<b>%{hovertext}</b><br><br>Date=02/29/2020<br>Recovered=%{customdata[0]}<br>Deaths=%{customdata[1]}<br>Active=%{customdata[2]}<br>Country=%{location}<br>Confirmed=%{z}<extra></extra>",
           "hovertext": [
            "India"
           ],
           "locationmode": "country names",
           "locations": [
            "India"
           ],
           "name": "",
           "type": "choropleth",
           "z": [
            3
           ]
          }
         ],
         "name": "02/29/2020"
        },
        {
         "data": [
          {
           "coloraxis": "coloraxis",
           "customdata": [
            [
             0,
             0,
             3
            ]
           ],
           "geo": "geo",
           "hovertemplate": "<b>%{hovertext}</b><br><br>Date=02/03/2020<br>Recovered=%{customdata[0]}<br>Deaths=%{customdata[1]}<br>Active=%{customdata[2]}<br>Country=%{location}<br>Confirmed=%{z}<extra></extra>",
           "hovertext": [
            "India"
           ],
           "locationmode": "country names",
           "locations": [
            "India"
           ],
           "name": "",
           "type": "choropleth",
           "z": [
            3
           ]
          }
         ],
         "name": "02/03/2020"
        },
        {
         "data": [
          {
           "coloraxis": "coloraxis",
           "customdata": [
            [
             0,
             0,
             3
            ]
           ],
           "geo": "geo",
           "hovertemplate": "<b>%{hovertext}</b><br><br>Date=02/04/2020<br>Recovered=%{customdata[0]}<br>Deaths=%{customdata[1]}<br>Active=%{customdata[2]}<br>Country=%{location}<br>Confirmed=%{z}<extra></extra>",
           "hovertext": [
            "India"
           ],
           "locationmode": "country names",
           "locations": [
            "India"
           ],
           "name": "",
           "type": "choropleth",
           "z": [
            3
           ]
          }
         ],
         "name": "02/04/2020"
        },
        {
         "data": [
          {
           "coloraxis": "coloraxis",
           "customdata": [
            [
             0,
             0,
             3
            ]
           ],
           "geo": "geo",
           "hovertemplate": "<b>%{hovertext}</b><br><br>Date=02/05/2020<br>Recovered=%{customdata[0]}<br>Deaths=%{customdata[1]}<br>Active=%{customdata[2]}<br>Country=%{location}<br>Confirmed=%{z}<extra></extra>",
           "hovertext": [
            "India"
           ],
           "locationmode": "country names",
           "locations": [
            "India"
           ],
           "name": "",
           "type": "choropleth",
           "z": [
            3
           ]
          }
         ],
         "name": "02/05/2020"
        },
        {
         "data": [
          {
           "coloraxis": "coloraxis",
           "customdata": [
            [
             0,
             0,
             3
            ]
           ],
           "geo": "geo",
           "hovertemplate": "<b>%{hovertext}</b><br><br>Date=02/06/2020<br>Recovered=%{customdata[0]}<br>Deaths=%{customdata[1]}<br>Active=%{customdata[2]}<br>Country=%{location}<br>Confirmed=%{z}<extra></extra>",
           "hovertext": [
            "India"
           ],
           "locationmode": "country names",
           "locations": [
            "India"
           ],
           "name": "",
           "type": "choropleth",
           "z": [
            3
           ]
          }
         ],
         "name": "02/06/2020"
        },
        {
         "data": [
          {
           "coloraxis": "coloraxis",
           "customdata": [
            [
             0,
             0,
             3
            ]
           ],
           "geo": "geo",
           "hovertemplate": "<b>%{hovertext}</b><br><br>Date=02/07/2020<br>Recovered=%{customdata[0]}<br>Deaths=%{customdata[1]}<br>Active=%{customdata[2]}<br>Country=%{location}<br>Confirmed=%{z}<extra></extra>",
           "hovertext": [
            "India"
           ],
           "locationmode": "country names",
           "locations": [
            "India"
           ],
           "name": "",
           "type": "choropleth",
           "z": [
            3
           ]
          }
         ],
         "name": "02/07/2020"
        },
        {
         "data": [
          {
           "coloraxis": "coloraxis",
           "customdata": [
            [
             0,
             0,
             3
            ]
           ],
           "geo": "geo",
           "hovertemplate": "<b>%{hovertext}</b><br><br>Date=02/08/2020<br>Recovered=%{customdata[0]}<br>Deaths=%{customdata[1]}<br>Active=%{customdata[2]}<br>Country=%{location}<br>Confirmed=%{z}<extra></extra>",
           "hovertext": [
            "India"
           ],
           "locationmode": "country names",
           "locations": [
            "India"
           ],
           "name": "",
           "type": "choropleth",
           "z": [
            3
           ]
          }
         ],
         "name": "02/08/2020"
        },
        {
         "data": [
          {
           "coloraxis": "coloraxis",
           "customdata": [
            [
             0,
             0,
             3
            ]
           ],
           "geo": "geo",
           "hovertemplate": "<b>%{hovertext}</b><br><br>Date=02/09/2020<br>Recovered=%{customdata[0]}<br>Deaths=%{customdata[1]}<br>Active=%{customdata[2]}<br>Country=%{location}<br>Confirmed=%{z}<extra></extra>",
           "hovertext": [
            "India"
           ],
           "locationmode": "country names",
           "locations": [
            "India"
           ],
           "name": "",
           "type": "choropleth",
           "z": [
            3
           ]
          }
         ],
         "name": "02/09/2020"
        },
        {
         "data": [
          {
           "coloraxis": "coloraxis",
           "customdata": [
            [
             3,
             0,
             0
            ]
           ],
           "geo": "geo",
           "hovertemplate": "<b>%{hovertext}</b><br><br>Date=03/01/2020<br>Recovered=%{customdata[0]}<br>Deaths=%{customdata[1]}<br>Active=%{customdata[2]}<br>Country=%{location}<br>Confirmed=%{z}<extra></extra>",
           "hovertext": [
            "India"
           ],
           "locationmode": "country names",
           "locations": [
            "India"
           ],
           "name": "",
           "type": "choropleth",
           "z": [
            3
           ]
          }
         ],
         "name": "03/01/2020"
        },
        {
         "data": [
          {
           "coloraxis": "coloraxis",
           "customdata": [
            [
             4,
             0,
             52
            ]
           ],
           "geo": "geo",
           "hovertemplate": "<b>%{hovertext}</b><br><br>Date=03/10/2020<br>Recovered=%{customdata[0]}<br>Deaths=%{customdata[1]}<br>Active=%{customdata[2]}<br>Country=%{location}<br>Confirmed=%{z}<extra></extra>",
           "hovertext": [
            "India"
           ],
           "locationmode": "country names",
           "locations": [
            "India"
           ],
           "name": "",
           "type": "choropleth",
           "z": [
            56
           ]
          }
         ],
         "name": "03/10/2020"
        },
        {
         "data": [
          {
           "coloraxis": "coloraxis",
           "customdata": [
            [
             4,
             1,
             57
            ]
           ],
           "geo": "geo",
           "hovertemplate": "<b>%{hovertext}</b><br><br>Date=03/11/2020<br>Recovered=%{customdata[0]}<br>Deaths=%{customdata[1]}<br>Active=%{customdata[2]}<br>Country=%{location}<br>Confirmed=%{z}<extra></extra>",
           "hovertext": [
            "India"
           ],
           "locationmode": "country names",
           "locations": [
            "India"
           ],
           "name": "",
           "type": "choropleth",
           "z": [
            62
           ]
          }
         ],
         "name": "03/11/2020"
        },
        {
         "data": [
          {
           "coloraxis": "coloraxis",
           "customdata": [
            [
             4,
             1,
             68
            ]
           ],
           "geo": "geo",
           "hovertemplate": "<b>%{hovertext}</b><br><br>Date=03/12/2020<br>Recovered=%{customdata[0]}<br>Deaths=%{customdata[1]}<br>Active=%{customdata[2]}<br>Country=%{location}<br>Confirmed=%{z}<extra></extra>",
           "hovertext": [
            "India"
           ],
           "locationmode": "country names",
           "locations": [
            "India"
           ],
           "name": "",
           "type": "choropleth",
           "z": [
            73
           ]
          }
         ],
         "name": "03/12/2020"
        },
        {
         "data": [
          {
           "coloraxis": "coloraxis",
           "customdata": [
            [
             4,
             2,
             76
            ]
           ],
           "geo": "geo",
           "hovertemplate": "<b>%{hovertext}</b><br><br>Date=03/13/2020<br>Recovered=%{customdata[0]}<br>Deaths=%{customdata[1]}<br>Active=%{customdata[2]}<br>Country=%{location}<br>Confirmed=%{z}<extra></extra>",
           "hovertext": [
            "India"
           ],
           "locationmode": "country names",
           "locations": [
            "India"
           ],
           "name": "",
           "type": "choropleth",
           "z": [
            82
           ]
          }
         ],
         "name": "03/13/2020"
        },
        {
         "data": [
          {
           "coloraxis": "coloraxis",
           "customdata": [
            [
             4,
             2,
             96
            ]
           ],
           "geo": "geo",
           "hovertemplate": "<b>%{hovertext}</b><br><br>Date=03/14/2020<br>Recovered=%{customdata[0]}<br>Deaths=%{customdata[1]}<br>Active=%{customdata[2]}<br>Country=%{location}<br>Confirmed=%{z}<extra></extra>",
           "hovertext": [
            "India"
           ],
           "locationmode": "country names",
           "locations": [
            "India"
           ],
           "name": "",
           "type": "choropleth",
           "z": [
            102
           ]
          }
         ],
         "name": "03/14/2020"
        },
        {
         "data": [
          {
           "coloraxis": "coloraxis",
           "customdata": [
            [
             13,
             2,
             98
            ]
           ],
           "geo": "geo",
           "hovertemplate": "<b>%{hovertext}</b><br><br>Date=03/15/2020<br>Recovered=%{customdata[0]}<br>Deaths=%{customdata[1]}<br>Active=%{customdata[2]}<br>Country=%{location}<br>Confirmed=%{z}<extra></extra>",
           "hovertext": [
            "India"
           ],
           "locationmode": "country names",
           "locations": [
            "India"
           ],
           "name": "",
           "type": "choropleth",
           "z": [
            113
           ]
          }
         ],
         "name": "03/15/2020"
        },
        {
         "data": [
          {
           "coloraxis": "coloraxis",
           "customdata": [
            [
             13,
             2,
             104
            ]
           ],
           "geo": "geo",
           "hovertemplate": "<b>%{hovertext}</b><br><br>Date=03/16/2020<br>Recovered=%{customdata[0]}<br>Deaths=%{customdata[1]}<br>Active=%{customdata[2]}<br>Country=%{location}<br>Confirmed=%{z}<extra></extra>",
           "hovertext": [
            "India"
           ],
           "locationmode": "country names",
           "locations": [
            "India"
           ],
           "name": "",
           "type": "choropleth",
           "z": [
            119
           ]
          }
         ],
         "name": "03/16/2020"
        },
        {
         "data": [
          {
           "coloraxis": "coloraxis",
           "customdata": [
            [
             14,
             3,
             125
            ]
           ],
           "geo": "geo",
           "hovertemplate": "<b>%{hovertext}</b><br><br>Date=03/17/2020<br>Recovered=%{customdata[0]}<br>Deaths=%{customdata[1]}<br>Active=%{customdata[2]}<br>Country=%{location}<br>Confirmed=%{z}<extra></extra>",
           "hovertext": [
            "India"
           ],
           "locationmode": "country names",
           "locations": [
            "India"
           ],
           "name": "",
           "type": "choropleth",
           "z": [
            142
           ]
          }
         ],
         "name": "03/17/2020"
        },
        {
         "data": [
          {
           "coloraxis": "coloraxis",
           "customdata": [
            [
             14,
             3,
             139
            ]
           ],
           "geo": "geo",
           "hovertemplate": "<b>%{hovertext}</b><br><br>Date=03/18/2020<br>Recovered=%{customdata[0]}<br>Deaths=%{customdata[1]}<br>Active=%{customdata[2]}<br>Country=%{location}<br>Confirmed=%{z}<extra></extra>",
           "hovertext": [
            "India"
           ],
           "locationmode": "country names",
           "locations": [
            "India"
           ],
           "name": "",
           "type": "choropleth",
           "z": [
            156
           ]
          }
         ],
         "name": "03/18/2020"
        },
        {
         "data": [
          {
           "coloraxis": "coloraxis",
           "customdata": [
            [
             15,
             4,
             175
            ]
           ],
           "geo": "geo",
           "hovertemplate": "<b>%{hovertext}</b><br><br>Date=03/19/2020<br>Recovered=%{customdata[0]}<br>Deaths=%{customdata[1]}<br>Active=%{customdata[2]}<br>Country=%{location}<br>Confirmed=%{z}<extra></extra>",
           "hovertext": [
            "India"
           ],
           "locationmode": "country names",
           "locations": [
            "India"
           ],
           "name": "",
           "type": "choropleth",
           "z": [
            194
           ]
          }
         ],
         "name": "03/19/2020"
        },
        {
         "data": [
          {
           "coloraxis": "coloraxis",
           "customdata": [
            [
             3,
             0,
             2
            ]
           ],
           "geo": "geo",
           "hovertemplate": "<b>%{hovertext}</b><br><br>Date=03/02/2020<br>Recovered=%{customdata[0]}<br>Deaths=%{customdata[1]}<br>Active=%{customdata[2]}<br>Country=%{location}<br>Confirmed=%{z}<extra></extra>",
           "hovertext": [
            "India"
           ],
           "locationmode": "country names",
           "locations": [
            "India"
           ],
           "name": "",
           "type": "choropleth",
           "z": [
            5
           ]
          }
         ],
         "name": "03/02/2020"
        },
        {
         "data": [
          {
           "coloraxis": "coloraxis",
           "customdata": [
            [
             20,
             5,
             219
            ]
           ],
           "geo": "geo",
           "hovertemplate": "<b>%{hovertext}</b><br><br>Date=03/20/2020<br>Recovered=%{customdata[0]}<br>Deaths=%{customdata[1]}<br>Active=%{customdata[2]}<br>Country=%{location}<br>Confirmed=%{z}<extra></extra>",
           "hovertext": [
            "India"
           ],
           "locationmode": "country names",
           "locations": [
            "India"
           ],
           "name": "",
           "type": "choropleth",
           "z": [
            244
           ]
          }
         ],
         "name": "03/20/2020"
        },
        {
         "data": [
          {
           "coloraxis": "coloraxis",
           "customdata": [
            [
             23,
             4,
             303
            ]
           ],
           "geo": "geo",
           "hovertemplate": "<b>%{hovertext}</b><br><br>Date=03/21/2020<br>Recovered=%{customdata[0]}<br>Deaths=%{customdata[1]}<br>Active=%{customdata[2]}<br>Country=%{location}<br>Confirmed=%{z}<extra></extra>",
           "hovertext": [
            "India"
           ],
           "locationmode": "country names",
           "locations": [
            "India"
           ],
           "name": "",
           "type": "choropleth",
           "z": [
            330
           ]
          }
         ],
         "name": "03/21/2020"
        },
        {
         "data": [
          {
           "coloraxis": "coloraxis",
           "customdata": [
            [
             27,
             7,
             362
            ]
           ],
           "geo": "geo",
           "hovertemplate": "<b>%{hovertext}</b><br><br>Date=03/22/2020<br>Recovered=%{customdata[0]}<br>Deaths=%{customdata[1]}<br>Active=%{customdata[2]}<br>Country=%{location}<br>Confirmed=%{z}<extra></extra>",
           "hovertext": [
            "India"
           ],
           "locationmode": "country names",
           "locations": [
            "India"
           ],
           "name": "",
           "type": "choropleth",
           "z": [
            396
           ]
          }
         ],
         "name": "03/22/2020"
        },
        {
         "data": [
          {
           "coloraxis": "coloraxis",
           "customdata": [
            [
             27,
             10,
             462
            ]
           ],
           "geo": "geo",
           "hovertemplate": "<b>%{hovertext}</b><br><br>Date=03/23/2020<br>Recovered=%{customdata[0]}<br>Deaths=%{customdata[1]}<br>Active=%{customdata[2]}<br>Country=%{location}<br>Confirmed=%{z}<extra></extra>",
           "hovertext": [
            "India"
           ],
           "locationmode": "country names",
           "locations": [
            "India"
           ],
           "name": "",
           "type": "choropleth",
           "z": [
            499
           ]
          }
         ],
         "name": "03/23/2020"
        },
        {
         "data": [
          {
           "coloraxis": "coloraxis",
           "customdata": [
            [
             40,
             10,
             486
            ]
           ],
           "geo": "geo",
           "hovertemplate": "<b>%{hovertext}</b><br><br>Date=03/24/2020<br>Recovered=%{customdata[0]}<br>Deaths=%{customdata[1]}<br>Active=%{customdata[2]}<br>Country=%{location}<br>Confirmed=%{z}<extra></extra>",
           "hovertext": [
            "India"
           ],
           "locationmode": "country names",
           "locations": [
            "India"
           ],
           "name": "",
           "type": "choropleth",
           "z": [
            536
           ]
          }
         ],
         "name": "03/24/2020"
        },
        {
         "data": [
          {
           "coloraxis": "coloraxis",
           "customdata": [
            [
             43,
             12,
             602
            ]
           ],
           "geo": "geo",
           "hovertemplate": "<b>%{hovertext}</b><br><br>Date=03/25/2020<br>Recovered=%{customdata[0]}<br>Deaths=%{customdata[1]}<br>Active=%{customdata[2]}<br>Country=%{location}<br>Confirmed=%{z}<extra></extra>",
           "hovertext": [
            "India"
           ],
           "locationmode": "country names",
           "locations": [
            "India"
           ],
           "name": "",
           "type": "choropleth",
           "z": [
            657
           ]
          }
         ],
         "name": "03/25/2020"
        },
        {
         "data": [
          {
           "coloraxis": "coloraxis",
           "customdata": [
            [
             45,
             20,
             662
            ]
           ],
           "geo": "geo",
           "hovertemplate": "<b>%{hovertext}</b><br><br>Date=03/26/2020<br>Recovered=%{customdata[0]}<br>Deaths=%{customdata[1]}<br>Active=%{customdata[2]}<br>Country=%{location}<br>Confirmed=%{z}<extra></extra>",
           "hovertext": [
            "India"
           ],
           "locationmode": "country names",
           "locations": [
            "India"
           ],
           "name": "",
           "type": "choropleth",
           "z": [
            727
           ]
          }
         ],
         "name": "03/26/2020"
        },
        {
         "data": [
          {
           "coloraxis": "coloraxis",
           "customdata": [
            [
             73,
             20,
             794
            ]
           ],
           "geo": "geo",
           "hovertemplate": "<b>%{hovertext}</b><br><br>Date=03/27/2020<br>Recovered=%{customdata[0]}<br>Deaths=%{customdata[1]}<br>Active=%{customdata[2]}<br>Country=%{location}<br>Confirmed=%{z}<extra></extra>",
           "hovertext": [
            "India"
           ],
           "locationmode": "country names",
           "locations": [
            "India"
           ],
           "name": "",
           "type": "choropleth",
           "z": [
            887
           ]
          }
         ],
         "name": "03/27/2020"
        },
        {
         "data": [
          {
           "coloraxis": "coloraxis",
           "customdata": [
            [
             84,
             24,
             879
            ]
           ],
           "geo": "geo",
           "hovertemplate": "<b>%{hovertext}</b><br><br>Date=03/28/2020<br>Recovered=%{customdata[0]}<br>Deaths=%{customdata[1]}<br>Active=%{customdata[2]}<br>Country=%{location}<br>Confirmed=%{z}<extra></extra>",
           "hovertext": [
            "India"
           ],
           "locationmode": "country names",
           "locations": [
            "India"
           ],
           "name": "",
           "type": "choropleth",
           "z": [
            987
           ]
          }
         ],
         "name": "03/28/2020"
        },
        {
         "data": [
          {
           "coloraxis": "coloraxis",
           "customdata": [
            [
             95,
             27,
             902
            ]
           ],
           "geo": "geo",
           "hovertemplate": "<b>%{hovertext}</b><br><br>Date=03/29/2020<br>Recovered=%{customdata[0]}<br>Deaths=%{customdata[1]}<br>Active=%{customdata[2]}<br>Country=%{location}<br>Confirmed=%{z}<extra></extra>",
           "hovertext": [
            "India"
           ],
           "locationmode": "country names",
           "locations": [
            "India"
           ],
           "name": "",
           "type": "choropleth",
           "z": [
            1024
           ]
          }
         ],
         "name": "03/29/2020"
        },
        {
         "data": [
          {
           "coloraxis": "coloraxis",
           "customdata": [
            [
             3,
             0,
             2
            ]
           ],
           "geo": "geo",
           "hovertemplate": "<b>%{hovertext}</b><br><br>Date=03/03/2020<br>Recovered=%{customdata[0]}<br>Deaths=%{customdata[1]}<br>Active=%{customdata[2]}<br>Country=%{location}<br>Confirmed=%{z}<extra></extra>",
           "hovertext": [
            "India"
           ],
           "locationmode": "country names",
           "locations": [
            "India"
           ],
           "name": "",
           "type": "choropleth",
           "z": [
            5
           ]
          }
         ],
         "name": "03/03/2020"
        },
        {
         "data": [
          {
           "coloraxis": "coloraxis",
           "customdata": [
            [
             102,
             32,
             1117
            ]
           ],
           "geo": "geo",
           "hovertemplate": "<b>%{hovertext}</b><br><br>Date=03/30/2020<br>Recovered=%{customdata[0]}<br>Deaths=%{customdata[1]}<br>Active=%{customdata[2]}<br>Country=%{location}<br>Confirmed=%{z}<extra></extra>",
           "hovertext": [
            "India"
           ],
           "locationmode": "country names",
           "locations": [
            "India"
           ],
           "name": "",
           "type": "choropleth",
           "z": [
            1251
           ]
          }
         ],
         "name": "03/30/2020"
        },
        {
         "data": [
          {
           "coloraxis": "coloraxis",
           "customdata": [
            [
             123,
             35,
             1239
            ]
           ],
           "geo": "geo",
           "hovertemplate": "<b>%{hovertext}</b><br><br>Date=03/31/2020<br>Recovered=%{customdata[0]}<br>Deaths=%{customdata[1]}<br>Active=%{customdata[2]}<br>Country=%{location}<br>Confirmed=%{z}<extra></extra>",
           "hovertext": [
            "India"
           ],
           "locationmode": "country names",
           "locations": [
            "India"
           ],
           "name": "",
           "type": "choropleth",
           "z": [
            1397
           ]
          }
         ],
         "name": "03/31/2020"
        },
        {
         "data": [
          {
           "coloraxis": "coloraxis",
           "customdata": [
            [
             3,
             0,
             25
            ]
           ],
           "geo": "geo",
           "hovertemplate": "<b>%{hovertext}</b><br><br>Date=03/04/2020<br>Recovered=%{customdata[0]}<br>Deaths=%{customdata[1]}<br>Active=%{customdata[2]}<br>Country=%{location}<br>Confirmed=%{z}<extra></extra>",
           "hovertext": [
            "India"
           ],
           "locationmode": "country names",
           "locations": [
            "India"
           ],
           "name": "",
           "type": "choropleth",
           "z": [
            28
           ]
          }
         ],
         "name": "03/04/2020"
        },
        {
         "data": [
          {
           "coloraxis": "coloraxis",
           "customdata": [
            [
             3,
             0,
             27
            ]
           ],
           "geo": "geo",
           "hovertemplate": "<b>%{hovertext}</b><br><br>Date=03/05/2020<br>Recovered=%{customdata[0]}<br>Deaths=%{customdata[1]}<br>Active=%{customdata[2]}<br>Country=%{location}<br>Confirmed=%{z}<extra></extra>",
           "hovertext": [
            "India"
           ],
           "locationmode": "country names",
           "locations": [
            "India"
           ],
           "name": "",
           "type": "choropleth",
           "z": [
            30
           ]
          }
         ],
         "name": "03/05/2020"
        },
        {
         "data": [
          {
           "coloraxis": "coloraxis",
           "customdata": [
            [
             3,
             0,
             28
            ]
           ],
           "geo": "geo",
           "hovertemplate": "<b>%{hovertext}</b><br><br>Date=03/06/2020<br>Recovered=%{customdata[0]}<br>Deaths=%{customdata[1]}<br>Active=%{customdata[2]}<br>Country=%{location}<br>Confirmed=%{z}<extra></extra>",
           "hovertext": [
            "India"
           ],
           "locationmode": "country names",
           "locations": [
            "India"
           ],
           "name": "",
           "type": "choropleth",
           "z": [
            31
           ]
          }
         ],
         "name": "03/06/2020"
        },
        {
         "data": [
          {
           "coloraxis": "coloraxis",
           "customdata": [
            [
             3,
             0,
             31
            ]
           ],
           "geo": "geo",
           "hovertemplate": "<b>%{hovertext}</b><br><br>Date=03/07/2020<br>Recovered=%{customdata[0]}<br>Deaths=%{customdata[1]}<br>Active=%{customdata[2]}<br>Country=%{location}<br>Confirmed=%{z}<extra></extra>",
           "hovertext": [
            "India"
           ],
           "locationmode": "country names",
           "locations": [
            "India"
           ],
           "name": "",
           "type": "choropleth",
           "z": [
            34
           ]
          }
         ],
         "name": "03/07/2020"
        },
        {
         "data": [
          {
           "coloraxis": "coloraxis",
           "customdata": [
            [
             3,
             0,
             36
            ]
           ],
           "geo": "geo",
           "hovertemplate": "<b>%{hovertext}</b><br><br>Date=03/08/2020<br>Recovered=%{customdata[0]}<br>Deaths=%{customdata[1]}<br>Active=%{customdata[2]}<br>Country=%{location}<br>Confirmed=%{z}<extra></extra>",
           "hovertext": [
            "India"
           ],
           "locationmode": "country names",
           "locations": [
            "India"
           ],
           "name": "",
           "type": "choropleth",
           "z": [
            39
           ]
          }
         ],
         "name": "03/08/2020"
        },
        {
         "data": [
          {
           "coloraxis": "coloraxis",
           "customdata": [
            [
             3,
             0,
             40
            ]
           ],
           "geo": "geo",
           "hovertemplate": "<b>%{hovertext}</b><br><br>Date=03/09/2020<br>Recovered=%{customdata[0]}<br>Deaths=%{customdata[1]}<br>Active=%{customdata[2]}<br>Country=%{location}<br>Confirmed=%{z}<extra></extra>",
           "hovertext": [
            "India"
           ],
           "locationmode": "country names",
           "locations": [
            "India"
           ],
           "name": "",
           "type": "choropleth",
           "z": [
            43
           ]
          }
         ],
         "name": "03/09/2020"
        },
        {
         "data": [
          {
           "coloraxis": "coloraxis",
           "customdata": [
            [
             148,
             58,
             1792
            ]
           ],
           "geo": "geo",
           "hovertemplate": "<b>%{hovertext}</b><br><br>Date=04/01/2020<br>Recovered=%{customdata[0]}<br>Deaths=%{customdata[1]}<br>Active=%{customdata[2]}<br>Country=%{location}<br>Confirmed=%{z}<extra></extra>",
           "hovertext": [
            "India"
           ],
           "locationmode": "country names",
           "locations": [
            "India"
           ],
           "name": "",
           "type": "choropleth",
           "z": [
            1998
           ]
          }
         ],
         "name": "04/01/2020"
        },
        {
         "data": [
          {
           "coloraxis": "coloraxis",
           "customdata": [
            [
             191,
             72,
             2280
            ]
           ],
           "geo": "geo",
           "hovertemplate": "<b>%{hovertext}</b><br><br>Date=04/02/2020<br>Recovered=%{customdata[0]}<br>Deaths=%{customdata[1]}<br>Active=%{customdata[2]}<br>Country=%{location}<br>Confirmed=%{z}<extra></extra>",
           "hovertext": [
            "India"
           ],
           "locationmode": "country names",
           "locations": [
            "India"
           ],
           "name": "",
           "type": "choropleth",
           "z": [
            2543
           ]
          }
         ],
         "name": "04/02/2020"
        },
        {
         "data": [
          {
           "coloraxis": "coloraxis",
           "customdata": [
            [
             192,
             72,
             2303
            ]
           ],
           "geo": "geo",
           "hovertemplate": "<b>%{hovertext}</b><br><br>Date=04/03/2020<br>Recovered=%{customdata[0]}<br>Deaths=%{customdata[1]}<br>Active=%{customdata[2]}<br>Country=%{location}<br>Confirmed=%{z}<extra></extra>",
           "hovertext": [
            "India"
           ],
           "locationmode": "country names",
           "locations": [
            "India"
           ],
           "name": "",
           "type": "choropleth",
           "z": [
            2567
           ]
          }
         ],
         "name": "04/03/2020"
        },
        {
         "data": [
          {
           "coloraxis": "coloraxis",
           "customdata": [
            [
             229,
             86,
             2767
            ]
           ],
           "geo": "geo",
           "hovertemplate": "<b>%{hovertext}</b><br><br>Date=04/04/2020<br>Recovered=%{customdata[0]}<br>Deaths=%{customdata[1]}<br>Active=%{customdata[2]}<br>Country=%{location}<br>Confirmed=%{z}<extra></extra>",
           "hovertext": [
            "India"
           ],
           "locationmode": "country names",
           "locations": [
            "India"
           ],
           "name": "",
           "type": "choropleth",
           "z": [
            3082
           ]
          }
         ],
         "name": "04/04/2020"
        },
        {
         "data": [
          {
           "coloraxis": "coloraxis",
           "customdata": [
            [
             229,
             99,
             3260
            ]
           ],
           "geo": "geo",
           "hovertemplate": "<b>%{hovertext}</b><br><br>Date=04/05/2020<br>Recovered=%{customdata[0]}<br>Deaths=%{customdata[1]}<br>Active=%{customdata[2]}<br>Country=%{location}<br>Confirmed=%{z}<extra></extra>",
           "hovertext": [
            "India"
           ],
           "locationmode": "country names",
           "locations": [
            "India"
           ],
           "name": "",
           "type": "choropleth",
           "z": [
            3588
           ]
          }
         ],
         "name": "04/05/2020"
        },
        {
         "data": [
          {
           "coloraxis": "coloraxis",
           "customdata": [
            [
             375,
             136,
             4267
            ]
           ],
           "geo": "geo",
           "hovertemplate": "<b>%{hovertext}</b><br><br>Date=04/06/2020<br>Recovered=%{customdata[0]}<br>Deaths=%{customdata[1]}<br>Active=%{customdata[2]}<br>Country=%{location}<br>Confirmed=%{z}<extra></extra>",
           "hovertext": [
            "India"
           ],
           "locationmode": "country names",
           "locations": [
            "India"
           ],
           "name": "",
           "type": "choropleth",
           "z": [
            4778
           ]
          }
         ],
         "name": "04/06/2020"
        }
       ],
       "layout": {
        "coloraxis": {
         "colorbar": {
          "title": {
           "text": "Confirmed"
          }
         },
         "colorscale": [
          [
           0,
           "rgb(255,245,240)"
          ],
          [
           0.125,
           "rgb(254,224,210)"
          ],
          [
           0.25,
           "rgb(252,187,161)"
          ],
          [
           0.375,
           "rgb(252,146,114)"
          ],
          [
           0.5,
           "rgb(251,106,74)"
          ],
          [
           0.625,
           "rgb(239,59,44)"
          ],
          [
           0.75,
           "rgb(203,24,29)"
          ],
          [
           0.875,
           "rgb(165,15,21)"
          ],
          [
           1,
           "rgb(103,0,13)"
          ]
         ],
         "showscale": true
        },
        "geo": {
         "domain": {
          "x": [
           0,
           1
          ],
          "y": [
           0,
           1
          ]
         },
         "projection": {
          "type": "mercator"
         }
        },
        "height": 700,
        "legend": {
         "tracegroupgap": 0
        },
        "sliders": [
         {
          "active": 0,
          "currentvalue": {
           "prefix": "Date="
          },
          "len": 0.9,
          "pad": {
           "b": 10,
           "t": 60
          },
          "steps": [
           {
            "args": [
             [
              "01/22/2020"
             ],
             {
              "frame": {
               "duration": 0,
               "redraw": true
              },
              "fromcurrent": true,
              "mode": "immediate",
              "transition": {
               "duration": 0,
               "easing": "linear"
              }
             }
            ],
            "label": "01/22/2020",
            "method": "animate"
           },
           {
            "args": [
             [
              "01/23/2020"
             ],
             {
              "frame": {
               "duration": 0,
               "redraw": true
              },
              "fromcurrent": true,
              "mode": "immediate",
              "transition": {
               "duration": 0,
               "easing": "linear"
              }
             }
            ],
            "label": "01/23/2020",
            "method": "animate"
           },
           {
            "args": [
             [
              "01/24/2020"
             ],
             {
              "frame": {
               "duration": 0,
               "redraw": true
              },
              "fromcurrent": true,
              "mode": "immediate",
              "transition": {
               "duration": 0,
               "easing": "linear"
              }
             }
            ],
            "label": "01/24/2020",
            "method": "animate"
           },
           {
            "args": [
             [
              "01/25/2020"
             ],
             {
              "frame": {
               "duration": 0,
               "redraw": true
              },
              "fromcurrent": true,
              "mode": "immediate",
              "transition": {
               "duration": 0,
               "easing": "linear"
              }
             }
            ],
            "label": "01/25/2020",
            "method": "animate"
           },
           {
            "args": [
             [
              "01/26/2020"
             ],
             {
              "frame": {
               "duration": 0,
               "redraw": true
              },
              "fromcurrent": true,
              "mode": "immediate",
              "transition": {
               "duration": 0,
               "easing": "linear"
              }
             }
            ],
            "label": "01/26/2020",
            "method": "animate"
           },
           {
            "args": [
             [
              "01/27/2020"
             ],
             {
              "frame": {
               "duration": 0,
               "redraw": true
              },
              "fromcurrent": true,
              "mode": "immediate",
              "transition": {
               "duration": 0,
               "easing": "linear"
              }
             }
            ],
            "label": "01/27/2020",
            "method": "animate"
           },
           {
            "args": [
             [
              "01/28/2020"
             ],
             {
              "frame": {
               "duration": 0,
               "redraw": true
              },
              "fromcurrent": true,
              "mode": "immediate",
              "transition": {
               "duration": 0,
               "easing": "linear"
              }
             }
            ],
            "label": "01/28/2020",
            "method": "animate"
           },
           {
            "args": [
             [
              "01/29/2020"
             ],
             {
              "frame": {
               "duration": 0,
               "redraw": true
              },
              "fromcurrent": true,
              "mode": "immediate",
              "transition": {
               "duration": 0,
               "easing": "linear"
              }
             }
            ],
            "label": "01/29/2020",
            "method": "animate"
           },
           {
            "args": [
             [
              "01/30/2020"
             ],
             {
              "frame": {
               "duration": 0,
               "redraw": true
              },
              "fromcurrent": true,
              "mode": "immediate",
              "transition": {
               "duration": 0,
               "easing": "linear"
              }
             }
            ],
            "label": "01/30/2020",
            "method": "animate"
           },
           {
            "args": [
             [
              "01/31/2020"
             ],
             {
              "frame": {
               "duration": 0,
               "redraw": true
              },
              "fromcurrent": true,
              "mode": "immediate",
              "transition": {
               "duration": 0,
               "easing": "linear"
              }
             }
            ],
            "label": "01/31/2020",
            "method": "animate"
           },
           {
            "args": [
             [
              "02/01/2020"
             ],
             {
              "frame": {
               "duration": 0,
               "redraw": true
              },
              "fromcurrent": true,
              "mode": "immediate",
              "transition": {
               "duration": 0,
               "easing": "linear"
              }
             }
            ],
            "label": "02/01/2020",
            "method": "animate"
           },
           {
            "args": [
             [
              "02/10/2020"
             ],
             {
              "frame": {
               "duration": 0,
               "redraw": true
              },
              "fromcurrent": true,
              "mode": "immediate",
              "transition": {
               "duration": 0,
               "easing": "linear"
              }
             }
            ],
            "label": "02/10/2020",
            "method": "animate"
           },
           {
            "args": [
             [
              "02/11/2020"
             ],
             {
              "frame": {
               "duration": 0,
               "redraw": true
              },
              "fromcurrent": true,
              "mode": "immediate",
              "transition": {
               "duration": 0,
               "easing": "linear"
              }
             }
            ],
            "label": "02/11/2020",
            "method": "animate"
           },
           {
            "args": [
             [
              "02/12/2020"
             ],
             {
              "frame": {
               "duration": 0,
               "redraw": true
              },
              "fromcurrent": true,
              "mode": "immediate",
              "transition": {
               "duration": 0,
               "easing": "linear"
              }
             }
            ],
            "label": "02/12/2020",
            "method": "animate"
           },
           {
            "args": [
             [
              "02/13/2020"
             ],
             {
              "frame": {
               "duration": 0,
               "redraw": true
              },
              "fromcurrent": true,
              "mode": "immediate",
              "transition": {
               "duration": 0,
               "easing": "linear"
              }
             }
            ],
            "label": "02/13/2020",
            "method": "animate"
           },
           {
            "args": [
             [
              "02/14/2020"
             ],
             {
              "frame": {
               "duration": 0,
               "redraw": true
              },
              "fromcurrent": true,
              "mode": "immediate",
              "transition": {
               "duration": 0,
               "easing": "linear"
              }
             }
            ],
            "label": "02/14/2020",
            "method": "animate"
           },
           {
            "args": [
             [
              "02/15/2020"
             ],
             {
              "frame": {
               "duration": 0,
               "redraw": true
              },
              "fromcurrent": true,
              "mode": "immediate",
              "transition": {
               "duration": 0,
               "easing": "linear"
              }
             }
            ],
            "label": "02/15/2020",
            "method": "animate"
           },
           {
            "args": [
             [
              "02/16/2020"
             ],
             {
              "frame": {
               "duration": 0,
               "redraw": true
              },
              "fromcurrent": true,
              "mode": "immediate",
              "transition": {
               "duration": 0,
               "easing": "linear"
              }
             }
            ],
            "label": "02/16/2020",
            "method": "animate"
           },
           {
            "args": [
             [
              "02/17/2020"
             ],
             {
              "frame": {
               "duration": 0,
               "redraw": true
              },
              "fromcurrent": true,
              "mode": "immediate",
              "transition": {
               "duration": 0,
               "easing": "linear"
              }
             }
            ],
            "label": "02/17/2020",
            "method": "animate"
           },
           {
            "args": [
             [
              "02/18/2020"
             ],
             {
              "frame": {
               "duration": 0,
               "redraw": true
              },
              "fromcurrent": true,
              "mode": "immediate",
              "transition": {
               "duration": 0,
               "easing": "linear"
              }
             }
            ],
            "label": "02/18/2020",
            "method": "animate"
           },
           {
            "args": [
             [
              "02/19/2020"
             ],
             {
              "frame": {
               "duration": 0,
               "redraw": true
              },
              "fromcurrent": true,
              "mode": "immediate",
              "transition": {
               "duration": 0,
               "easing": "linear"
              }
             }
            ],
            "label": "02/19/2020",
            "method": "animate"
           },
           {
            "args": [
             [
              "02/02/2020"
             ],
             {
              "frame": {
               "duration": 0,
               "redraw": true
              },
              "fromcurrent": true,
              "mode": "immediate",
              "transition": {
               "duration": 0,
               "easing": "linear"
              }
             }
            ],
            "label": "02/02/2020",
            "method": "animate"
           },
           {
            "args": [
             [
              "02/20/2020"
             ],
             {
              "frame": {
               "duration": 0,
               "redraw": true
              },
              "fromcurrent": true,
              "mode": "immediate",
              "transition": {
               "duration": 0,
               "easing": "linear"
              }
             }
            ],
            "label": "02/20/2020",
            "method": "animate"
           },
           {
            "args": [
             [
              "02/21/2020"
             ],
             {
              "frame": {
               "duration": 0,
               "redraw": true
              },
              "fromcurrent": true,
              "mode": "immediate",
              "transition": {
               "duration": 0,
               "easing": "linear"
              }
             }
            ],
            "label": "02/21/2020",
            "method": "animate"
           },
           {
            "args": [
             [
              "02/22/2020"
             ],
             {
              "frame": {
               "duration": 0,
               "redraw": true
              },
              "fromcurrent": true,
              "mode": "immediate",
              "transition": {
               "duration": 0,
               "easing": "linear"
              }
             }
            ],
            "label": "02/22/2020",
            "method": "animate"
           },
           {
            "args": [
             [
              "02/23/2020"
             ],
             {
              "frame": {
               "duration": 0,
               "redraw": true
              },
              "fromcurrent": true,
              "mode": "immediate",
              "transition": {
               "duration": 0,
               "easing": "linear"
              }
             }
            ],
            "label": "02/23/2020",
            "method": "animate"
           },
           {
            "args": [
             [
              "02/24/2020"
             ],
             {
              "frame": {
               "duration": 0,
               "redraw": true
              },
              "fromcurrent": true,
              "mode": "immediate",
              "transition": {
               "duration": 0,
               "easing": "linear"
              }
             }
            ],
            "label": "02/24/2020",
            "method": "animate"
           },
           {
            "args": [
             [
              "02/25/2020"
             ],
             {
              "frame": {
               "duration": 0,
               "redraw": true
              },
              "fromcurrent": true,
              "mode": "immediate",
              "transition": {
               "duration": 0,
               "easing": "linear"
              }
             }
            ],
            "label": "02/25/2020",
            "method": "animate"
           },
           {
            "args": [
             [
              "02/26/2020"
             ],
             {
              "frame": {
               "duration": 0,
               "redraw": true
              },
              "fromcurrent": true,
              "mode": "immediate",
              "transition": {
               "duration": 0,
               "easing": "linear"
              }
             }
            ],
            "label": "02/26/2020",
            "method": "animate"
           },
           {
            "args": [
             [
              "02/27/2020"
             ],
             {
              "frame": {
               "duration": 0,
               "redraw": true
              },
              "fromcurrent": true,
              "mode": "immediate",
              "transition": {
               "duration": 0,
               "easing": "linear"
              }
             }
            ],
            "label": "02/27/2020",
            "method": "animate"
           },
           {
            "args": [
             [
              "02/28/2020"
             ],
             {
              "frame": {
               "duration": 0,
               "redraw": true
              },
              "fromcurrent": true,
              "mode": "immediate",
              "transition": {
               "duration": 0,
               "easing": "linear"
              }
             }
            ],
            "label": "02/28/2020",
            "method": "animate"
           },
           {
            "args": [
             [
              "02/29/2020"
             ],
             {
              "frame": {
               "duration": 0,
               "redraw": true
              },
              "fromcurrent": true,
              "mode": "immediate",
              "transition": {
               "duration": 0,
               "easing": "linear"
              }
             }
            ],
            "label": "02/29/2020",
            "method": "animate"
           },
           {
            "args": [
             [
              "02/03/2020"
             ],
             {
              "frame": {
               "duration": 0,
               "redraw": true
              },
              "fromcurrent": true,
              "mode": "immediate",
              "transition": {
               "duration": 0,
               "easing": "linear"
              }
             }
            ],
            "label": "02/03/2020",
            "method": "animate"
           },
           {
            "args": [
             [
              "02/04/2020"
             ],
             {
              "frame": {
               "duration": 0,
               "redraw": true
              },
              "fromcurrent": true,
              "mode": "immediate",
              "transition": {
               "duration": 0,
               "easing": "linear"
              }
             }
            ],
            "label": "02/04/2020",
            "method": "animate"
           },
           {
            "args": [
             [
              "02/05/2020"
             ],
             {
              "frame": {
               "duration": 0,
               "redraw": true
              },
              "fromcurrent": true,
              "mode": "immediate",
              "transition": {
               "duration": 0,
               "easing": "linear"
              }
             }
            ],
            "label": "02/05/2020",
            "method": "animate"
           },
           {
            "args": [
             [
              "02/06/2020"
             ],
             {
              "frame": {
               "duration": 0,
               "redraw": true
              },
              "fromcurrent": true,
              "mode": "immediate",
              "transition": {
               "duration": 0,
               "easing": "linear"
              }
             }
            ],
            "label": "02/06/2020",
            "method": "animate"
           },
           {
            "args": [
             [
              "02/07/2020"
             ],
             {
              "frame": {
               "duration": 0,
               "redraw": true
              },
              "fromcurrent": true,
              "mode": "immediate",
              "transition": {
               "duration": 0,
               "easing": "linear"
              }
             }
            ],
            "label": "02/07/2020",
            "method": "animate"
           },
           {
            "args": [
             [
              "02/08/2020"
             ],
             {
              "frame": {
               "duration": 0,
               "redraw": true
              },
              "fromcurrent": true,
              "mode": "immediate",
              "transition": {
               "duration": 0,
               "easing": "linear"
              }
             }
            ],
            "label": "02/08/2020",
            "method": "animate"
           },
           {
            "args": [
             [
              "02/09/2020"
             ],
             {
              "frame": {
               "duration": 0,
               "redraw": true
              },
              "fromcurrent": true,
              "mode": "immediate",
              "transition": {
               "duration": 0,
               "easing": "linear"
              }
             }
            ],
            "label": "02/09/2020",
            "method": "animate"
           },
           {
            "args": [
             [
              "03/01/2020"
             ],
             {
              "frame": {
               "duration": 0,
               "redraw": true
              },
              "fromcurrent": true,
              "mode": "immediate",
              "transition": {
               "duration": 0,
               "easing": "linear"
              }
             }
            ],
            "label": "03/01/2020",
            "method": "animate"
           },
           {
            "args": [
             [
              "03/10/2020"
             ],
             {
              "frame": {
               "duration": 0,
               "redraw": true
              },
              "fromcurrent": true,
              "mode": "immediate",
              "transition": {
               "duration": 0,
               "easing": "linear"
              }
             }
            ],
            "label": "03/10/2020",
            "method": "animate"
           },
           {
            "args": [
             [
              "03/11/2020"
             ],
             {
              "frame": {
               "duration": 0,
               "redraw": true
              },
              "fromcurrent": true,
              "mode": "immediate",
              "transition": {
               "duration": 0,
               "easing": "linear"
              }
             }
            ],
            "label": "03/11/2020",
            "method": "animate"
           },
           {
            "args": [
             [
              "03/12/2020"
             ],
             {
              "frame": {
               "duration": 0,
               "redraw": true
              },
              "fromcurrent": true,
              "mode": "immediate",
              "transition": {
               "duration": 0,
               "easing": "linear"
              }
             }
            ],
            "label": "03/12/2020",
            "method": "animate"
           },
           {
            "args": [
             [
              "03/13/2020"
             ],
             {
              "frame": {
               "duration": 0,
               "redraw": true
              },
              "fromcurrent": true,
              "mode": "immediate",
              "transition": {
               "duration": 0,
               "easing": "linear"
              }
             }
            ],
            "label": "03/13/2020",
            "method": "animate"
           },
           {
            "args": [
             [
              "03/14/2020"
             ],
             {
              "frame": {
               "duration": 0,
               "redraw": true
              },
              "fromcurrent": true,
              "mode": "immediate",
              "transition": {
               "duration": 0,
               "easing": "linear"
              }
             }
            ],
            "label": "03/14/2020",
            "method": "animate"
           },
           {
            "args": [
             [
              "03/15/2020"
             ],
             {
              "frame": {
               "duration": 0,
               "redraw": true
              },
              "fromcurrent": true,
              "mode": "immediate",
              "transition": {
               "duration": 0,
               "easing": "linear"
              }
             }
            ],
            "label": "03/15/2020",
            "method": "animate"
           },
           {
            "args": [
             [
              "03/16/2020"
             ],
             {
              "frame": {
               "duration": 0,
               "redraw": true
              },
              "fromcurrent": true,
              "mode": "immediate",
              "transition": {
               "duration": 0,
               "easing": "linear"
              }
             }
            ],
            "label": "03/16/2020",
            "method": "animate"
           },
           {
            "args": [
             [
              "03/17/2020"
             ],
             {
              "frame": {
               "duration": 0,
               "redraw": true
              },
              "fromcurrent": true,
              "mode": "immediate",
              "transition": {
               "duration": 0,
               "easing": "linear"
              }
             }
            ],
            "label": "03/17/2020",
            "method": "animate"
           },
           {
            "args": [
             [
              "03/18/2020"
             ],
             {
              "frame": {
               "duration": 0,
               "redraw": true
              },
              "fromcurrent": true,
              "mode": "immediate",
              "transition": {
               "duration": 0,
               "easing": "linear"
              }
             }
            ],
            "label": "03/18/2020",
            "method": "animate"
           },
           {
            "args": [
             [
              "03/19/2020"
             ],
             {
              "frame": {
               "duration": 0,
               "redraw": true
              },
              "fromcurrent": true,
              "mode": "immediate",
              "transition": {
               "duration": 0,
               "easing": "linear"
              }
             }
            ],
            "label": "03/19/2020",
            "method": "animate"
           },
           {
            "args": [
             [
              "03/02/2020"
             ],
             {
              "frame": {
               "duration": 0,
               "redraw": true
              },
              "fromcurrent": true,
              "mode": "immediate",
              "transition": {
               "duration": 0,
               "easing": "linear"
              }
             }
            ],
            "label": "03/02/2020",
            "method": "animate"
           },
           {
            "args": [
             [
              "03/20/2020"
             ],
             {
              "frame": {
               "duration": 0,
               "redraw": true
              },
              "fromcurrent": true,
              "mode": "immediate",
              "transition": {
               "duration": 0,
               "easing": "linear"
              }
             }
            ],
            "label": "03/20/2020",
            "method": "animate"
           },
           {
            "args": [
             [
              "03/21/2020"
             ],
             {
              "frame": {
               "duration": 0,
               "redraw": true
              },
              "fromcurrent": true,
              "mode": "immediate",
              "transition": {
               "duration": 0,
               "easing": "linear"
              }
             }
            ],
            "label": "03/21/2020",
            "method": "animate"
           },
           {
            "args": [
             [
              "03/22/2020"
             ],
             {
              "frame": {
               "duration": 0,
               "redraw": true
              },
              "fromcurrent": true,
              "mode": "immediate",
              "transition": {
               "duration": 0,
               "easing": "linear"
              }
             }
            ],
            "label": "03/22/2020",
            "method": "animate"
           },
           {
            "args": [
             [
              "03/23/2020"
             ],
             {
              "frame": {
               "duration": 0,
               "redraw": true
              },
              "fromcurrent": true,
              "mode": "immediate",
              "transition": {
               "duration": 0,
               "easing": "linear"
              }
             }
            ],
            "label": "03/23/2020",
            "method": "animate"
           },
           {
            "args": [
             [
              "03/24/2020"
             ],
             {
              "frame": {
               "duration": 0,
               "redraw": true
              },
              "fromcurrent": true,
              "mode": "immediate",
              "transition": {
               "duration": 0,
               "easing": "linear"
              }
             }
            ],
            "label": "03/24/2020",
            "method": "animate"
           },
           {
            "args": [
             [
              "03/25/2020"
             ],
             {
              "frame": {
               "duration": 0,
               "redraw": true
              },
              "fromcurrent": true,
              "mode": "immediate",
              "transition": {
               "duration": 0,
               "easing": "linear"
              }
             }
            ],
            "label": "03/25/2020",
            "method": "animate"
           },
           {
            "args": [
             [
              "03/26/2020"
             ],
             {
              "frame": {
               "duration": 0,
               "redraw": true
              },
              "fromcurrent": true,
              "mode": "immediate",
              "transition": {
               "duration": 0,
               "easing": "linear"
              }
             }
            ],
            "label": "03/26/2020",
            "method": "animate"
           },
           {
            "args": [
             [
              "03/27/2020"
             ],
             {
              "frame": {
               "duration": 0,
               "redraw": true
              },
              "fromcurrent": true,
              "mode": "immediate",
              "transition": {
               "duration": 0,
               "easing": "linear"
              }
             }
            ],
            "label": "03/27/2020",
            "method": "animate"
           },
           {
            "args": [
             [
              "03/28/2020"
             ],
             {
              "frame": {
               "duration": 0,
               "redraw": true
              },
              "fromcurrent": true,
              "mode": "immediate",
              "transition": {
               "duration": 0,
               "easing": "linear"
              }
             }
            ],
            "label": "03/28/2020",
            "method": "animate"
           },
           {
            "args": [
             [
              "03/29/2020"
             ],
             {
              "frame": {
               "duration": 0,
               "redraw": true
              },
              "fromcurrent": true,
              "mode": "immediate",
              "transition": {
               "duration": 0,
               "easing": "linear"
              }
             }
            ],
            "label": "03/29/2020",
            "method": "animate"
           },
           {
            "args": [
             [
              "03/03/2020"
             ],
             {
              "frame": {
               "duration": 0,
               "redraw": true
              },
              "fromcurrent": true,
              "mode": "immediate",
              "transition": {
               "duration": 0,
               "easing": "linear"
              }
             }
            ],
            "label": "03/03/2020",
            "method": "animate"
           },
           {
            "args": [
             [
              "03/30/2020"
             ],
             {
              "frame": {
               "duration": 0,
               "redraw": true
              },
              "fromcurrent": true,
              "mode": "immediate",
              "transition": {
               "duration": 0,
               "easing": "linear"
              }
             }
            ],
            "label": "03/30/2020",
            "method": "animate"
           },
           {
            "args": [
             [
              "03/31/2020"
             ],
             {
              "frame": {
               "duration": 0,
               "redraw": true
              },
              "fromcurrent": true,
              "mode": "immediate",
              "transition": {
               "duration": 0,
               "easing": "linear"
              }
             }
            ],
            "label": "03/31/2020",
            "method": "animate"
           },
           {
            "args": [
             [
              "03/04/2020"
             ],
             {
              "frame": {
               "duration": 0,
               "redraw": true
              },
              "fromcurrent": true,
              "mode": "immediate",
              "transition": {
               "duration": 0,
               "easing": "linear"
              }
             }
            ],
            "label": "03/04/2020",
            "method": "animate"
           },
           {
            "args": [
             [
              "03/05/2020"
             ],
             {
              "frame": {
               "duration": 0,
               "redraw": true
              },
              "fromcurrent": true,
              "mode": "immediate",
              "transition": {
               "duration": 0,
               "easing": "linear"
              }
             }
            ],
            "label": "03/05/2020",
            "method": "animate"
           },
           {
            "args": [
             [
              "03/06/2020"
             ],
             {
              "frame": {
               "duration": 0,
               "redraw": true
              },
              "fromcurrent": true,
              "mode": "immediate",
              "transition": {
               "duration": 0,
               "easing": "linear"
              }
             }
            ],
            "label": "03/06/2020",
            "method": "animate"
           },
           {
            "args": [
             [
              "03/07/2020"
             ],
             {
              "frame": {
               "duration": 0,
               "redraw": true
              },
              "fromcurrent": true,
              "mode": "immediate",
              "transition": {
               "duration": 0,
               "easing": "linear"
              }
             }
            ],
            "label": "03/07/2020",
            "method": "animate"
           },
           {
            "args": [
             [
              "03/08/2020"
             ],
             {
              "frame": {
               "duration": 0,
               "redraw": true
              },
              "fromcurrent": true,
              "mode": "immediate",
              "transition": {
               "duration": 0,
               "easing": "linear"
              }
             }
            ],
            "label": "03/08/2020",
            "method": "animate"
           },
           {
            "args": [
             [
              "03/09/2020"
             ],
             {
              "frame": {
               "duration": 0,
               "redraw": true
              },
              "fromcurrent": true,
              "mode": "immediate",
              "transition": {
               "duration": 0,
               "easing": "linear"
              }
             }
            ],
            "label": "03/09/2020",
            "method": "animate"
           },
           {
            "args": [
             [
              "04/01/2020"
             ],
             {
              "frame": {
               "duration": 0,
               "redraw": true
              },
              "fromcurrent": true,
              "mode": "immediate",
              "transition": {
               "duration": 0,
               "easing": "linear"
              }
             }
            ],
            "label": "04/01/2020",
            "method": "animate"
           },
           {
            "args": [
             [
              "04/02/2020"
             ],
             {
              "frame": {
               "duration": 0,
               "redraw": true
              },
              "fromcurrent": true,
              "mode": "immediate",
              "transition": {
               "duration": 0,
               "easing": "linear"
              }
             }
            ],
            "label": "04/02/2020",
            "method": "animate"
           },
           {
            "args": [
             [
              "04/03/2020"
             ],
             {
              "frame": {
               "duration": 0,
               "redraw": true
              },
              "fromcurrent": true,
              "mode": "immediate",
              "transition": {
               "duration": 0,
               "easing": "linear"
              }
             }
            ],
            "label": "04/03/2020",
            "method": "animate"
           },
           {
            "args": [
             [
              "04/04/2020"
             ],
             {
              "frame": {
               "duration": 0,
               "redraw": true
              },
              "fromcurrent": true,
              "mode": "immediate",
              "transition": {
               "duration": 0,
               "easing": "linear"
              }
             }
            ],
            "label": "04/04/2020",
            "method": "animate"
           },
           {
            "args": [
             [
              "04/05/2020"
             ],
             {
              "frame": {
               "duration": 0,
               "redraw": true
              },
              "fromcurrent": true,
              "mode": "immediate",
              "transition": {
               "duration": 0,
               "easing": "linear"
              }
             }
            ],
            "label": "04/05/2020",
            "method": "animate"
           },
           {
            "args": [
             [
              "04/06/2020"
             ],
             {
              "frame": {
               "duration": 0,
               "redraw": true
              },
              "fromcurrent": true,
              "mode": "immediate",
              "transition": {
               "duration": 0,
               "easing": "linear"
              }
             }
            ],
            "label": "04/06/2020",
            "method": "animate"
           }
          ],
          "x": 0.1,
          "xanchor": "left",
          "y": 0,
          "yanchor": "top"
         }
        ],
        "template": {
         "data": {
          "bar": [
           {
            "error_x": {
             "color": "#2a3f5f"
            },
            "error_y": {
             "color": "#2a3f5f"
            },
            "marker": {
             "line": {
              "color": "#E5ECF6",
              "width": 0.5
             }
            },
            "type": "bar"
           }
          ],
          "barpolar": [
           {
            "marker": {
             "line": {
              "color": "#E5ECF6",
              "width": 0.5
             }
            },
            "type": "barpolar"
           }
          ],
          "carpet": [
           {
            "aaxis": {
             "endlinecolor": "#2a3f5f",
             "gridcolor": "white",
             "linecolor": "white",
             "minorgridcolor": "white",
             "startlinecolor": "#2a3f5f"
            },
            "baxis": {
             "endlinecolor": "#2a3f5f",
             "gridcolor": "white",
             "linecolor": "white",
             "minorgridcolor": "white",
             "startlinecolor": "#2a3f5f"
            },
            "type": "carpet"
           }
          ],
          "choropleth": [
           {
            "colorbar": {
             "outlinewidth": 0,
             "ticks": ""
            },
            "type": "choropleth"
           }
          ],
          "contour": [
           {
            "colorbar": {
             "outlinewidth": 0,
             "ticks": ""
            },
            "colorscale": [
             [
              0,
              "#0d0887"
             ],
             [
              0.1111111111111111,
              "#46039f"
             ],
             [
              0.2222222222222222,
              "#7201a8"
             ],
             [
              0.3333333333333333,
              "#9c179e"
             ],
             [
              0.4444444444444444,
              "#bd3786"
             ],
             [
              0.5555555555555556,
              "#d8576b"
             ],
             [
              0.6666666666666666,
              "#ed7953"
             ],
             [
              0.7777777777777778,
              "#fb9f3a"
             ],
             [
              0.8888888888888888,
              "#fdca26"
             ],
             [
              1,
              "#f0f921"
             ]
            ],
            "type": "contour"
           }
          ],
          "contourcarpet": [
           {
            "colorbar": {
             "outlinewidth": 0,
             "ticks": ""
            },
            "type": "contourcarpet"
           }
          ],
          "heatmap": [
           {
            "colorbar": {
             "outlinewidth": 0,
             "ticks": ""
            },
            "colorscale": [
             [
              0,
              "#0d0887"
             ],
             [
              0.1111111111111111,
              "#46039f"
             ],
             [
              0.2222222222222222,
              "#7201a8"
             ],
             [
              0.3333333333333333,
              "#9c179e"
             ],
             [
              0.4444444444444444,
              "#bd3786"
             ],
             [
              0.5555555555555556,
              "#d8576b"
             ],
             [
              0.6666666666666666,
              "#ed7953"
             ],
             [
              0.7777777777777778,
              "#fb9f3a"
             ],
             [
              0.8888888888888888,
              "#fdca26"
             ],
             [
              1,
              "#f0f921"
             ]
            ],
            "type": "heatmap"
           }
          ],
          "heatmapgl": [
           {
            "colorbar": {
             "outlinewidth": 0,
             "ticks": ""
            },
            "colorscale": [
             [
              0,
              "#0d0887"
             ],
             [
              0.1111111111111111,
              "#46039f"
             ],
             [
              0.2222222222222222,
              "#7201a8"
             ],
             [
              0.3333333333333333,
              "#9c179e"
             ],
             [
              0.4444444444444444,
              "#bd3786"
             ],
             [
              0.5555555555555556,
              "#d8576b"
             ],
             [
              0.6666666666666666,
              "#ed7953"
             ],
             [
              0.7777777777777778,
              "#fb9f3a"
             ],
             [
              0.8888888888888888,
              "#fdca26"
             ],
             [
              1,
              "#f0f921"
             ]
            ],
            "type": "heatmapgl"
           }
          ],
          "histogram": [
           {
            "marker": {
             "colorbar": {
              "outlinewidth": 0,
              "ticks": ""
             }
            },
            "type": "histogram"
           }
          ],
          "histogram2d": [
           {
            "colorbar": {
             "outlinewidth": 0,
             "ticks": ""
            },
            "colorscale": [
             [
              0,
              "#0d0887"
             ],
             [
              0.1111111111111111,
              "#46039f"
             ],
             [
              0.2222222222222222,
              "#7201a8"
             ],
             [
              0.3333333333333333,
              "#9c179e"
             ],
             [
              0.4444444444444444,
              "#bd3786"
             ],
             [
              0.5555555555555556,
              "#d8576b"
             ],
             [
              0.6666666666666666,
              "#ed7953"
             ],
             [
              0.7777777777777778,
              "#fb9f3a"
             ],
             [
              0.8888888888888888,
              "#fdca26"
             ],
             [
              1,
              "#f0f921"
             ]
            ],
            "type": "histogram2d"
           }
          ],
          "histogram2dcontour": [
           {
            "colorbar": {
             "outlinewidth": 0,
             "ticks": ""
            },
            "colorscale": [
             [
              0,
              "#0d0887"
             ],
             [
              0.1111111111111111,
              "#46039f"
             ],
             [
              0.2222222222222222,
              "#7201a8"
             ],
             [
              0.3333333333333333,
              "#9c179e"
             ],
             [
              0.4444444444444444,
              "#bd3786"
             ],
             [
              0.5555555555555556,
              "#d8576b"
             ],
             [
              0.6666666666666666,
              "#ed7953"
             ],
             [
              0.7777777777777778,
              "#fb9f3a"
             ],
             [
              0.8888888888888888,
              "#fdca26"
             ],
             [
              1,
              "#f0f921"
             ]
            ],
            "type": "histogram2dcontour"
           }
          ],
          "mesh3d": [
           {
            "colorbar": {
             "outlinewidth": 0,
             "ticks": ""
            },
            "type": "mesh3d"
           }
          ],
          "parcoords": [
           {
            "line": {
             "colorbar": {
              "outlinewidth": 0,
              "ticks": ""
             }
            },
            "type": "parcoords"
           }
          ],
          "pie": [
           {
            "automargin": true,
            "type": "pie"
           }
          ],
          "scatter": [
           {
            "marker": {
             "colorbar": {
              "outlinewidth": 0,
              "ticks": ""
             }
            },
            "type": "scatter"
           }
          ],
          "scatter3d": [
           {
            "line": {
             "colorbar": {
              "outlinewidth": 0,
              "ticks": ""
             }
            },
            "marker": {
             "colorbar": {
              "outlinewidth": 0,
              "ticks": ""
             }
            },
            "type": "scatter3d"
           }
          ],
          "scattercarpet": [
           {
            "marker": {
             "colorbar": {
              "outlinewidth": 0,
              "ticks": ""
             }
            },
            "type": "scattercarpet"
           }
          ],
          "scattergeo": [
           {
            "marker": {
             "colorbar": {
              "outlinewidth": 0,
              "ticks": ""
             }
            },
            "type": "scattergeo"
           }
          ],
          "scattergl": [
           {
            "marker": {
             "colorbar": {
              "outlinewidth": 0,
              "ticks": ""
             }
            },
            "type": "scattergl"
           }
          ],
          "scattermapbox": [
           {
            "marker": {
             "colorbar": {
              "outlinewidth": 0,
              "ticks": ""
             }
            },
            "type": "scattermapbox"
           }
          ],
          "scatterpolar": [
           {
            "marker": {
             "colorbar": {
              "outlinewidth": 0,
              "ticks": ""
             }
            },
            "type": "scatterpolar"
           }
          ],
          "scatterpolargl": [
           {
            "marker": {
             "colorbar": {
              "outlinewidth": 0,
              "ticks": ""
             }
            },
            "type": "scatterpolargl"
           }
          ],
          "scatterternary": [
           {
            "marker": {
             "colorbar": {
              "outlinewidth": 0,
              "ticks": ""
             }
            },
            "type": "scatterternary"
           }
          ],
          "surface": [
           {
            "colorbar": {
             "outlinewidth": 0,
             "ticks": ""
            },
            "colorscale": [
             [
              0,
              "#0d0887"
             ],
             [
              0.1111111111111111,
              "#46039f"
             ],
             [
              0.2222222222222222,
              "#7201a8"
             ],
             [
              0.3333333333333333,
              "#9c179e"
             ],
             [
              0.4444444444444444,
              "#bd3786"
             ],
             [
              0.5555555555555556,
              "#d8576b"
             ],
             [
              0.6666666666666666,
              "#ed7953"
             ],
             [
              0.7777777777777778,
              "#fb9f3a"
             ],
             [
              0.8888888888888888,
              "#fdca26"
             ],
             [
              1,
              "#f0f921"
             ]
            ],
            "type": "surface"
           }
          ],
          "table": [
           {
            "cells": {
             "fill": {
              "color": "#EBF0F8"
             },
             "line": {
              "color": "white"
             }
            },
            "header": {
             "fill": {
              "color": "#C8D4E3"
             },
             "line": {
              "color": "white"
             }
            },
            "type": "table"
           }
          ]
         },
         "layout": {
          "annotationdefaults": {
           "arrowcolor": "#2a3f5f",
           "arrowhead": 0,
           "arrowwidth": 1
          },
          "coloraxis": {
           "colorbar": {
            "outlinewidth": 0,
            "ticks": ""
           }
          },
          "colorscale": {
           "diverging": [
            [
             0,
             "#8e0152"
            ],
            [
             0.1,
             "#c51b7d"
            ],
            [
             0.2,
             "#de77ae"
            ],
            [
             0.3,
             "#f1b6da"
            ],
            [
             0.4,
             "#fde0ef"
            ],
            [
             0.5,
             "#f7f7f7"
            ],
            [
             0.6,
             "#e6f5d0"
            ],
            [
             0.7,
             "#b8e186"
            ],
            [
             0.8,
             "#7fbc41"
            ],
            [
             0.9,
             "#4d9221"
            ],
            [
             1,
             "#276419"
            ]
           ],
           "sequential": [
            [
             0,
             "#0d0887"
            ],
            [
             0.1111111111111111,
             "#46039f"
            ],
            [
             0.2222222222222222,
             "#7201a8"
            ],
            [
             0.3333333333333333,
             "#9c179e"
            ],
            [
             0.4444444444444444,
             "#bd3786"
            ],
            [
             0.5555555555555556,
             "#d8576b"
            ],
            [
             0.6666666666666666,
             "#ed7953"
            ],
            [
             0.7777777777777778,
             "#fb9f3a"
            ],
            [
             0.8888888888888888,
             "#fdca26"
            ],
            [
             1,
             "#f0f921"
            ]
           ],
           "sequentialminus": [
            [
             0,
             "#0d0887"
            ],
            [
             0.1111111111111111,
             "#46039f"
            ],
            [
             0.2222222222222222,
             "#7201a8"
            ],
            [
             0.3333333333333333,
             "#9c179e"
            ],
            [
             0.4444444444444444,
             "#bd3786"
            ],
            [
             0.5555555555555556,
             "#d8576b"
            ],
            [
             0.6666666666666666,
             "#ed7953"
            ],
            [
             0.7777777777777778,
             "#fb9f3a"
            ],
            [
             0.8888888888888888,
             "#fdca26"
            ],
            [
             1,
             "#f0f921"
            ]
           ]
          },
          "colorway": [
           "#636efa",
           "#EF553B",
           "#00cc96",
           "#ab63fa",
           "#FFA15A",
           "#19d3f3",
           "#FF6692",
           "#B6E880",
           "#FF97FF",
           "#FECB52"
          ],
          "font": {
           "color": "#2a3f5f"
          },
          "geo": {
           "bgcolor": "white",
           "lakecolor": "white",
           "landcolor": "#E5ECF6",
           "showlakes": true,
           "showland": true,
           "subunitcolor": "white"
          },
          "hoverlabel": {
           "align": "left"
          },
          "hovermode": "closest",
          "mapbox": {
           "style": "light"
          },
          "paper_bgcolor": "white",
          "plot_bgcolor": "#E5ECF6",
          "polar": {
           "angularaxis": {
            "gridcolor": "white",
            "linecolor": "white",
            "ticks": ""
           },
           "bgcolor": "#E5ECF6",
           "radialaxis": {
            "gridcolor": "white",
            "linecolor": "white",
            "ticks": ""
           }
          },
          "scene": {
           "xaxis": {
            "backgroundcolor": "#E5ECF6",
            "gridcolor": "white",
            "gridwidth": 2,
            "linecolor": "white",
            "showbackground": true,
            "ticks": "",
            "zerolinecolor": "white"
           },
           "yaxis": {
            "backgroundcolor": "#E5ECF6",
            "gridcolor": "white",
            "gridwidth": 2,
            "linecolor": "white",
            "showbackground": true,
            "ticks": "",
            "zerolinecolor": "white"
           },
           "zaxis": {
            "backgroundcolor": "#E5ECF6",
            "gridcolor": "white",
            "gridwidth": 2,
            "linecolor": "white",
            "showbackground": true,
            "ticks": "",
            "zerolinecolor": "white"
           }
          },
          "shapedefaults": {
           "line": {
            "color": "#2a3f5f"
           }
          },
          "ternary": {
           "aaxis": {
            "gridcolor": "white",
            "linecolor": "white",
            "ticks": ""
           },
           "baxis": {
            "gridcolor": "white",
            "linecolor": "white",
            "ticks": ""
           },
           "bgcolor": "#E5ECF6",
           "caxis": {
            "gridcolor": "white",
            "linecolor": "white",
            "ticks": ""
           }
          },
          "title": {
           "x": 0.05
          },
          "xaxis": {
           "automargin": true,
           "gridcolor": "white",
           "linecolor": "white",
           "ticks": "",
           "title": {
            "standoff": 15
           },
           "zerolinecolor": "white",
           "zerolinewidth": 2
          },
          "yaxis": {
           "automargin": true,
           "gridcolor": "white",
           "linecolor": "white",
           "ticks": "",
           "title": {
            "standoff": 15
           },
           "zerolinecolor": "white",
           "zerolinewidth": 2
          }
         }
        },
        "title": {
         "text": "Map of Coronavirus"
        },
        "updatemenus": [
         {
          "buttons": [
           {
            "args": [
             null,
             {
              "frame": {
               "duration": 500,
               "redraw": true
              },
              "fromcurrent": true,
              "mode": "immediate",
              "transition": {
               "duration": 500,
               "easing": "linear"
              }
             }
            ],
            "label": "&#9654;",
            "method": "animate"
           },
           {
            "args": [
             [
              null
             ],
             {
              "frame": {
               "duration": 0,
               "redraw": true
              },
              "fromcurrent": true,
              "mode": "immediate",
              "transition": {
               "duration": 0,
               "easing": "linear"
              }
             }
            ],
            "label": "&#9724;",
            "method": "animate"
           }
          ],
          "direction": "left",
          "pad": {
           "r": 10,
           "t": 70
          },
          "showactive": false,
          "type": "buttons",
          "x": 0.1,
          "xanchor": "right",
          "y": 0,
          "yanchor": "top"
         }
        ],
        "width": 1000
       }
      },
      "text/html": [
       "<div>\n",
       "        \n",
       "        \n",
       "            <div id=\"c14c7444-6b10-4c1d-a135-731ff3593abb\" class=\"plotly-graph-div\" style=\"height:700px; width:1000px;\"></div>\n",
       "            <script type=\"text/javascript\">\n",
       "                require([\"plotly\"], function(Plotly) {\n",
       "                    window.PLOTLYENV=window.PLOTLYENV || {};\n",
       "                    \n",
       "                if (document.getElementById(\"c14c7444-6b10-4c1d-a135-731ff3593abb\")) {\n",
       "                    Plotly.newPlot(\n",
       "                        'c14c7444-6b10-4c1d-a135-731ff3593abb',\n",
       "                        [{\"coloraxis\": \"coloraxis\", \"customdata\": [[0, 0, 0]], \"geo\": \"geo\", \"hovertemplate\": \"<b>%{hovertext}</b><br><br>Date=01/22/2020<br>Recovered=%{customdata[0]}<br>Deaths=%{customdata[1]}<br>Active=%{customdata[2]}<br>Country=%{location}<br>Confirmed=%{z}<extra></extra>\", \"hovertext\": [\"India\"], \"locationmode\": \"country names\", \"locations\": [\"India\"], \"name\": \"\", \"type\": \"choropleth\", \"z\": [0]}],\n",
       "                        {\"coloraxis\": {\"colorbar\": {\"title\": {\"text\": \"Confirmed\"}}, \"colorscale\": [[0.0, \"rgb(255,245,240)\"], [0.125, \"rgb(254,224,210)\"], [0.25, \"rgb(252,187,161)\"], [0.375, \"rgb(252,146,114)\"], [0.5, \"rgb(251,106,74)\"], [0.625, \"rgb(239,59,44)\"], [0.75, \"rgb(203,24,29)\"], [0.875, \"rgb(165,15,21)\"], [1.0, \"rgb(103,0,13)\"]], \"showscale\": true}, \"geo\": {\"domain\": {\"x\": [0.0, 1.0], \"y\": [0.0, 1.0]}, \"projection\": {\"type\": \"mercator\"}}, \"height\": 700, \"legend\": {\"tracegroupgap\": 0}, \"sliders\": [{\"active\": 0, \"currentvalue\": {\"prefix\": \"Date=\"}, \"len\": 0.9, \"pad\": {\"b\": 10, \"t\": 60}, \"steps\": [{\"args\": [[\"01/22/2020\"], {\"frame\": {\"duration\": 0, \"redraw\": true}, \"fromcurrent\": true, \"mode\": \"immediate\", \"transition\": {\"duration\": 0, \"easing\": \"linear\"}}], \"label\": \"01/22/2020\", \"method\": \"animate\"}, {\"args\": [[\"01/23/2020\"], {\"frame\": {\"duration\": 0, \"redraw\": true}, \"fromcurrent\": true, \"mode\": \"immediate\", \"transition\": {\"duration\": 0, \"easing\": \"linear\"}}], \"label\": \"01/23/2020\", \"method\": \"animate\"}, {\"args\": [[\"01/24/2020\"], {\"frame\": {\"duration\": 0, \"redraw\": true}, \"fromcurrent\": true, \"mode\": \"immediate\", \"transition\": {\"duration\": 0, \"easing\": \"linear\"}}], \"label\": \"01/24/2020\", \"method\": \"animate\"}, {\"args\": [[\"01/25/2020\"], {\"frame\": {\"duration\": 0, \"redraw\": true}, \"fromcurrent\": true, \"mode\": \"immediate\", \"transition\": {\"duration\": 0, \"easing\": \"linear\"}}], \"label\": \"01/25/2020\", \"method\": \"animate\"}, {\"args\": [[\"01/26/2020\"], {\"frame\": {\"duration\": 0, \"redraw\": true}, \"fromcurrent\": true, \"mode\": \"immediate\", \"transition\": {\"duration\": 0, \"easing\": \"linear\"}}], \"label\": \"01/26/2020\", \"method\": \"animate\"}, {\"args\": [[\"01/27/2020\"], {\"frame\": {\"duration\": 0, \"redraw\": true}, \"fromcurrent\": true, \"mode\": \"immediate\", \"transition\": {\"duration\": 0, \"easing\": \"linear\"}}], \"label\": \"01/27/2020\", \"method\": \"animate\"}, {\"args\": [[\"01/28/2020\"], {\"frame\": {\"duration\": 0, \"redraw\": true}, \"fromcurrent\": true, \"mode\": \"immediate\", \"transition\": {\"duration\": 0, \"easing\": \"linear\"}}], \"label\": \"01/28/2020\", \"method\": \"animate\"}, {\"args\": [[\"01/29/2020\"], {\"frame\": {\"duration\": 0, \"redraw\": true}, \"fromcurrent\": true, \"mode\": \"immediate\", \"transition\": {\"duration\": 0, \"easing\": \"linear\"}}], \"label\": \"01/29/2020\", \"method\": \"animate\"}, {\"args\": [[\"01/30/2020\"], {\"frame\": {\"duration\": 0, \"redraw\": true}, \"fromcurrent\": true, \"mode\": \"immediate\", \"transition\": {\"duration\": 0, \"easing\": \"linear\"}}], \"label\": \"01/30/2020\", \"method\": \"animate\"}, {\"args\": [[\"01/31/2020\"], {\"frame\": {\"duration\": 0, \"redraw\": true}, \"fromcurrent\": true, \"mode\": \"immediate\", \"transition\": {\"duration\": 0, \"easing\": \"linear\"}}], \"label\": \"01/31/2020\", \"method\": \"animate\"}, {\"args\": [[\"02/01/2020\"], {\"frame\": {\"duration\": 0, \"redraw\": true}, \"fromcurrent\": true, \"mode\": \"immediate\", \"transition\": {\"duration\": 0, \"easing\": \"linear\"}}], \"label\": \"02/01/2020\", \"method\": \"animate\"}, {\"args\": [[\"02/10/2020\"], {\"frame\": {\"duration\": 0, \"redraw\": true}, \"fromcurrent\": true, \"mode\": \"immediate\", \"transition\": {\"duration\": 0, \"easing\": \"linear\"}}], \"label\": \"02/10/2020\", \"method\": \"animate\"}, {\"args\": [[\"02/11/2020\"], {\"frame\": {\"duration\": 0, \"redraw\": true}, \"fromcurrent\": true, \"mode\": \"immediate\", \"transition\": {\"duration\": 0, \"easing\": \"linear\"}}], \"label\": \"02/11/2020\", \"method\": \"animate\"}, {\"args\": [[\"02/12/2020\"], {\"frame\": {\"duration\": 0, \"redraw\": true}, \"fromcurrent\": true, \"mode\": \"immediate\", \"transition\": {\"duration\": 0, \"easing\": \"linear\"}}], \"label\": \"02/12/2020\", \"method\": \"animate\"}, {\"args\": [[\"02/13/2020\"], {\"frame\": {\"duration\": 0, \"redraw\": true}, \"fromcurrent\": true, \"mode\": \"immediate\", \"transition\": {\"duration\": 0, \"easing\": \"linear\"}}], \"label\": \"02/13/2020\", \"method\": \"animate\"}, {\"args\": [[\"02/14/2020\"], {\"frame\": {\"duration\": 0, \"redraw\": true}, \"fromcurrent\": true, \"mode\": \"immediate\", \"transition\": {\"duration\": 0, \"easing\": \"linear\"}}], \"label\": \"02/14/2020\", \"method\": \"animate\"}, {\"args\": [[\"02/15/2020\"], {\"frame\": {\"duration\": 0, \"redraw\": true}, \"fromcurrent\": true, \"mode\": \"immediate\", \"transition\": {\"duration\": 0, \"easing\": \"linear\"}}], \"label\": \"02/15/2020\", \"method\": \"animate\"}, {\"args\": [[\"02/16/2020\"], {\"frame\": {\"duration\": 0, \"redraw\": true}, \"fromcurrent\": true, \"mode\": \"immediate\", \"transition\": {\"duration\": 0, \"easing\": \"linear\"}}], \"label\": \"02/16/2020\", \"method\": \"animate\"}, {\"args\": [[\"02/17/2020\"], {\"frame\": {\"duration\": 0, \"redraw\": true}, \"fromcurrent\": true, \"mode\": \"immediate\", \"transition\": {\"duration\": 0, \"easing\": \"linear\"}}], \"label\": \"02/17/2020\", \"method\": \"animate\"}, {\"args\": [[\"02/18/2020\"], {\"frame\": {\"duration\": 0, \"redraw\": true}, \"fromcurrent\": true, \"mode\": \"immediate\", \"transition\": {\"duration\": 0, \"easing\": \"linear\"}}], \"label\": \"02/18/2020\", \"method\": \"animate\"}, {\"args\": [[\"02/19/2020\"], {\"frame\": {\"duration\": 0, \"redraw\": true}, \"fromcurrent\": true, \"mode\": \"immediate\", \"transition\": {\"duration\": 0, \"easing\": \"linear\"}}], \"label\": \"02/19/2020\", \"method\": \"animate\"}, {\"args\": [[\"02/02/2020\"], {\"frame\": {\"duration\": 0, \"redraw\": true}, \"fromcurrent\": true, \"mode\": \"immediate\", \"transition\": {\"duration\": 0, \"easing\": \"linear\"}}], \"label\": \"02/02/2020\", \"method\": \"animate\"}, {\"args\": [[\"02/20/2020\"], {\"frame\": {\"duration\": 0, \"redraw\": true}, \"fromcurrent\": true, \"mode\": \"immediate\", \"transition\": {\"duration\": 0, \"easing\": \"linear\"}}], \"label\": \"02/20/2020\", \"method\": \"animate\"}, {\"args\": [[\"02/21/2020\"], {\"frame\": {\"duration\": 0, \"redraw\": true}, \"fromcurrent\": true, \"mode\": \"immediate\", \"transition\": {\"duration\": 0, \"easing\": \"linear\"}}], \"label\": \"02/21/2020\", \"method\": \"animate\"}, {\"args\": [[\"02/22/2020\"], {\"frame\": {\"duration\": 0, \"redraw\": true}, \"fromcurrent\": true, \"mode\": \"immediate\", \"transition\": {\"duration\": 0, \"easing\": \"linear\"}}], \"label\": \"02/22/2020\", \"method\": \"animate\"}, {\"args\": [[\"02/23/2020\"], {\"frame\": {\"duration\": 0, \"redraw\": true}, \"fromcurrent\": true, \"mode\": \"immediate\", \"transition\": {\"duration\": 0, \"easing\": \"linear\"}}], \"label\": \"02/23/2020\", \"method\": \"animate\"}, {\"args\": [[\"02/24/2020\"], {\"frame\": {\"duration\": 0, \"redraw\": true}, \"fromcurrent\": true, \"mode\": \"immediate\", \"transition\": {\"duration\": 0, \"easing\": \"linear\"}}], \"label\": \"02/24/2020\", \"method\": \"animate\"}, {\"args\": [[\"02/25/2020\"], {\"frame\": {\"duration\": 0, \"redraw\": true}, \"fromcurrent\": true, \"mode\": \"immediate\", \"transition\": {\"duration\": 0, \"easing\": \"linear\"}}], \"label\": \"02/25/2020\", \"method\": \"animate\"}, {\"args\": [[\"02/26/2020\"], {\"frame\": {\"duration\": 0, \"redraw\": true}, \"fromcurrent\": true, \"mode\": \"immediate\", \"transition\": {\"duration\": 0, \"easing\": \"linear\"}}], \"label\": \"02/26/2020\", \"method\": \"animate\"}, {\"args\": [[\"02/27/2020\"], {\"frame\": {\"duration\": 0, \"redraw\": true}, \"fromcurrent\": true, \"mode\": \"immediate\", \"transition\": {\"duration\": 0, \"easing\": \"linear\"}}], \"label\": \"02/27/2020\", \"method\": \"animate\"}, {\"args\": [[\"02/28/2020\"], {\"frame\": {\"duration\": 0, \"redraw\": true}, \"fromcurrent\": true, \"mode\": \"immediate\", \"transition\": {\"duration\": 0, \"easing\": \"linear\"}}], \"label\": \"02/28/2020\", \"method\": \"animate\"}, {\"args\": [[\"02/29/2020\"], {\"frame\": {\"duration\": 0, \"redraw\": true}, \"fromcurrent\": true, \"mode\": \"immediate\", \"transition\": {\"duration\": 0, \"easing\": \"linear\"}}], \"label\": \"02/29/2020\", \"method\": \"animate\"}, {\"args\": [[\"02/03/2020\"], {\"frame\": {\"duration\": 0, \"redraw\": true}, \"fromcurrent\": true, \"mode\": \"immediate\", \"transition\": {\"duration\": 0, \"easing\": \"linear\"}}], \"label\": \"02/03/2020\", \"method\": \"animate\"}, {\"args\": [[\"02/04/2020\"], {\"frame\": {\"duration\": 0, \"redraw\": true}, \"fromcurrent\": true, \"mode\": \"immediate\", \"transition\": {\"duration\": 0, \"easing\": \"linear\"}}], \"label\": \"02/04/2020\", \"method\": \"animate\"}, {\"args\": [[\"02/05/2020\"], {\"frame\": {\"duration\": 0, \"redraw\": true}, \"fromcurrent\": true, \"mode\": \"immediate\", \"transition\": {\"duration\": 0, \"easing\": \"linear\"}}], \"label\": \"02/05/2020\", \"method\": \"animate\"}, {\"args\": [[\"02/06/2020\"], {\"frame\": {\"duration\": 0, \"redraw\": true}, \"fromcurrent\": true, \"mode\": \"immediate\", \"transition\": {\"duration\": 0, \"easing\": \"linear\"}}], \"label\": \"02/06/2020\", \"method\": \"animate\"}, {\"args\": [[\"02/07/2020\"], {\"frame\": {\"duration\": 0, \"redraw\": true}, \"fromcurrent\": true, \"mode\": \"immediate\", \"transition\": {\"duration\": 0, \"easing\": \"linear\"}}], \"label\": \"02/07/2020\", \"method\": \"animate\"}, {\"args\": [[\"02/08/2020\"], {\"frame\": {\"duration\": 0, \"redraw\": true}, \"fromcurrent\": true, \"mode\": \"immediate\", \"transition\": {\"duration\": 0, \"easing\": \"linear\"}}], \"label\": \"02/08/2020\", \"method\": \"animate\"}, {\"args\": [[\"02/09/2020\"], {\"frame\": {\"duration\": 0, \"redraw\": true}, \"fromcurrent\": true, \"mode\": \"immediate\", \"transition\": {\"duration\": 0, \"easing\": \"linear\"}}], \"label\": \"02/09/2020\", \"method\": \"animate\"}, {\"args\": [[\"03/01/2020\"], {\"frame\": {\"duration\": 0, \"redraw\": true}, \"fromcurrent\": true, \"mode\": \"immediate\", \"transition\": {\"duration\": 0, \"easing\": \"linear\"}}], \"label\": \"03/01/2020\", \"method\": \"animate\"}, {\"args\": [[\"03/10/2020\"], {\"frame\": {\"duration\": 0, \"redraw\": true}, \"fromcurrent\": true, \"mode\": \"immediate\", \"transition\": {\"duration\": 0, \"easing\": \"linear\"}}], \"label\": \"03/10/2020\", \"method\": \"animate\"}, {\"args\": [[\"03/11/2020\"], {\"frame\": {\"duration\": 0, \"redraw\": true}, \"fromcurrent\": true, \"mode\": \"immediate\", \"transition\": {\"duration\": 0, \"easing\": \"linear\"}}], \"label\": \"03/11/2020\", \"method\": \"animate\"}, {\"args\": [[\"03/12/2020\"], {\"frame\": {\"duration\": 0, \"redraw\": true}, \"fromcurrent\": true, \"mode\": \"immediate\", \"transition\": {\"duration\": 0, \"easing\": \"linear\"}}], \"label\": \"03/12/2020\", \"method\": \"animate\"}, {\"args\": [[\"03/13/2020\"], {\"frame\": {\"duration\": 0, \"redraw\": true}, \"fromcurrent\": true, \"mode\": \"immediate\", \"transition\": {\"duration\": 0, \"easing\": \"linear\"}}], \"label\": \"03/13/2020\", \"method\": \"animate\"}, {\"args\": [[\"03/14/2020\"], {\"frame\": {\"duration\": 0, \"redraw\": true}, \"fromcurrent\": true, \"mode\": \"immediate\", \"transition\": {\"duration\": 0, \"easing\": \"linear\"}}], \"label\": \"03/14/2020\", \"method\": \"animate\"}, {\"args\": [[\"03/15/2020\"], {\"frame\": {\"duration\": 0, \"redraw\": true}, \"fromcurrent\": true, \"mode\": \"immediate\", \"transition\": {\"duration\": 0, \"easing\": \"linear\"}}], \"label\": \"03/15/2020\", \"method\": \"animate\"}, {\"args\": [[\"03/16/2020\"], {\"frame\": {\"duration\": 0, \"redraw\": true}, \"fromcurrent\": true, \"mode\": \"immediate\", \"transition\": {\"duration\": 0, \"easing\": \"linear\"}}], \"label\": \"03/16/2020\", \"method\": \"animate\"}, {\"args\": [[\"03/17/2020\"], {\"frame\": {\"duration\": 0, \"redraw\": true}, \"fromcurrent\": true, \"mode\": \"immediate\", \"transition\": {\"duration\": 0, \"easing\": \"linear\"}}], \"label\": \"03/17/2020\", \"method\": \"animate\"}, {\"args\": [[\"03/18/2020\"], {\"frame\": {\"duration\": 0, \"redraw\": true}, \"fromcurrent\": true, \"mode\": \"immediate\", \"transition\": {\"duration\": 0, \"easing\": \"linear\"}}], \"label\": \"03/18/2020\", \"method\": \"animate\"}, {\"args\": [[\"03/19/2020\"], {\"frame\": {\"duration\": 0, \"redraw\": true}, \"fromcurrent\": true, \"mode\": \"immediate\", \"transition\": {\"duration\": 0, \"easing\": \"linear\"}}], \"label\": \"03/19/2020\", \"method\": \"animate\"}, {\"args\": [[\"03/02/2020\"], {\"frame\": {\"duration\": 0, \"redraw\": true}, \"fromcurrent\": true, \"mode\": \"immediate\", \"transition\": {\"duration\": 0, \"easing\": \"linear\"}}], \"label\": \"03/02/2020\", \"method\": \"animate\"}, {\"args\": [[\"03/20/2020\"], {\"frame\": {\"duration\": 0, \"redraw\": true}, \"fromcurrent\": true, \"mode\": \"immediate\", \"transition\": {\"duration\": 0, \"easing\": \"linear\"}}], \"label\": \"03/20/2020\", \"method\": \"animate\"}, {\"args\": [[\"03/21/2020\"], {\"frame\": {\"duration\": 0, \"redraw\": true}, \"fromcurrent\": true, \"mode\": \"immediate\", \"transition\": {\"duration\": 0, \"easing\": \"linear\"}}], \"label\": \"03/21/2020\", \"method\": \"animate\"}, {\"args\": [[\"03/22/2020\"], {\"frame\": {\"duration\": 0, \"redraw\": true}, \"fromcurrent\": true, \"mode\": \"immediate\", \"transition\": {\"duration\": 0, \"easing\": \"linear\"}}], \"label\": \"03/22/2020\", \"method\": \"animate\"}, {\"args\": [[\"03/23/2020\"], {\"frame\": {\"duration\": 0, \"redraw\": true}, \"fromcurrent\": true, \"mode\": \"immediate\", \"transition\": {\"duration\": 0, \"easing\": \"linear\"}}], \"label\": \"03/23/2020\", \"method\": \"animate\"}, {\"args\": [[\"03/24/2020\"], {\"frame\": {\"duration\": 0, \"redraw\": true}, \"fromcurrent\": true, \"mode\": \"immediate\", \"transition\": {\"duration\": 0, \"easing\": \"linear\"}}], \"label\": \"03/24/2020\", \"method\": \"animate\"}, {\"args\": [[\"03/25/2020\"], {\"frame\": {\"duration\": 0, \"redraw\": true}, \"fromcurrent\": true, \"mode\": \"immediate\", \"transition\": {\"duration\": 0, \"easing\": \"linear\"}}], \"label\": \"03/25/2020\", \"method\": \"animate\"}, {\"args\": [[\"03/26/2020\"], {\"frame\": {\"duration\": 0, \"redraw\": true}, \"fromcurrent\": true, \"mode\": \"immediate\", \"transition\": {\"duration\": 0, \"easing\": \"linear\"}}], \"label\": \"03/26/2020\", \"method\": \"animate\"}, {\"args\": [[\"03/27/2020\"], {\"frame\": {\"duration\": 0, \"redraw\": true}, \"fromcurrent\": true, \"mode\": \"immediate\", \"transition\": {\"duration\": 0, \"easing\": \"linear\"}}], \"label\": \"03/27/2020\", \"method\": \"animate\"}, {\"args\": [[\"03/28/2020\"], {\"frame\": {\"duration\": 0, \"redraw\": true}, \"fromcurrent\": true, \"mode\": \"immediate\", \"transition\": {\"duration\": 0, \"easing\": \"linear\"}}], \"label\": \"03/28/2020\", \"method\": \"animate\"}, {\"args\": [[\"03/29/2020\"], {\"frame\": {\"duration\": 0, \"redraw\": true}, \"fromcurrent\": true, \"mode\": \"immediate\", \"transition\": {\"duration\": 0, \"easing\": \"linear\"}}], \"label\": \"03/29/2020\", \"method\": \"animate\"}, {\"args\": [[\"03/03/2020\"], {\"frame\": {\"duration\": 0, \"redraw\": true}, \"fromcurrent\": true, \"mode\": \"immediate\", \"transition\": {\"duration\": 0, \"easing\": \"linear\"}}], \"label\": \"03/03/2020\", \"method\": \"animate\"}, {\"args\": [[\"03/30/2020\"], {\"frame\": {\"duration\": 0, \"redraw\": true}, \"fromcurrent\": true, \"mode\": \"immediate\", \"transition\": {\"duration\": 0, \"easing\": \"linear\"}}], \"label\": \"03/30/2020\", \"method\": \"animate\"}, {\"args\": [[\"03/31/2020\"], {\"frame\": {\"duration\": 0, \"redraw\": true}, \"fromcurrent\": true, \"mode\": \"immediate\", \"transition\": {\"duration\": 0, \"easing\": \"linear\"}}], \"label\": \"03/31/2020\", \"method\": \"animate\"}, {\"args\": [[\"03/04/2020\"], {\"frame\": {\"duration\": 0, \"redraw\": true}, \"fromcurrent\": true, \"mode\": \"immediate\", \"transition\": {\"duration\": 0, \"easing\": \"linear\"}}], \"label\": \"03/04/2020\", \"method\": \"animate\"}, {\"args\": [[\"03/05/2020\"], {\"frame\": {\"duration\": 0, \"redraw\": true}, \"fromcurrent\": true, \"mode\": \"immediate\", \"transition\": {\"duration\": 0, \"easing\": \"linear\"}}], \"label\": \"03/05/2020\", \"method\": \"animate\"}, {\"args\": [[\"03/06/2020\"], {\"frame\": {\"duration\": 0, \"redraw\": true}, \"fromcurrent\": true, \"mode\": \"immediate\", \"transition\": {\"duration\": 0, \"easing\": \"linear\"}}], \"label\": \"03/06/2020\", \"method\": \"animate\"}, {\"args\": [[\"03/07/2020\"], {\"frame\": {\"duration\": 0, \"redraw\": true}, \"fromcurrent\": true, \"mode\": \"immediate\", \"transition\": {\"duration\": 0, \"easing\": \"linear\"}}], \"label\": \"03/07/2020\", \"method\": \"animate\"}, {\"args\": [[\"03/08/2020\"], {\"frame\": {\"duration\": 0, \"redraw\": true}, \"fromcurrent\": true, \"mode\": \"immediate\", \"transition\": {\"duration\": 0, \"easing\": \"linear\"}}], \"label\": \"03/08/2020\", \"method\": \"animate\"}, {\"args\": [[\"03/09/2020\"], {\"frame\": {\"duration\": 0, \"redraw\": true}, \"fromcurrent\": true, \"mode\": \"immediate\", \"transition\": {\"duration\": 0, \"easing\": \"linear\"}}], \"label\": \"03/09/2020\", \"method\": \"animate\"}, {\"args\": [[\"04/01/2020\"], {\"frame\": {\"duration\": 0, \"redraw\": true}, \"fromcurrent\": true, \"mode\": \"immediate\", \"transition\": {\"duration\": 0, \"easing\": \"linear\"}}], \"label\": \"04/01/2020\", \"method\": \"animate\"}, {\"args\": [[\"04/02/2020\"], {\"frame\": {\"duration\": 0, \"redraw\": true}, \"fromcurrent\": true, \"mode\": \"immediate\", \"transition\": {\"duration\": 0, \"easing\": \"linear\"}}], \"label\": \"04/02/2020\", \"method\": \"animate\"}, {\"args\": [[\"04/03/2020\"], {\"frame\": {\"duration\": 0, \"redraw\": true}, \"fromcurrent\": true, \"mode\": \"immediate\", \"transition\": {\"duration\": 0, \"easing\": \"linear\"}}], \"label\": \"04/03/2020\", \"method\": \"animate\"}, {\"args\": [[\"04/04/2020\"], {\"frame\": {\"duration\": 0, \"redraw\": true}, \"fromcurrent\": true, \"mode\": \"immediate\", \"transition\": {\"duration\": 0, \"easing\": \"linear\"}}], \"label\": \"04/04/2020\", \"method\": \"animate\"}, {\"args\": [[\"04/05/2020\"], {\"frame\": {\"duration\": 0, \"redraw\": true}, \"fromcurrent\": true, \"mode\": \"immediate\", \"transition\": {\"duration\": 0, \"easing\": \"linear\"}}], \"label\": \"04/05/2020\", \"method\": \"animate\"}, {\"args\": [[\"04/06/2020\"], {\"frame\": {\"duration\": 0, \"redraw\": true}, \"fromcurrent\": true, \"mode\": \"immediate\", \"transition\": {\"duration\": 0, \"easing\": \"linear\"}}], \"label\": \"04/06/2020\", \"method\": \"animate\"}], \"x\": 0.1, \"xanchor\": \"left\", \"y\": 0, \"yanchor\": \"top\"}], \"template\": {\"data\": {\"bar\": [{\"error_x\": {\"color\": \"#2a3f5f\"}, \"error_y\": {\"color\": \"#2a3f5f\"}, \"marker\": {\"line\": {\"color\": \"#E5ECF6\", \"width\": 0.5}}, \"type\": \"bar\"}], \"barpolar\": [{\"marker\": {\"line\": {\"color\": \"#E5ECF6\", \"width\": 0.5}}, \"type\": \"barpolar\"}], \"carpet\": [{\"aaxis\": {\"endlinecolor\": \"#2a3f5f\", \"gridcolor\": \"white\", \"linecolor\": \"white\", \"minorgridcolor\": \"white\", \"startlinecolor\": \"#2a3f5f\"}, \"baxis\": {\"endlinecolor\": \"#2a3f5f\", \"gridcolor\": \"white\", \"linecolor\": \"white\", \"minorgridcolor\": \"white\", \"startlinecolor\": \"#2a3f5f\"}, \"type\": \"carpet\"}], \"choropleth\": [{\"colorbar\": {\"outlinewidth\": 0, \"ticks\": \"\"}, \"type\": \"choropleth\"}], \"contour\": [{\"colorbar\": {\"outlinewidth\": 0, \"ticks\": \"\"}, \"colorscale\": [[0.0, \"#0d0887\"], [0.1111111111111111, \"#46039f\"], [0.2222222222222222, \"#7201a8\"], [0.3333333333333333, \"#9c179e\"], [0.4444444444444444, \"#bd3786\"], [0.5555555555555556, \"#d8576b\"], [0.6666666666666666, \"#ed7953\"], [0.7777777777777778, \"#fb9f3a\"], [0.8888888888888888, \"#fdca26\"], [1.0, \"#f0f921\"]], \"type\": \"contour\"}], \"contourcarpet\": [{\"colorbar\": {\"outlinewidth\": 0, \"ticks\": \"\"}, \"type\": \"contourcarpet\"}], \"heatmap\": [{\"colorbar\": {\"outlinewidth\": 0, \"ticks\": \"\"}, \"colorscale\": [[0.0, \"#0d0887\"], [0.1111111111111111, \"#46039f\"], [0.2222222222222222, \"#7201a8\"], [0.3333333333333333, \"#9c179e\"], [0.4444444444444444, \"#bd3786\"], [0.5555555555555556, \"#d8576b\"], [0.6666666666666666, \"#ed7953\"], [0.7777777777777778, \"#fb9f3a\"], [0.8888888888888888, \"#fdca26\"], [1.0, \"#f0f921\"]], \"type\": \"heatmap\"}], \"heatmapgl\": [{\"colorbar\": {\"outlinewidth\": 0, \"ticks\": \"\"}, \"colorscale\": [[0.0, \"#0d0887\"], [0.1111111111111111, \"#46039f\"], [0.2222222222222222, \"#7201a8\"], [0.3333333333333333, \"#9c179e\"], [0.4444444444444444, \"#bd3786\"], [0.5555555555555556, \"#d8576b\"], [0.6666666666666666, \"#ed7953\"], [0.7777777777777778, \"#fb9f3a\"], [0.8888888888888888, \"#fdca26\"], [1.0, \"#f0f921\"]], \"type\": \"heatmapgl\"}], \"histogram\": [{\"marker\": {\"colorbar\": {\"outlinewidth\": 0, \"ticks\": \"\"}}, \"type\": \"histogram\"}], \"histogram2d\": [{\"colorbar\": {\"outlinewidth\": 0, \"ticks\": \"\"}, \"colorscale\": [[0.0, \"#0d0887\"], [0.1111111111111111, \"#46039f\"], [0.2222222222222222, \"#7201a8\"], [0.3333333333333333, \"#9c179e\"], [0.4444444444444444, \"#bd3786\"], [0.5555555555555556, \"#d8576b\"], [0.6666666666666666, \"#ed7953\"], [0.7777777777777778, \"#fb9f3a\"], [0.8888888888888888, \"#fdca26\"], [1.0, \"#f0f921\"]], \"type\": \"histogram2d\"}], \"histogram2dcontour\": [{\"colorbar\": {\"outlinewidth\": 0, \"ticks\": \"\"}, \"colorscale\": [[0.0, \"#0d0887\"], [0.1111111111111111, \"#46039f\"], [0.2222222222222222, \"#7201a8\"], [0.3333333333333333, \"#9c179e\"], [0.4444444444444444, \"#bd3786\"], [0.5555555555555556, \"#d8576b\"], [0.6666666666666666, \"#ed7953\"], [0.7777777777777778, \"#fb9f3a\"], [0.8888888888888888, \"#fdca26\"], [1.0, \"#f0f921\"]], \"type\": \"histogram2dcontour\"}], \"mesh3d\": [{\"colorbar\": {\"outlinewidth\": 0, \"ticks\": \"\"}, \"type\": \"mesh3d\"}], \"parcoords\": [{\"line\": {\"colorbar\": {\"outlinewidth\": 0, \"ticks\": \"\"}}, \"type\": \"parcoords\"}], \"pie\": [{\"automargin\": true, \"type\": \"pie\"}], \"scatter\": [{\"marker\": {\"colorbar\": {\"outlinewidth\": 0, \"ticks\": \"\"}}, \"type\": \"scatter\"}], \"scatter3d\": [{\"line\": {\"colorbar\": {\"outlinewidth\": 0, \"ticks\": \"\"}}, \"marker\": {\"colorbar\": {\"outlinewidth\": 0, \"ticks\": \"\"}}, \"type\": \"scatter3d\"}], \"scattercarpet\": [{\"marker\": {\"colorbar\": {\"outlinewidth\": 0, \"ticks\": \"\"}}, \"type\": \"scattercarpet\"}], \"scattergeo\": [{\"marker\": {\"colorbar\": {\"outlinewidth\": 0, \"ticks\": \"\"}}, \"type\": \"scattergeo\"}], \"scattergl\": [{\"marker\": {\"colorbar\": {\"outlinewidth\": 0, \"ticks\": \"\"}}, \"type\": \"scattergl\"}], \"scattermapbox\": [{\"marker\": {\"colorbar\": {\"outlinewidth\": 0, \"ticks\": \"\"}}, \"type\": \"scattermapbox\"}], \"scatterpolar\": [{\"marker\": {\"colorbar\": {\"outlinewidth\": 0, \"ticks\": \"\"}}, \"type\": \"scatterpolar\"}], \"scatterpolargl\": [{\"marker\": {\"colorbar\": {\"outlinewidth\": 0, \"ticks\": \"\"}}, \"type\": \"scatterpolargl\"}], \"scatterternary\": [{\"marker\": {\"colorbar\": {\"outlinewidth\": 0, \"ticks\": \"\"}}, \"type\": \"scatterternary\"}], \"surface\": [{\"colorbar\": {\"outlinewidth\": 0, \"ticks\": \"\"}, \"colorscale\": [[0.0, \"#0d0887\"], [0.1111111111111111, \"#46039f\"], [0.2222222222222222, \"#7201a8\"], [0.3333333333333333, \"#9c179e\"], [0.4444444444444444, \"#bd3786\"], [0.5555555555555556, \"#d8576b\"], [0.6666666666666666, \"#ed7953\"], [0.7777777777777778, \"#fb9f3a\"], [0.8888888888888888, \"#fdca26\"], [1.0, \"#f0f921\"]], \"type\": \"surface\"}], \"table\": [{\"cells\": {\"fill\": {\"color\": \"#EBF0F8\"}, \"line\": {\"color\": \"white\"}}, \"header\": {\"fill\": {\"color\": \"#C8D4E3\"}, \"line\": {\"color\": \"white\"}}, \"type\": \"table\"}]}, \"layout\": {\"annotationdefaults\": {\"arrowcolor\": \"#2a3f5f\", \"arrowhead\": 0, \"arrowwidth\": 1}, \"coloraxis\": {\"colorbar\": {\"outlinewidth\": 0, \"ticks\": \"\"}}, \"colorscale\": {\"diverging\": [[0, \"#8e0152\"], [0.1, \"#c51b7d\"], [0.2, \"#de77ae\"], [0.3, \"#f1b6da\"], [0.4, \"#fde0ef\"], [0.5, \"#f7f7f7\"], [0.6, \"#e6f5d0\"], [0.7, \"#b8e186\"], [0.8, \"#7fbc41\"], [0.9, \"#4d9221\"], [1, \"#276419\"]], \"sequential\": [[0.0, \"#0d0887\"], [0.1111111111111111, \"#46039f\"], [0.2222222222222222, \"#7201a8\"], [0.3333333333333333, \"#9c179e\"], [0.4444444444444444, \"#bd3786\"], [0.5555555555555556, \"#d8576b\"], [0.6666666666666666, \"#ed7953\"], [0.7777777777777778, \"#fb9f3a\"], [0.8888888888888888, \"#fdca26\"], [1.0, \"#f0f921\"]], \"sequentialminus\": [[0.0, \"#0d0887\"], [0.1111111111111111, \"#46039f\"], [0.2222222222222222, \"#7201a8\"], [0.3333333333333333, \"#9c179e\"], [0.4444444444444444, \"#bd3786\"], [0.5555555555555556, \"#d8576b\"], [0.6666666666666666, \"#ed7953\"], [0.7777777777777778, \"#fb9f3a\"], [0.8888888888888888, \"#fdca26\"], [1.0, \"#f0f921\"]]}, \"colorway\": [\"#636efa\", \"#EF553B\", \"#00cc96\", \"#ab63fa\", \"#FFA15A\", \"#19d3f3\", \"#FF6692\", \"#B6E880\", \"#FF97FF\", \"#FECB52\"], \"font\": {\"color\": \"#2a3f5f\"}, \"geo\": {\"bgcolor\": \"white\", \"lakecolor\": \"white\", \"landcolor\": \"#E5ECF6\", \"showlakes\": true, \"showland\": true, \"subunitcolor\": \"white\"}, \"hoverlabel\": {\"align\": \"left\"}, \"hovermode\": \"closest\", \"mapbox\": {\"style\": \"light\"}, \"paper_bgcolor\": \"white\", \"plot_bgcolor\": \"#E5ECF6\", \"polar\": {\"angularaxis\": {\"gridcolor\": \"white\", \"linecolor\": \"white\", \"ticks\": \"\"}, \"bgcolor\": \"#E5ECF6\", \"radialaxis\": {\"gridcolor\": \"white\", \"linecolor\": \"white\", \"ticks\": \"\"}}, \"scene\": {\"xaxis\": {\"backgroundcolor\": \"#E5ECF6\", \"gridcolor\": \"white\", \"gridwidth\": 2, \"linecolor\": \"white\", \"showbackground\": true, \"ticks\": \"\", \"zerolinecolor\": \"white\"}, \"yaxis\": {\"backgroundcolor\": \"#E5ECF6\", \"gridcolor\": \"white\", \"gridwidth\": 2, \"linecolor\": \"white\", \"showbackground\": true, \"ticks\": \"\", \"zerolinecolor\": \"white\"}, \"zaxis\": {\"backgroundcolor\": \"#E5ECF6\", \"gridcolor\": \"white\", \"gridwidth\": 2, \"linecolor\": \"white\", \"showbackground\": true, \"ticks\": \"\", \"zerolinecolor\": \"white\"}}, \"shapedefaults\": {\"line\": {\"color\": \"#2a3f5f\"}}, \"ternary\": {\"aaxis\": {\"gridcolor\": \"white\", \"linecolor\": \"white\", \"ticks\": \"\"}, \"baxis\": {\"gridcolor\": \"white\", \"linecolor\": \"white\", \"ticks\": \"\"}, \"bgcolor\": \"#E5ECF6\", \"caxis\": {\"gridcolor\": \"white\", \"linecolor\": \"white\", \"ticks\": \"\"}}, \"title\": {\"x\": 0.05}, \"xaxis\": {\"automargin\": true, \"gridcolor\": \"white\", \"linecolor\": \"white\", \"ticks\": \"\", \"title\": {\"standoff\": 15}, \"zerolinecolor\": \"white\", \"zerolinewidth\": 2}, \"yaxis\": {\"automargin\": true, \"gridcolor\": \"white\", \"linecolor\": \"white\", \"ticks\": \"\", \"title\": {\"standoff\": 15}, \"zerolinecolor\": \"white\", \"zerolinewidth\": 2}}}, \"title\": {\"text\": \"Map of Coronavirus\"}, \"updatemenus\": [{\"buttons\": [{\"args\": [null, {\"frame\": {\"duration\": 500, \"redraw\": true}, \"fromcurrent\": true, \"mode\": \"immediate\", \"transition\": {\"duration\": 500, \"easing\": \"linear\"}}], \"label\": \"&#9654;\", \"method\": \"animate\"}, {\"args\": [[null], {\"frame\": {\"duration\": 0, \"redraw\": true}, \"fromcurrent\": true, \"mode\": \"immediate\", \"transition\": {\"duration\": 0, \"easing\": \"linear\"}}], \"label\": \"&#9724;\", \"method\": \"animate\"}], \"direction\": \"left\", \"pad\": {\"r\": 10, \"t\": 70}, \"showactive\": false, \"type\": \"buttons\", \"x\": 0.1, \"xanchor\": \"right\", \"y\": 0, \"yanchor\": \"top\"}], \"width\": 1000},\n",
       "                        {\"responsive\": true}\n",
       "                    ).then(function(){\n",
       "                            Plotly.addFrames('c14c7444-6b10-4c1d-a135-731ff3593abb', [{\"data\": [{\"coloraxis\": \"coloraxis\", \"customdata\": [[0, 0, 0]], \"geo\": \"geo\", \"hovertemplate\": \"<b>%{hovertext}</b><br><br>Date=01/22/2020<br>Recovered=%{customdata[0]}<br>Deaths=%{customdata[1]}<br>Active=%{customdata[2]}<br>Country=%{location}<br>Confirmed=%{z}<extra></extra>\", \"hovertext\": [\"India\"], \"locationmode\": \"country names\", \"locations\": [\"India\"], \"name\": \"\", \"z\": [0], \"type\": \"choropleth\"}], \"name\": \"01/22/2020\"}, {\"data\": [{\"coloraxis\": \"coloraxis\", \"customdata\": [[0, 0, 0]], \"geo\": \"geo\", \"hovertemplate\": \"<b>%{hovertext}</b><br><br>Date=01/23/2020<br>Recovered=%{customdata[0]}<br>Deaths=%{customdata[1]}<br>Active=%{customdata[2]}<br>Country=%{location}<br>Confirmed=%{z}<extra></extra>\", \"hovertext\": [\"India\"], \"locationmode\": \"country names\", \"locations\": [\"India\"], \"name\": \"\", \"z\": [0], \"type\": \"choropleth\"}], \"name\": \"01/23/2020\"}, {\"data\": [{\"coloraxis\": \"coloraxis\", \"customdata\": [[0, 0, 0]], \"geo\": \"geo\", \"hovertemplate\": \"<b>%{hovertext}</b><br><br>Date=01/24/2020<br>Recovered=%{customdata[0]}<br>Deaths=%{customdata[1]}<br>Active=%{customdata[2]}<br>Country=%{location}<br>Confirmed=%{z}<extra></extra>\", \"hovertext\": [\"India\"], \"locationmode\": \"country names\", \"locations\": [\"India\"], \"name\": \"\", \"z\": [0], \"type\": \"choropleth\"}], \"name\": \"01/24/2020\"}, {\"data\": [{\"coloraxis\": \"coloraxis\", \"customdata\": [[0, 0, 0]], \"geo\": \"geo\", \"hovertemplate\": \"<b>%{hovertext}</b><br><br>Date=01/25/2020<br>Recovered=%{customdata[0]}<br>Deaths=%{customdata[1]}<br>Active=%{customdata[2]}<br>Country=%{location}<br>Confirmed=%{z}<extra></extra>\", \"hovertext\": [\"India\"], \"locationmode\": \"country names\", \"locations\": [\"India\"], \"name\": \"\", \"z\": [0], \"type\": \"choropleth\"}], \"name\": \"01/25/2020\"}, {\"data\": [{\"coloraxis\": \"coloraxis\", \"customdata\": [[0, 0, 0]], \"geo\": \"geo\", \"hovertemplate\": \"<b>%{hovertext}</b><br><br>Date=01/26/2020<br>Recovered=%{customdata[0]}<br>Deaths=%{customdata[1]}<br>Active=%{customdata[2]}<br>Country=%{location}<br>Confirmed=%{z}<extra></extra>\", \"hovertext\": [\"India\"], \"locationmode\": \"country names\", \"locations\": [\"India\"], \"name\": \"\", \"z\": [0], \"type\": \"choropleth\"}], \"name\": \"01/26/2020\"}, {\"data\": [{\"coloraxis\": \"coloraxis\", \"customdata\": [[0, 0, 0]], \"geo\": \"geo\", \"hovertemplate\": \"<b>%{hovertext}</b><br><br>Date=01/27/2020<br>Recovered=%{customdata[0]}<br>Deaths=%{customdata[1]}<br>Active=%{customdata[2]}<br>Country=%{location}<br>Confirmed=%{z}<extra></extra>\", \"hovertext\": [\"India\"], \"locationmode\": \"country names\", \"locations\": [\"India\"], \"name\": \"\", \"z\": [0], \"type\": \"choropleth\"}], \"name\": \"01/27/2020\"}, {\"data\": [{\"coloraxis\": \"coloraxis\", \"customdata\": [[0, 0, 0]], \"geo\": \"geo\", \"hovertemplate\": \"<b>%{hovertext}</b><br><br>Date=01/28/2020<br>Recovered=%{customdata[0]}<br>Deaths=%{customdata[1]}<br>Active=%{customdata[2]}<br>Country=%{location}<br>Confirmed=%{z}<extra></extra>\", \"hovertext\": [\"India\"], \"locationmode\": \"country names\", \"locations\": [\"India\"], \"name\": \"\", \"z\": [0], \"type\": \"choropleth\"}], \"name\": \"01/28/2020\"}, {\"data\": [{\"coloraxis\": \"coloraxis\", \"customdata\": [[0, 0, 0]], \"geo\": \"geo\", \"hovertemplate\": \"<b>%{hovertext}</b><br><br>Date=01/29/2020<br>Recovered=%{customdata[0]}<br>Deaths=%{customdata[1]}<br>Active=%{customdata[2]}<br>Country=%{location}<br>Confirmed=%{z}<extra></extra>\", \"hovertext\": [\"India\"], \"locationmode\": \"country names\", \"locations\": [\"India\"], \"name\": \"\", \"z\": [0], \"type\": \"choropleth\"}], \"name\": \"01/29/2020\"}, {\"data\": [{\"coloraxis\": \"coloraxis\", \"customdata\": [[0, 0, 1]], \"geo\": \"geo\", \"hovertemplate\": \"<b>%{hovertext}</b><br><br>Date=01/30/2020<br>Recovered=%{customdata[0]}<br>Deaths=%{customdata[1]}<br>Active=%{customdata[2]}<br>Country=%{location}<br>Confirmed=%{z}<extra></extra>\", \"hovertext\": [\"India\"], \"locationmode\": \"country names\", \"locations\": [\"India\"], \"name\": \"\", \"z\": [1], \"type\": \"choropleth\"}], \"name\": \"01/30/2020\"}, {\"data\": [{\"coloraxis\": \"coloraxis\", \"customdata\": [[0, 0, 1]], \"geo\": \"geo\", \"hovertemplate\": \"<b>%{hovertext}</b><br><br>Date=01/31/2020<br>Recovered=%{customdata[0]}<br>Deaths=%{customdata[1]}<br>Active=%{customdata[2]}<br>Country=%{location}<br>Confirmed=%{z}<extra></extra>\", \"hovertext\": [\"India\"], \"locationmode\": \"country names\", \"locations\": [\"India\"], \"name\": \"\", \"z\": [1], \"type\": \"choropleth\"}], \"name\": \"01/31/2020\"}, {\"data\": [{\"coloraxis\": \"coloraxis\", \"customdata\": [[0, 0, 1]], \"geo\": \"geo\", \"hovertemplate\": \"<b>%{hovertext}</b><br><br>Date=02/01/2020<br>Recovered=%{customdata[0]}<br>Deaths=%{customdata[1]}<br>Active=%{customdata[2]}<br>Country=%{location}<br>Confirmed=%{z}<extra></extra>\", \"hovertext\": [\"India\"], \"locationmode\": \"country names\", \"locations\": [\"India\"], \"name\": \"\", \"z\": [1], \"type\": \"choropleth\"}], \"name\": \"02/01/2020\"}, {\"data\": [{\"coloraxis\": \"coloraxis\", \"customdata\": [[0, 0, 3]], \"geo\": \"geo\", \"hovertemplate\": \"<b>%{hovertext}</b><br><br>Date=02/10/2020<br>Recovered=%{customdata[0]}<br>Deaths=%{customdata[1]}<br>Active=%{customdata[2]}<br>Country=%{location}<br>Confirmed=%{z}<extra></extra>\", \"hovertext\": [\"India\"], \"locationmode\": \"country names\", \"locations\": [\"India\"], \"name\": \"\", \"z\": [3], \"type\": \"choropleth\"}], \"name\": \"02/10/2020\"}, {\"data\": [{\"coloraxis\": \"coloraxis\", \"customdata\": [[0, 0, 3]], \"geo\": \"geo\", \"hovertemplate\": \"<b>%{hovertext}</b><br><br>Date=02/11/2020<br>Recovered=%{customdata[0]}<br>Deaths=%{customdata[1]}<br>Active=%{customdata[2]}<br>Country=%{location}<br>Confirmed=%{z}<extra></extra>\", \"hovertext\": [\"India\"], \"locationmode\": \"country names\", \"locations\": [\"India\"], \"name\": \"\", \"z\": [3], \"type\": \"choropleth\"}], \"name\": \"02/11/2020\"}, {\"data\": [{\"coloraxis\": \"coloraxis\", \"customdata\": [[0, 0, 3]], \"geo\": \"geo\", \"hovertemplate\": \"<b>%{hovertext}</b><br><br>Date=02/12/2020<br>Recovered=%{customdata[0]}<br>Deaths=%{customdata[1]}<br>Active=%{customdata[2]}<br>Country=%{location}<br>Confirmed=%{z}<extra></extra>\", \"hovertext\": [\"India\"], \"locationmode\": \"country names\", \"locations\": [\"India\"], \"name\": \"\", \"z\": [3], \"type\": \"choropleth\"}], \"name\": \"02/12/2020\"}, {\"data\": [{\"coloraxis\": \"coloraxis\", \"customdata\": [[0, 0, 3]], \"geo\": \"geo\", \"hovertemplate\": \"<b>%{hovertext}</b><br><br>Date=02/13/2020<br>Recovered=%{customdata[0]}<br>Deaths=%{customdata[1]}<br>Active=%{customdata[2]}<br>Country=%{location}<br>Confirmed=%{z}<extra></extra>\", \"hovertext\": [\"India\"], \"locationmode\": \"country names\", \"locations\": [\"India\"], \"name\": \"\", \"z\": [3], \"type\": \"choropleth\"}], \"name\": \"02/13/2020\"}, {\"data\": [{\"coloraxis\": \"coloraxis\", \"customdata\": [[0, 0, 3]], \"geo\": \"geo\", \"hovertemplate\": \"<b>%{hovertext}</b><br><br>Date=02/14/2020<br>Recovered=%{customdata[0]}<br>Deaths=%{customdata[1]}<br>Active=%{customdata[2]}<br>Country=%{location}<br>Confirmed=%{z}<extra></extra>\", \"hovertext\": [\"India\"], \"locationmode\": \"country names\", \"locations\": [\"India\"], \"name\": \"\", \"z\": [3], \"type\": \"choropleth\"}], \"name\": \"02/14/2020\"}, {\"data\": [{\"coloraxis\": \"coloraxis\", \"customdata\": [[0, 0, 3]], \"geo\": \"geo\", \"hovertemplate\": \"<b>%{hovertext}</b><br><br>Date=02/15/2020<br>Recovered=%{customdata[0]}<br>Deaths=%{customdata[1]}<br>Active=%{customdata[2]}<br>Country=%{location}<br>Confirmed=%{z}<extra></extra>\", \"hovertext\": [\"India\"], \"locationmode\": \"country names\", \"locations\": [\"India\"], \"name\": \"\", \"z\": [3], \"type\": \"choropleth\"}], \"name\": \"02/15/2020\"}, {\"data\": [{\"coloraxis\": \"coloraxis\", \"customdata\": [[3, 0, 0]], \"geo\": \"geo\", \"hovertemplate\": \"<b>%{hovertext}</b><br><br>Date=02/16/2020<br>Recovered=%{customdata[0]}<br>Deaths=%{customdata[1]}<br>Active=%{customdata[2]}<br>Country=%{location}<br>Confirmed=%{z}<extra></extra>\", \"hovertext\": [\"India\"], \"locationmode\": \"country names\", \"locations\": [\"India\"], \"name\": \"\", \"z\": [3], \"type\": \"choropleth\"}], \"name\": \"02/16/2020\"}, {\"data\": [{\"coloraxis\": \"coloraxis\", \"customdata\": [[3, 0, 0]], \"geo\": \"geo\", \"hovertemplate\": \"<b>%{hovertext}</b><br><br>Date=02/17/2020<br>Recovered=%{customdata[0]}<br>Deaths=%{customdata[1]}<br>Active=%{customdata[2]}<br>Country=%{location}<br>Confirmed=%{z}<extra></extra>\", \"hovertext\": [\"India\"], \"locationmode\": \"country names\", \"locations\": [\"India\"], \"name\": \"\", \"z\": [3], \"type\": \"choropleth\"}], \"name\": \"02/17/2020\"}, {\"data\": [{\"coloraxis\": \"coloraxis\", \"customdata\": [[3, 0, 0]], \"geo\": \"geo\", \"hovertemplate\": \"<b>%{hovertext}</b><br><br>Date=02/18/2020<br>Recovered=%{customdata[0]}<br>Deaths=%{customdata[1]}<br>Active=%{customdata[2]}<br>Country=%{location}<br>Confirmed=%{z}<extra></extra>\", \"hovertext\": [\"India\"], \"locationmode\": \"country names\", \"locations\": [\"India\"], \"name\": \"\", \"z\": [3], \"type\": \"choropleth\"}], \"name\": \"02/18/2020\"}, {\"data\": [{\"coloraxis\": \"coloraxis\", \"customdata\": [[3, 0, 0]], \"geo\": \"geo\", \"hovertemplate\": \"<b>%{hovertext}</b><br><br>Date=02/19/2020<br>Recovered=%{customdata[0]}<br>Deaths=%{customdata[1]}<br>Active=%{customdata[2]}<br>Country=%{location}<br>Confirmed=%{z}<extra></extra>\", \"hovertext\": [\"India\"], \"locationmode\": \"country names\", \"locations\": [\"India\"], \"name\": \"\", \"z\": [3], \"type\": \"choropleth\"}], \"name\": \"02/19/2020\"}, {\"data\": [{\"coloraxis\": \"coloraxis\", \"customdata\": [[0, 0, 2]], \"geo\": \"geo\", \"hovertemplate\": \"<b>%{hovertext}</b><br><br>Date=02/02/2020<br>Recovered=%{customdata[0]}<br>Deaths=%{customdata[1]}<br>Active=%{customdata[2]}<br>Country=%{location}<br>Confirmed=%{z}<extra></extra>\", \"hovertext\": [\"India\"], \"locationmode\": \"country names\", \"locations\": [\"India\"], \"name\": \"\", \"z\": [2], \"type\": \"choropleth\"}], \"name\": \"02/02/2020\"}, {\"data\": [{\"coloraxis\": \"coloraxis\", \"customdata\": [[3, 0, 0]], \"geo\": \"geo\", \"hovertemplate\": \"<b>%{hovertext}</b><br><br>Date=02/20/2020<br>Recovered=%{customdata[0]}<br>Deaths=%{customdata[1]}<br>Active=%{customdata[2]}<br>Country=%{location}<br>Confirmed=%{z}<extra></extra>\", \"hovertext\": [\"India\"], \"locationmode\": \"country names\", \"locations\": [\"India\"], \"name\": \"\", \"z\": [3], \"type\": \"choropleth\"}], \"name\": \"02/20/2020\"}, {\"data\": [{\"coloraxis\": \"coloraxis\", \"customdata\": [[3, 0, 0]], \"geo\": \"geo\", \"hovertemplate\": \"<b>%{hovertext}</b><br><br>Date=02/21/2020<br>Recovered=%{customdata[0]}<br>Deaths=%{customdata[1]}<br>Active=%{customdata[2]}<br>Country=%{location}<br>Confirmed=%{z}<extra></extra>\", \"hovertext\": [\"India\"], \"locationmode\": \"country names\", \"locations\": [\"India\"], \"name\": \"\", \"z\": [3], \"type\": \"choropleth\"}], \"name\": \"02/21/2020\"}, {\"data\": [{\"coloraxis\": \"coloraxis\", \"customdata\": [[3, 0, 0]], \"geo\": \"geo\", \"hovertemplate\": \"<b>%{hovertext}</b><br><br>Date=02/22/2020<br>Recovered=%{customdata[0]}<br>Deaths=%{customdata[1]}<br>Active=%{customdata[2]}<br>Country=%{location}<br>Confirmed=%{z}<extra></extra>\", \"hovertext\": [\"India\"], \"locationmode\": \"country names\", \"locations\": [\"India\"], \"name\": \"\", \"z\": [3], \"type\": \"choropleth\"}], \"name\": \"02/22/2020\"}, {\"data\": [{\"coloraxis\": \"coloraxis\", \"customdata\": [[3, 0, 0]], \"geo\": \"geo\", \"hovertemplate\": \"<b>%{hovertext}</b><br><br>Date=02/23/2020<br>Recovered=%{customdata[0]}<br>Deaths=%{customdata[1]}<br>Active=%{customdata[2]}<br>Country=%{location}<br>Confirmed=%{z}<extra></extra>\", \"hovertext\": [\"India\"], \"locationmode\": \"country names\", \"locations\": [\"India\"], \"name\": \"\", \"z\": [3], \"type\": \"choropleth\"}], \"name\": \"02/23/2020\"}, {\"data\": [{\"coloraxis\": \"coloraxis\", \"customdata\": [[3, 0, 0]], \"geo\": \"geo\", \"hovertemplate\": \"<b>%{hovertext}</b><br><br>Date=02/24/2020<br>Recovered=%{customdata[0]}<br>Deaths=%{customdata[1]}<br>Active=%{customdata[2]}<br>Country=%{location}<br>Confirmed=%{z}<extra></extra>\", \"hovertext\": [\"India\"], \"locationmode\": \"country names\", \"locations\": [\"India\"], \"name\": \"\", \"z\": [3], \"type\": \"choropleth\"}], \"name\": \"02/24/2020\"}, {\"data\": [{\"coloraxis\": \"coloraxis\", \"customdata\": [[3, 0, 0]], \"geo\": \"geo\", \"hovertemplate\": \"<b>%{hovertext}</b><br><br>Date=02/25/2020<br>Recovered=%{customdata[0]}<br>Deaths=%{customdata[1]}<br>Active=%{customdata[2]}<br>Country=%{location}<br>Confirmed=%{z}<extra></extra>\", \"hovertext\": [\"India\"], \"locationmode\": \"country names\", \"locations\": [\"India\"], \"name\": \"\", \"z\": [3], \"type\": \"choropleth\"}], \"name\": \"02/25/2020\"}, {\"data\": [{\"coloraxis\": \"coloraxis\", \"customdata\": [[3, 0, 0]], \"geo\": \"geo\", \"hovertemplate\": \"<b>%{hovertext}</b><br><br>Date=02/26/2020<br>Recovered=%{customdata[0]}<br>Deaths=%{customdata[1]}<br>Active=%{customdata[2]}<br>Country=%{location}<br>Confirmed=%{z}<extra></extra>\", \"hovertext\": [\"India\"], \"locationmode\": \"country names\", \"locations\": [\"India\"], \"name\": \"\", \"z\": [3], \"type\": \"choropleth\"}], \"name\": \"02/26/2020\"}, {\"data\": [{\"coloraxis\": \"coloraxis\", \"customdata\": [[3, 0, 0]], \"geo\": \"geo\", \"hovertemplate\": \"<b>%{hovertext}</b><br><br>Date=02/27/2020<br>Recovered=%{customdata[0]}<br>Deaths=%{customdata[1]}<br>Active=%{customdata[2]}<br>Country=%{location}<br>Confirmed=%{z}<extra></extra>\", \"hovertext\": [\"India\"], \"locationmode\": \"country names\", \"locations\": [\"India\"], \"name\": \"\", \"z\": [3], \"type\": \"choropleth\"}], \"name\": \"02/27/2020\"}, {\"data\": [{\"coloraxis\": \"coloraxis\", \"customdata\": [[3, 0, 0]], \"geo\": \"geo\", \"hovertemplate\": \"<b>%{hovertext}</b><br><br>Date=02/28/2020<br>Recovered=%{customdata[0]}<br>Deaths=%{customdata[1]}<br>Active=%{customdata[2]}<br>Country=%{location}<br>Confirmed=%{z}<extra></extra>\", \"hovertext\": [\"India\"], \"locationmode\": \"country names\", \"locations\": [\"India\"], \"name\": \"\", \"z\": [3], \"type\": \"choropleth\"}], \"name\": \"02/28/2020\"}, {\"data\": [{\"coloraxis\": \"coloraxis\", \"customdata\": [[3, 0, 0]], \"geo\": \"geo\", \"hovertemplate\": \"<b>%{hovertext}</b><br><br>Date=02/29/2020<br>Recovered=%{customdata[0]}<br>Deaths=%{customdata[1]}<br>Active=%{customdata[2]}<br>Country=%{location}<br>Confirmed=%{z}<extra></extra>\", \"hovertext\": [\"India\"], \"locationmode\": \"country names\", \"locations\": [\"India\"], \"name\": \"\", \"z\": [3], \"type\": \"choropleth\"}], \"name\": \"02/29/2020\"}, {\"data\": [{\"coloraxis\": \"coloraxis\", \"customdata\": [[0, 0, 3]], \"geo\": \"geo\", \"hovertemplate\": \"<b>%{hovertext}</b><br><br>Date=02/03/2020<br>Recovered=%{customdata[0]}<br>Deaths=%{customdata[1]}<br>Active=%{customdata[2]}<br>Country=%{location}<br>Confirmed=%{z}<extra></extra>\", \"hovertext\": [\"India\"], \"locationmode\": \"country names\", \"locations\": [\"India\"], \"name\": \"\", \"z\": [3], \"type\": \"choropleth\"}], \"name\": \"02/03/2020\"}, {\"data\": [{\"coloraxis\": \"coloraxis\", \"customdata\": [[0, 0, 3]], \"geo\": \"geo\", \"hovertemplate\": \"<b>%{hovertext}</b><br><br>Date=02/04/2020<br>Recovered=%{customdata[0]}<br>Deaths=%{customdata[1]}<br>Active=%{customdata[2]}<br>Country=%{location}<br>Confirmed=%{z}<extra></extra>\", \"hovertext\": [\"India\"], \"locationmode\": \"country names\", \"locations\": [\"India\"], \"name\": \"\", \"z\": [3], \"type\": \"choropleth\"}], \"name\": \"02/04/2020\"}, {\"data\": [{\"coloraxis\": \"coloraxis\", \"customdata\": [[0, 0, 3]], \"geo\": \"geo\", \"hovertemplate\": \"<b>%{hovertext}</b><br><br>Date=02/05/2020<br>Recovered=%{customdata[0]}<br>Deaths=%{customdata[1]}<br>Active=%{customdata[2]}<br>Country=%{location}<br>Confirmed=%{z}<extra></extra>\", \"hovertext\": [\"India\"], \"locationmode\": \"country names\", \"locations\": [\"India\"], \"name\": \"\", \"z\": [3], \"type\": \"choropleth\"}], \"name\": \"02/05/2020\"}, {\"data\": [{\"coloraxis\": \"coloraxis\", \"customdata\": [[0, 0, 3]], \"geo\": \"geo\", \"hovertemplate\": \"<b>%{hovertext}</b><br><br>Date=02/06/2020<br>Recovered=%{customdata[0]}<br>Deaths=%{customdata[1]}<br>Active=%{customdata[2]}<br>Country=%{location}<br>Confirmed=%{z}<extra></extra>\", \"hovertext\": [\"India\"], \"locationmode\": \"country names\", \"locations\": [\"India\"], \"name\": \"\", \"z\": [3], \"type\": \"choropleth\"}], \"name\": \"02/06/2020\"}, {\"data\": [{\"coloraxis\": \"coloraxis\", \"customdata\": [[0, 0, 3]], \"geo\": \"geo\", \"hovertemplate\": \"<b>%{hovertext}</b><br><br>Date=02/07/2020<br>Recovered=%{customdata[0]}<br>Deaths=%{customdata[1]}<br>Active=%{customdata[2]}<br>Country=%{location}<br>Confirmed=%{z}<extra></extra>\", \"hovertext\": [\"India\"], \"locationmode\": \"country names\", \"locations\": [\"India\"], \"name\": \"\", \"z\": [3], \"type\": \"choropleth\"}], \"name\": \"02/07/2020\"}, {\"data\": [{\"coloraxis\": \"coloraxis\", \"customdata\": [[0, 0, 3]], \"geo\": \"geo\", \"hovertemplate\": \"<b>%{hovertext}</b><br><br>Date=02/08/2020<br>Recovered=%{customdata[0]}<br>Deaths=%{customdata[1]}<br>Active=%{customdata[2]}<br>Country=%{location}<br>Confirmed=%{z}<extra></extra>\", \"hovertext\": [\"India\"], \"locationmode\": \"country names\", \"locations\": [\"India\"], \"name\": \"\", \"z\": [3], \"type\": \"choropleth\"}], \"name\": \"02/08/2020\"}, {\"data\": [{\"coloraxis\": \"coloraxis\", \"customdata\": [[0, 0, 3]], \"geo\": \"geo\", \"hovertemplate\": \"<b>%{hovertext}</b><br><br>Date=02/09/2020<br>Recovered=%{customdata[0]}<br>Deaths=%{customdata[1]}<br>Active=%{customdata[2]}<br>Country=%{location}<br>Confirmed=%{z}<extra></extra>\", \"hovertext\": [\"India\"], \"locationmode\": \"country names\", \"locations\": [\"India\"], \"name\": \"\", \"z\": [3], \"type\": \"choropleth\"}], \"name\": \"02/09/2020\"}, {\"data\": [{\"coloraxis\": \"coloraxis\", \"customdata\": [[3, 0, 0]], \"geo\": \"geo\", \"hovertemplate\": \"<b>%{hovertext}</b><br><br>Date=03/01/2020<br>Recovered=%{customdata[0]}<br>Deaths=%{customdata[1]}<br>Active=%{customdata[2]}<br>Country=%{location}<br>Confirmed=%{z}<extra></extra>\", \"hovertext\": [\"India\"], \"locationmode\": \"country names\", \"locations\": [\"India\"], \"name\": \"\", \"z\": [3], \"type\": \"choropleth\"}], \"name\": \"03/01/2020\"}, {\"data\": [{\"coloraxis\": \"coloraxis\", \"customdata\": [[4, 0, 52]], \"geo\": \"geo\", \"hovertemplate\": \"<b>%{hovertext}</b><br><br>Date=03/10/2020<br>Recovered=%{customdata[0]}<br>Deaths=%{customdata[1]}<br>Active=%{customdata[2]}<br>Country=%{location}<br>Confirmed=%{z}<extra></extra>\", \"hovertext\": [\"India\"], \"locationmode\": \"country names\", \"locations\": [\"India\"], \"name\": \"\", \"z\": [56], \"type\": \"choropleth\"}], \"name\": \"03/10/2020\"}, {\"data\": [{\"coloraxis\": \"coloraxis\", \"customdata\": [[4, 1, 57]], \"geo\": \"geo\", \"hovertemplate\": \"<b>%{hovertext}</b><br><br>Date=03/11/2020<br>Recovered=%{customdata[0]}<br>Deaths=%{customdata[1]}<br>Active=%{customdata[2]}<br>Country=%{location}<br>Confirmed=%{z}<extra></extra>\", \"hovertext\": [\"India\"], \"locationmode\": \"country names\", \"locations\": [\"India\"], \"name\": \"\", \"z\": [62], \"type\": \"choropleth\"}], \"name\": \"03/11/2020\"}, {\"data\": [{\"coloraxis\": \"coloraxis\", \"customdata\": [[4, 1, 68]], \"geo\": \"geo\", \"hovertemplate\": \"<b>%{hovertext}</b><br><br>Date=03/12/2020<br>Recovered=%{customdata[0]}<br>Deaths=%{customdata[1]}<br>Active=%{customdata[2]}<br>Country=%{location}<br>Confirmed=%{z}<extra></extra>\", \"hovertext\": [\"India\"], \"locationmode\": \"country names\", \"locations\": [\"India\"], \"name\": \"\", \"z\": [73], \"type\": \"choropleth\"}], \"name\": \"03/12/2020\"}, {\"data\": [{\"coloraxis\": \"coloraxis\", \"customdata\": [[4, 2, 76]], \"geo\": \"geo\", \"hovertemplate\": \"<b>%{hovertext}</b><br><br>Date=03/13/2020<br>Recovered=%{customdata[0]}<br>Deaths=%{customdata[1]}<br>Active=%{customdata[2]}<br>Country=%{location}<br>Confirmed=%{z}<extra></extra>\", \"hovertext\": [\"India\"], \"locationmode\": \"country names\", \"locations\": [\"India\"], \"name\": \"\", \"z\": [82], \"type\": \"choropleth\"}], \"name\": \"03/13/2020\"}, {\"data\": [{\"coloraxis\": \"coloraxis\", \"customdata\": [[4, 2, 96]], \"geo\": \"geo\", \"hovertemplate\": \"<b>%{hovertext}</b><br><br>Date=03/14/2020<br>Recovered=%{customdata[0]}<br>Deaths=%{customdata[1]}<br>Active=%{customdata[2]}<br>Country=%{location}<br>Confirmed=%{z}<extra></extra>\", \"hovertext\": [\"India\"], \"locationmode\": \"country names\", \"locations\": [\"India\"], \"name\": \"\", \"z\": [102], \"type\": \"choropleth\"}], \"name\": \"03/14/2020\"}, {\"data\": [{\"coloraxis\": \"coloraxis\", \"customdata\": [[13, 2, 98]], \"geo\": \"geo\", \"hovertemplate\": \"<b>%{hovertext}</b><br><br>Date=03/15/2020<br>Recovered=%{customdata[0]}<br>Deaths=%{customdata[1]}<br>Active=%{customdata[2]}<br>Country=%{location}<br>Confirmed=%{z}<extra></extra>\", \"hovertext\": [\"India\"], \"locationmode\": \"country names\", \"locations\": [\"India\"], \"name\": \"\", \"z\": [113], \"type\": \"choropleth\"}], \"name\": \"03/15/2020\"}, {\"data\": [{\"coloraxis\": \"coloraxis\", \"customdata\": [[13, 2, 104]], \"geo\": \"geo\", \"hovertemplate\": \"<b>%{hovertext}</b><br><br>Date=03/16/2020<br>Recovered=%{customdata[0]}<br>Deaths=%{customdata[1]}<br>Active=%{customdata[2]}<br>Country=%{location}<br>Confirmed=%{z}<extra></extra>\", \"hovertext\": [\"India\"], \"locationmode\": \"country names\", \"locations\": [\"India\"], \"name\": \"\", \"z\": [119], \"type\": \"choropleth\"}], \"name\": \"03/16/2020\"}, {\"data\": [{\"coloraxis\": \"coloraxis\", \"customdata\": [[14, 3, 125]], \"geo\": \"geo\", \"hovertemplate\": \"<b>%{hovertext}</b><br><br>Date=03/17/2020<br>Recovered=%{customdata[0]}<br>Deaths=%{customdata[1]}<br>Active=%{customdata[2]}<br>Country=%{location}<br>Confirmed=%{z}<extra></extra>\", \"hovertext\": [\"India\"], \"locationmode\": \"country names\", \"locations\": [\"India\"], \"name\": \"\", \"z\": [142], \"type\": \"choropleth\"}], \"name\": \"03/17/2020\"}, {\"data\": [{\"coloraxis\": \"coloraxis\", \"customdata\": [[14, 3, 139]], \"geo\": \"geo\", \"hovertemplate\": \"<b>%{hovertext}</b><br><br>Date=03/18/2020<br>Recovered=%{customdata[0]}<br>Deaths=%{customdata[1]}<br>Active=%{customdata[2]}<br>Country=%{location}<br>Confirmed=%{z}<extra></extra>\", \"hovertext\": [\"India\"], \"locationmode\": \"country names\", \"locations\": [\"India\"], \"name\": \"\", \"z\": [156], \"type\": \"choropleth\"}], \"name\": \"03/18/2020\"}, {\"data\": [{\"coloraxis\": \"coloraxis\", \"customdata\": [[15, 4, 175]], \"geo\": \"geo\", \"hovertemplate\": \"<b>%{hovertext}</b><br><br>Date=03/19/2020<br>Recovered=%{customdata[0]}<br>Deaths=%{customdata[1]}<br>Active=%{customdata[2]}<br>Country=%{location}<br>Confirmed=%{z}<extra></extra>\", \"hovertext\": [\"India\"], \"locationmode\": \"country names\", \"locations\": [\"India\"], \"name\": \"\", \"z\": [194], \"type\": \"choropleth\"}], \"name\": \"03/19/2020\"}, {\"data\": [{\"coloraxis\": \"coloraxis\", \"customdata\": [[3, 0, 2]], \"geo\": \"geo\", \"hovertemplate\": \"<b>%{hovertext}</b><br><br>Date=03/02/2020<br>Recovered=%{customdata[0]}<br>Deaths=%{customdata[1]}<br>Active=%{customdata[2]}<br>Country=%{location}<br>Confirmed=%{z}<extra></extra>\", \"hovertext\": [\"India\"], \"locationmode\": \"country names\", \"locations\": [\"India\"], \"name\": \"\", \"z\": [5], \"type\": \"choropleth\"}], \"name\": \"03/02/2020\"}, {\"data\": [{\"coloraxis\": \"coloraxis\", \"customdata\": [[20, 5, 219]], \"geo\": \"geo\", \"hovertemplate\": \"<b>%{hovertext}</b><br><br>Date=03/20/2020<br>Recovered=%{customdata[0]}<br>Deaths=%{customdata[1]}<br>Active=%{customdata[2]}<br>Country=%{location}<br>Confirmed=%{z}<extra></extra>\", \"hovertext\": [\"India\"], \"locationmode\": \"country names\", \"locations\": [\"India\"], \"name\": \"\", \"z\": [244], \"type\": \"choropleth\"}], \"name\": \"03/20/2020\"}, {\"data\": [{\"coloraxis\": \"coloraxis\", \"customdata\": [[23, 4, 303]], \"geo\": \"geo\", \"hovertemplate\": \"<b>%{hovertext}</b><br><br>Date=03/21/2020<br>Recovered=%{customdata[0]}<br>Deaths=%{customdata[1]}<br>Active=%{customdata[2]}<br>Country=%{location}<br>Confirmed=%{z}<extra></extra>\", \"hovertext\": [\"India\"], \"locationmode\": \"country names\", \"locations\": [\"India\"], \"name\": \"\", \"z\": [330], \"type\": \"choropleth\"}], \"name\": \"03/21/2020\"}, {\"data\": [{\"coloraxis\": \"coloraxis\", \"customdata\": [[27, 7, 362]], \"geo\": \"geo\", \"hovertemplate\": \"<b>%{hovertext}</b><br><br>Date=03/22/2020<br>Recovered=%{customdata[0]}<br>Deaths=%{customdata[1]}<br>Active=%{customdata[2]}<br>Country=%{location}<br>Confirmed=%{z}<extra></extra>\", \"hovertext\": [\"India\"], \"locationmode\": \"country names\", \"locations\": [\"India\"], \"name\": \"\", \"z\": [396], \"type\": \"choropleth\"}], \"name\": \"03/22/2020\"}, {\"data\": [{\"coloraxis\": \"coloraxis\", \"customdata\": [[27, 10, 462]], \"geo\": \"geo\", \"hovertemplate\": \"<b>%{hovertext}</b><br><br>Date=03/23/2020<br>Recovered=%{customdata[0]}<br>Deaths=%{customdata[1]}<br>Active=%{customdata[2]}<br>Country=%{location}<br>Confirmed=%{z}<extra></extra>\", \"hovertext\": [\"India\"], \"locationmode\": \"country names\", \"locations\": [\"India\"], \"name\": \"\", \"z\": [499], \"type\": \"choropleth\"}], \"name\": \"03/23/2020\"}, {\"data\": [{\"coloraxis\": \"coloraxis\", \"customdata\": [[40, 10, 486]], \"geo\": \"geo\", \"hovertemplate\": \"<b>%{hovertext}</b><br><br>Date=03/24/2020<br>Recovered=%{customdata[0]}<br>Deaths=%{customdata[1]}<br>Active=%{customdata[2]}<br>Country=%{location}<br>Confirmed=%{z}<extra></extra>\", \"hovertext\": [\"India\"], \"locationmode\": \"country names\", \"locations\": [\"India\"], \"name\": \"\", \"z\": [536], \"type\": \"choropleth\"}], \"name\": \"03/24/2020\"}, {\"data\": [{\"coloraxis\": \"coloraxis\", \"customdata\": [[43, 12, 602]], \"geo\": \"geo\", \"hovertemplate\": \"<b>%{hovertext}</b><br><br>Date=03/25/2020<br>Recovered=%{customdata[0]}<br>Deaths=%{customdata[1]}<br>Active=%{customdata[2]}<br>Country=%{location}<br>Confirmed=%{z}<extra></extra>\", \"hovertext\": [\"India\"], \"locationmode\": \"country names\", \"locations\": [\"India\"], \"name\": \"\", \"z\": [657], \"type\": \"choropleth\"}], \"name\": \"03/25/2020\"}, {\"data\": [{\"coloraxis\": \"coloraxis\", \"customdata\": [[45, 20, 662]], \"geo\": \"geo\", \"hovertemplate\": \"<b>%{hovertext}</b><br><br>Date=03/26/2020<br>Recovered=%{customdata[0]}<br>Deaths=%{customdata[1]}<br>Active=%{customdata[2]}<br>Country=%{location}<br>Confirmed=%{z}<extra></extra>\", \"hovertext\": [\"India\"], \"locationmode\": \"country names\", \"locations\": [\"India\"], \"name\": \"\", \"z\": [727], \"type\": \"choropleth\"}], \"name\": \"03/26/2020\"}, {\"data\": [{\"coloraxis\": \"coloraxis\", \"customdata\": [[73, 20, 794]], \"geo\": \"geo\", \"hovertemplate\": \"<b>%{hovertext}</b><br><br>Date=03/27/2020<br>Recovered=%{customdata[0]}<br>Deaths=%{customdata[1]}<br>Active=%{customdata[2]}<br>Country=%{location}<br>Confirmed=%{z}<extra></extra>\", \"hovertext\": [\"India\"], \"locationmode\": \"country names\", \"locations\": [\"India\"], \"name\": \"\", \"z\": [887], \"type\": \"choropleth\"}], \"name\": \"03/27/2020\"}, {\"data\": [{\"coloraxis\": \"coloraxis\", \"customdata\": [[84, 24, 879]], \"geo\": \"geo\", \"hovertemplate\": \"<b>%{hovertext}</b><br><br>Date=03/28/2020<br>Recovered=%{customdata[0]}<br>Deaths=%{customdata[1]}<br>Active=%{customdata[2]}<br>Country=%{location}<br>Confirmed=%{z}<extra></extra>\", \"hovertext\": [\"India\"], \"locationmode\": \"country names\", \"locations\": [\"India\"], \"name\": \"\", \"z\": [987], \"type\": \"choropleth\"}], \"name\": \"03/28/2020\"}, {\"data\": [{\"coloraxis\": \"coloraxis\", \"customdata\": [[95, 27, 902]], \"geo\": \"geo\", \"hovertemplate\": \"<b>%{hovertext}</b><br><br>Date=03/29/2020<br>Recovered=%{customdata[0]}<br>Deaths=%{customdata[1]}<br>Active=%{customdata[2]}<br>Country=%{location}<br>Confirmed=%{z}<extra></extra>\", \"hovertext\": [\"India\"], \"locationmode\": \"country names\", \"locations\": [\"India\"], \"name\": \"\", \"z\": [1024], \"type\": \"choropleth\"}], \"name\": \"03/29/2020\"}, {\"data\": [{\"coloraxis\": \"coloraxis\", \"customdata\": [[3, 0, 2]], \"geo\": \"geo\", \"hovertemplate\": \"<b>%{hovertext}</b><br><br>Date=03/03/2020<br>Recovered=%{customdata[0]}<br>Deaths=%{customdata[1]}<br>Active=%{customdata[2]}<br>Country=%{location}<br>Confirmed=%{z}<extra></extra>\", \"hovertext\": [\"India\"], \"locationmode\": \"country names\", \"locations\": [\"India\"], \"name\": \"\", \"z\": [5], \"type\": \"choropleth\"}], \"name\": \"03/03/2020\"}, {\"data\": [{\"coloraxis\": \"coloraxis\", \"customdata\": [[102, 32, 1117]], \"geo\": \"geo\", \"hovertemplate\": \"<b>%{hovertext}</b><br><br>Date=03/30/2020<br>Recovered=%{customdata[0]}<br>Deaths=%{customdata[1]}<br>Active=%{customdata[2]}<br>Country=%{location}<br>Confirmed=%{z}<extra></extra>\", \"hovertext\": [\"India\"], \"locationmode\": \"country names\", \"locations\": [\"India\"], \"name\": \"\", \"z\": [1251], \"type\": \"choropleth\"}], \"name\": \"03/30/2020\"}, {\"data\": [{\"coloraxis\": \"coloraxis\", \"customdata\": [[123, 35, 1239]], \"geo\": \"geo\", \"hovertemplate\": \"<b>%{hovertext}</b><br><br>Date=03/31/2020<br>Recovered=%{customdata[0]}<br>Deaths=%{customdata[1]}<br>Active=%{customdata[2]}<br>Country=%{location}<br>Confirmed=%{z}<extra></extra>\", \"hovertext\": [\"India\"], \"locationmode\": \"country names\", \"locations\": [\"India\"], \"name\": \"\", \"z\": [1397], \"type\": \"choropleth\"}], \"name\": \"03/31/2020\"}, {\"data\": [{\"coloraxis\": \"coloraxis\", \"customdata\": [[3, 0, 25]], \"geo\": \"geo\", \"hovertemplate\": \"<b>%{hovertext}</b><br><br>Date=03/04/2020<br>Recovered=%{customdata[0]}<br>Deaths=%{customdata[1]}<br>Active=%{customdata[2]}<br>Country=%{location}<br>Confirmed=%{z}<extra></extra>\", \"hovertext\": [\"India\"], \"locationmode\": \"country names\", \"locations\": [\"India\"], \"name\": \"\", \"z\": [28], \"type\": \"choropleth\"}], \"name\": \"03/04/2020\"}, {\"data\": [{\"coloraxis\": \"coloraxis\", \"customdata\": [[3, 0, 27]], \"geo\": \"geo\", \"hovertemplate\": \"<b>%{hovertext}</b><br><br>Date=03/05/2020<br>Recovered=%{customdata[0]}<br>Deaths=%{customdata[1]}<br>Active=%{customdata[2]}<br>Country=%{location}<br>Confirmed=%{z}<extra></extra>\", \"hovertext\": [\"India\"], \"locationmode\": \"country names\", \"locations\": [\"India\"], \"name\": \"\", \"z\": [30], \"type\": \"choropleth\"}], \"name\": \"03/05/2020\"}, {\"data\": [{\"coloraxis\": \"coloraxis\", \"customdata\": [[3, 0, 28]], \"geo\": \"geo\", \"hovertemplate\": \"<b>%{hovertext}</b><br><br>Date=03/06/2020<br>Recovered=%{customdata[0]}<br>Deaths=%{customdata[1]}<br>Active=%{customdata[2]}<br>Country=%{location}<br>Confirmed=%{z}<extra></extra>\", \"hovertext\": [\"India\"], \"locationmode\": \"country names\", \"locations\": [\"India\"], \"name\": \"\", \"z\": [31], \"type\": \"choropleth\"}], \"name\": \"03/06/2020\"}, {\"data\": [{\"coloraxis\": \"coloraxis\", \"customdata\": [[3, 0, 31]], \"geo\": \"geo\", \"hovertemplate\": \"<b>%{hovertext}</b><br><br>Date=03/07/2020<br>Recovered=%{customdata[0]}<br>Deaths=%{customdata[1]}<br>Active=%{customdata[2]}<br>Country=%{location}<br>Confirmed=%{z}<extra></extra>\", \"hovertext\": [\"India\"], \"locationmode\": \"country names\", \"locations\": [\"India\"], \"name\": \"\", \"z\": [34], \"type\": \"choropleth\"}], \"name\": \"03/07/2020\"}, {\"data\": [{\"coloraxis\": \"coloraxis\", \"customdata\": [[3, 0, 36]], \"geo\": \"geo\", \"hovertemplate\": \"<b>%{hovertext}</b><br><br>Date=03/08/2020<br>Recovered=%{customdata[0]}<br>Deaths=%{customdata[1]}<br>Active=%{customdata[2]}<br>Country=%{location}<br>Confirmed=%{z}<extra></extra>\", \"hovertext\": [\"India\"], \"locationmode\": \"country names\", \"locations\": [\"India\"], \"name\": \"\", \"z\": [39], \"type\": \"choropleth\"}], \"name\": \"03/08/2020\"}, {\"data\": [{\"coloraxis\": \"coloraxis\", \"customdata\": [[3, 0, 40]], \"geo\": \"geo\", \"hovertemplate\": \"<b>%{hovertext}</b><br><br>Date=03/09/2020<br>Recovered=%{customdata[0]}<br>Deaths=%{customdata[1]}<br>Active=%{customdata[2]}<br>Country=%{location}<br>Confirmed=%{z}<extra></extra>\", \"hovertext\": [\"India\"], \"locationmode\": \"country names\", \"locations\": [\"India\"], \"name\": \"\", \"z\": [43], \"type\": \"choropleth\"}], \"name\": \"03/09/2020\"}, {\"data\": [{\"coloraxis\": \"coloraxis\", \"customdata\": [[148, 58, 1792]], \"geo\": \"geo\", \"hovertemplate\": \"<b>%{hovertext}</b><br><br>Date=04/01/2020<br>Recovered=%{customdata[0]}<br>Deaths=%{customdata[1]}<br>Active=%{customdata[2]}<br>Country=%{location}<br>Confirmed=%{z}<extra></extra>\", \"hovertext\": [\"India\"], \"locationmode\": \"country names\", \"locations\": [\"India\"], \"name\": \"\", \"z\": [1998], \"type\": \"choropleth\"}], \"name\": \"04/01/2020\"}, {\"data\": [{\"coloraxis\": \"coloraxis\", \"customdata\": [[191, 72, 2280]], \"geo\": \"geo\", \"hovertemplate\": \"<b>%{hovertext}</b><br><br>Date=04/02/2020<br>Recovered=%{customdata[0]}<br>Deaths=%{customdata[1]}<br>Active=%{customdata[2]}<br>Country=%{location}<br>Confirmed=%{z}<extra></extra>\", \"hovertext\": [\"India\"], \"locationmode\": \"country names\", \"locations\": [\"India\"], \"name\": \"\", \"z\": [2543], \"type\": \"choropleth\"}], \"name\": \"04/02/2020\"}, {\"data\": [{\"coloraxis\": \"coloraxis\", \"customdata\": [[192, 72, 2303]], \"geo\": \"geo\", \"hovertemplate\": \"<b>%{hovertext}</b><br><br>Date=04/03/2020<br>Recovered=%{customdata[0]}<br>Deaths=%{customdata[1]}<br>Active=%{customdata[2]}<br>Country=%{location}<br>Confirmed=%{z}<extra></extra>\", \"hovertext\": [\"India\"], \"locationmode\": \"country names\", \"locations\": [\"India\"], \"name\": \"\", \"z\": [2567], \"type\": \"choropleth\"}], \"name\": \"04/03/2020\"}, {\"data\": [{\"coloraxis\": \"coloraxis\", \"customdata\": [[229, 86, 2767]], \"geo\": \"geo\", \"hovertemplate\": \"<b>%{hovertext}</b><br><br>Date=04/04/2020<br>Recovered=%{customdata[0]}<br>Deaths=%{customdata[1]}<br>Active=%{customdata[2]}<br>Country=%{location}<br>Confirmed=%{z}<extra></extra>\", \"hovertext\": [\"India\"], \"locationmode\": \"country names\", \"locations\": [\"India\"], \"name\": \"\", \"z\": [3082], \"type\": \"choropleth\"}], \"name\": \"04/04/2020\"}, {\"data\": [{\"coloraxis\": \"coloraxis\", \"customdata\": [[229, 99, 3260]], \"geo\": \"geo\", \"hovertemplate\": \"<b>%{hovertext}</b><br><br>Date=04/05/2020<br>Recovered=%{customdata[0]}<br>Deaths=%{customdata[1]}<br>Active=%{customdata[2]}<br>Country=%{location}<br>Confirmed=%{z}<extra></extra>\", \"hovertext\": [\"India\"], \"locationmode\": \"country names\", \"locations\": [\"India\"], \"name\": \"\", \"z\": [3588], \"type\": \"choropleth\"}], \"name\": \"04/05/2020\"}, {\"data\": [{\"coloraxis\": \"coloraxis\", \"customdata\": [[375, 136, 4267]], \"geo\": \"geo\", \"hovertemplate\": \"<b>%{hovertext}</b><br><br>Date=04/06/2020<br>Recovered=%{customdata[0]}<br>Deaths=%{customdata[1]}<br>Active=%{customdata[2]}<br>Country=%{location}<br>Confirmed=%{z}<extra></extra>\", \"hovertext\": [\"India\"], \"locationmode\": \"country names\", \"locations\": [\"India\"], \"name\": \"\", \"z\": [4778], \"type\": \"choropleth\"}], \"name\": \"04/06/2020\"}]);\n",
       "                        }).then(function(){\n",
       "                            Plotly.animate('c14c7444-6b10-4c1d-a135-731ff3593abb', null);\n",
       "                        }).then(function(){\n",
       "                            \n",
       "var gd = document.getElementById('c14c7444-6b10-4c1d-a135-731ff3593abb');\n",
       "var x = new MutationObserver(function (mutations, observer) {{\n",
       "        var display = window.getComputedStyle(gd).display;\n",
       "        if (!display || display === 'none') {{\n",
       "            console.log([gd, 'removed!']);\n",
       "            Plotly.purge(gd);\n",
       "            observer.disconnect();\n",
       "        }}\n",
       "}});\n",
       "\n",
       "// Listen for the removal of the full notebook cells\n",
       "var notebookContainer = gd.closest('#notebook-container');\n",
       "if (notebookContainer) {{\n",
       "    x.observe(notebookContainer, {childList: true});\n",
       "}}\n",
       "\n",
       "// Listen for the clearing of the current output cell\n",
       "var outputEl = gd.closest('.output');\n",
       "if (outputEl) {{\n",
       "    x.observe(outputEl, {childList: true});\n",
       "}}\n",
       "\n",
       "                        })\n",
       "                };\n",
       "                });\n",
       "            </script>\n",
       "        </div>"
      ]
     },
     "metadata": {},
     "output_type": "display_data"
    }
   ],
   "source": [
    "corona_cases = df_india\n",
    "py.init_notebook_mode(connected=True)\n",
    "\n",
    "data = corona_cases.groupby(['Date', 'Country/Region'])['Confirmed', 'Deaths', 'Recovered'].max()\n",
    "data = data.reset_index()\n",
    "data['Date'] = pd.to_datetime(data['Date'])\n",
    "data['Date'] = data['Date'].dt.strftime('%m/%d/%Y')\n",
    "data['Active'] = data['Confirmed'] - data['Recovered'] - data['Deaths']\n",
    "data['Country'] =  data['Country/Region']\n",
    "\n",
    "fig = px.choropleth(data, locations=\"Country\", locationmode='country names', \n",
    "                     color=\"Confirmed\", hover_name=\"Country/Region\",hover_data = [data.Recovered,data.Deaths,data.Active],projection=\"mercator\",\n",
    "                     animation_frame=\"Date\",width=1000, height=700,\n",
    "                     color_continuous_scale='Reds',\n",
    "                     title='Map of Coronavirus')\n",
    "\n",
    "fig.update(layout_coloraxis_showscale=True)\n",
    "py.offline.iplot(fig)"
   ]
  },
  {
   "cell_type": "code",
   "execution_count": 52,
   "metadata": {},
   "outputs": [
    {
     "data": {
      "application/vnd.plotly.v1+json": {
       "config": {
        "plotlyServerURL": "https://plot.ly"
       },
       "data": [
        {
         "customdata": [
          [
           0,
           0,
           0
          ]
         ],
         "hovertemplate": "Date=1/22/20<br>size=%{marker.size}<br>Confirmed=%{marker.color}<br>Recovered=%{customdata[1]}<br>Deaths=%{customdata[2]}<br>Lat=%{lat}<br>Long=%{lon}<extra></extra>",
         "lat": [
          21
         ],
         "legendgroup": "",
         "lon": [
          78
         ],
         "marker": {
          "color": [
           0
          ],
          "coloraxis": "coloraxis",
          "size": [
           0
          ],
          "sizemode": "area",
          "sizeref": 1075050000
         },
         "mode": "markers",
         "name": "",
         "showlegend": false,
         "subplot": "mapbox",
         "type": "scattermapbox"
        }
       ],
       "frames": [
        {
         "data": [
          {
           "customdata": [
            [
             0,
             0,
             0
            ]
           ],
           "hovertemplate": "Date=1/22/20<br>size=%{marker.size}<br>Confirmed=%{marker.color}<br>Recovered=%{customdata[1]}<br>Deaths=%{customdata[2]}<br>Lat=%{lat}<br>Long=%{lon}<extra></extra>",
           "lat": [
            21
           ],
           "legendgroup": "",
           "lon": [
            78
           ],
           "marker": {
            "color": [
             0
            ],
            "coloraxis": "coloraxis",
            "size": [
             0
            ],
            "sizemode": "area",
            "sizeref": 1075050000
           },
           "mode": "markers",
           "name": "",
           "showlegend": false,
           "subplot": "mapbox",
           "type": "scattermapbox"
          }
         ],
         "name": "1/22/20"
        },
        {
         "data": [
          {
           "customdata": [
            [
             0,
             0,
             0
            ]
           ],
           "hovertemplate": "Date=1/23/20<br>size=%{marker.size}<br>Confirmed=%{marker.color}<br>Recovered=%{customdata[1]}<br>Deaths=%{customdata[2]}<br>Lat=%{lat}<br>Long=%{lon}<extra></extra>",
           "lat": [
            21
           ],
           "legendgroup": "",
           "lon": [
            78
           ],
           "marker": {
            "color": [
             0
            ],
            "coloraxis": "coloraxis",
            "size": [
             0
            ],
            "sizemode": "area",
            "sizeref": 1075050000
           },
           "mode": "markers",
           "name": "",
           "showlegend": false,
           "subplot": "mapbox",
           "type": "scattermapbox"
          }
         ],
         "name": "1/23/20"
        },
        {
         "data": [
          {
           "customdata": [
            [
             0,
             0,
             0
            ]
           ],
           "hovertemplate": "Date=1/24/20<br>size=%{marker.size}<br>Confirmed=%{marker.color}<br>Recovered=%{customdata[1]}<br>Deaths=%{customdata[2]}<br>Lat=%{lat}<br>Long=%{lon}<extra></extra>",
           "lat": [
            21
           ],
           "legendgroup": "",
           "lon": [
            78
           ],
           "marker": {
            "color": [
             0
            ],
            "coloraxis": "coloraxis",
            "size": [
             0
            ],
            "sizemode": "area",
            "sizeref": 1075050000
           },
           "mode": "markers",
           "name": "",
           "showlegend": false,
           "subplot": "mapbox",
           "type": "scattermapbox"
          }
         ],
         "name": "1/24/20"
        },
        {
         "data": [
          {
           "customdata": [
            [
             0,
             0,
             0
            ]
           ],
           "hovertemplate": "Date=1/25/20<br>size=%{marker.size}<br>Confirmed=%{marker.color}<br>Recovered=%{customdata[1]}<br>Deaths=%{customdata[2]}<br>Lat=%{lat}<br>Long=%{lon}<extra></extra>",
           "lat": [
            21
           ],
           "legendgroup": "",
           "lon": [
            78
           ],
           "marker": {
            "color": [
             0
            ],
            "coloraxis": "coloraxis",
            "size": [
             0
            ],
            "sizemode": "area",
            "sizeref": 1075050000
           },
           "mode": "markers",
           "name": "",
           "showlegend": false,
           "subplot": "mapbox",
           "type": "scattermapbox"
          }
         ],
         "name": "1/25/20"
        },
        {
         "data": [
          {
           "customdata": [
            [
             0,
             0,
             0
            ]
           ],
           "hovertemplate": "Date=1/26/20<br>size=%{marker.size}<br>Confirmed=%{marker.color}<br>Recovered=%{customdata[1]}<br>Deaths=%{customdata[2]}<br>Lat=%{lat}<br>Long=%{lon}<extra></extra>",
           "lat": [
            21
           ],
           "legendgroup": "",
           "lon": [
            78
           ],
           "marker": {
            "color": [
             0
            ],
            "coloraxis": "coloraxis",
            "size": [
             0
            ],
            "sizemode": "area",
            "sizeref": 1075050000
           },
           "mode": "markers",
           "name": "",
           "showlegend": false,
           "subplot": "mapbox",
           "type": "scattermapbox"
          }
         ],
         "name": "1/26/20"
        },
        {
         "data": [
          {
           "customdata": [
            [
             0,
             0,
             0
            ]
           ],
           "hovertemplate": "Date=1/27/20<br>size=%{marker.size}<br>Confirmed=%{marker.color}<br>Recovered=%{customdata[1]}<br>Deaths=%{customdata[2]}<br>Lat=%{lat}<br>Long=%{lon}<extra></extra>",
           "lat": [
            21
           ],
           "legendgroup": "",
           "lon": [
            78
           ],
           "marker": {
            "color": [
             0
            ],
            "coloraxis": "coloraxis",
            "size": [
             0
            ],
            "sizemode": "area",
            "sizeref": 1075050000
           },
           "mode": "markers",
           "name": "",
           "showlegend": false,
           "subplot": "mapbox",
           "type": "scattermapbox"
          }
         ],
         "name": "1/27/20"
        },
        {
         "data": [
          {
           "customdata": [
            [
             0,
             0,
             0
            ]
           ],
           "hovertemplate": "Date=1/28/20<br>size=%{marker.size}<br>Confirmed=%{marker.color}<br>Recovered=%{customdata[1]}<br>Deaths=%{customdata[2]}<br>Lat=%{lat}<br>Long=%{lon}<extra></extra>",
           "lat": [
            21
           ],
           "legendgroup": "",
           "lon": [
            78
           ],
           "marker": {
            "color": [
             0
            ],
            "coloraxis": "coloraxis",
            "size": [
             0
            ],
            "sizemode": "area",
            "sizeref": 1075050000
           },
           "mode": "markers",
           "name": "",
           "showlegend": false,
           "subplot": "mapbox",
           "type": "scattermapbox"
          }
         ],
         "name": "1/28/20"
        },
        {
         "data": [
          {
           "customdata": [
            [
             0,
             0,
             0
            ]
           ],
           "hovertemplate": "Date=1/29/20<br>size=%{marker.size}<br>Confirmed=%{marker.color}<br>Recovered=%{customdata[1]}<br>Deaths=%{customdata[2]}<br>Lat=%{lat}<br>Long=%{lon}<extra></extra>",
           "lat": [
            21
           ],
           "legendgroup": "",
           "lon": [
            78
           ],
           "marker": {
            "color": [
             0
            ],
            "coloraxis": "coloraxis",
            "size": [
             0
            ],
            "sizemode": "area",
            "sizeref": 1075050000
           },
           "mode": "markers",
           "name": "",
           "showlegend": false,
           "subplot": "mapbox",
           "type": "scattermapbox"
          }
         ],
         "name": "1/29/20"
        },
        {
         "data": [
          {
           "customdata": [
            [
             1,
             0,
             0
            ]
           ],
           "hovertemplate": "Date=1/30/20<br>size=%{marker.size}<br>Confirmed=%{marker.color}<br>Recovered=%{customdata[1]}<br>Deaths=%{customdata[2]}<br>Lat=%{lat}<br>Long=%{lon}<extra></extra>",
           "lat": [
            21
           ],
           "legendgroup": "",
           "lon": [
            78
           ],
           "marker": {
            "color": [
             1
            ],
            "coloraxis": "coloraxis",
            "size": [
             90000000
            ],
            "sizemode": "area",
            "sizeref": 1075050000
           },
           "mode": "markers",
           "name": "",
           "showlegend": false,
           "subplot": "mapbox",
           "type": "scattermapbox"
          }
         ],
         "name": "1/30/20"
        },
        {
         "data": [
          {
           "customdata": [
            [
             1,
             0,
             0
            ]
           ],
           "hovertemplate": "Date=1/31/20<br>size=%{marker.size}<br>Confirmed=%{marker.color}<br>Recovered=%{customdata[1]}<br>Deaths=%{customdata[2]}<br>Lat=%{lat}<br>Long=%{lon}<extra></extra>",
           "lat": [
            21
           ],
           "legendgroup": "",
           "lon": [
            78
           ],
           "marker": {
            "color": [
             1
            ],
            "coloraxis": "coloraxis",
            "size": [
             90000000
            ],
            "sizemode": "area",
            "sizeref": 1075050000
           },
           "mode": "markers",
           "name": "",
           "showlegend": false,
           "subplot": "mapbox",
           "type": "scattermapbox"
          }
         ],
         "name": "1/31/20"
        },
        {
         "data": [
          {
           "customdata": [
            [
             1,
             0,
             0
            ]
           ],
           "hovertemplate": "Date=2/1/20<br>size=%{marker.size}<br>Confirmed=%{marker.color}<br>Recovered=%{customdata[1]}<br>Deaths=%{customdata[2]}<br>Lat=%{lat}<br>Long=%{lon}<extra></extra>",
           "lat": [
            21
           ],
           "legendgroup": "",
           "lon": [
            78
           ],
           "marker": {
            "color": [
             1
            ],
            "coloraxis": "coloraxis",
            "size": [
             90000000
            ],
            "sizemode": "area",
            "sizeref": 1075050000
           },
           "mode": "markers",
           "name": "",
           "showlegend": false,
           "subplot": "mapbox",
           "type": "scattermapbox"
          }
         ],
         "name": "2/1/20"
        },
        {
         "data": [
          {
           "customdata": [
            [
             3,
             0,
             0
            ]
           ],
           "hovertemplate": "Date=2/10/20<br>size=%{marker.size}<br>Confirmed=%{marker.color}<br>Recovered=%{customdata[1]}<br>Deaths=%{customdata[2]}<br>Lat=%{lat}<br>Long=%{lon}<extra></extra>",
           "lat": [
            21
           ],
           "legendgroup": "",
           "lon": [
            78
           ],
           "marker": {
            "color": [
             3
            ],
            "coloraxis": "coloraxis",
            "size": [
             270000000
            ],
            "sizemode": "area",
            "sizeref": 1075050000
           },
           "mode": "markers",
           "name": "",
           "showlegend": false,
           "subplot": "mapbox",
           "type": "scattermapbox"
          }
         ],
         "name": "2/10/20"
        },
        {
         "data": [
          {
           "customdata": [
            [
             3,
             0,
             0
            ]
           ],
           "hovertemplate": "Date=2/11/20<br>size=%{marker.size}<br>Confirmed=%{marker.color}<br>Recovered=%{customdata[1]}<br>Deaths=%{customdata[2]}<br>Lat=%{lat}<br>Long=%{lon}<extra></extra>",
           "lat": [
            21
           ],
           "legendgroup": "",
           "lon": [
            78
           ],
           "marker": {
            "color": [
             3
            ],
            "coloraxis": "coloraxis",
            "size": [
             270000000
            ],
            "sizemode": "area",
            "sizeref": 1075050000
           },
           "mode": "markers",
           "name": "",
           "showlegend": false,
           "subplot": "mapbox",
           "type": "scattermapbox"
          }
         ],
         "name": "2/11/20"
        },
        {
         "data": [
          {
           "customdata": [
            [
             3,
             0,
             0
            ]
           ],
           "hovertemplate": "Date=2/12/20<br>size=%{marker.size}<br>Confirmed=%{marker.color}<br>Recovered=%{customdata[1]}<br>Deaths=%{customdata[2]}<br>Lat=%{lat}<br>Long=%{lon}<extra></extra>",
           "lat": [
            21
           ],
           "legendgroup": "",
           "lon": [
            78
           ],
           "marker": {
            "color": [
             3
            ],
            "coloraxis": "coloraxis",
            "size": [
             270000000
            ],
            "sizemode": "area",
            "sizeref": 1075050000
           },
           "mode": "markers",
           "name": "",
           "showlegend": false,
           "subplot": "mapbox",
           "type": "scattermapbox"
          }
         ],
         "name": "2/12/20"
        },
        {
         "data": [
          {
           "customdata": [
            [
             3,
             0,
             0
            ]
           ],
           "hovertemplate": "Date=2/13/20<br>size=%{marker.size}<br>Confirmed=%{marker.color}<br>Recovered=%{customdata[1]}<br>Deaths=%{customdata[2]}<br>Lat=%{lat}<br>Long=%{lon}<extra></extra>",
           "lat": [
            21
           ],
           "legendgroup": "",
           "lon": [
            78
           ],
           "marker": {
            "color": [
             3
            ],
            "coloraxis": "coloraxis",
            "size": [
             270000000
            ],
            "sizemode": "area",
            "sizeref": 1075050000
           },
           "mode": "markers",
           "name": "",
           "showlegend": false,
           "subplot": "mapbox",
           "type": "scattermapbox"
          }
         ],
         "name": "2/13/20"
        },
        {
         "data": [
          {
           "customdata": [
            [
             3,
             0,
             0
            ]
           ],
           "hovertemplate": "Date=2/14/20<br>size=%{marker.size}<br>Confirmed=%{marker.color}<br>Recovered=%{customdata[1]}<br>Deaths=%{customdata[2]}<br>Lat=%{lat}<br>Long=%{lon}<extra></extra>",
           "lat": [
            21
           ],
           "legendgroup": "",
           "lon": [
            78
           ],
           "marker": {
            "color": [
             3
            ],
            "coloraxis": "coloraxis",
            "size": [
             270000000
            ],
            "sizemode": "area",
            "sizeref": 1075050000
           },
           "mode": "markers",
           "name": "",
           "showlegend": false,
           "subplot": "mapbox",
           "type": "scattermapbox"
          }
         ],
         "name": "2/14/20"
        },
        {
         "data": [
          {
           "customdata": [
            [
             3,
             0,
             0
            ]
           ],
           "hovertemplate": "Date=2/15/20<br>size=%{marker.size}<br>Confirmed=%{marker.color}<br>Recovered=%{customdata[1]}<br>Deaths=%{customdata[2]}<br>Lat=%{lat}<br>Long=%{lon}<extra></extra>",
           "lat": [
            21
           ],
           "legendgroup": "",
           "lon": [
            78
           ],
           "marker": {
            "color": [
             3
            ],
            "coloraxis": "coloraxis",
            "size": [
             270000000
            ],
            "sizemode": "area",
            "sizeref": 1075050000
           },
           "mode": "markers",
           "name": "",
           "showlegend": false,
           "subplot": "mapbox",
           "type": "scattermapbox"
          }
         ],
         "name": "2/15/20"
        },
        {
         "data": [
          {
           "customdata": [
            [
             3,
             3,
             0
            ]
           ],
           "hovertemplate": "Date=2/16/20<br>size=%{marker.size}<br>Confirmed=%{marker.color}<br>Recovered=%{customdata[1]}<br>Deaths=%{customdata[2]}<br>Lat=%{lat}<br>Long=%{lon}<extra></extra>",
           "lat": [
            21
           ],
           "legendgroup": "",
           "lon": [
            78
           ],
           "marker": {
            "color": [
             3
            ],
            "coloraxis": "coloraxis",
            "size": [
             270000000
            ],
            "sizemode": "area",
            "sizeref": 1075050000
           },
           "mode": "markers",
           "name": "",
           "showlegend": false,
           "subplot": "mapbox",
           "type": "scattermapbox"
          }
         ],
         "name": "2/16/20"
        },
        {
         "data": [
          {
           "customdata": [
            [
             3,
             3,
             0
            ]
           ],
           "hovertemplate": "Date=2/17/20<br>size=%{marker.size}<br>Confirmed=%{marker.color}<br>Recovered=%{customdata[1]}<br>Deaths=%{customdata[2]}<br>Lat=%{lat}<br>Long=%{lon}<extra></extra>",
           "lat": [
            21
           ],
           "legendgroup": "",
           "lon": [
            78
           ],
           "marker": {
            "color": [
             3
            ],
            "coloraxis": "coloraxis",
            "size": [
             270000000
            ],
            "sizemode": "area",
            "sizeref": 1075050000
           },
           "mode": "markers",
           "name": "",
           "showlegend": false,
           "subplot": "mapbox",
           "type": "scattermapbox"
          }
         ],
         "name": "2/17/20"
        },
        {
         "data": [
          {
           "customdata": [
            [
             3,
             3,
             0
            ]
           ],
           "hovertemplate": "Date=2/18/20<br>size=%{marker.size}<br>Confirmed=%{marker.color}<br>Recovered=%{customdata[1]}<br>Deaths=%{customdata[2]}<br>Lat=%{lat}<br>Long=%{lon}<extra></extra>",
           "lat": [
            21
           ],
           "legendgroup": "",
           "lon": [
            78
           ],
           "marker": {
            "color": [
             3
            ],
            "coloraxis": "coloraxis",
            "size": [
             270000000
            ],
            "sizemode": "area",
            "sizeref": 1075050000
           },
           "mode": "markers",
           "name": "",
           "showlegend": false,
           "subplot": "mapbox",
           "type": "scattermapbox"
          }
         ],
         "name": "2/18/20"
        },
        {
         "data": [
          {
           "customdata": [
            [
             3,
             3,
             0
            ]
           ],
           "hovertemplate": "Date=2/19/20<br>size=%{marker.size}<br>Confirmed=%{marker.color}<br>Recovered=%{customdata[1]}<br>Deaths=%{customdata[2]}<br>Lat=%{lat}<br>Long=%{lon}<extra></extra>",
           "lat": [
            21
           ],
           "legendgroup": "",
           "lon": [
            78
           ],
           "marker": {
            "color": [
             3
            ],
            "coloraxis": "coloraxis",
            "size": [
             270000000
            ],
            "sizemode": "area",
            "sizeref": 1075050000
           },
           "mode": "markers",
           "name": "",
           "showlegend": false,
           "subplot": "mapbox",
           "type": "scattermapbox"
          }
         ],
         "name": "2/19/20"
        },
        {
         "data": [
          {
           "customdata": [
            [
             2,
             0,
             0
            ]
           ],
           "hovertemplate": "Date=2/2/20<br>size=%{marker.size}<br>Confirmed=%{marker.color}<br>Recovered=%{customdata[1]}<br>Deaths=%{customdata[2]}<br>Lat=%{lat}<br>Long=%{lon}<extra></extra>",
           "lat": [
            21
           ],
           "legendgroup": "",
           "lon": [
            78
           ],
           "marker": {
            "color": [
             2
            ],
            "coloraxis": "coloraxis",
            "size": [
             180000000
            ],
            "sizemode": "area",
            "sizeref": 1075050000
           },
           "mode": "markers",
           "name": "",
           "showlegend": false,
           "subplot": "mapbox",
           "type": "scattermapbox"
          }
         ],
         "name": "2/2/20"
        },
        {
         "data": [
          {
           "customdata": [
            [
             3,
             3,
             0
            ]
           ],
           "hovertemplate": "Date=2/20/20<br>size=%{marker.size}<br>Confirmed=%{marker.color}<br>Recovered=%{customdata[1]}<br>Deaths=%{customdata[2]}<br>Lat=%{lat}<br>Long=%{lon}<extra></extra>",
           "lat": [
            21
           ],
           "legendgroup": "",
           "lon": [
            78
           ],
           "marker": {
            "color": [
             3
            ],
            "coloraxis": "coloraxis",
            "size": [
             270000000
            ],
            "sizemode": "area",
            "sizeref": 1075050000
           },
           "mode": "markers",
           "name": "",
           "showlegend": false,
           "subplot": "mapbox",
           "type": "scattermapbox"
          }
         ],
         "name": "2/20/20"
        },
        {
         "data": [
          {
           "customdata": [
            [
             3,
             3,
             0
            ]
           ],
           "hovertemplate": "Date=2/21/20<br>size=%{marker.size}<br>Confirmed=%{marker.color}<br>Recovered=%{customdata[1]}<br>Deaths=%{customdata[2]}<br>Lat=%{lat}<br>Long=%{lon}<extra></extra>",
           "lat": [
            21
           ],
           "legendgroup": "",
           "lon": [
            78
           ],
           "marker": {
            "color": [
             3
            ],
            "coloraxis": "coloraxis",
            "size": [
             270000000
            ],
            "sizemode": "area",
            "sizeref": 1075050000
           },
           "mode": "markers",
           "name": "",
           "showlegend": false,
           "subplot": "mapbox",
           "type": "scattermapbox"
          }
         ],
         "name": "2/21/20"
        },
        {
         "data": [
          {
           "customdata": [
            [
             3,
             3,
             0
            ]
           ],
           "hovertemplate": "Date=2/22/20<br>size=%{marker.size}<br>Confirmed=%{marker.color}<br>Recovered=%{customdata[1]}<br>Deaths=%{customdata[2]}<br>Lat=%{lat}<br>Long=%{lon}<extra></extra>",
           "lat": [
            21
           ],
           "legendgroup": "",
           "lon": [
            78
           ],
           "marker": {
            "color": [
             3
            ],
            "coloraxis": "coloraxis",
            "size": [
             270000000
            ],
            "sizemode": "area",
            "sizeref": 1075050000
           },
           "mode": "markers",
           "name": "",
           "showlegend": false,
           "subplot": "mapbox",
           "type": "scattermapbox"
          }
         ],
         "name": "2/22/20"
        },
        {
         "data": [
          {
           "customdata": [
            [
             3,
             3,
             0
            ]
           ],
           "hovertemplate": "Date=2/23/20<br>size=%{marker.size}<br>Confirmed=%{marker.color}<br>Recovered=%{customdata[1]}<br>Deaths=%{customdata[2]}<br>Lat=%{lat}<br>Long=%{lon}<extra></extra>",
           "lat": [
            21
           ],
           "legendgroup": "",
           "lon": [
            78
           ],
           "marker": {
            "color": [
             3
            ],
            "coloraxis": "coloraxis",
            "size": [
             270000000
            ],
            "sizemode": "area",
            "sizeref": 1075050000
           },
           "mode": "markers",
           "name": "",
           "showlegend": false,
           "subplot": "mapbox",
           "type": "scattermapbox"
          }
         ],
         "name": "2/23/20"
        },
        {
         "data": [
          {
           "customdata": [
            [
             3,
             3,
             0
            ]
           ],
           "hovertemplate": "Date=2/24/20<br>size=%{marker.size}<br>Confirmed=%{marker.color}<br>Recovered=%{customdata[1]}<br>Deaths=%{customdata[2]}<br>Lat=%{lat}<br>Long=%{lon}<extra></extra>",
           "lat": [
            21
           ],
           "legendgroup": "",
           "lon": [
            78
           ],
           "marker": {
            "color": [
             3
            ],
            "coloraxis": "coloraxis",
            "size": [
             270000000
            ],
            "sizemode": "area",
            "sizeref": 1075050000
           },
           "mode": "markers",
           "name": "",
           "showlegend": false,
           "subplot": "mapbox",
           "type": "scattermapbox"
          }
         ],
         "name": "2/24/20"
        },
        {
         "data": [
          {
           "customdata": [
            [
             3,
             3,
             0
            ]
           ],
           "hovertemplate": "Date=2/25/20<br>size=%{marker.size}<br>Confirmed=%{marker.color}<br>Recovered=%{customdata[1]}<br>Deaths=%{customdata[2]}<br>Lat=%{lat}<br>Long=%{lon}<extra></extra>",
           "lat": [
            21
           ],
           "legendgroup": "",
           "lon": [
            78
           ],
           "marker": {
            "color": [
             3
            ],
            "coloraxis": "coloraxis",
            "size": [
             270000000
            ],
            "sizemode": "area",
            "sizeref": 1075050000
           },
           "mode": "markers",
           "name": "",
           "showlegend": false,
           "subplot": "mapbox",
           "type": "scattermapbox"
          }
         ],
         "name": "2/25/20"
        },
        {
         "data": [
          {
           "customdata": [
            [
             3,
             3,
             0
            ]
           ],
           "hovertemplate": "Date=2/26/20<br>size=%{marker.size}<br>Confirmed=%{marker.color}<br>Recovered=%{customdata[1]}<br>Deaths=%{customdata[2]}<br>Lat=%{lat}<br>Long=%{lon}<extra></extra>",
           "lat": [
            21
           ],
           "legendgroup": "",
           "lon": [
            78
           ],
           "marker": {
            "color": [
             3
            ],
            "coloraxis": "coloraxis",
            "size": [
             270000000
            ],
            "sizemode": "area",
            "sizeref": 1075050000
           },
           "mode": "markers",
           "name": "",
           "showlegend": false,
           "subplot": "mapbox",
           "type": "scattermapbox"
          }
         ],
         "name": "2/26/20"
        },
        {
         "data": [
          {
           "customdata": [
            [
             3,
             3,
             0
            ]
           ],
           "hovertemplate": "Date=2/27/20<br>size=%{marker.size}<br>Confirmed=%{marker.color}<br>Recovered=%{customdata[1]}<br>Deaths=%{customdata[2]}<br>Lat=%{lat}<br>Long=%{lon}<extra></extra>",
           "lat": [
            21
           ],
           "legendgroup": "",
           "lon": [
            78
           ],
           "marker": {
            "color": [
             3
            ],
            "coloraxis": "coloraxis",
            "size": [
             270000000
            ],
            "sizemode": "area",
            "sizeref": 1075050000
           },
           "mode": "markers",
           "name": "",
           "showlegend": false,
           "subplot": "mapbox",
           "type": "scattermapbox"
          }
         ],
         "name": "2/27/20"
        },
        {
         "data": [
          {
           "customdata": [
            [
             3,
             3,
             0
            ]
           ],
           "hovertemplate": "Date=2/28/20<br>size=%{marker.size}<br>Confirmed=%{marker.color}<br>Recovered=%{customdata[1]}<br>Deaths=%{customdata[2]}<br>Lat=%{lat}<br>Long=%{lon}<extra></extra>",
           "lat": [
            21
           ],
           "legendgroup": "",
           "lon": [
            78
           ],
           "marker": {
            "color": [
             3
            ],
            "coloraxis": "coloraxis",
            "size": [
             270000000
            ],
            "sizemode": "area",
            "sizeref": 1075050000
           },
           "mode": "markers",
           "name": "",
           "showlegend": false,
           "subplot": "mapbox",
           "type": "scattermapbox"
          }
         ],
         "name": "2/28/20"
        },
        {
         "data": [
          {
           "customdata": [
            [
             3,
             3,
             0
            ]
           ],
           "hovertemplate": "Date=2/29/20<br>size=%{marker.size}<br>Confirmed=%{marker.color}<br>Recovered=%{customdata[1]}<br>Deaths=%{customdata[2]}<br>Lat=%{lat}<br>Long=%{lon}<extra></extra>",
           "lat": [
            21
           ],
           "legendgroup": "",
           "lon": [
            78
           ],
           "marker": {
            "color": [
             3
            ],
            "coloraxis": "coloraxis",
            "size": [
             270000000
            ],
            "sizemode": "area",
            "sizeref": 1075050000
           },
           "mode": "markers",
           "name": "",
           "showlegend": false,
           "subplot": "mapbox",
           "type": "scattermapbox"
          }
         ],
         "name": "2/29/20"
        },
        {
         "data": [
          {
           "customdata": [
            [
             3,
             0,
             0
            ]
           ],
           "hovertemplate": "Date=2/3/20<br>size=%{marker.size}<br>Confirmed=%{marker.color}<br>Recovered=%{customdata[1]}<br>Deaths=%{customdata[2]}<br>Lat=%{lat}<br>Long=%{lon}<extra></extra>",
           "lat": [
            21
           ],
           "legendgroup": "",
           "lon": [
            78
           ],
           "marker": {
            "color": [
             3
            ],
            "coloraxis": "coloraxis",
            "size": [
             270000000
            ],
            "sizemode": "area",
            "sizeref": 1075050000
           },
           "mode": "markers",
           "name": "",
           "showlegend": false,
           "subplot": "mapbox",
           "type": "scattermapbox"
          }
         ],
         "name": "2/3/20"
        },
        {
         "data": [
          {
           "customdata": [
            [
             3,
             0,
             0
            ]
           ],
           "hovertemplate": "Date=2/4/20<br>size=%{marker.size}<br>Confirmed=%{marker.color}<br>Recovered=%{customdata[1]}<br>Deaths=%{customdata[2]}<br>Lat=%{lat}<br>Long=%{lon}<extra></extra>",
           "lat": [
            21
           ],
           "legendgroup": "",
           "lon": [
            78
           ],
           "marker": {
            "color": [
             3
            ],
            "coloraxis": "coloraxis",
            "size": [
             270000000
            ],
            "sizemode": "area",
            "sizeref": 1075050000
           },
           "mode": "markers",
           "name": "",
           "showlegend": false,
           "subplot": "mapbox",
           "type": "scattermapbox"
          }
         ],
         "name": "2/4/20"
        },
        {
         "data": [
          {
           "customdata": [
            [
             3,
             0,
             0
            ]
           ],
           "hovertemplate": "Date=2/5/20<br>size=%{marker.size}<br>Confirmed=%{marker.color}<br>Recovered=%{customdata[1]}<br>Deaths=%{customdata[2]}<br>Lat=%{lat}<br>Long=%{lon}<extra></extra>",
           "lat": [
            21
           ],
           "legendgroup": "",
           "lon": [
            78
           ],
           "marker": {
            "color": [
             3
            ],
            "coloraxis": "coloraxis",
            "size": [
             270000000
            ],
            "sizemode": "area",
            "sizeref": 1075050000
           },
           "mode": "markers",
           "name": "",
           "showlegend": false,
           "subplot": "mapbox",
           "type": "scattermapbox"
          }
         ],
         "name": "2/5/20"
        },
        {
         "data": [
          {
           "customdata": [
            [
             3,
             0,
             0
            ]
           ],
           "hovertemplate": "Date=2/6/20<br>size=%{marker.size}<br>Confirmed=%{marker.color}<br>Recovered=%{customdata[1]}<br>Deaths=%{customdata[2]}<br>Lat=%{lat}<br>Long=%{lon}<extra></extra>",
           "lat": [
            21
           ],
           "legendgroup": "",
           "lon": [
            78
           ],
           "marker": {
            "color": [
             3
            ],
            "coloraxis": "coloraxis",
            "size": [
             270000000
            ],
            "sizemode": "area",
            "sizeref": 1075050000
           },
           "mode": "markers",
           "name": "",
           "showlegend": false,
           "subplot": "mapbox",
           "type": "scattermapbox"
          }
         ],
         "name": "2/6/20"
        },
        {
         "data": [
          {
           "customdata": [
            [
             3,
             0,
             0
            ]
           ],
           "hovertemplate": "Date=2/7/20<br>size=%{marker.size}<br>Confirmed=%{marker.color}<br>Recovered=%{customdata[1]}<br>Deaths=%{customdata[2]}<br>Lat=%{lat}<br>Long=%{lon}<extra></extra>",
           "lat": [
            21
           ],
           "legendgroup": "",
           "lon": [
            78
           ],
           "marker": {
            "color": [
             3
            ],
            "coloraxis": "coloraxis",
            "size": [
             270000000
            ],
            "sizemode": "area",
            "sizeref": 1075050000
           },
           "mode": "markers",
           "name": "",
           "showlegend": false,
           "subplot": "mapbox",
           "type": "scattermapbox"
          }
         ],
         "name": "2/7/20"
        },
        {
         "data": [
          {
           "customdata": [
            [
             3,
             0,
             0
            ]
           ],
           "hovertemplate": "Date=2/8/20<br>size=%{marker.size}<br>Confirmed=%{marker.color}<br>Recovered=%{customdata[1]}<br>Deaths=%{customdata[2]}<br>Lat=%{lat}<br>Long=%{lon}<extra></extra>",
           "lat": [
            21
           ],
           "legendgroup": "",
           "lon": [
            78
           ],
           "marker": {
            "color": [
             3
            ],
            "coloraxis": "coloraxis",
            "size": [
             270000000
            ],
            "sizemode": "area",
            "sizeref": 1075050000
           },
           "mode": "markers",
           "name": "",
           "showlegend": false,
           "subplot": "mapbox",
           "type": "scattermapbox"
          }
         ],
         "name": "2/8/20"
        },
        {
         "data": [
          {
           "customdata": [
            [
             3,
             0,
             0
            ]
           ],
           "hovertemplate": "Date=2/9/20<br>size=%{marker.size}<br>Confirmed=%{marker.color}<br>Recovered=%{customdata[1]}<br>Deaths=%{customdata[2]}<br>Lat=%{lat}<br>Long=%{lon}<extra></extra>",
           "lat": [
            21
           ],
           "legendgroup": "",
           "lon": [
            78
           ],
           "marker": {
            "color": [
             3
            ],
            "coloraxis": "coloraxis",
            "size": [
             270000000
            ],
            "sizemode": "area",
            "sizeref": 1075050000
           },
           "mode": "markers",
           "name": "",
           "showlegend": false,
           "subplot": "mapbox",
           "type": "scattermapbox"
          }
         ],
         "name": "2/9/20"
        },
        {
         "data": [
          {
           "customdata": [
            [
             3,
             3,
             0
            ]
           ],
           "hovertemplate": "Date=3/1/20<br>size=%{marker.size}<br>Confirmed=%{marker.color}<br>Recovered=%{customdata[1]}<br>Deaths=%{customdata[2]}<br>Lat=%{lat}<br>Long=%{lon}<extra></extra>",
           "lat": [
            21
           ],
           "legendgroup": "",
           "lon": [
            78
           ],
           "marker": {
            "color": [
             3
            ],
            "coloraxis": "coloraxis",
            "size": [
             270000000
            ],
            "sizemode": "area",
            "sizeref": 1075050000
           },
           "mode": "markers",
           "name": "",
           "showlegend": false,
           "subplot": "mapbox",
           "type": "scattermapbox"
          }
         ],
         "name": "3/1/20"
        },
        {
         "data": [
          {
           "customdata": [
            [
             56,
             4,
             0
            ]
           ],
           "hovertemplate": "Date=3/10/20<br>size=%{marker.size}<br>Confirmed=%{marker.color}<br>Recovered=%{customdata[1]}<br>Deaths=%{customdata[2]}<br>Lat=%{lat}<br>Long=%{lon}<extra></extra>",
           "lat": [
            21
           ],
           "legendgroup": "",
           "lon": [
            78
           ],
           "marker": {
            "color": [
             56
            ],
            "coloraxis": "coloraxis",
            "size": [
             5040000000
            ],
            "sizemode": "area",
            "sizeref": 1075050000
           },
           "mode": "markers",
           "name": "",
           "showlegend": false,
           "subplot": "mapbox",
           "type": "scattermapbox"
          }
         ],
         "name": "3/10/20"
        },
        {
         "data": [
          {
           "customdata": [
            [
             62,
             4,
             1
            ]
           ],
           "hovertemplate": "Date=3/11/20<br>size=%{marker.size}<br>Confirmed=%{marker.color}<br>Recovered=%{customdata[1]}<br>Deaths=%{customdata[2]}<br>Lat=%{lat}<br>Long=%{lon}<extra></extra>",
           "lat": [
            21
           ],
           "legendgroup": "",
           "lon": [
            78
           ],
           "marker": {
            "color": [
             62
            ],
            "coloraxis": "coloraxis",
            "size": [
             5580000000
            ],
            "sizemode": "area",
            "sizeref": 1075050000
           },
           "mode": "markers",
           "name": "",
           "showlegend": false,
           "subplot": "mapbox",
           "type": "scattermapbox"
          }
         ],
         "name": "3/11/20"
        },
        {
         "data": [
          {
           "customdata": [
            [
             73,
             4,
             1
            ]
           ],
           "hovertemplate": "Date=3/12/20<br>size=%{marker.size}<br>Confirmed=%{marker.color}<br>Recovered=%{customdata[1]}<br>Deaths=%{customdata[2]}<br>Lat=%{lat}<br>Long=%{lon}<extra></extra>",
           "lat": [
            21
           ],
           "legendgroup": "",
           "lon": [
            78
           ],
           "marker": {
            "color": [
             73
            ],
            "coloraxis": "coloraxis",
            "size": [
             6570000000
            ],
            "sizemode": "area",
            "sizeref": 1075050000
           },
           "mode": "markers",
           "name": "",
           "showlegend": false,
           "subplot": "mapbox",
           "type": "scattermapbox"
          }
         ],
         "name": "3/12/20"
        },
        {
         "data": [
          {
           "customdata": [
            [
             82,
             4,
             2
            ]
           ],
           "hovertemplate": "Date=3/13/20<br>size=%{marker.size}<br>Confirmed=%{marker.color}<br>Recovered=%{customdata[1]}<br>Deaths=%{customdata[2]}<br>Lat=%{lat}<br>Long=%{lon}<extra></extra>",
           "lat": [
            21
           ],
           "legendgroup": "",
           "lon": [
            78
           ],
           "marker": {
            "color": [
             82
            ],
            "coloraxis": "coloraxis",
            "size": [
             7380000000
            ],
            "sizemode": "area",
            "sizeref": 1075050000
           },
           "mode": "markers",
           "name": "",
           "showlegend": false,
           "subplot": "mapbox",
           "type": "scattermapbox"
          }
         ],
         "name": "3/13/20"
        },
        {
         "data": [
          {
           "customdata": [
            [
             102,
             4,
             2
            ]
           ],
           "hovertemplate": "Date=3/14/20<br>size=%{marker.size}<br>Confirmed=%{marker.color}<br>Recovered=%{customdata[1]}<br>Deaths=%{customdata[2]}<br>Lat=%{lat}<br>Long=%{lon}<extra></extra>",
           "lat": [
            21
           ],
           "legendgroup": "",
           "lon": [
            78
           ],
           "marker": {
            "color": [
             102
            ],
            "coloraxis": "coloraxis",
            "size": [
             9180000000
            ],
            "sizemode": "area",
            "sizeref": 1075050000
           },
           "mode": "markers",
           "name": "",
           "showlegend": false,
           "subplot": "mapbox",
           "type": "scattermapbox"
          }
         ],
         "name": "3/14/20"
        },
        {
         "data": [
          {
           "customdata": [
            [
             113,
             13,
             2
            ]
           ],
           "hovertemplate": "Date=3/15/20<br>size=%{marker.size}<br>Confirmed=%{marker.color}<br>Recovered=%{customdata[1]}<br>Deaths=%{customdata[2]}<br>Lat=%{lat}<br>Long=%{lon}<extra></extra>",
           "lat": [
            21
           ],
           "legendgroup": "",
           "lon": [
            78
           ],
           "marker": {
            "color": [
             113
            ],
            "coloraxis": "coloraxis",
            "size": [
             10170000000
            ],
            "sizemode": "area",
            "sizeref": 1075050000
           },
           "mode": "markers",
           "name": "",
           "showlegend": false,
           "subplot": "mapbox",
           "type": "scattermapbox"
          }
         ],
         "name": "3/15/20"
        },
        {
         "data": [
          {
           "customdata": [
            [
             119,
             13,
             2
            ]
           ],
           "hovertemplate": "Date=3/16/20<br>size=%{marker.size}<br>Confirmed=%{marker.color}<br>Recovered=%{customdata[1]}<br>Deaths=%{customdata[2]}<br>Lat=%{lat}<br>Long=%{lon}<extra></extra>",
           "lat": [
            21
           ],
           "legendgroup": "",
           "lon": [
            78
           ],
           "marker": {
            "color": [
             119
            ],
            "coloraxis": "coloraxis",
            "size": [
             10710000000
            ],
            "sizemode": "area",
            "sizeref": 1075050000
           },
           "mode": "markers",
           "name": "",
           "showlegend": false,
           "subplot": "mapbox",
           "type": "scattermapbox"
          }
         ],
         "name": "3/16/20"
        },
        {
         "data": [
          {
           "customdata": [
            [
             142,
             14,
             3
            ]
           ],
           "hovertemplate": "Date=3/17/20<br>size=%{marker.size}<br>Confirmed=%{marker.color}<br>Recovered=%{customdata[1]}<br>Deaths=%{customdata[2]}<br>Lat=%{lat}<br>Long=%{lon}<extra></extra>",
           "lat": [
            21
           ],
           "legendgroup": "",
           "lon": [
            78
           ],
           "marker": {
            "color": [
             142
            ],
            "coloraxis": "coloraxis",
            "size": [
             12780000000
            ],
            "sizemode": "area",
            "sizeref": 1075050000
           },
           "mode": "markers",
           "name": "",
           "showlegend": false,
           "subplot": "mapbox",
           "type": "scattermapbox"
          }
         ],
         "name": "3/17/20"
        },
        {
         "data": [
          {
           "customdata": [
            [
             156,
             14,
             3
            ]
           ],
           "hovertemplate": "Date=3/18/20<br>size=%{marker.size}<br>Confirmed=%{marker.color}<br>Recovered=%{customdata[1]}<br>Deaths=%{customdata[2]}<br>Lat=%{lat}<br>Long=%{lon}<extra></extra>",
           "lat": [
            21
           ],
           "legendgroup": "",
           "lon": [
            78
           ],
           "marker": {
            "color": [
             156
            ],
            "coloraxis": "coloraxis",
            "size": [
             14040000000
            ],
            "sizemode": "area",
            "sizeref": 1075050000
           },
           "mode": "markers",
           "name": "",
           "showlegend": false,
           "subplot": "mapbox",
           "type": "scattermapbox"
          }
         ],
         "name": "3/18/20"
        },
        {
         "data": [
          {
           "customdata": [
            [
             194,
             15,
             4
            ]
           ],
           "hovertemplate": "Date=3/19/20<br>size=%{marker.size}<br>Confirmed=%{marker.color}<br>Recovered=%{customdata[1]}<br>Deaths=%{customdata[2]}<br>Lat=%{lat}<br>Long=%{lon}<extra></extra>",
           "lat": [
            21
           ],
           "legendgroup": "",
           "lon": [
            78
           ],
           "marker": {
            "color": [
             194
            ],
            "coloraxis": "coloraxis",
            "size": [
             17460000000
            ],
            "sizemode": "area",
            "sizeref": 1075050000
           },
           "mode": "markers",
           "name": "",
           "showlegend": false,
           "subplot": "mapbox",
           "type": "scattermapbox"
          }
         ],
         "name": "3/19/20"
        },
        {
         "data": [
          {
           "customdata": [
            [
             5,
             3,
             0
            ]
           ],
           "hovertemplate": "Date=3/2/20<br>size=%{marker.size}<br>Confirmed=%{marker.color}<br>Recovered=%{customdata[1]}<br>Deaths=%{customdata[2]}<br>Lat=%{lat}<br>Long=%{lon}<extra></extra>",
           "lat": [
            21
           ],
           "legendgroup": "",
           "lon": [
            78
           ],
           "marker": {
            "color": [
             5
            ],
            "coloraxis": "coloraxis",
            "size": [
             450000000
            ],
            "sizemode": "area",
            "sizeref": 1075050000
           },
           "mode": "markers",
           "name": "",
           "showlegend": false,
           "subplot": "mapbox",
           "type": "scattermapbox"
          }
         ],
         "name": "3/2/20"
        },
        {
         "data": [
          {
           "customdata": [
            [
             244,
             20,
             5
            ]
           ],
           "hovertemplate": "Date=3/20/20<br>size=%{marker.size}<br>Confirmed=%{marker.color}<br>Recovered=%{customdata[1]}<br>Deaths=%{customdata[2]}<br>Lat=%{lat}<br>Long=%{lon}<extra></extra>",
           "lat": [
            21
           ],
           "legendgroup": "",
           "lon": [
            78
           ],
           "marker": {
            "color": [
             244
            ],
            "coloraxis": "coloraxis",
            "size": [
             21960000000
            ],
            "sizemode": "area",
            "sizeref": 1075050000
           },
           "mode": "markers",
           "name": "",
           "showlegend": false,
           "subplot": "mapbox",
           "type": "scattermapbox"
          }
         ],
         "name": "3/20/20"
        },
        {
         "data": [
          {
           "customdata": [
            [
             330,
             23,
             4
            ]
           ],
           "hovertemplate": "Date=3/21/20<br>size=%{marker.size}<br>Confirmed=%{marker.color}<br>Recovered=%{customdata[1]}<br>Deaths=%{customdata[2]}<br>Lat=%{lat}<br>Long=%{lon}<extra></extra>",
           "lat": [
            21
           ],
           "legendgroup": "",
           "lon": [
            78
           ],
           "marker": {
            "color": [
             330
            ],
            "coloraxis": "coloraxis",
            "size": [
             29700000000
            ],
            "sizemode": "area",
            "sizeref": 1075050000
           },
           "mode": "markers",
           "name": "",
           "showlegend": false,
           "subplot": "mapbox",
           "type": "scattermapbox"
          }
         ],
         "name": "3/21/20"
        },
        {
         "data": [
          {
           "customdata": [
            [
             396,
             27,
             7
            ]
           ],
           "hovertemplate": "Date=3/22/20<br>size=%{marker.size}<br>Confirmed=%{marker.color}<br>Recovered=%{customdata[1]}<br>Deaths=%{customdata[2]}<br>Lat=%{lat}<br>Long=%{lon}<extra></extra>",
           "lat": [
            21
           ],
           "legendgroup": "",
           "lon": [
            78
           ],
           "marker": {
            "color": [
             396
            ],
            "coloraxis": "coloraxis",
            "size": [
             35640000000
            ],
            "sizemode": "area",
            "sizeref": 1075050000
           },
           "mode": "markers",
           "name": "",
           "showlegend": false,
           "subplot": "mapbox",
           "type": "scattermapbox"
          }
         ],
         "name": "3/22/20"
        },
        {
         "data": [
          {
           "customdata": [
            [
             499,
             27,
             10
            ]
           ],
           "hovertemplate": "Date=3/23/20<br>size=%{marker.size}<br>Confirmed=%{marker.color}<br>Recovered=%{customdata[1]}<br>Deaths=%{customdata[2]}<br>Lat=%{lat}<br>Long=%{lon}<extra></extra>",
           "lat": [
            21
           ],
           "legendgroup": "",
           "lon": [
            78
           ],
           "marker": {
            "color": [
             499
            ],
            "coloraxis": "coloraxis",
            "size": [
             44910000000
            ],
            "sizemode": "area",
            "sizeref": 1075050000
           },
           "mode": "markers",
           "name": "",
           "showlegend": false,
           "subplot": "mapbox",
           "type": "scattermapbox"
          }
         ],
         "name": "3/23/20"
        },
        {
         "data": [
          {
           "customdata": [
            [
             536,
             40,
             10
            ]
           ],
           "hovertemplate": "Date=3/24/20<br>size=%{marker.size}<br>Confirmed=%{marker.color}<br>Recovered=%{customdata[1]}<br>Deaths=%{customdata[2]}<br>Lat=%{lat}<br>Long=%{lon}<extra></extra>",
           "lat": [
            21
           ],
           "legendgroup": "",
           "lon": [
            78
           ],
           "marker": {
            "color": [
             536
            ],
            "coloraxis": "coloraxis",
            "size": [
             48240000000
            ],
            "sizemode": "area",
            "sizeref": 1075050000
           },
           "mode": "markers",
           "name": "",
           "showlegend": false,
           "subplot": "mapbox",
           "type": "scattermapbox"
          }
         ],
         "name": "3/24/20"
        },
        {
         "data": [
          {
           "customdata": [
            [
             657,
             43,
             12
            ]
           ],
           "hovertemplate": "Date=3/25/20<br>size=%{marker.size}<br>Confirmed=%{marker.color}<br>Recovered=%{customdata[1]}<br>Deaths=%{customdata[2]}<br>Lat=%{lat}<br>Long=%{lon}<extra></extra>",
           "lat": [
            21
           ],
           "legendgroup": "",
           "lon": [
            78
           ],
           "marker": {
            "color": [
             657
            ],
            "coloraxis": "coloraxis",
            "size": [
             59130000000
            ],
            "sizemode": "area",
            "sizeref": 1075050000
           },
           "mode": "markers",
           "name": "",
           "showlegend": false,
           "subplot": "mapbox",
           "type": "scattermapbox"
          }
         ],
         "name": "3/25/20"
        },
        {
         "data": [
          {
           "customdata": [
            [
             727,
             45,
             20
            ]
           ],
           "hovertemplate": "Date=3/26/20<br>size=%{marker.size}<br>Confirmed=%{marker.color}<br>Recovered=%{customdata[1]}<br>Deaths=%{customdata[2]}<br>Lat=%{lat}<br>Long=%{lon}<extra></extra>",
           "lat": [
            21
           ],
           "legendgroup": "",
           "lon": [
            78
           ],
           "marker": {
            "color": [
             727
            ],
            "coloraxis": "coloraxis",
            "size": [
             65430000000
            ],
            "sizemode": "area",
            "sizeref": 1075050000
           },
           "mode": "markers",
           "name": "",
           "showlegend": false,
           "subplot": "mapbox",
           "type": "scattermapbox"
          }
         ],
         "name": "3/26/20"
        },
        {
         "data": [
          {
           "customdata": [
            [
             887,
             73,
             20
            ]
           ],
           "hovertemplate": "Date=3/27/20<br>size=%{marker.size}<br>Confirmed=%{marker.color}<br>Recovered=%{customdata[1]}<br>Deaths=%{customdata[2]}<br>Lat=%{lat}<br>Long=%{lon}<extra></extra>",
           "lat": [
            21
           ],
           "legendgroup": "",
           "lon": [
            78
           ],
           "marker": {
            "color": [
             887
            ],
            "coloraxis": "coloraxis",
            "size": [
             79830000000
            ],
            "sizemode": "area",
            "sizeref": 1075050000
           },
           "mode": "markers",
           "name": "",
           "showlegend": false,
           "subplot": "mapbox",
           "type": "scattermapbox"
          }
         ],
         "name": "3/27/20"
        },
        {
         "data": [
          {
           "customdata": [
            [
             987,
             84,
             24
            ]
           ],
           "hovertemplate": "Date=3/28/20<br>size=%{marker.size}<br>Confirmed=%{marker.color}<br>Recovered=%{customdata[1]}<br>Deaths=%{customdata[2]}<br>Lat=%{lat}<br>Long=%{lon}<extra></extra>",
           "lat": [
            21
           ],
           "legendgroup": "",
           "lon": [
            78
           ],
           "marker": {
            "color": [
             987
            ],
            "coloraxis": "coloraxis",
            "size": [
             88830000000
            ],
            "sizemode": "area",
            "sizeref": 1075050000
           },
           "mode": "markers",
           "name": "",
           "showlegend": false,
           "subplot": "mapbox",
           "type": "scattermapbox"
          }
         ],
         "name": "3/28/20"
        },
        {
         "data": [
          {
           "customdata": [
            [
             1024,
             95,
             27
            ]
           ],
           "hovertemplate": "Date=3/29/20<br>size=%{marker.size}<br>Confirmed=%{marker.color}<br>Recovered=%{customdata[1]}<br>Deaths=%{customdata[2]}<br>Lat=%{lat}<br>Long=%{lon}<extra></extra>",
           "lat": [
            21
           ],
           "legendgroup": "",
           "lon": [
            78
           ],
           "marker": {
            "color": [
             1024
            ],
            "coloraxis": "coloraxis",
            "size": [
             92160000000
            ],
            "sizemode": "area",
            "sizeref": 1075050000
           },
           "mode": "markers",
           "name": "",
           "showlegend": false,
           "subplot": "mapbox",
           "type": "scattermapbox"
          }
         ],
         "name": "3/29/20"
        },
        {
         "data": [
          {
           "customdata": [
            [
             5,
             3,
             0
            ]
           ],
           "hovertemplate": "Date=3/3/20<br>size=%{marker.size}<br>Confirmed=%{marker.color}<br>Recovered=%{customdata[1]}<br>Deaths=%{customdata[2]}<br>Lat=%{lat}<br>Long=%{lon}<extra></extra>",
           "lat": [
            21
           ],
           "legendgroup": "",
           "lon": [
            78
           ],
           "marker": {
            "color": [
             5
            ],
            "coloraxis": "coloraxis",
            "size": [
             450000000
            ],
            "sizemode": "area",
            "sizeref": 1075050000
           },
           "mode": "markers",
           "name": "",
           "showlegend": false,
           "subplot": "mapbox",
           "type": "scattermapbox"
          }
         ],
         "name": "3/3/20"
        },
        {
         "data": [
          {
           "customdata": [
            [
             1251,
             102,
             32
            ]
           ],
           "hovertemplate": "Date=3/30/20<br>size=%{marker.size}<br>Confirmed=%{marker.color}<br>Recovered=%{customdata[1]}<br>Deaths=%{customdata[2]}<br>Lat=%{lat}<br>Long=%{lon}<extra></extra>",
           "lat": [
            21
           ],
           "legendgroup": "",
           "lon": [
            78
           ],
           "marker": {
            "color": [
             1251
            ],
            "coloraxis": "coloraxis",
            "size": [
             112590000000
            ],
            "sizemode": "area",
            "sizeref": 1075050000
           },
           "mode": "markers",
           "name": "",
           "showlegend": false,
           "subplot": "mapbox",
           "type": "scattermapbox"
          }
         ],
         "name": "3/30/20"
        },
        {
         "data": [
          {
           "customdata": [
            [
             1397,
             123,
             35
            ]
           ],
           "hovertemplate": "Date=3/31/20<br>size=%{marker.size}<br>Confirmed=%{marker.color}<br>Recovered=%{customdata[1]}<br>Deaths=%{customdata[2]}<br>Lat=%{lat}<br>Long=%{lon}<extra></extra>",
           "lat": [
            21
           ],
           "legendgroup": "",
           "lon": [
            78
           ],
           "marker": {
            "color": [
             1397
            ],
            "coloraxis": "coloraxis",
            "size": [
             125730000000
            ],
            "sizemode": "area",
            "sizeref": 1075050000
           },
           "mode": "markers",
           "name": "",
           "showlegend": false,
           "subplot": "mapbox",
           "type": "scattermapbox"
          }
         ],
         "name": "3/31/20"
        },
        {
         "data": [
          {
           "customdata": [
            [
             28,
             3,
             0
            ]
           ],
           "hovertemplate": "Date=3/4/20<br>size=%{marker.size}<br>Confirmed=%{marker.color}<br>Recovered=%{customdata[1]}<br>Deaths=%{customdata[2]}<br>Lat=%{lat}<br>Long=%{lon}<extra></extra>",
           "lat": [
            21
           ],
           "legendgroup": "",
           "lon": [
            78
           ],
           "marker": {
            "color": [
             28
            ],
            "coloraxis": "coloraxis",
            "size": [
             2520000000
            ],
            "sizemode": "area",
            "sizeref": 1075050000
           },
           "mode": "markers",
           "name": "",
           "showlegend": false,
           "subplot": "mapbox",
           "type": "scattermapbox"
          }
         ],
         "name": "3/4/20"
        },
        {
         "data": [
          {
           "customdata": [
            [
             30,
             3,
             0
            ]
           ],
           "hovertemplate": "Date=3/5/20<br>size=%{marker.size}<br>Confirmed=%{marker.color}<br>Recovered=%{customdata[1]}<br>Deaths=%{customdata[2]}<br>Lat=%{lat}<br>Long=%{lon}<extra></extra>",
           "lat": [
            21
           ],
           "legendgroup": "",
           "lon": [
            78
           ],
           "marker": {
            "color": [
             30
            ],
            "coloraxis": "coloraxis",
            "size": [
             2700000000
            ],
            "sizemode": "area",
            "sizeref": 1075050000
           },
           "mode": "markers",
           "name": "",
           "showlegend": false,
           "subplot": "mapbox",
           "type": "scattermapbox"
          }
         ],
         "name": "3/5/20"
        },
        {
         "data": [
          {
           "customdata": [
            [
             31,
             3,
             0
            ]
           ],
           "hovertemplate": "Date=3/6/20<br>size=%{marker.size}<br>Confirmed=%{marker.color}<br>Recovered=%{customdata[1]}<br>Deaths=%{customdata[2]}<br>Lat=%{lat}<br>Long=%{lon}<extra></extra>",
           "lat": [
            21
           ],
           "legendgroup": "",
           "lon": [
            78
           ],
           "marker": {
            "color": [
             31
            ],
            "coloraxis": "coloraxis",
            "size": [
             2790000000
            ],
            "sizemode": "area",
            "sizeref": 1075050000
           },
           "mode": "markers",
           "name": "",
           "showlegend": false,
           "subplot": "mapbox",
           "type": "scattermapbox"
          }
         ],
         "name": "3/6/20"
        },
        {
         "data": [
          {
           "customdata": [
            [
             34,
             3,
             0
            ]
           ],
           "hovertemplate": "Date=3/7/20<br>size=%{marker.size}<br>Confirmed=%{marker.color}<br>Recovered=%{customdata[1]}<br>Deaths=%{customdata[2]}<br>Lat=%{lat}<br>Long=%{lon}<extra></extra>",
           "lat": [
            21
           ],
           "legendgroup": "",
           "lon": [
            78
           ],
           "marker": {
            "color": [
             34
            ],
            "coloraxis": "coloraxis",
            "size": [
             3060000000
            ],
            "sizemode": "area",
            "sizeref": 1075050000
           },
           "mode": "markers",
           "name": "",
           "showlegend": false,
           "subplot": "mapbox",
           "type": "scattermapbox"
          }
         ],
         "name": "3/7/20"
        },
        {
         "data": [
          {
           "customdata": [
            [
             39,
             3,
             0
            ]
           ],
           "hovertemplate": "Date=3/8/20<br>size=%{marker.size}<br>Confirmed=%{marker.color}<br>Recovered=%{customdata[1]}<br>Deaths=%{customdata[2]}<br>Lat=%{lat}<br>Long=%{lon}<extra></extra>",
           "lat": [
            21
           ],
           "legendgroup": "",
           "lon": [
            78
           ],
           "marker": {
            "color": [
             39
            ],
            "coloraxis": "coloraxis",
            "size": [
             3510000000
            ],
            "sizemode": "area",
            "sizeref": 1075050000
           },
           "mode": "markers",
           "name": "",
           "showlegend": false,
           "subplot": "mapbox",
           "type": "scattermapbox"
          }
         ],
         "name": "3/8/20"
        },
        {
         "data": [
          {
           "customdata": [
            [
             43,
             3,
             0
            ]
           ],
           "hovertemplate": "Date=3/9/20<br>size=%{marker.size}<br>Confirmed=%{marker.color}<br>Recovered=%{customdata[1]}<br>Deaths=%{customdata[2]}<br>Lat=%{lat}<br>Long=%{lon}<extra></extra>",
           "lat": [
            21
           ],
           "legendgroup": "",
           "lon": [
            78
           ],
           "marker": {
            "color": [
             43
            ],
            "coloraxis": "coloraxis",
            "size": [
             3870000000
            ],
            "sizemode": "area",
            "sizeref": 1075050000
           },
           "mode": "markers",
           "name": "",
           "showlegend": false,
           "subplot": "mapbox",
           "type": "scattermapbox"
          }
         ],
         "name": "3/9/20"
        },
        {
         "data": [
          {
           "customdata": [
            [
             1998,
             148,
             58
            ]
           ],
           "hovertemplate": "Date=4/1/20<br>size=%{marker.size}<br>Confirmed=%{marker.color}<br>Recovered=%{customdata[1]}<br>Deaths=%{customdata[2]}<br>Lat=%{lat}<br>Long=%{lon}<extra></extra>",
           "lat": [
            21
           ],
           "legendgroup": "",
           "lon": [
            78
           ],
           "marker": {
            "color": [
             1998
            ],
            "coloraxis": "coloraxis",
            "size": [
             179820000000
            ],
            "sizemode": "area",
            "sizeref": 1075050000
           },
           "mode": "markers",
           "name": "",
           "showlegend": false,
           "subplot": "mapbox",
           "type": "scattermapbox"
          }
         ],
         "name": "4/1/20"
        },
        {
         "data": [
          {
           "customdata": [
            [
             2543,
             191,
             72
            ]
           ],
           "hovertemplate": "Date=4/2/20<br>size=%{marker.size}<br>Confirmed=%{marker.color}<br>Recovered=%{customdata[1]}<br>Deaths=%{customdata[2]}<br>Lat=%{lat}<br>Long=%{lon}<extra></extra>",
           "lat": [
            21
           ],
           "legendgroup": "",
           "lon": [
            78
           ],
           "marker": {
            "color": [
             2543
            ],
            "coloraxis": "coloraxis",
            "size": [
             228870000000
            ],
            "sizemode": "area",
            "sizeref": 1075050000
           },
           "mode": "markers",
           "name": "",
           "showlegend": false,
           "subplot": "mapbox",
           "type": "scattermapbox"
          }
         ],
         "name": "4/2/20"
        },
        {
         "data": [
          {
           "customdata": [
            [
             2567,
             192,
             72
            ]
           ],
           "hovertemplate": "Date=4/3/20<br>size=%{marker.size}<br>Confirmed=%{marker.color}<br>Recovered=%{customdata[1]}<br>Deaths=%{customdata[2]}<br>Lat=%{lat}<br>Long=%{lon}<extra></extra>",
           "lat": [
            21
           ],
           "legendgroup": "",
           "lon": [
            78
           ],
           "marker": {
            "color": [
             2567
            ],
            "coloraxis": "coloraxis",
            "size": [
             231030000000
            ],
            "sizemode": "area",
            "sizeref": 1075050000
           },
           "mode": "markers",
           "name": "",
           "showlegend": false,
           "subplot": "mapbox",
           "type": "scattermapbox"
          }
         ],
         "name": "4/3/20"
        },
        {
         "data": [
          {
           "customdata": [
            [
             3082,
             229,
             86
            ]
           ],
           "hovertemplate": "Date=4/4/20<br>size=%{marker.size}<br>Confirmed=%{marker.color}<br>Recovered=%{customdata[1]}<br>Deaths=%{customdata[2]}<br>Lat=%{lat}<br>Long=%{lon}<extra></extra>",
           "lat": [
            21
           ],
           "legendgroup": "",
           "lon": [
            78
           ],
           "marker": {
            "color": [
             3082
            ],
            "coloraxis": "coloraxis",
            "size": [
             277380000000
            ],
            "sizemode": "area",
            "sizeref": 1075050000
           },
           "mode": "markers",
           "name": "",
           "showlegend": false,
           "subplot": "mapbox",
           "type": "scattermapbox"
          }
         ],
         "name": "4/4/20"
        },
        {
         "data": [
          {
           "customdata": [
            [
             3588,
             229,
             99
            ]
           ],
           "hovertemplate": "Date=4/5/20<br>size=%{marker.size}<br>Confirmed=%{marker.color}<br>Recovered=%{customdata[1]}<br>Deaths=%{customdata[2]}<br>Lat=%{lat}<br>Long=%{lon}<extra></extra>",
           "lat": [
            21
           ],
           "legendgroup": "",
           "lon": [
            78
           ],
           "marker": {
            "color": [
             3588
            ],
            "coloraxis": "coloraxis",
            "size": [
             322920000000
            ],
            "sizemode": "area",
            "sizeref": 1075050000
           },
           "mode": "markers",
           "name": "",
           "showlegend": false,
           "subplot": "mapbox",
           "type": "scattermapbox"
          }
         ],
         "name": "4/5/20"
        },
        {
         "data": [
          {
           "customdata": [
            [
             4778,
             375,
             136
            ]
           ],
           "hovertemplate": "Date=4/6/20<br>size=%{marker.size}<br>Confirmed=%{marker.color}<br>Recovered=%{customdata[1]}<br>Deaths=%{customdata[2]}<br>Lat=%{lat}<br>Long=%{lon}<extra></extra>",
           "lat": [
            21
           ],
           "legendgroup": "",
           "lon": [
            78
           ],
           "marker": {
            "color": [
             4778
            ],
            "coloraxis": "coloraxis",
            "size": [
             430020000000
            ],
            "sizemode": "area",
            "sizeref": 1075050000
           },
           "mode": "markers",
           "name": "",
           "showlegend": false,
           "subplot": "mapbox",
           "type": "scattermapbox"
          }
         ],
         "name": "4/6/20"
        }
       ],
       "layout": {
        "coloraxis": {
         "colorbar": {
          "title": {
           "text": "Confirmed"
          }
         },
         "colorscale": [
          [
           0,
           "rgb(251, 230, 197)"
          ],
          [
           0.16666666666666666,
           "rgb(245, 186, 152)"
          ],
          [
           0.3333333333333333,
           "rgb(238, 138, 130)"
          ],
          [
           0.5,
           "rgb(220, 113, 118)"
          ],
          [
           0.6666666666666666,
           "rgb(200, 88, 108)"
          ],
          [
           0.8333333333333334,
           "rgb(156, 63, 93)"
          ],
          [
           1,
           "rgb(112, 40, 74)"
          ]
         ],
         "showscale": true
        },
        "legend": {
         "itemsizing": "constant",
         "tracegroupgap": 0
        },
        "mapbox": {
         "center": {
          "lat": 21,
          "lon": 78
         },
         "domain": {
          "x": [
           0,
           1
          ],
          "y": [
           0,
           1
          ]
         },
         "style": "carto-positron",
         "zoom": 3
        },
        "margin": {
         "b": 0,
         "l": 0,
         "r": 0,
         "t": 30
        },
        "sliders": [
         {
          "active": 0,
          "currentvalue": {
           "prefix": "Date="
          },
          "len": 0.9,
          "pad": {
           "b": 10,
           "t": 60
          },
          "steps": [
           {
            "args": [
             [
              "1/22/20"
             ],
             {
              "frame": {
               "duration": 0,
               "redraw": true
              },
              "fromcurrent": true,
              "mode": "immediate",
              "transition": {
               "duration": 0,
               "easing": "linear"
              }
             }
            ],
            "label": "1/22/20",
            "method": "animate"
           },
           {
            "args": [
             [
              "1/23/20"
             ],
             {
              "frame": {
               "duration": 0,
               "redraw": true
              },
              "fromcurrent": true,
              "mode": "immediate",
              "transition": {
               "duration": 0,
               "easing": "linear"
              }
             }
            ],
            "label": "1/23/20",
            "method": "animate"
           },
           {
            "args": [
             [
              "1/24/20"
             ],
             {
              "frame": {
               "duration": 0,
               "redraw": true
              },
              "fromcurrent": true,
              "mode": "immediate",
              "transition": {
               "duration": 0,
               "easing": "linear"
              }
             }
            ],
            "label": "1/24/20",
            "method": "animate"
           },
           {
            "args": [
             [
              "1/25/20"
             ],
             {
              "frame": {
               "duration": 0,
               "redraw": true
              },
              "fromcurrent": true,
              "mode": "immediate",
              "transition": {
               "duration": 0,
               "easing": "linear"
              }
             }
            ],
            "label": "1/25/20",
            "method": "animate"
           },
           {
            "args": [
             [
              "1/26/20"
             ],
             {
              "frame": {
               "duration": 0,
               "redraw": true
              },
              "fromcurrent": true,
              "mode": "immediate",
              "transition": {
               "duration": 0,
               "easing": "linear"
              }
             }
            ],
            "label": "1/26/20",
            "method": "animate"
           },
           {
            "args": [
             [
              "1/27/20"
             ],
             {
              "frame": {
               "duration": 0,
               "redraw": true
              },
              "fromcurrent": true,
              "mode": "immediate",
              "transition": {
               "duration": 0,
               "easing": "linear"
              }
             }
            ],
            "label": "1/27/20",
            "method": "animate"
           },
           {
            "args": [
             [
              "1/28/20"
             ],
             {
              "frame": {
               "duration": 0,
               "redraw": true
              },
              "fromcurrent": true,
              "mode": "immediate",
              "transition": {
               "duration": 0,
               "easing": "linear"
              }
             }
            ],
            "label": "1/28/20",
            "method": "animate"
           },
           {
            "args": [
             [
              "1/29/20"
             ],
             {
              "frame": {
               "duration": 0,
               "redraw": true
              },
              "fromcurrent": true,
              "mode": "immediate",
              "transition": {
               "duration": 0,
               "easing": "linear"
              }
             }
            ],
            "label": "1/29/20",
            "method": "animate"
           },
           {
            "args": [
             [
              "1/30/20"
             ],
             {
              "frame": {
               "duration": 0,
               "redraw": true
              },
              "fromcurrent": true,
              "mode": "immediate",
              "transition": {
               "duration": 0,
               "easing": "linear"
              }
             }
            ],
            "label": "1/30/20",
            "method": "animate"
           },
           {
            "args": [
             [
              "1/31/20"
             ],
             {
              "frame": {
               "duration": 0,
               "redraw": true
              },
              "fromcurrent": true,
              "mode": "immediate",
              "transition": {
               "duration": 0,
               "easing": "linear"
              }
             }
            ],
            "label": "1/31/20",
            "method": "animate"
           },
           {
            "args": [
             [
              "2/1/20"
             ],
             {
              "frame": {
               "duration": 0,
               "redraw": true
              },
              "fromcurrent": true,
              "mode": "immediate",
              "transition": {
               "duration": 0,
               "easing": "linear"
              }
             }
            ],
            "label": "2/1/20",
            "method": "animate"
           },
           {
            "args": [
             [
              "2/10/20"
             ],
             {
              "frame": {
               "duration": 0,
               "redraw": true
              },
              "fromcurrent": true,
              "mode": "immediate",
              "transition": {
               "duration": 0,
               "easing": "linear"
              }
             }
            ],
            "label": "2/10/20",
            "method": "animate"
           },
           {
            "args": [
             [
              "2/11/20"
             ],
             {
              "frame": {
               "duration": 0,
               "redraw": true
              },
              "fromcurrent": true,
              "mode": "immediate",
              "transition": {
               "duration": 0,
               "easing": "linear"
              }
             }
            ],
            "label": "2/11/20",
            "method": "animate"
           },
           {
            "args": [
             [
              "2/12/20"
             ],
             {
              "frame": {
               "duration": 0,
               "redraw": true
              },
              "fromcurrent": true,
              "mode": "immediate",
              "transition": {
               "duration": 0,
               "easing": "linear"
              }
             }
            ],
            "label": "2/12/20",
            "method": "animate"
           },
           {
            "args": [
             [
              "2/13/20"
             ],
             {
              "frame": {
               "duration": 0,
               "redraw": true
              },
              "fromcurrent": true,
              "mode": "immediate",
              "transition": {
               "duration": 0,
               "easing": "linear"
              }
             }
            ],
            "label": "2/13/20",
            "method": "animate"
           },
           {
            "args": [
             [
              "2/14/20"
             ],
             {
              "frame": {
               "duration": 0,
               "redraw": true
              },
              "fromcurrent": true,
              "mode": "immediate",
              "transition": {
               "duration": 0,
               "easing": "linear"
              }
             }
            ],
            "label": "2/14/20",
            "method": "animate"
           },
           {
            "args": [
             [
              "2/15/20"
             ],
             {
              "frame": {
               "duration": 0,
               "redraw": true
              },
              "fromcurrent": true,
              "mode": "immediate",
              "transition": {
               "duration": 0,
               "easing": "linear"
              }
             }
            ],
            "label": "2/15/20",
            "method": "animate"
           },
           {
            "args": [
             [
              "2/16/20"
             ],
             {
              "frame": {
               "duration": 0,
               "redraw": true
              },
              "fromcurrent": true,
              "mode": "immediate",
              "transition": {
               "duration": 0,
               "easing": "linear"
              }
             }
            ],
            "label": "2/16/20",
            "method": "animate"
           },
           {
            "args": [
             [
              "2/17/20"
             ],
             {
              "frame": {
               "duration": 0,
               "redraw": true
              },
              "fromcurrent": true,
              "mode": "immediate",
              "transition": {
               "duration": 0,
               "easing": "linear"
              }
             }
            ],
            "label": "2/17/20",
            "method": "animate"
           },
           {
            "args": [
             [
              "2/18/20"
             ],
             {
              "frame": {
               "duration": 0,
               "redraw": true
              },
              "fromcurrent": true,
              "mode": "immediate",
              "transition": {
               "duration": 0,
               "easing": "linear"
              }
             }
            ],
            "label": "2/18/20",
            "method": "animate"
           },
           {
            "args": [
             [
              "2/19/20"
             ],
             {
              "frame": {
               "duration": 0,
               "redraw": true
              },
              "fromcurrent": true,
              "mode": "immediate",
              "transition": {
               "duration": 0,
               "easing": "linear"
              }
             }
            ],
            "label": "2/19/20",
            "method": "animate"
           },
           {
            "args": [
             [
              "2/2/20"
             ],
             {
              "frame": {
               "duration": 0,
               "redraw": true
              },
              "fromcurrent": true,
              "mode": "immediate",
              "transition": {
               "duration": 0,
               "easing": "linear"
              }
             }
            ],
            "label": "2/2/20",
            "method": "animate"
           },
           {
            "args": [
             [
              "2/20/20"
             ],
             {
              "frame": {
               "duration": 0,
               "redraw": true
              },
              "fromcurrent": true,
              "mode": "immediate",
              "transition": {
               "duration": 0,
               "easing": "linear"
              }
             }
            ],
            "label": "2/20/20",
            "method": "animate"
           },
           {
            "args": [
             [
              "2/21/20"
             ],
             {
              "frame": {
               "duration": 0,
               "redraw": true
              },
              "fromcurrent": true,
              "mode": "immediate",
              "transition": {
               "duration": 0,
               "easing": "linear"
              }
             }
            ],
            "label": "2/21/20",
            "method": "animate"
           },
           {
            "args": [
             [
              "2/22/20"
             ],
             {
              "frame": {
               "duration": 0,
               "redraw": true
              },
              "fromcurrent": true,
              "mode": "immediate",
              "transition": {
               "duration": 0,
               "easing": "linear"
              }
             }
            ],
            "label": "2/22/20",
            "method": "animate"
           },
           {
            "args": [
             [
              "2/23/20"
             ],
             {
              "frame": {
               "duration": 0,
               "redraw": true
              },
              "fromcurrent": true,
              "mode": "immediate",
              "transition": {
               "duration": 0,
               "easing": "linear"
              }
             }
            ],
            "label": "2/23/20",
            "method": "animate"
           },
           {
            "args": [
             [
              "2/24/20"
             ],
             {
              "frame": {
               "duration": 0,
               "redraw": true
              },
              "fromcurrent": true,
              "mode": "immediate",
              "transition": {
               "duration": 0,
               "easing": "linear"
              }
             }
            ],
            "label": "2/24/20",
            "method": "animate"
           },
           {
            "args": [
             [
              "2/25/20"
             ],
             {
              "frame": {
               "duration": 0,
               "redraw": true
              },
              "fromcurrent": true,
              "mode": "immediate",
              "transition": {
               "duration": 0,
               "easing": "linear"
              }
             }
            ],
            "label": "2/25/20",
            "method": "animate"
           },
           {
            "args": [
             [
              "2/26/20"
             ],
             {
              "frame": {
               "duration": 0,
               "redraw": true
              },
              "fromcurrent": true,
              "mode": "immediate",
              "transition": {
               "duration": 0,
               "easing": "linear"
              }
             }
            ],
            "label": "2/26/20",
            "method": "animate"
           },
           {
            "args": [
             [
              "2/27/20"
             ],
             {
              "frame": {
               "duration": 0,
               "redraw": true
              },
              "fromcurrent": true,
              "mode": "immediate",
              "transition": {
               "duration": 0,
               "easing": "linear"
              }
             }
            ],
            "label": "2/27/20",
            "method": "animate"
           },
           {
            "args": [
             [
              "2/28/20"
             ],
             {
              "frame": {
               "duration": 0,
               "redraw": true
              },
              "fromcurrent": true,
              "mode": "immediate",
              "transition": {
               "duration": 0,
               "easing": "linear"
              }
             }
            ],
            "label": "2/28/20",
            "method": "animate"
           },
           {
            "args": [
             [
              "2/29/20"
             ],
             {
              "frame": {
               "duration": 0,
               "redraw": true
              },
              "fromcurrent": true,
              "mode": "immediate",
              "transition": {
               "duration": 0,
               "easing": "linear"
              }
             }
            ],
            "label": "2/29/20",
            "method": "animate"
           },
           {
            "args": [
             [
              "2/3/20"
             ],
             {
              "frame": {
               "duration": 0,
               "redraw": true
              },
              "fromcurrent": true,
              "mode": "immediate",
              "transition": {
               "duration": 0,
               "easing": "linear"
              }
             }
            ],
            "label": "2/3/20",
            "method": "animate"
           },
           {
            "args": [
             [
              "2/4/20"
             ],
             {
              "frame": {
               "duration": 0,
               "redraw": true
              },
              "fromcurrent": true,
              "mode": "immediate",
              "transition": {
               "duration": 0,
               "easing": "linear"
              }
             }
            ],
            "label": "2/4/20",
            "method": "animate"
           },
           {
            "args": [
             [
              "2/5/20"
             ],
             {
              "frame": {
               "duration": 0,
               "redraw": true
              },
              "fromcurrent": true,
              "mode": "immediate",
              "transition": {
               "duration": 0,
               "easing": "linear"
              }
             }
            ],
            "label": "2/5/20",
            "method": "animate"
           },
           {
            "args": [
             [
              "2/6/20"
             ],
             {
              "frame": {
               "duration": 0,
               "redraw": true
              },
              "fromcurrent": true,
              "mode": "immediate",
              "transition": {
               "duration": 0,
               "easing": "linear"
              }
             }
            ],
            "label": "2/6/20",
            "method": "animate"
           },
           {
            "args": [
             [
              "2/7/20"
             ],
             {
              "frame": {
               "duration": 0,
               "redraw": true
              },
              "fromcurrent": true,
              "mode": "immediate",
              "transition": {
               "duration": 0,
               "easing": "linear"
              }
             }
            ],
            "label": "2/7/20",
            "method": "animate"
           },
           {
            "args": [
             [
              "2/8/20"
             ],
             {
              "frame": {
               "duration": 0,
               "redraw": true
              },
              "fromcurrent": true,
              "mode": "immediate",
              "transition": {
               "duration": 0,
               "easing": "linear"
              }
             }
            ],
            "label": "2/8/20",
            "method": "animate"
           },
           {
            "args": [
             [
              "2/9/20"
             ],
             {
              "frame": {
               "duration": 0,
               "redraw": true
              },
              "fromcurrent": true,
              "mode": "immediate",
              "transition": {
               "duration": 0,
               "easing": "linear"
              }
             }
            ],
            "label": "2/9/20",
            "method": "animate"
           },
           {
            "args": [
             [
              "3/1/20"
             ],
             {
              "frame": {
               "duration": 0,
               "redraw": true
              },
              "fromcurrent": true,
              "mode": "immediate",
              "transition": {
               "duration": 0,
               "easing": "linear"
              }
             }
            ],
            "label": "3/1/20",
            "method": "animate"
           },
           {
            "args": [
             [
              "3/10/20"
             ],
             {
              "frame": {
               "duration": 0,
               "redraw": true
              },
              "fromcurrent": true,
              "mode": "immediate",
              "transition": {
               "duration": 0,
               "easing": "linear"
              }
             }
            ],
            "label": "3/10/20",
            "method": "animate"
           },
           {
            "args": [
             [
              "3/11/20"
             ],
             {
              "frame": {
               "duration": 0,
               "redraw": true
              },
              "fromcurrent": true,
              "mode": "immediate",
              "transition": {
               "duration": 0,
               "easing": "linear"
              }
             }
            ],
            "label": "3/11/20",
            "method": "animate"
           },
           {
            "args": [
             [
              "3/12/20"
             ],
             {
              "frame": {
               "duration": 0,
               "redraw": true
              },
              "fromcurrent": true,
              "mode": "immediate",
              "transition": {
               "duration": 0,
               "easing": "linear"
              }
             }
            ],
            "label": "3/12/20",
            "method": "animate"
           },
           {
            "args": [
             [
              "3/13/20"
             ],
             {
              "frame": {
               "duration": 0,
               "redraw": true
              },
              "fromcurrent": true,
              "mode": "immediate",
              "transition": {
               "duration": 0,
               "easing": "linear"
              }
             }
            ],
            "label": "3/13/20",
            "method": "animate"
           },
           {
            "args": [
             [
              "3/14/20"
             ],
             {
              "frame": {
               "duration": 0,
               "redraw": true
              },
              "fromcurrent": true,
              "mode": "immediate",
              "transition": {
               "duration": 0,
               "easing": "linear"
              }
             }
            ],
            "label": "3/14/20",
            "method": "animate"
           },
           {
            "args": [
             [
              "3/15/20"
             ],
             {
              "frame": {
               "duration": 0,
               "redraw": true
              },
              "fromcurrent": true,
              "mode": "immediate",
              "transition": {
               "duration": 0,
               "easing": "linear"
              }
             }
            ],
            "label": "3/15/20",
            "method": "animate"
           },
           {
            "args": [
             [
              "3/16/20"
             ],
             {
              "frame": {
               "duration": 0,
               "redraw": true
              },
              "fromcurrent": true,
              "mode": "immediate",
              "transition": {
               "duration": 0,
               "easing": "linear"
              }
             }
            ],
            "label": "3/16/20",
            "method": "animate"
           },
           {
            "args": [
             [
              "3/17/20"
             ],
             {
              "frame": {
               "duration": 0,
               "redraw": true
              },
              "fromcurrent": true,
              "mode": "immediate",
              "transition": {
               "duration": 0,
               "easing": "linear"
              }
             }
            ],
            "label": "3/17/20",
            "method": "animate"
           },
           {
            "args": [
             [
              "3/18/20"
             ],
             {
              "frame": {
               "duration": 0,
               "redraw": true
              },
              "fromcurrent": true,
              "mode": "immediate",
              "transition": {
               "duration": 0,
               "easing": "linear"
              }
             }
            ],
            "label": "3/18/20",
            "method": "animate"
           },
           {
            "args": [
             [
              "3/19/20"
             ],
             {
              "frame": {
               "duration": 0,
               "redraw": true
              },
              "fromcurrent": true,
              "mode": "immediate",
              "transition": {
               "duration": 0,
               "easing": "linear"
              }
             }
            ],
            "label": "3/19/20",
            "method": "animate"
           },
           {
            "args": [
             [
              "3/2/20"
             ],
             {
              "frame": {
               "duration": 0,
               "redraw": true
              },
              "fromcurrent": true,
              "mode": "immediate",
              "transition": {
               "duration": 0,
               "easing": "linear"
              }
             }
            ],
            "label": "3/2/20",
            "method": "animate"
           },
           {
            "args": [
             [
              "3/20/20"
             ],
             {
              "frame": {
               "duration": 0,
               "redraw": true
              },
              "fromcurrent": true,
              "mode": "immediate",
              "transition": {
               "duration": 0,
               "easing": "linear"
              }
             }
            ],
            "label": "3/20/20",
            "method": "animate"
           },
           {
            "args": [
             [
              "3/21/20"
             ],
             {
              "frame": {
               "duration": 0,
               "redraw": true
              },
              "fromcurrent": true,
              "mode": "immediate",
              "transition": {
               "duration": 0,
               "easing": "linear"
              }
             }
            ],
            "label": "3/21/20",
            "method": "animate"
           },
           {
            "args": [
             [
              "3/22/20"
             ],
             {
              "frame": {
               "duration": 0,
               "redraw": true
              },
              "fromcurrent": true,
              "mode": "immediate",
              "transition": {
               "duration": 0,
               "easing": "linear"
              }
             }
            ],
            "label": "3/22/20",
            "method": "animate"
           },
           {
            "args": [
             [
              "3/23/20"
             ],
             {
              "frame": {
               "duration": 0,
               "redraw": true
              },
              "fromcurrent": true,
              "mode": "immediate",
              "transition": {
               "duration": 0,
               "easing": "linear"
              }
             }
            ],
            "label": "3/23/20",
            "method": "animate"
           },
           {
            "args": [
             [
              "3/24/20"
             ],
             {
              "frame": {
               "duration": 0,
               "redraw": true
              },
              "fromcurrent": true,
              "mode": "immediate",
              "transition": {
               "duration": 0,
               "easing": "linear"
              }
             }
            ],
            "label": "3/24/20",
            "method": "animate"
           },
           {
            "args": [
             [
              "3/25/20"
             ],
             {
              "frame": {
               "duration": 0,
               "redraw": true
              },
              "fromcurrent": true,
              "mode": "immediate",
              "transition": {
               "duration": 0,
               "easing": "linear"
              }
             }
            ],
            "label": "3/25/20",
            "method": "animate"
           },
           {
            "args": [
             [
              "3/26/20"
             ],
             {
              "frame": {
               "duration": 0,
               "redraw": true
              },
              "fromcurrent": true,
              "mode": "immediate",
              "transition": {
               "duration": 0,
               "easing": "linear"
              }
             }
            ],
            "label": "3/26/20",
            "method": "animate"
           },
           {
            "args": [
             [
              "3/27/20"
             ],
             {
              "frame": {
               "duration": 0,
               "redraw": true
              },
              "fromcurrent": true,
              "mode": "immediate",
              "transition": {
               "duration": 0,
               "easing": "linear"
              }
             }
            ],
            "label": "3/27/20",
            "method": "animate"
           },
           {
            "args": [
             [
              "3/28/20"
             ],
             {
              "frame": {
               "duration": 0,
               "redraw": true
              },
              "fromcurrent": true,
              "mode": "immediate",
              "transition": {
               "duration": 0,
               "easing": "linear"
              }
             }
            ],
            "label": "3/28/20",
            "method": "animate"
           },
           {
            "args": [
             [
              "3/29/20"
             ],
             {
              "frame": {
               "duration": 0,
               "redraw": true
              },
              "fromcurrent": true,
              "mode": "immediate",
              "transition": {
               "duration": 0,
               "easing": "linear"
              }
             }
            ],
            "label": "3/29/20",
            "method": "animate"
           },
           {
            "args": [
             [
              "3/3/20"
             ],
             {
              "frame": {
               "duration": 0,
               "redraw": true
              },
              "fromcurrent": true,
              "mode": "immediate",
              "transition": {
               "duration": 0,
               "easing": "linear"
              }
             }
            ],
            "label": "3/3/20",
            "method": "animate"
           },
           {
            "args": [
             [
              "3/30/20"
             ],
             {
              "frame": {
               "duration": 0,
               "redraw": true
              },
              "fromcurrent": true,
              "mode": "immediate",
              "transition": {
               "duration": 0,
               "easing": "linear"
              }
             }
            ],
            "label": "3/30/20",
            "method": "animate"
           },
           {
            "args": [
             [
              "3/31/20"
             ],
             {
              "frame": {
               "duration": 0,
               "redraw": true
              },
              "fromcurrent": true,
              "mode": "immediate",
              "transition": {
               "duration": 0,
               "easing": "linear"
              }
             }
            ],
            "label": "3/31/20",
            "method": "animate"
           },
           {
            "args": [
             [
              "3/4/20"
             ],
             {
              "frame": {
               "duration": 0,
               "redraw": true
              },
              "fromcurrent": true,
              "mode": "immediate",
              "transition": {
               "duration": 0,
               "easing": "linear"
              }
             }
            ],
            "label": "3/4/20",
            "method": "animate"
           },
           {
            "args": [
             [
              "3/5/20"
             ],
             {
              "frame": {
               "duration": 0,
               "redraw": true
              },
              "fromcurrent": true,
              "mode": "immediate",
              "transition": {
               "duration": 0,
               "easing": "linear"
              }
             }
            ],
            "label": "3/5/20",
            "method": "animate"
           },
           {
            "args": [
             [
              "3/6/20"
             ],
             {
              "frame": {
               "duration": 0,
               "redraw": true
              },
              "fromcurrent": true,
              "mode": "immediate",
              "transition": {
               "duration": 0,
               "easing": "linear"
              }
             }
            ],
            "label": "3/6/20",
            "method": "animate"
           },
           {
            "args": [
             [
              "3/7/20"
             ],
             {
              "frame": {
               "duration": 0,
               "redraw": true
              },
              "fromcurrent": true,
              "mode": "immediate",
              "transition": {
               "duration": 0,
               "easing": "linear"
              }
             }
            ],
            "label": "3/7/20",
            "method": "animate"
           },
           {
            "args": [
             [
              "3/8/20"
             ],
             {
              "frame": {
               "duration": 0,
               "redraw": true
              },
              "fromcurrent": true,
              "mode": "immediate",
              "transition": {
               "duration": 0,
               "easing": "linear"
              }
             }
            ],
            "label": "3/8/20",
            "method": "animate"
           },
           {
            "args": [
             [
              "3/9/20"
             ],
             {
              "frame": {
               "duration": 0,
               "redraw": true
              },
              "fromcurrent": true,
              "mode": "immediate",
              "transition": {
               "duration": 0,
               "easing": "linear"
              }
             }
            ],
            "label": "3/9/20",
            "method": "animate"
           },
           {
            "args": [
             [
              "4/1/20"
             ],
             {
              "frame": {
               "duration": 0,
               "redraw": true
              },
              "fromcurrent": true,
              "mode": "immediate",
              "transition": {
               "duration": 0,
               "easing": "linear"
              }
             }
            ],
            "label": "4/1/20",
            "method": "animate"
           },
           {
            "args": [
             [
              "4/2/20"
             ],
             {
              "frame": {
               "duration": 0,
               "redraw": true
              },
              "fromcurrent": true,
              "mode": "immediate",
              "transition": {
               "duration": 0,
               "easing": "linear"
              }
             }
            ],
            "label": "4/2/20",
            "method": "animate"
           },
           {
            "args": [
             [
              "4/3/20"
             ],
             {
              "frame": {
               "duration": 0,
               "redraw": true
              },
              "fromcurrent": true,
              "mode": "immediate",
              "transition": {
               "duration": 0,
               "easing": "linear"
              }
             }
            ],
            "label": "4/3/20",
            "method": "animate"
           },
           {
            "args": [
             [
              "4/4/20"
             ],
             {
              "frame": {
               "duration": 0,
               "redraw": true
              },
              "fromcurrent": true,
              "mode": "immediate",
              "transition": {
               "duration": 0,
               "easing": "linear"
              }
             }
            ],
            "label": "4/4/20",
            "method": "animate"
           },
           {
            "args": [
             [
              "4/5/20"
             ],
             {
              "frame": {
               "duration": 0,
               "redraw": true
              },
              "fromcurrent": true,
              "mode": "immediate",
              "transition": {
               "duration": 0,
               "easing": "linear"
              }
             }
            ],
            "label": "4/5/20",
            "method": "animate"
           },
           {
            "args": [
             [
              "4/6/20"
             ],
             {
              "frame": {
               "duration": 0,
               "redraw": true
              },
              "fromcurrent": true,
              "mode": "immediate",
              "transition": {
               "duration": 0,
               "easing": "linear"
              }
             }
            ],
            "label": "4/6/20",
            "method": "animate"
           }
          ],
          "x": 0.1,
          "xanchor": "left",
          "y": 0,
          "yanchor": "top"
         }
        ],
        "template": {
         "data": {
          "bar": [
           {
            "error_x": {
             "color": "#2a3f5f"
            },
            "error_y": {
             "color": "#2a3f5f"
            },
            "marker": {
             "line": {
              "color": "#E5ECF6",
              "width": 0.5
             }
            },
            "type": "bar"
           }
          ],
          "barpolar": [
           {
            "marker": {
             "line": {
              "color": "#E5ECF6",
              "width": 0.5
             }
            },
            "type": "barpolar"
           }
          ],
          "carpet": [
           {
            "aaxis": {
             "endlinecolor": "#2a3f5f",
             "gridcolor": "white",
             "linecolor": "white",
             "minorgridcolor": "white",
             "startlinecolor": "#2a3f5f"
            },
            "baxis": {
             "endlinecolor": "#2a3f5f",
             "gridcolor": "white",
             "linecolor": "white",
             "minorgridcolor": "white",
             "startlinecolor": "#2a3f5f"
            },
            "type": "carpet"
           }
          ],
          "choropleth": [
           {
            "colorbar": {
             "outlinewidth": 0,
             "ticks": ""
            },
            "type": "choropleth"
           }
          ],
          "contour": [
           {
            "colorbar": {
             "outlinewidth": 0,
             "ticks": ""
            },
            "colorscale": [
             [
              0,
              "#0d0887"
             ],
             [
              0.1111111111111111,
              "#46039f"
             ],
             [
              0.2222222222222222,
              "#7201a8"
             ],
             [
              0.3333333333333333,
              "#9c179e"
             ],
             [
              0.4444444444444444,
              "#bd3786"
             ],
             [
              0.5555555555555556,
              "#d8576b"
             ],
             [
              0.6666666666666666,
              "#ed7953"
             ],
             [
              0.7777777777777778,
              "#fb9f3a"
             ],
             [
              0.8888888888888888,
              "#fdca26"
             ],
             [
              1,
              "#f0f921"
             ]
            ],
            "type": "contour"
           }
          ],
          "contourcarpet": [
           {
            "colorbar": {
             "outlinewidth": 0,
             "ticks": ""
            },
            "type": "contourcarpet"
           }
          ],
          "heatmap": [
           {
            "colorbar": {
             "outlinewidth": 0,
             "ticks": ""
            },
            "colorscale": [
             [
              0,
              "#0d0887"
             ],
             [
              0.1111111111111111,
              "#46039f"
             ],
             [
              0.2222222222222222,
              "#7201a8"
             ],
             [
              0.3333333333333333,
              "#9c179e"
             ],
             [
              0.4444444444444444,
              "#bd3786"
             ],
             [
              0.5555555555555556,
              "#d8576b"
             ],
             [
              0.6666666666666666,
              "#ed7953"
             ],
             [
              0.7777777777777778,
              "#fb9f3a"
             ],
             [
              0.8888888888888888,
              "#fdca26"
             ],
             [
              1,
              "#f0f921"
             ]
            ],
            "type": "heatmap"
           }
          ],
          "heatmapgl": [
           {
            "colorbar": {
             "outlinewidth": 0,
             "ticks": ""
            },
            "colorscale": [
             [
              0,
              "#0d0887"
             ],
             [
              0.1111111111111111,
              "#46039f"
             ],
             [
              0.2222222222222222,
              "#7201a8"
             ],
             [
              0.3333333333333333,
              "#9c179e"
             ],
             [
              0.4444444444444444,
              "#bd3786"
             ],
             [
              0.5555555555555556,
              "#d8576b"
             ],
             [
              0.6666666666666666,
              "#ed7953"
             ],
             [
              0.7777777777777778,
              "#fb9f3a"
             ],
             [
              0.8888888888888888,
              "#fdca26"
             ],
             [
              1,
              "#f0f921"
             ]
            ],
            "type": "heatmapgl"
           }
          ],
          "histogram": [
           {
            "marker": {
             "colorbar": {
              "outlinewidth": 0,
              "ticks": ""
             }
            },
            "type": "histogram"
           }
          ],
          "histogram2d": [
           {
            "colorbar": {
             "outlinewidth": 0,
             "ticks": ""
            },
            "colorscale": [
             [
              0,
              "#0d0887"
             ],
             [
              0.1111111111111111,
              "#46039f"
             ],
             [
              0.2222222222222222,
              "#7201a8"
             ],
             [
              0.3333333333333333,
              "#9c179e"
             ],
             [
              0.4444444444444444,
              "#bd3786"
             ],
             [
              0.5555555555555556,
              "#d8576b"
             ],
             [
              0.6666666666666666,
              "#ed7953"
             ],
             [
              0.7777777777777778,
              "#fb9f3a"
             ],
             [
              0.8888888888888888,
              "#fdca26"
             ],
             [
              1,
              "#f0f921"
             ]
            ],
            "type": "histogram2d"
           }
          ],
          "histogram2dcontour": [
           {
            "colorbar": {
             "outlinewidth": 0,
             "ticks": ""
            },
            "colorscale": [
             [
              0,
              "#0d0887"
             ],
             [
              0.1111111111111111,
              "#46039f"
             ],
             [
              0.2222222222222222,
              "#7201a8"
             ],
             [
              0.3333333333333333,
              "#9c179e"
             ],
             [
              0.4444444444444444,
              "#bd3786"
             ],
             [
              0.5555555555555556,
              "#d8576b"
             ],
             [
              0.6666666666666666,
              "#ed7953"
             ],
             [
              0.7777777777777778,
              "#fb9f3a"
             ],
             [
              0.8888888888888888,
              "#fdca26"
             ],
             [
              1,
              "#f0f921"
             ]
            ],
            "type": "histogram2dcontour"
           }
          ],
          "mesh3d": [
           {
            "colorbar": {
             "outlinewidth": 0,
             "ticks": ""
            },
            "type": "mesh3d"
           }
          ],
          "parcoords": [
           {
            "line": {
             "colorbar": {
              "outlinewidth": 0,
              "ticks": ""
             }
            },
            "type": "parcoords"
           }
          ],
          "pie": [
           {
            "automargin": true,
            "type": "pie"
           }
          ],
          "scatter": [
           {
            "marker": {
             "colorbar": {
              "outlinewidth": 0,
              "ticks": ""
             }
            },
            "type": "scatter"
           }
          ],
          "scatter3d": [
           {
            "line": {
             "colorbar": {
              "outlinewidth": 0,
              "ticks": ""
             }
            },
            "marker": {
             "colorbar": {
              "outlinewidth": 0,
              "ticks": ""
             }
            },
            "type": "scatter3d"
           }
          ],
          "scattercarpet": [
           {
            "marker": {
             "colorbar": {
              "outlinewidth": 0,
              "ticks": ""
             }
            },
            "type": "scattercarpet"
           }
          ],
          "scattergeo": [
           {
            "marker": {
             "colorbar": {
              "outlinewidth": 0,
              "ticks": ""
             }
            },
            "type": "scattergeo"
           }
          ],
          "scattergl": [
           {
            "marker": {
             "colorbar": {
              "outlinewidth": 0,
              "ticks": ""
             }
            },
            "type": "scattergl"
           }
          ],
          "scattermapbox": [
           {
            "marker": {
             "colorbar": {
              "outlinewidth": 0,
              "ticks": ""
             }
            },
            "type": "scattermapbox"
           }
          ],
          "scatterpolar": [
           {
            "marker": {
             "colorbar": {
              "outlinewidth": 0,
              "ticks": ""
             }
            },
            "type": "scatterpolar"
           }
          ],
          "scatterpolargl": [
           {
            "marker": {
             "colorbar": {
              "outlinewidth": 0,
              "ticks": ""
             }
            },
            "type": "scatterpolargl"
           }
          ],
          "scatterternary": [
           {
            "marker": {
             "colorbar": {
              "outlinewidth": 0,
              "ticks": ""
             }
            },
            "type": "scatterternary"
           }
          ],
          "surface": [
           {
            "colorbar": {
             "outlinewidth": 0,
             "ticks": ""
            },
            "colorscale": [
             [
              0,
              "#0d0887"
             ],
             [
              0.1111111111111111,
              "#46039f"
             ],
             [
              0.2222222222222222,
              "#7201a8"
             ],
             [
              0.3333333333333333,
              "#9c179e"
             ],
             [
              0.4444444444444444,
              "#bd3786"
             ],
             [
              0.5555555555555556,
              "#d8576b"
             ],
             [
              0.6666666666666666,
              "#ed7953"
             ],
             [
              0.7777777777777778,
              "#fb9f3a"
             ],
             [
              0.8888888888888888,
              "#fdca26"
             ],
             [
              1,
              "#f0f921"
             ]
            ],
            "type": "surface"
           }
          ],
          "table": [
           {
            "cells": {
             "fill": {
              "color": "#EBF0F8"
             },
             "line": {
              "color": "white"
             }
            },
            "header": {
             "fill": {
              "color": "#C8D4E3"
             },
             "line": {
              "color": "white"
             }
            },
            "type": "table"
           }
          ]
         },
         "layout": {
          "annotationdefaults": {
           "arrowcolor": "#2a3f5f",
           "arrowhead": 0,
           "arrowwidth": 1
          },
          "coloraxis": {
           "colorbar": {
            "outlinewidth": 0,
            "ticks": ""
           }
          },
          "colorscale": {
           "diverging": [
            [
             0,
             "#8e0152"
            ],
            [
             0.1,
             "#c51b7d"
            ],
            [
             0.2,
             "#de77ae"
            ],
            [
             0.3,
             "#f1b6da"
            ],
            [
             0.4,
             "#fde0ef"
            ],
            [
             0.5,
             "#f7f7f7"
            ],
            [
             0.6,
             "#e6f5d0"
            ],
            [
             0.7,
             "#b8e186"
            ],
            [
             0.8,
             "#7fbc41"
            ],
            [
             0.9,
             "#4d9221"
            ],
            [
             1,
             "#276419"
            ]
           ],
           "sequential": [
            [
             0,
             "#0d0887"
            ],
            [
             0.1111111111111111,
             "#46039f"
            ],
            [
             0.2222222222222222,
             "#7201a8"
            ],
            [
             0.3333333333333333,
             "#9c179e"
            ],
            [
             0.4444444444444444,
             "#bd3786"
            ],
            [
             0.5555555555555556,
             "#d8576b"
            ],
            [
             0.6666666666666666,
             "#ed7953"
            ],
            [
             0.7777777777777778,
             "#fb9f3a"
            ],
            [
             0.8888888888888888,
             "#fdca26"
            ],
            [
             1,
             "#f0f921"
            ]
           ],
           "sequentialminus": [
            [
             0,
             "#0d0887"
            ],
            [
             0.1111111111111111,
             "#46039f"
            ],
            [
             0.2222222222222222,
             "#7201a8"
            ],
            [
             0.3333333333333333,
             "#9c179e"
            ],
            [
             0.4444444444444444,
             "#bd3786"
            ],
            [
             0.5555555555555556,
             "#d8576b"
            ],
            [
             0.6666666666666666,
             "#ed7953"
            ],
            [
             0.7777777777777778,
             "#fb9f3a"
            ],
            [
             0.8888888888888888,
             "#fdca26"
            ],
            [
             1,
             "#f0f921"
            ]
           ]
          },
          "colorway": [
           "#636efa",
           "#EF553B",
           "#00cc96",
           "#ab63fa",
           "#FFA15A",
           "#19d3f3",
           "#FF6692",
           "#B6E880",
           "#FF97FF",
           "#FECB52"
          ],
          "font": {
           "color": "#2a3f5f"
          },
          "geo": {
           "bgcolor": "white",
           "lakecolor": "white",
           "landcolor": "#E5ECF6",
           "showlakes": true,
           "showland": true,
           "subunitcolor": "white"
          },
          "hoverlabel": {
           "align": "left"
          },
          "hovermode": "closest",
          "mapbox": {
           "style": "light"
          },
          "paper_bgcolor": "white",
          "plot_bgcolor": "#E5ECF6",
          "polar": {
           "angularaxis": {
            "gridcolor": "white",
            "linecolor": "white",
            "ticks": ""
           },
           "bgcolor": "#E5ECF6",
           "radialaxis": {
            "gridcolor": "white",
            "linecolor": "white",
            "ticks": ""
           }
          },
          "scene": {
           "xaxis": {
            "backgroundcolor": "#E5ECF6",
            "gridcolor": "white",
            "gridwidth": 2,
            "linecolor": "white",
            "showbackground": true,
            "ticks": "",
            "zerolinecolor": "white"
           },
           "yaxis": {
            "backgroundcolor": "#E5ECF6",
            "gridcolor": "white",
            "gridwidth": 2,
            "linecolor": "white",
            "showbackground": true,
            "ticks": "",
            "zerolinecolor": "white"
           },
           "zaxis": {
            "backgroundcolor": "#E5ECF6",
            "gridcolor": "white",
            "gridwidth": 2,
            "linecolor": "white",
            "showbackground": true,
            "ticks": "",
            "zerolinecolor": "white"
           }
          },
          "shapedefaults": {
           "line": {
            "color": "#2a3f5f"
           }
          },
          "ternary": {
           "aaxis": {
            "gridcolor": "white",
            "linecolor": "white",
            "ticks": ""
           },
           "baxis": {
            "gridcolor": "white",
            "linecolor": "white",
            "ticks": ""
           },
           "bgcolor": "#E5ECF6",
           "caxis": {
            "gridcolor": "white",
            "linecolor": "white",
            "ticks": ""
           }
          },
          "title": {
           "x": 0.05
          },
          "xaxis": {
           "automargin": true,
           "gridcolor": "white",
           "linecolor": "white",
           "ticks": "",
           "title": {
            "standoff": 15
           },
           "zerolinecolor": "white",
           "zerolinewidth": 2
          },
          "yaxis": {
           "automargin": true,
           "gridcolor": "white",
           "linecolor": "white",
           "ticks": "",
           "title": {
            "standoff": 15
           },
           "zerolinecolor": "white",
           "zerolinewidth": 2
          }
         }
        },
        "title": {
         "text": "Spread total cases over time"
        },
        "updatemenus": [
         {
          "buttons": [
           {
            "args": [
             null,
             {
              "frame": {
               "duration": 500,
               "redraw": true
              },
              "fromcurrent": true,
              "mode": "immediate",
              "transition": {
               "duration": 500,
               "easing": "linear"
              }
             }
            ],
            "label": "&#9654;",
            "method": "animate"
           },
           {
            "args": [
             [
              null
             ],
             {
              "frame": {
               "duration": 0,
               "redraw": true
              },
              "fromcurrent": true,
              "mode": "immediate",
              "transition": {
               "duration": 0,
               "easing": "linear"
              }
             }
            ],
            "label": "&#9724;",
            "method": "animate"
           }
          ],
          "direction": "left",
          "pad": {
           "r": 10,
           "t": 70
          },
          "showactive": false,
          "type": "buttons",
          "x": 0.1,
          "xanchor": "right",
          "y": 0,
          "yanchor": "top"
         }
        ]
       }
      },
      "text/html": [
       "<div>\n",
       "        \n",
       "        \n",
       "            <div id=\"723709be-e629-4ff5-a25c-83db108b6758\" class=\"plotly-graph-div\" style=\"height:525px; width:100%;\"></div>\n",
       "            <script type=\"text/javascript\">\n",
       "                require([\"plotly\"], function(Plotly) {\n",
       "                    window.PLOTLYENV=window.PLOTLYENV || {};\n",
       "                    \n",
       "                if (document.getElementById(\"723709be-e629-4ff5-a25c-83db108b6758\")) {\n",
       "                    Plotly.newPlot(\n",
       "                        '723709be-e629-4ff5-a25c-83db108b6758',\n",
       "                        [{\"customdata\": [[0, 0, 0]], \"hovertemplate\": \"Date=1/22/20<br>size=%{marker.size}<br>Confirmed=%{marker.color}<br>Recovered=%{customdata[1]}<br>Deaths=%{customdata[2]}<br>Lat=%{lat}<br>Long=%{lon}<extra></extra>\", \"lat\": [21.0], \"legendgroup\": \"\", \"lon\": [78.0], \"marker\": {\"color\": [0], \"coloraxis\": \"coloraxis\", \"size\": [0], \"sizemode\": \"area\", \"sizeref\": 1075050000.0}, \"mode\": \"markers\", \"name\": \"\", \"showlegend\": false, \"subplot\": \"mapbox\", \"type\": \"scattermapbox\"}],\n",
       "                        {\"coloraxis\": {\"colorbar\": {\"title\": {\"text\": \"Confirmed\"}}, \"colorscale\": [[0.0, \"rgb(251, 230, 197)\"], [0.16666666666666666, \"rgb(245, 186, 152)\"], [0.3333333333333333, \"rgb(238, 138, 130)\"], [0.5, \"rgb(220, 113, 118)\"], [0.6666666666666666, \"rgb(200, 88, 108)\"], [0.8333333333333334, \"rgb(156, 63, 93)\"], [1.0, \"rgb(112, 40, 74)\"]], \"showscale\": true}, \"legend\": {\"itemsizing\": \"constant\", \"tracegroupgap\": 0}, \"mapbox\": {\"center\": {\"lat\": 21.0, \"lon\": 78.0}, \"domain\": {\"x\": [0.0, 1.0], \"y\": [0.0, 1.0]}, \"style\": \"carto-positron\", \"zoom\": 3}, \"margin\": {\"b\": 0, \"l\": 0, \"r\": 0, \"t\": 30}, \"sliders\": [{\"active\": 0, \"currentvalue\": {\"prefix\": \"Date=\"}, \"len\": 0.9, \"pad\": {\"b\": 10, \"t\": 60}, \"steps\": [{\"args\": [[\"1/22/20\"], {\"frame\": {\"duration\": 0, \"redraw\": true}, \"fromcurrent\": true, \"mode\": \"immediate\", \"transition\": {\"duration\": 0, \"easing\": \"linear\"}}], \"label\": \"1/22/20\", \"method\": \"animate\"}, {\"args\": [[\"1/23/20\"], {\"frame\": {\"duration\": 0, \"redraw\": true}, \"fromcurrent\": true, \"mode\": \"immediate\", \"transition\": {\"duration\": 0, \"easing\": \"linear\"}}], \"label\": \"1/23/20\", \"method\": \"animate\"}, {\"args\": [[\"1/24/20\"], {\"frame\": {\"duration\": 0, \"redraw\": true}, \"fromcurrent\": true, \"mode\": \"immediate\", \"transition\": {\"duration\": 0, \"easing\": \"linear\"}}], \"label\": \"1/24/20\", \"method\": \"animate\"}, {\"args\": [[\"1/25/20\"], {\"frame\": {\"duration\": 0, \"redraw\": true}, \"fromcurrent\": true, \"mode\": \"immediate\", \"transition\": {\"duration\": 0, \"easing\": \"linear\"}}], \"label\": \"1/25/20\", \"method\": \"animate\"}, {\"args\": [[\"1/26/20\"], {\"frame\": {\"duration\": 0, \"redraw\": true}, \"fromcurrent\": true, \"mode\": \"immediate\", \"transition\": {\"duration\": 0, \"easing\": \"linear\"}}], \"label\": \"1/26/20\", \"method\": \"animate\"}, {\"args\": [[\"1/27/20\"], {\"frame\": {\"duration\": 0, \"redraw\": true}, \"fromcurrent\": true, \"mode\": \"immediate\", \"transition\": {\"duration\": 0, \"easing\": \"linear\"}}], \"label\": \"1/27/20\", \"method\": \"animate\"}, {\"args\": [[\"1/28/20\"], {\"frame\": {\"duration\": 0, \"redraw\": true}, \"fromcurrent\": true, \"mode\": \"immediate\", \"transition\": {\"duration\": 0, \"easing\": \"linear\"}}], \"label\": \"1/28/20\", \"method\": \"animate\"}, {\"args\": [[\"1/29/20\"], {\"frame\": {\"duration\": 0, \"redraw\": true}, \"fromcurrent\": true, \"mode\": \"immediate\", \"transition\": {\"duration\": 0, \"easing\": \"linear\"}}], \"label\": \"1/29/20\", \"method\": \"animate\"}, {\"args\": [[\"1/30/20\"], {\"frame\": {\"duration\": 0, \"redraw\": true}, \"fromcurrent\": true, \"mode\": \"immediate\", \"transition\": {\"duration\": 0, \"easing\": \"linear\"}}], \"label\": \"1/30/20\", \"method\": \"animate\"}, {\"args\": [[\"1/31/20\"], {\"frame\": {\"duration\": 0, \"redraw\": true}, \"fromcurrent\": true, \"mode\": \"immediate\", \"transition\": {\"duration\": 0, \"easing\": \"linear\"}}], \"label\": \"1/31/20\", \"method\": \"animate\"}, {\"args\": [[\"2/1/20\"], {\"frame\": {\"duration\": 0, \"redraw\": true}, \"fromcurrent\": true, \"mode\": \"immediate\", \"transition\": {\"duration\": 0, \"easing\": \"linear\"}}], \"label\": \"2/1/20\", \"method\": \"animate\"}, {\"args\": [[\"2/10/20\"], {\"frame\": {\"duration\": 0, \"redraw\": true}, \"fromcurrent\": true, \"mode\": \"immediate\", \"transition\": {\"duration\": 0, \"easing\": \"linear\"}}], \"label\": \"2/10/20\", \"method\": \"animate\"}, {\"args\": [[\"2/11/20\"], {\"frame\": {\"duration\": 0, \"redraw\": true}, \"fromcurrent\": true, \"mode\": \"immediate\", \"transition\": {\"duration\": 0, \"easing\": \"linear\"}}], \"label\": \"2/11/20\", \"method\": \"animate\"}, {\"args\": [[\"2/12/20\"], {\"frame\": {\"duration\": 0, \"redraw\": true}, \"fromcurrent\": true, \"mode\": \"immediate\", \"transition\": {\"duration\": 0, \"easing\": \"linear\"}}], \"label\": \"2/12/20\", \"method\": \"animate\"}, {\"args\": [[\"2/13/20\"], {\"frame\": {\"duration\": 0, \"redraw\": true}, \"fromcurrent\": true, \"mode\": \"immediate\", \"transition\": {\"duration\": 0, \"easing\": \"linear\"}}], \"label\": \"2/13/20\", \"method\": \"animate\"}, {\"args\": [[\"2/14/20\"], {\"frame\": {\"duration\": 0, \"redraw\": true}, \"fromcurrent\": true, \"mode\": \"immediate\", \"transition\": {\"duration\": 0, \"easing\": \"linear\"}}], \"label\": \"2/14/20\", \"method\": \"animate\"}, {\"args\": [[\"2/15/20\"], {\"frame\": {\"duration\": 0, \"redraw\": true}, \"fromcurrent\": true, \"mode\": \"immediate\", \"transition\": {\"duration\": 0, \"easing\": \"linear\"}}], \"label\": \"2/15/20\", \"method\": \"animate\"}, {\"args\": [[\"2/16/20\"], {\"frame\": {\"duration\": 0, \"redraw\": true}, \"fromcurrent\": true, \"mode\": \"immediate\", \"transition\": {\"duration\": 0, \"easing\": \"linear\"}}], \"label\": \"2/16/20\", \"method\": \"animate\"}, {\"args\": [[\"2/17/20\"], {\"frame\": {\"duration\": 0, \"redraw\": true}, \"fromcurrent\": true, \"mode\": \"immediate\", \"transition\": {\"duration\": 0, \"easing\": \"linear\"}}], \"label\": \"2/17/20\", \"method\": \"animate\"}, {\"args\": [[\"2/18/20\"], {\"frame\": {\"duration\": 0, \"redraw\": true}, \"fromcurrent\": true, \"mode\": \"immediate\", \"transition\": {\"duration\": 0, \"easing\": \"linear\"}}], \"label\": \"2/18/20\", \"method\": \"animate\"}, {\"args\": [[\"2/19/20\"], {\"frame\": {\"duration\": 0, \"redraw\": true}, \"fromcurrent\": true, \"mode\": \"immediate\", \"transition\": {\"duration\": 0, \"easing\": \"linear\"}}], \"label\": \"2/19/20\", \"method\": \"animate\"}, {\"args\": [[\"2/2/20\"], {\"frame\": {\"duration\": 0, \"redraw\": true}, \"fromcurrent\": true, \"mode\": \"immediate\", \"transition\": {\"duration\": 0, \"easing\": \"linear\"}}], \"label\": \"2/2/20\", \"method\": \"animate\"}, {\"args\": [[\"2/20/20\"], {\"frame\": {\"duration\": 0, \"redraw\": true}, \"fromcurrent\": true, \"mode\": \"immediate\", \"transition\": {\"duration\": 0, \"easing\": \"linear\"}}], \"label\": \"2/20/20\", \"method\": \"animate\"}, {\"args\": [[\"2/21/20\"], {\"frame\": {\"duration\": 0, \"redraw\": true}, \"fromcurrent\": true, \"mode\": \"immediate\", \"transition\": {\"duration\": 0, \"easing\": \"linear\"}}], \"label\": \"2/21/20\", \"method\": \"animate\"}, {\"args\": [[\"2/22/20\"], {\"frame\": {\"duration\": 0, \"redraw\": true}, \"fromcurrent\": true, \"mode\": \"immediate\", \"transition\": {\"duration\": 0, \"easing\": \"linear\"}}], \"label\": \"2/22/20\", \"method\": \"animate\"}, {\"args\": [[\"2/23/20\"], {\"frame\": {\"duration\": 0, \"redraw\": true}, \"fromcurrent\": true, \"mode\": \"immediate\", \"transition\": {\"duration\": 0, \"easing\": \"linear\"}}], \"label\": \"2/23/20\", \"method\": \"animate\"}, {\"args\": [[\"2/24/20\"], {\"frame\": {\"duration\": 0, \"redraw\": true}, \"fromcurrent\": true, \"mode\": \"immediate\", \"transition\": {\"duration\": 0, \"easing\": \"linear\"}}], \"label\": \"2/24/20\", \"method\": \"animate\"}, {\"args\": [[\"2/25/20\"], {\"frame\": {\"duration\": 0, \"redraw\": true}, \"fromcurrent\": true, \"mode\": \"immediate\", \"transition\": {\"duration\": 0, \"easing\": \"linear\"}}], \"label\": \"2/25/20\", \"method\": \"animate\"}, {\"args\": [[\"2/26/20\"], {\"frame\": {\"duration\": 0, \"redraw\": true}, \"fromcurrent\": true, \"mode\": \"immediate\", \"transition\": {\"duration\": 0, \"easing\": \"linear\"}}], \"label\": \"2/26/20\", \"method\": \"animate\"}, {\"args\": [[\"2/27/20\"], {\"frame\": {\"duration\": 0, \"redraw\": true}, \"fromcurrent\": true, \"mode\": \"immediate\", \"transition\": {\"duration\": 0, \"easing\": \"linear\"}}], \"label\": \"2/27/20\", \"method\": \"animate\"}, {\"args\": [[\"2/28/20\"], {\"frame\": {\"duration\": 0, \"redraw\": true}, \"fromcurrent\": true, \"mode\": \"immediate\", \"transition\": {\"duration\": 0, \"easing\": \"linear\"}}], \"label\": \"2/28/20\", \"method\": \"animate\"}, {\"args\": [[\"2/29/20\"], {\"frame\": {\"duration\": 0, \"redraw\": true}, \"fromcurrent\": true, \"mode\": \"immediate\", \"transition\": {\"duration\": 0, \"easing\": \"linear\"}}], \"label\": \"2/29/20\", \"method\": \"animate\"}, {\"args\": [[\"2/3/20\"], {\"frame\": {\"duration\": 0, \"redraw\": true}, \"fromcurrent\": true, \"mode\": \"immediate\", \"transition\": {\"duration\": 0, \"easing\": \"linear\"}}], \"label\": \"2/3/20\", \"method\": \"animate\"}, {\"args\": [[\"2/4/20\"], {\"frame\": {\"duration\": 0, \"redraw\": true}, \"fromcurrent\": true, \"mode\": \"immediate\", \"transition\": {\"duration\": 0, \"easing\": \"linear\"}}], \"label\": \"2/4/20\", \"method\": \"animate\"}, {\"args\": [[\"2/5/20\"], {\"frame\": {\"duration\": 0, \"redraw\": true}, \"fromcurrent\": true, \"mode\": \"immediate\", \"transition\": {\"duration\": 0, \"easing\": \"linear\"}}], \"label\": \"2/5/20\", \"method\": \"animate\"}, {\"args\": [[\"2/6/20\"], {\"frame\": {\"duration\": 0, \"redraw\": true}, \"fromcurrent\": true, \"mode\": \"immediate\", \"transition\": {\"duration\": 0, \"easing\": \"linear\"}}], \"label\": \"2/6/20\", \"method\": \"animate\"}, {\"args\": [[\"2/7/20\"], {\"frame\": {\"duration\": 0, \"redraw\": true}, \"fromcurrent\": true, \"mode\": \"immediate\", \"transition\": {\"duration\": 0, \"easing\": \"linear\"}}], \"label\": \"2/7/20\", \"method\": \"animate\"}, {\"args\": [[\"2/8/20\"], {\"frame\": {\"duration\": 0, \"redraw\": true}, \"fromcurrent\": true, \"mode\": \"immediate\", \"transition\": {\"duration\": 0, \"easing\": \"linear\"}}], \"label\": \"2/8/20\", \"method\": \"animate\"}, {\"args\": [[\"2/9/20\"], {\"frame\": {\"duration\": 0, \"redraw\": true}, \"fromcurrent\": true, \"mode\": \"immediate\", \"transition\": {\"duration\": 0, \"easing\": \"linear\"}}], \"label\": \"2/9/20\", \"method\": \"animate\"}, {\"args\": [[\"3/1/20\"], {\"frame\": {\"duration\": 0, \"redraw\": true}, \"fromcurrent\": true, \"mode\": \"immediate\", \"transition\": {\"duration\": 0, \"easing\": \"linear\"}}], \"label\": \"3/1/20\", \"method\": \"animate\"}, {\"args\": [[\"3/10/20\"], {\"frame\": {\"duration\": 0, \"redraw\": true}, \"fromcurrent\": true, \"mode\": \"immediate\", \"transition\": {\"duration\": 0, \"easing\": \"linear\"}}], \"label\": \"3/10/20\", \"method\": \"animate\"}, {\"args\": [[\"3/11/20\"], {\"frame\": {\"duration\": 0, \"redraw\": true}, \"fromcurrent\": true, \"mode\": \"immediate\", \"transition\": {\"duration\": 0, \"easing\": \"linear\"}}], \"label\": \"3/11/20\", \"method\": \"animate\"}, {\"args\": [[\"3/12/20\"], {\"frame\": {\"duration\": 0, \"redraw\": true}, \"fromcurrent\": true, \"mode\": \"immediate\", \"transition\": {\"duration\": 0, \"easing\": \"linear\"}}], \"label\": \"3/12/20\", \"method\": \"animate\"}, {\"args\": [[\"3/13/20\"], {\"frame\": {\"duration\": 0, \"redraw\": true}, \"fromcurrent\": true, \"mode\": \"immediate\", \"transition\": {\"duration\": 0, \"easing\": \"linear\"}}], \"label\": \"3/13/20\", \"method\": \"animate\"}, {\"args\": [[\"3/14/20\"], {\"frame\": {\"duration\": 0, \"redraw\": true}, \"fromcurrent\": true, \"mode\": \"immediate\", \"transition\": {\"duration\": 0, \"easing\": \"linear\"}}], \"label\": \"3/14/20\", \"method\": \"animate\"}, {\"args\": [[\"3/15/20\"], {\"frame\": {\"duration\": 0, \"redraw\": true}, \"fromcurrent\": true, \"mode\": \"immediate\", \"transition\": {\"duration\": 0, \"easing\": \"linear\"}}], \"label\": \"3/15/20\", \"method\": \"animate\"}, {\"args\": [[\"3/16/20\"], {\"frame\": {\"duration\": 0, \"redraw\": true}, \"fromcurrent\": true, \"mode\": \"immediate\", \"transition\": {\"duration\": 0, \"easing\": \"linear\"}}], \"label\": \"3/16/20\", \"method\": \"animate\"}, {\"args\": [[\"3/17/20\"], {\"frame\": {\"duration\": 0, \"redraw\": true}, \"fromcurrent\": true, \"mode\": \"immediate\", \"transition\": {\"duration\": 0, \"easing\": \"linear\"}}], \"label\": \"3/17/20\", \"method\": \"animate\"}, {\"args\": [[\"3/18/20\"], {\"frame\": {\"duration\": 0, \"redraw\": true}, \"fromcurrent\": true, \"mode\": \"immediate\", \"transition\": {\"duration\": 0, \"easing\": \"linear\"}}], \"label\": \"3/18/20\", \"method\": \"animate\"}, {\"args\": [[\"3/19/20\"], {\"frame\": {\"duration\": 0, \"redraw\": true}, \"fromcurrent\": true, \"mode\": \"immediate\", \"transition\": {\"duration\": 0, \"easing\": \"linear\"}}], \"label\": \"3/19/20\", \"method\": \"animate\"}, {\"args\": [[\"3/2/20\"], {\"frame\": {\"duration\": 0, \"redraw\": true}, \"fromcurrent\": true, \"mode\": \"immediate\", \"transition\": {\"duration\": 0, \"easing\": \"linear\"}}], \"label\": \"3/2/20\", \"method\": \"animate\"}, {\"args\": [[\"3/20/20\"], {\"frame\": {\"duration\": 0, \"redraw\": true}, \"fromcurrent\": true, \"mode\": \"immediate\", \"transition\": {\"duration\": 0, \"easing\": \"linear\"}}], \"label\": \"3/20/20\", \"method\": \"animate\"}, {\"args\": [[\"3/21/20\"], {\"frame\": {\"duration\": 0, \"redraw\": true}, \"fromcurrent\": true, \"mode\": \"immediate\", \"transition\": {\"duration\": 0, \"easing\": \"linear\"}}], \"label\": \"3/21/20\", \"method\": \"animate\"}, {\"args\": [[\"3/22/20\"], {\"frame\": {\"duration\": 0, \"redraw\": true}, \"fromcurrent\": true, \"mode\": \"immediate\", \"transition\": {\"duration\": 0, \"easing\": \"linear\"}}], \"label\": \"3/22/20\", \"method\": \"animate\"}, {\"args\": [[\"3/23/20\"], {\"frame\": {\"duration\": 0, \"redraw\": true}, \"fromcurrent\": true, \"mode\": \"immediate\", \"transition\": {\"duration\": 0, \"easing\": \"linear\"}}], \"label\": \"3/23/20\", \"method\": \"animate\"}, {\"args\": [[\"3/24/20\"], {\"frame\": {\"duration\": 0, \"redraw\": true}, \"fromcurrent\": true, \"mode\": \"immediate\", \"transition\": {\"duration\": 0, \"easing\": \"linear\"}}], \"label\": \"3/24/20\", \"method\": \"animate\"}, {\"args\": [[\"3/25/20\"], {\"frame\": {\"duration\": 0, \"redraw\": true}, \"fromcurrent\": true, \"mode\": \"immediate\", \"transition\": {\"duration\": 0, \"easing\": \"linear\"}}], \"label\": \"3/25/20\", \"method\": \"animate\"}, {\"args\": [[\"3/26/20\"], {\"frame\": {\"duration\": 0, \"redraw\": true}, \"fromcurrent\": true, \"mode\": \"immediate\", \"transition\": {\"duration\": 0, \"easing\": \"linear\"}}], \"label\": \"3/26/20\", \"method\": \"animate\"}, {\"args\": [[\"3/27/20\"], {\"frame\": {\"duration\": 0, \"redraw\": true}, \"fromcurrent\": true, \"mode\": \"immediate\", \"transition\": {\"duration\": 0, \"easing\": \"linear\"}}], \"label\": \"3/27/20\", \"method\": \"animate\"}, {\"args\": [[\"3/28/20\"], {\"frame\": {\"duration\": 0, \"redraw\": true}, \"fromcurrent\": true, \"mode\": \"immediate\", \"transition\": {\"duration\": 0, \"easing\": \"linear\"}}], \"label\": \"3/28/20\", \"method\": \"animate\"}, {\"args\": [[\"3/29/20\"], {\"frame\": {\"duration\": 0, \"redraw\": true}, \"fromcurrent\": true, \"mode\": \"immediate\", \"transition\": {\"duration\": 0, \"easing\": \"linear\"}}], \"label\": \"3/29/20\", \"method\": \"animate\"}, {\"args\": [[\"3/3/20\"], {\"frame\": {\"duration\": 0, \"redraw\": true}, \"fromcurrent\": true, \"mode\": \"immediate\", \"transition\": {\"duration\": 0, \"easing\": \"linear\"}}], \"label\": \"3/3/20\", \"method\": \"animate\"}, {\"args\": [[\"3/30/20\"], {\"frame\": {\"duration\": 0, \"redraw\": true}, \"fromcurrent\": true, \"mode\": \"immediate\", \"transition\": {\"duration\": 0, \"easing\": \"linear\"}}], \"label\": \"3/30/20\", \"method\": \"animate\"}, {\"args\": [[\"3/31/20\"], {\"frame\": {\"duration\": 0, \"redraw\": true}, \"fromcurrent\": true, \"mode\": \"immediate\", \"transition\": {\"duration\": 0, \"easing\": \"linear\"}}], \"label\": \"3/31/20\", \"method\": \"animate\"}, {\"args\": [[\"3/4/20\"], {\"frame\": {\"duration\": 0, \"redraw\": true}, \"fromcurrent\": true, \"mode\": \"immediate\", \"transition\": {\"duration\": 0, \"easing\": \"linear\"}}], \"label\": \"3/4/20\", \"method\": \"animate\"}, {\"args\": [[\"3/5/20\"], {\"frame\": {\"duration\": 0, \"redraw\": true}, \"fromcurrent\": true, \"mode\": \"immediate\", \"transition\": {\"duration\": 0, \"easing\": \"linear\"}}], \"label\": \"3/5/20\", \"method\": \"animate\"}, {\"args\": [[\"3/6/20\"], {\"frame\": {\"duration\": 0, \"redraw\": true}, \"fromcurrent\": true, \"mode\": \"immediate\", \"transition\": {\"duration\": 0, \"easing\": \"linear\"}}], \"label\": \"3/6/20\", \"method\": \"animate\"}, {\"args\": [[\"3/7/20\"], {\"frame\": {\"duration\": 0, \"redraw\": true}, \"fromcurrent\": true, \"mode\": \"immediate\", \"transition\": {\"duration\": 0, \"easing\": \"linear\"}}], \"label\": \"3/7/20\", \"method\": \"animate\"}, {\"args\": [[\"3/8/20\"], {\"frame\": {\"duration\": 0, \"redraw\": true}, \"fromcurrent\": true, \"mode\": \"immediate\", \"transition\": {\"duration\": 0, \"easing\": \"linear\"}}], \"label\": \"3/8/20\", \"method\": \"animate\"}, {\"args\": [[\"3/9/20\"], {\"frame\": {\"duration\": 0, \"redraw\": true}, \"fromcurrent\": true, \"mode\": \"immediate\", \"transition\": {\"duration\": 0, \"easing\": \"linear\"}}], \"label\": \"3/9/20\", \"method\": \"animate\"}, {\"args\": [[\"4/1/20\"], {\"frame\": {\"duration\": 0, \"redraw\": true}, \"fromcurrent\": true, \"mode\": \"immediate\", \"transition\": {\"duration\": 0, \"easing\": \"linear\"}}], \"label\": \"4/1/20\", \"method\": \"animate\"}, {\"args\": [[\"4/2/20\"], {\"frame\": {\"duration\": 0, \"redraw\": true}, \"fromcurrent\": true, \"mode\": \"immediate\", \"transition\": {\"duration\": 0, \"easing\": \"linear\"}}], \"label\": \"4/2/20\", \"method\": \"animate\"}, {\"args\": [[\"4/3/20\"], {\"frame\": {\"duration\": 0, \"redraw\": true}, \"fromcurrent\": true, \"mode\": \"immediate\", \"transition\": {\"duration\": 0, \"easing\": \"linear\"}}], \"label\": \"4/3/20\", \"method\": \"animate\"}, {\"args\": [[\"4/4/20\"], {\"frame\": {\"duration\": 0, \"redraw\": true}, \"fromcurrent\": true, \"mode\": \"immediate\", \"transition\": {\"duration\": 0, \"easing\": \"linear\"}}], \"label\": \"4/4/20\", \"method\": \"animate\"}, {\"args\": [[\"4/5/20\"], {\"frame\": {\"duration\": 0, \"redraw\": true}, \"fromcurrent\": true, \"mode\": \"immediate\", \"transition\": {\"duration\": 0, \"easing\": \"linear\"}}], \"label\": \"4/5/20\", \"method\": \"animate\"}, {\"args\": [[\"4/6/20\"], {\"frame\": {\"duration\": 0, \"redraw\": true}, \"fromcurrent\": true, \"mode\": \"immediate\", \"transition\": {\"duration\": 0, \"easing\": \"linear\"}}], \"label\": \"4/6/20\", \"method\": \"animate\"}], \"x\": 0.1, \"xanchor\": \"left\", \"y\": 0, \"yanchor\": \"top\"}], \"template\": {\"data\": {\"bar\": [{\"error_x\": {\"color\": \"#2a3f5f\"}, \"error_y\": {\"color\": \"#2a3f5f\"}, \"marker\": {\"line\": {\"color\": \"#E5ECF6\", \"width\": 0.5}}, \"type\": \"bar\"}], \"barpolar\": [{\"marker\": {\"line\": {\"color\": \"#E5ECF6\", \"width\": 0.5}}, \"type\": \"barpolar\"}], \"carpet\": [{\"aaxis\": {\"endlinecolor\": \"#2a3f5f\", \"gridcolor\": \"white\", \"linecolor\": \"white\", \"minorgridcolor\": \"white\", \"startlinecolor\": \"#2a3f5f\"}, \"baxis\": {\"endlinecolor\": \"#2a3f5f\", \"gridcolor\": \"white\", \"linecolor\": \"white\", \"minorgridcolor\": \"white\", \"startlinecolor\": \"#2a3f5f\"}, \"type\": \"carpet\"}], \"choropleth\": [{\"colorbar\": {\"outlinewidth\": 0, \"ticks\": \"\"}, \"type\": \"choropleth\"}], \"contour\": [{\"colorbar\": {\"outlinewidth\": 0, \"ticks\": \"\"}, \"colorscale\": [[0.0, \"#0d0887\"], [0.1111111111111111, \"#46039f\"], [0.2222222222222222, \"#7201a8\"], [0.3333333333333333, \"#9c179e\"], [0.4444444444444444, \"#bd3786\"], [0.5555555555555556, \"#d8576b\"], [0.6666666666666666, \"#ed7953\"], [0.7777777777777778, \"#fb9f3a\"], [0.8888888888888888, \"#fdca26\"], [1.0, \"#f0f921\"]], \"type\": \"contour\"}], \"contourcarpet\": [{\"colorbar\": {\"outlinewidth\": 0, \"ticks\": \"\"}, \"type\": \"contourcarpet\"}], \"heatmap\": [{\"colorbar\": {\"outlinewidth\": 0, \"ticks\": \"\"}, \"colorscale\": [[0.0, \"#0d0887\"], [0.1111111111111111, \"#46039f\"], [0.2222222222222222, \"#7201a8\"], [0.3333333333333333, \"#9c179e\"], [0.4444444444444444, \"#bd3786\"], [0.5555555555555556, \"#d8576b\"], [0.6666666666666666, \"#ed7953\"], [0.7777777777777778, \"#fb9f3a\"], [0.8888888888888888, \"#fdca26\"], [1.0, \"#f0f921\"]], \"type\": \"heatmap\"}], \"heatmapgl\": [{\"colorbar\": {\"outlinewidth\": 0, \"ticks\": \"\"}, \"colorscale\": [[0.0, \"#0d0887\"], [0.1111111111111111, \"#46039f\"], [0.2222222222222222, \"#7201a8\"], [0.3333333333333333, \"#9c179e\"], [0.4444444444444444, \"#bd3786\"], [0.5555555555555556, \"#d8576b\"], [0.6666666666666666, \"#ed7953\"], [0.7777777777777778, \"#fb9f3a\"], [0.8888888888888888, \"#fdca26\"], [1.0, \"#f0f921\"]], \"type\": \"heatmapgl\"}], \"histogram\": [{\"marker\": {\"colorbar\": {\"outlinewidth\": 0, \"ticks\": \"\"}}, \"type\": \"histogram\"}], \"histogram2d\": [{\"colorbar\": {\"outlinewidth\": 0, \"ticks\": \"\"}, \"colorscale\": [[0.0, \"#0d0887\"], [0.1111111111111111, \"#46039f\"], [0.2222222222222222, \"#7201a8\"], [0.3333333333333333, \"#9c179e\"], [0.4444444444444444, \"#bd3786\"], [0.5555555555555556, \"#d8576b\"], [0.6666666666666666, \"#ed7953\"], [0.7777777777777778, \"#fb9f3a\"], [0.8888888888888888, \"#fdca26\"], [1.0, \"#f0f921\"]], \"type\": \"histogram2d\"}], \"histogram2dcontour\": [{\"colorbar\": {\"outlinewidth\": 0, \"ticks\": \"\"}, \"colorscale\": [[0.0, \"#0d0887\"], [0.1111111111111111, \"#46039f\"], [0.2222222222222222, \"#7201a8\"], [0.3333333333333333, \"#9c179e\"], [0.4444444444444444, \"#bd3786\"], [0.5555555555555556, \"#d8576b\"], [0.6666666666666666, \"#ed7953\"], [0.7777777777777778, \"#fb9f3a\"], [0.8888888888888888, \"#fdca26\"], [1.0, \"#f0f921\"]], \"type\": \"histogram2dcontour\"}], \"mesh3d\": [{\"colorbar\": {\"outlinewidth\": 0, \"ticks\": \"\"}, \"type\": \"mesh3d\"}], \"parcoords\": [{\"line\": {\"colorbar\": {\"outlinewidth\": 0, \"ticks\": \"\"}}, \"type\": \"parcoords\"}], \"pie\": [{\"automargin\": true, \"type\": \"pie\"}], \"scatter\": [{\"marker\": {\"colorbar\": {\"outlinewidth\": 0, \"ticks\": \"\"}}, \"type\": \"scatter\"}], \"scatter3d\": [{\"line\": {\"colorbar\": {\"outlinewidth\": 0, \"ticks\": \"\"}}, \"marker\": {\"colorbar\": {\"outlinewidth\": 0, \"ticks\": \"\"}}, \"type\": \"scatter3d\"}], \"scattercarpet\": [{\"marker\": {\"colorbar\": {\"outlinewidth\": 0, \"ticks\": \"\"}}, \"type\": \"scattercarpet\"}], \"scattergeo\": [{\"marker\": {\"colorbar\": {\"outlinewidth\": 0, \"ticks\": \"\"}}, \"type\": \"scattergeo\"}], \"scattergl\": [{\"marker\": {\"colorbar\": {\"outlinewidth\": 0, \"ticks\": \"\"}}, \"type\": \"scattergl\"}], \"scattermapbox\": [{\"marker\": {\"colorbar\": {\"outlinewidth\": 0, \"ticks\": \"\"}}, \"type\": \"scattermapbox\"}], \"scatterpolar\": [{\"marker\": {\"colorbar\": {\"outlinewidth\": 0, \"ticks\": \"\"}}, \"type\": \"scatterpolar\"}], \"scatterpolargl\": [{\"marker\": {\"colorbar\": {\"outlinewidth\": 0, \"ticks\": \"\"}}, \"type\": \"scatterpolargl\"}], \"scatterternary\": [{\"marker\": {\"colorbar\": {\"outlinewidth\": 0, \"ticks\": \"\"}}, \"type\": \"scatterternary\"}], \"surface\": [{\"colorbar\": {\"outlinewidth\": 0, \"ticks\": \"\"}, \"colorscale\": [[0.0, \"#0d0887\"], [0.1111111111111111, \"#46039f\"], [0.2222222222222222, \"#7201a8\"], [0.3333333333333333, \"#9c179e\"], [0.4444444444444444, \"#bd3786\"], [0.5555555555555556, \"#d8576b\"], [0.6666666666666666, \"#ed7953\"], [0.7777777777777778, \"#fb9f3a\"], [0.8888888888888888, \"#fdca26\"], [1.0, \"#f0f921\"]], \"type\": \"surface\"}], \"table\": [{\"cells\": {\"fill\": {\"color\": \"#EBF0F8\"}, \"line\": {\"color\": \"white\"}}, \"header\": {\"fill\": {\"color\": \"#C8D4E3\"}, \"line\": {\"color\": \"white\"}}, \"type\": \"table\"}]}, \"layout\": {\"annotationdefaults\": {\"arrowcolor\": \"#2a3f5f\", \"arrowhead\": 0, \"arrowwidth\": 1}, \"coloraxis\": {\"colorbar\": {\"outlinewidth\": 0, \"ticks\": \"\"}}, \"colorscale\": {\"diverging\": [[0, \"#8e0152\"], [0.1, \"#c51b7d\"], [0.2, \"#de77ae\"], [0.3, \"#f1b6da\"], [0.4, \"#fde0ef\"], [0.5, \"#f7f7f7\"], [0.6, \"#e6f5d0\"], [0.7, \"#b8e186\"], [0.8, \"#7fbc41\"], [0.9, \"#4d9221\"], [1, \"#276419\"]], \"sequential\": [[0.0, \"#0d0887\"], [0.1111111111111111, \"#46039f\"], [0.2222222222222222, \"#7201a8\"], [0.3333333333333333, \"#9c179e\"], [0.4444444444444444, \"#bd3786\"], [0.5555555555555556, \"#d8576b\"], [0.6666666666666666, \"#ed7953\"], [0.7777777777777778, \"#fb9f3a\"], [0.8888888888888888, \"#fdca26\"], [1.0, \"#f0f921\"]], \"sequentialminus\": [[0.0, \"#0d0887\"], [0.1111111111111111, \"#46039f\"], [0.2222222222222222, \"#7201a8\"], [0.3333333333333333, \"#9c179e\"], [0.4444444444444444, \"#bd3786\"], [0.5555555555555556, \"#d8576b\"], [0.6666666666666666, \"#ed7953\"], [0.7777777777777778, \"#fb9f3a\"], [0.8888888888888888, \"#fdca26\"], [1.0, \"#f0f921\"]]}, \"colorway\": [\"#636efa\", \"#EF553B\", \"#00cc96\", \"#ab63fa\", \"#FFA15A\", \"#19d3f3\", \"#FF6692\", \"#B6E880\", \"#FF97FF\", \"#FECB52\"], \"font\": {\"color\": \"#2a3f5f\"}, \"geo\": {\"bgcolor\": \"white\", \"lakecolor\": \"white\", \"landcolor\": \"#E5ECF6\", \"showlakes\": true, \"showland\": true, \"subunitcolor\": \"white\"}, \"hoverlabel\": {\"align\": \"left\"}, \"hovermode\": \"closest\", \"mapbox\": {\"style\": \"light\"}, \"paper_bgcolor\": \"white\", \"plot_bgcolor\": \"#E5ECF6\", \"polar\": {\"angularaxis\": {\"gridcolor\": \"white\", \"linecolor\": \"white\", \"ticks\": \"\"}, \"bgcolor\": \"#E5ECF6\", \"radialaxis\": {\"gridcolor\": \"white\", \"linecolor\": \"white\", \"ticks\": \"\"}}, \"scene\": {\"xaxis\": {\"backgroundcolor\": \"#E5ECF6\", \"gridcolor\": \"white\", \"gridwidth\": 2, \"linecolor\": \"white\", \"showbackground\": true, \"ticks\": \"\", \"zerolinecolor\": \"white\"}, \"yaxis\": {\"backgroundcolor\": \"#E5ECF6\", \"gridcolor\": \"white\", \"gridwidth\": 2, \"linecolor\": \"white\", \"showbackground\": true, \"ticks\": \"\", \"zerolinecolor\": \"white\"}, \"zaxis\": {\"backgroundcolor\": \"#E5ECF6\", \"gridcolor\": \"white\", \"gridwidth\": 2, \"linecolor\": \"white\", \"showbackground\": true, \"ticks\": \"\", \"zerolinecolor\": \"white\"}}, \"shapedefaults\": {\"line\": {\"color\": \"#2a3f5f\"}}, \"ternary\": {\"aaxis\": {\"gridcolor\": \"white\", \"linecolor\": \"white\", \"ticks\": \"\"}, \"baxis\": {\"gridcolor\": \"white\", \"linecolor\": \"white\", \"ticks\": \"\"}, \"bgcolor\": \"#E5ECF6\", \"caxis\": {\"gridcolor\": \"white\", \"linecolor\": \"white\", \"ticks\": \"\"}}, \"title\": {\"x\": 0.05}, \"xaxis\": {\"automargin\": true, \"gridcolor\": \"white\", \"linecolor\": \"white\", \"ticks\": \"\", \"title\": {\"standoff\": 15}, \"zerolinecolor\": \"white\", \"zerolinewidth\": 2}, \"yaxis\": {\"automargin\": true, \"gridcolor\": \"white\", \"linecolor\": \"white\", \"ticks\": \"\", \"title\": {\"standoff\": 15}, \"zerolinecolor\": \"white\", \"zerolinewidth\": 2}}}, \"title\": {\"text\": \"Spread total cases over time\"}, \"updatemenus\": [{\"buttons\": [{\"args\": [null, {\"frame\": {\"duration\": 500, \"redraw\": true}, \"fromcurrent\": true, \"mode\": \"immediate\", \"transition\": {\"duration\": 500, \"easing\": \"linear\"}}], \"label\": \"&#9654;\", \"method\": \"animate\"}, {\"args\": [[null], {\"frame\": {\"duration\": 0, \"redraw\": true}, \"fromcurrent\": true, \"mode\": \"immediate\", \"transition\": {\"duration\": 0, \"easing\": \"linear\"}}], \"label\": \"&#9724;\", \"method\": \"animate\"}], \"direction\": \"left\", \"pad\": {\"r\": 10, \"t\": 70}, \"showactive\": false, \"type\": \"buttons\", \"x\": 0.1, \"xanchor\": \"right\", \"y\": 0, \"yanchor\": \"top\"}]},\n",
       "                        {\"responsive\": true}\n",
       "                    ).then(function(){\n",
       "                            Plotly.addFrames('723709be-e629-4ff5-a25c-83db108b6758', [{\"data\": [{\"customdata\": [[0, 0, 0]], \"hovertemplate\": \"Date=1/22/20<br>size=%{marker.size}<br>Confirmed=%{marker.color}<br>Recovered=%{customdata[1]}<br>Deaths=%{customdata[2]}<br>Lat=%{lat}<br>Long=%{lon}<extra></extra>\", \"lat\": [21.0], \"legendgroup\": \"\", \"lon\": [78.0], \"marker\": {\"color\": [0], \"coloraxis\": \"coloraxis\", \"size\": [0], \"sizemode\": \"area\", \"sizeref\": 1075050000.0}, \"mode\": \"markers\", \"name\": \"\", \"showlegend\": false, \"subplot\": \"mapbox\", \"type\": \"scattermapbox\"}], \"name\": \"1/22/20\"}, {\"data\": [{\"customdata\": [[0, 0, 0]], \"hovertemplate\": \"Date=1/23/20<br>size=%{marker.size}<br>Confirmed=%{marker.color}<br>Recovered=%{customdata[1]}<br>Deaths=%{customdata[2]}<br>Lat=%{lat}<br>Long=%{lon}<extra></extra>\", \"lat\": [21.0], \"legendgroup\": \"\", \"lon\": [78.0], \"marker\": {\"color\": [0], \"coloraxis\": \"coloraxis\", \"size\": [0], \"sizemode\": \"area\", \"sizeref\": 1075050000.0}, \"mode\": \"markers\", \"name\": \"\", \"showlegend\": false, \"subplot\": \"mapbox\", \"type\": \"scattermapbox\"}], \"name\": \"1/23/20\"}, {\"data\": [{\"customdata\": [[0, 0, 0]], \"hovertemplate\": \"Date=1/24/20<br>size=%{marker.size}<br>Confirmed=%{marker.color}<br>Recovered=%{customdata[1]}<br>Deaths=%{customdata[2]}<br>Lat=%{lat}<br>Long=%{lon}<extra></extra>\", \"lat\": [21.0], \"legendgroup\": \"\", \"lon\": [78.0], \"marker\": {\"color\": [0], \"coloraxis\": \"coloraxis\", \"size\": [0], \"sizemode\": \"area\", \"sizeref\": 1075050000.0}, \"mode\": \"markers\", \"name\": \"\", \"showlegend\": false, \"subplot\": \"mapbox\", \"type\": \"scattermapbox\"}], \"name\": \"1/24/20\"}, {\"data\": [{\"customdata\": [[0, 0, 0]], \"hovertemplate\": \"Date=1/25/20<br>size=%{marker.size}<br>Confirmed=%{marker.color}<br>Recovered=%{customdata[1]}<br>Deaths=%{customdata[2]}<br>Lat=%{lat}<br>Long=%{lon}<extra></extra>\", \"lat\": [21.0], \"legendgroup\": \"\", \"lon\": [78.0], \"marker\": {\"color\": [0], \"coloraxis\": \"coloraxis\", \"size\": [0], \"sizemode\": \"area\", \"sizeref\": 1075050000.0}, \"mode\": \"markers\", \"name\": \"\", \"showlegend\": false, \"subplot\": \"mapbox\", \"type\": \"scattermapbox\"}], \"name\": \"1/25/20\"}, {\"data\": [{\"customdata\": [[0, 0, 0]], \"hovertemplate\": \"Date=1/26/20<br>size=%{marker.size}<br>Confirmed=%{marker.color}<br>Recovered=%{customdata[1]}<br>Deaths=%{customdata[2]}<br>Lat=%{lat}<br>Long=%{lon}<extra></extra>\", \"lat\": [21.0], \"legendgroup\": \"\", \"lon\": [78.0], \"marker\": {\"color\": [0], \"coloraxis\": \"coloraxis\", \"size\": [0], \"sizemode\": \"area\", \"sizeref\": 1075050000.0}, \"mode\": \"markers\", \"name\": \"\", \"showlegend\": false, \"subplot\": \"mapbox\", \"type\": \"scattermapbox\"}], \"name\": \"1/26/20\"}, {\"data\": [{\"customdata\": [[0, 0, 0]], \"hovertemplate\": \"Date=1/27/20<br>size=%{marker.size}<br>Confirmed=%{marker.color}<br>Recovered=%{customdata[1]}<br>Deaths=%{customdata[2]}<br>Lat=%{lat}<br>Long=%{lon}<extra></extra>\", \"lat\": [21.0], \"legendgroup\": \"\", \"lon\": [78.0], \"marker\": {\"color\": [0], \"coloraxis\": \"coloraxis\", \"size\": [0], \"sizemode\": \"area\", \"sizeref\": 1075050000.0}, \"mode\": \"markers\", \"name\": \"\", \"showlegend\": false, \"subplot\": \"mapbox\", \"type\": \"scattermapbox\"}], \"name\": \"1/27/20\"}, {\"data\": [{\"customdata\": [[0, 0, 0]], \"hovertemplate\": \"Date=1/28/20<br>size=%{marker.size}<br>Confirmed=%{marker.color}<br>Recovered=%{customdata[1]}<br>Deaths=%{customdata[2]}<br>Lat=%{lat}<br>Long=%{lon}<extra></extra>\", \"lat\": [21.0], \"legendgroup\": \"\", \"lon\": [78.0], \"marker\": {\"color\": [0], \"coloraxis\": \"coloraxis\", \"size\": [0], \"sizemode\": \"area\", \"sizeref\": 1075050000.0}, \"mode\": \"markers\", \"name\": \"\", \"showlegend\": false, \"subplot\": \"mapbox\", \"type\": \"scattermapbox\"}], \"name\": \"1/28/20\"}, {\"data\": [{\"customdata\": [[0, 0, 0]], \"hovertemplate\": \"Date=1/29/20<br>size=%{marker.size}<br>Confirmed=%{marker.color}<br>Recovered=%{customdata[1]}<br>Deaths=%{customdata[2]}<br>Lat=%{lat}<br>Long=%{lon}<extra></extra>\", \"lat\": [21.0], \"legendgroup\": \"\", \"lon\": [78.0], \"marker\": {\"color\": [0], \"coloraxis\": \"coloraxis\", \"size\": [0], \"sizemode\": \"area\", \"sizeref\": 1075050000.0}, \"mode\": \"markers\", \"name\": \"\", \"showlegend\": false, \"subplot\": \"mapbox\", \"type\": \"scattermapbox\"}], \"name\": \"1/29/20\"}, {\"data\": [{\"customdata\": [[1, 0, 0]], \"hovertemplate\": \"Date=1/30/20<br>size=%{marker.size}<br>Confirmed=%{marker.color}<br>Recovered=%{customdata[1]}<br>Deaths=%{customdata[2]}<br>Lat=%{lat}<br>Long=%{lon}<extra></extra>\", \"lat\": [21.0], \"legendgroup\": \"\", \"lon\": [78.0], \"marker\": {\"color\": [1], \"coloraxis\": \"coloraxis\", \"size\": [90000000], \"sizemode\": \"area\", \"sizeref\": 1075050000.0}, \"mode\": \"markers\", \"name\": \"\", \"showlegend\": false, \"subplot\": \"mapbox\", \"type\": \"scattermapbox\"}], \"name\": \"1/30/20\"}, {\"data\": [{\"customdata\": [[1, 0, 0]], \"hovertemplate\": \"Date=1/31/20<br>size=%{marker.size}<br>Confirmed=%{marker.color}<br>Recovered=%{customdata[1]}<br>Deaths=%{customdata[2]}<br>Lat=%{lat}<br>Long=%{lon}<extra></extra>\", \"lat\": [21.0], \"legendgroup\": \"\", \"lon\": [78.0], \"marker\": {\"color\": [1], \"coloraxis\": \"coloraxis\", \"size\": [90000000], \"sizemode\": \"area\", \"sizeref\": 1075050000.0}, \"mode\": \"markers\", \"name\": \"\", \"showlegend\": false, \"subplot\": \"mapbox\", \"type\": \"scattermapbox\"}], \"name\": \"1/31/20\"}, {\"data\": [{\"customdata\": [[1, 0, 0]], \"hovertemplate\": \"Date=2/1/20<br>size=%{marker.size}<br>Confirmed=%{marker.color}<br>Recovered=%{customdata[1]}<br>Deaths=%{customdata[2]}<br>Lat=%{lat}<br>Long=%{lon}<extra></extra>\", \"lat\": [21.0], \"legendgroup\": \"\", \"lon\": [78.0], \"marker\": {\"color\": [1], \"coloraxis\": \"coloraxis\", \"size\": [90000000], \"sizemode\": \"area\", \"sizeref\": 1075050000.0}, \"mode\": \"markers\", \"name\": \"\", \"showlegend\": false, \"subplot\": \"mapbox\", \"type\": \"scattermapbox\"}], \"name\": \"2/1/20\"}, {\"data\": [{\"customdata\": [[3, 0, 0]], \"hovertemplate\": \"Date=2/10/20<br>size=%{marker.size}<br>Confirmed=%{marker.color}<br>Recovered=%{customdata[1]}<br>Deaths=%{customdata[2]}<br>Lat=%{lat}<br>Long=%{lon}<extra></extra>\", \"lat\": [21.0], \"legendgroup\": \"\", \"lon\": [78.0], \"marker\": {\"color\": [3], \"coloraxis\": \"coloraxis\", \"size\": [270000000], \"sizemode\": \"area\", \"sizeref\": 1075050000.0}, \"mode\": \"markers\", \"name\": \"\", \"showlegend\": false, \"subplot\": \"mapbox\", \"type\": \"scattermapbox\"}], \"name\": \"2/10/20\"}, {\"data\": [{\"customdata\": [[3, 0, 0]], \"hovertemplate\": \"Date=2/11/20<br>size=%{marker.size}<br>Confirmed=%{marker.color}<br>Recovered=%{customdata[1]}<br>Deaths=%{customdata[2]}<br>Lat=%{lat}<br>Long=%{lon}<extra></extra>\", \"lat\": [21.0], \"legendgroup\": \"\", \"lon\": [78.0], \"marker\": {\"color\": [3], \"coloraxis\": \"coloraxis\", \"size\": [270000000], \"sizemode\": \"area\", \"sizeref\": 1075050000.0}, \"mode\": \"markers\", \"name\": \"\", \"showlegend\": false, \"subplot\": \"mapbox\", \"type\": \"scattermapbox\"}], \"name\": \"2/11/20\"}, {\"data\": [{\"customdata\": [[3, 0, 0]], \"hovertemplate\": \"Date=2/12/20<br>size=%{marker.size}<br>Confirmed=%{marker.color}<br>Recovered=%{customdata[1]}<br>Deaths=%{customdata[2]}<br>Lat=%{lat}<br>Long=%{lon}<extra></extra>\", \"lat\": [21.0], \"legendgroup\": \"\", \"lon\": [78.0], \"marker\": {\"color\": [3], \"coloraxis\": \"coloraxis\", \"size\": [270000000], \"sizemode\": \"area\", \"sizeref\": 1075050000.0}, \"mode\": \"markers\", \"name\": \"\", \"showlegend\": false, \"subplot\": \"mapbox\", \"type\": \"scattermapbox\"}], \"name\": \"2/12/20\"}, {\"data\": [{\"customdata\": [[3, 0, 0]], \"hovertemplate\": \"Date=2/13/20<br>size=%{marker.size}<br>Confirmed=%{marker.color}<br>Recovered=%{customdata[1]}<br>Deaths=%{customdata[2]}<br>Lat=%{lat}<br>Long=%{lon}<extra></extra>\", \"lat\": [21.0], \"legendgroup\": \"\", \"lon\": [78.0], \"marker\": {\"color\": [3], \"coloraxis\": \"coloraxis\", \"size\": [270000000], \"sizemode\": \"area\", \"sizeref\": 1075050000.0}, \"mode\": \"markers\", \"name\": \"\", \"showlegend\": false, \"subplot\": \"mapbox\", \"type\": \"scattermapbox\"}], \"name\": \"2/13/20\"}, {\"data\": [{\"customdata\": [[3, 0, 0]], \"hovertemplate\": \"Date=2/14/20<br>size=%{marker.size}<br>Confirmed=%{marker.color}<br>Recovered=%{customdata[1]}<br>Deaths=%{customdata[2]}<br>Lat=%{lat}<br>Long=%{lon}<extra></extra>\", \"lat\": [21.0], \"legendgroup\": \"\", \"lon\": [78.0], \"marker\": {\"color\": [3], \"coloraxis\": \"coloraxis\", \"size\": [270000000], \"sizemode\": \"area\", \"sizeref\": 1075050000.0}, \"mode\": \"markers\", \"name\": \"\", \"showlegend\": false, \"subplot\": \"mapbox\", \"type\": \"scattermapbox\"}], \"name\": \"2/14/20\"}, {\"data\": [{\"customdata\": [[3, 0, 0]], \"hovertemplate\": \"Date=2/15/20<br>size=%{marker.size}<br>Confirmed=%{marker.color}<br>Recovered=%{customdata[1]}<br>Deaths=%{customdata[2]}<br>Lat=%{lat}<br>Long=%{lon}<extra></extra>\", \"lat\": [21.0], \"legendgroup\": \"\", \"lon\": [78.0], \"marker\": {\"color\": [3], \"coloraxis\": \"coloraxis\", \"size\": [270000000], \"sizemode\": \"area\", \"sizeref\": 1075050000.0}, \"mode\": \"markers\", \"name\": \"\", \"showlegend\": false, \"subplot\": \"mapbox\", \"type\": \"scattermapbox\"}], \"name\": \"2/15/20\"}, {\"data\": [{\"customdata\": [[3, 3, 0]], \"hovertemplate\": \"Date=2/16/20<br>size=%{marker.size}<br>Confirmed=%{marker.color}<br>Recovered=%{customdata[1]}<br>Deaths=%{customdata[2]}<br>Lat=%{lat}<br>Long=%{lon}<extra></extra>\", \"lat\": [21.0], \"legendgroup\": \"\", \"lon\": [78.0], \"marker\": {\"color\": [3], \"coloraxis\": \"coloraxis\", \"size\": [270000000], \"sizemode\": \"area\", \"sizeref\": 1075050000.0}, \"mode\": \"markers\", \"name\": \"\", \"showlegend\": false, \"subplot\": \"mapbox\", \"type\": \"scattermapbox\"}], \"name\": \"2/16/20\"}, {\"data\": [{\"customdata\": [[3, 3, 0]], \"hovertemplate\": \"Date=2/17/20<br>size=%{marker.size}<br>Confirmed=%{marker.color}<br>Recovered=%{customdata[1]}<br>Deaths=%{customdata[2]}<br>Lat=%{lat}<br>Long=%{lon}<extra></extra>\", \"lat\": [21.0], \"legendgroup\": \"\", \"lon\": [78.0], \"marker\": {\"color\": [3], \"coloraxis\": \"coloraxis\", \"size\": [270000000], \"sizemode\": \"area\", \"sizeref\": 1075050000.0}, \"mode\": \"markers\", \"name\": \"\", \"showlegend\": false, \"subplot\": \"mapbox\", \"type\": \"scattermapbox\"}], \"name\": \"2/17/20\"}, {\"data\": [{\"customdata\": [[3, 3, 0]], \"hovertemplate\": \"Date=2/18/20<br>size=%{marker.size}<br>Confirmed=%{marker.color}<br>Recovered=%{customdata[1]}<br>Deaths=%{customdata[2]}<br>Lat=%{lat}<br>Long=%{lon}<extra></extra>\", \"lat\": [21.0], \"legendgroup\": \"\", \"lon\": [78.0], \"marker\": {\"color\": [3], \"coloraxis\": \"coloraxis\", \"size\": [270000000], \"sizemode\": \"area\", \"sizeref\": 1075050000.0}, \"mode\": \"markers\", \"name\": \"\", \"showlegend\": false, \"subplot\": \"mapbox\", \"type\": \"scattermapbox\"}], \"name\": \"2/18/20\"}, {\"data\": [{\"customdata\": [[3, 3, 0]], \"hovertemplate\": \"Date=2/19/20<br>size=%{marker.size}<br>Confirmed=%{marker.color}<br>Recovered=%{customdata[1]}<br>Deaths=%{customdata[2]}<br>Lat=%{lat}<br>Long=%{lon}<extra></extra>\", \"lat\": [21.0], \"legendgroup\": \"\", \"lon\": [78.0], \"marker\": {\"color\": [3], \"coloraxis\": \"coloraxis\", \"size\": [270000000], \"sizemode\": \"area\", \"sizeref\": 1075050000.0}, \"mode\": \"markers\", \"name\": \"\", \"showlegend\": false, \"subplot\": \"mapbox\", \"type\": \"scattermapbox\"}], \"name\": \"2/19/20\"}, {\"data\": [{\"customdata\": [[2, 0, 0]], \"hovertemplate\": \"Date=2/2/20<br>size=%{marker.size}<br>Confirmed=%{marker.color}<br>Recovered=%{customdata[1]}<br>Deaths=%{customdata[2]}<br>Lat=%{lat}<br>Long=%{lon}<extra></extra>\", \"lat\": [21.0], \"legendgroup\": \"\", \"lon\": [78.0], \"marker\": {\"color\": [2], \"coloraxis\": \"coloraxis\", \"size\": [180000000], \"sizemode\": \"area\", \"sizeref\": 1075050000.0}, \"mode\": \"markers\", \"name\": \"\", \"showlegend\": false, \"subplot\": \"mapbox\", \"type\": \"scattermapbox\"}], \"name\": \"2/2/20\"}, {\"data\": [{\"customdata\": [[3, 3, 0]], \"hovertemplate\": \"Date=2/20/20<br>size=%{marker.size}<br>Confirmed=%{marker.color}<br>Recovered=%{customdata[1]}<br>Deaths=%{customdata[2]}<br>Lat=%{lat}<br>Long=%{lon}<extra></extra>\", \"lat\": [21.0], \"legendgroup\": \"\", \"lon\": [78.0], \"marker\": {\"color\": [3], \"coloraxis\": \"coloraxis\", \"size\": [270000000], \"sizemode\": \"area\", \"sizeref\": 1075050000.0}, \"mode\": \"markers\", \"name\": \"\", \"showlegend\": false, \"subplot\": \"mapbox\", \"type\": \"scattermapbox\"}], \"name\": \"2/20/20\"}, {\"data\": [{\"customdata\": [[3, 3, 0]], \"hovertemplate\": \"Date=2/21/20<br>size=%{marker.size}<br>Confirmed=%{marker.color}<br>Recovered=%{customdata[1]}<br>Deaths=%{customdata[2]}<br>Lat=%{lat}<br>Long=%{lon}<extra></extra>\", \"lat\": [21.0], \"legendgroup\": \"\", \"lon\": [78.0], \"marker\": {\"color\": [3], \"coloraxis\": \"coloraxis\", \"size\": [270000000], \"sizemode\": \"area\", \"sizeref\": 1075050000.0}, \"mode\": \"markers\", \"name\": \"\", \"showlegend\": false, \"subplot\": \"mapbox\", \"type\": \"scattermapbox\"}], \"name\": \"2/21/20\"}, {\"data\": [{\"customdata\": [[3, 3, 0]], \"hovertemplate\": \"Date=2/22/20<br>size=%{marker.size}<br>Confirmed=%{marker.color}<br>Recovered=%{customdata[1]}<br>Deaths=%{customdata[2]}<br>Lat=%{lat}<br>Long=%{lon}<extra></extra>\", \"lat\": [21.0], \"legendgroup\": \"\", \"lon\": [78.0], \"marker\": {\"color\": [3], \"coloraxis\": \"coloraxis\", \"size\": [270000000], \"sizemode\": \"area\", \"sizeref\": 1075050000.0}, \"mode\": \"markers\", \"name\": \"\", \"showlegend\": false, \"subplot\": \"mapbox\", \"type\": \"scattermapbox\"}], \"name\": \"2/22/20\"}, {\"data\": [{\"customdata\": [[3, 3, 0]], \"hovertemplate\": \"Date=2/23/20<br>size=%{marker.size}<br>Confirmed=%{marker.color}<br>Recovered=%{customdata[1]}<br>Deaths=%{customdata[2]}<br>Lat=%{lat}<br>Long=%{lon}<extra></extra>\", \"lat\": [21.0], \"legendgroup\": \"\", \"lon\": [78.0], \"marker\": {\"color\": [3], \"coloraxis\": \"coloraxis\", \"size\": [270000000], \"sizemode\": \"area\", \"sizeref\": 1075050000.0}, \"mode\": \"markers\", \"name\": \"\", \"showlegend\": false, \"subplot\": \"mapbox\", \"type\": \"scattermapbox\"}], \"name\": \"2/23/20\"}, {\"data\": [{\"customdata\": [[3, 3, 0]], \"hovertemplate\": \"Date=2/24/20<br>size=%{marker.size}<br>Confirmed=%{marker.color}<br>Recovered=%{customdata[1]}<br>Deaths=%{customdata[2]}<br>Lat=%{lat}<br>Long=%{lon}<extra></extra>\", \"lat\": [21.0], \"legendgroup\": \"\", \"lon\": [78.0], \"marker\": {\"color\": [3], \"coloraxis\": \"coloraxis\", \"size\": [270000000], \"sizemode\": \"area\", \"sizeref\": 1075050000.0}, \"mode\": \"markers\", \"name\": \"\", \"showlegend\": false, \"subplot\": \"mapbox\", \"type\": \"scattermapbox\"}], \"name\": \"2/24/20\"}, {\"data\": [{\"customdata\": [[3, 3, 0]], \"hovertemplate\": \"Date=2/25/20<br>size=%{marker.size}<br>Confirmed=%{marker.color}<br>Recovered=%{customdata[1]}<br>Deaths=%{customdata[2]}<br>Lat=%{lat}<br>Long=%{lon}<extra></extra>\", \"lat\": [21.0], \"legendgroup\": \"\", \"lon\": [78.0], \"marker\": {\"color\": [3], \"coloraxis\": \"coloraxis\", \"size\": [270000000], \"sizemode\": \"area\", \"sizeref\": 1075050000.0}, \"mode\": \"markers\", \"name\": \"\", \"showlegend\": false, \"subplot\": \"mapbox\", \"type\": \"scattermapbox\"}], \"name\": \"2/25/20\"}, {\"data\": [{\"customdata\": [[3, 3, 0]], \"hovertemplate\": \"Date=2/26/20<br>size=%{marker.size}<br>Confirmed=%{marker.color}<br>Recovered=%{customdata[1]}<br>Deaths=%{customdata[2]}<br>Lat=%{lat}<br>Long=%{lon}<extra></extra>\", \"lat\": [21.0], \"legendgroup\": \"\", \"lon\": [78.0], \"marker\": {\"color\": [3], \"coloraxis\": \"coloraxis\", \"size\": [270000000], \"sizemode\": \"area\", \"sizeref\": 1075050000.0}, \"mode\": \"markers\", \"name\": \"\", \"showlegend\": false, \"subplot\": \"mapbox\", \"type\": \"scattermapbox\"}], \"name\": \"2/26/20\"}, {\"data\": [{\"customdata\": [[3, 3, 0]], \"hovertemplate\": \"Date=2/27/20<br>size=%{marker.size}<br>Confirmed=%{marker.color}<br>Recovered=%{customdata[1]}<br>Deaths=%{customdata[2]}<br>Lat=%{lat}<br>Long=%{lon}<extra></extra>\", \"lat\": [21.0], \"legendgroup\": \"\", \"lon\": [78.0], \"marker\": {\"color\": [3], \"coloraxis\": \"coloraxis\", \"size\": [270000000], \"sizemode\": \"area\", \"sizeref\": 1075050000.0}, \"mode\": \"markers\", \"name\": \"\", \"showlegend\": false, \"subplot\": \"mapbox\", \"type\": \"scattermapbox\"}], \"name\": \"2/27/20\"}, {\"data\": [{\"customdata\": [[3, 3, 0]], \"hovertemplate\": \"Date=2/28/20<br>size=%{marker.size}<br>Confirmed=%{marker.color}<br>Recovered=%{customdata[1]}<br>Deaths=%{customdata[2]}<br>Lat=%{lat}<br>Long=%{lon}<extra></extra>\", \"lat\": [21.0], \"legendgroup\": \"\", \"lon\": [78.0], \"marker\": {\"color\": [3], \"coloraxis\": \"coloraxis\", \"size\": [270000000], \"sizemode\": \"area\", \"sizeref\": 1075050000.0}, \"mode\": \"markers\", \"name\": \"\", \"showlegend\": false, \"subplot\": \"mapbox\", \"type\": \"scattermapbox\"}], \"name\": \"2/28/20\"}, {\"data\": [{\"customdata\": [[3, 3, 0]], \"hovertemplate\": \"Date=2/29/20<br>size=%{marker.size}<br>Confirmed=%{marker.color}<br>Recovered=%{customdata[1]}<br>Deaths=%{customdata[2]}<br>Lat=%{lat}<br>Long=%{lon}<extra></extra>\", \"lat\": [21.0], \"legendgroup\": \"\", \"lon\": [78.0], \"marker\": {\"color\": [3], \"coloraxis\": \"coloraxis\", \"size\": [270000000], \"sizemode\": \"area\", \"sizeref\": 1075050000.0}, \"mode\": \"markers\", \"name\": \"\", \"showlegend\": false, \"subplot\": \"mapbox\", \"type\": \"scattermapbox\"}], \"name\": \"2/29/20\"}, {\"data\": [{\"customdata\": [[3, 0, 0]], \"hovertemplate\": \"Date=2/3/20<br>size=%{marker.size}<br>Confirmed=%{marker.color}<br>Recovered=%{customdata[1]}<br>Deaths=%{customdata[2]}<br>Lat=%{lat}<br>Long=%{lon}<extra></extra>\", \"lat\": [21.0], \"legendgroup\": \"\", \"lon\": [78.0], \"marker\": {\"color\": [3], \"coloraxis\": \"coloraxis\", \"size\": [270000000], \"sizemode\": \"area\", \"sizeref\": 1075050000.0}, \"mode\": \"markers\", \"name\": \"\", \"showlegend\": false, \"subplot\": \"mapbox\", \"type\": \"scattermapbox\"}], \"name\": \"2/3/20\"}, {\"data\": [{\"customdata\": [[3, 0, 0]], \"hovertemplate\": \"Date=2/4/20<br>size=%{marker.size}<br>Confirmed=%{marker.color}<br>Recovered=%{customdata[1]}<br>Deaths=%{customdata[2]}<br>Lat=%{lat}<br>Long=%{lon}<extra></extra>\", \"lat\": [21.0], \"legendgroup\": \"\", \"lon\": [78.0], \"marker\": {\"color\": [3], \"coloraxis\": \"coloraxis\", \"size\": [270000000], \"sizemode\": \"area\", \"sizeref\": 1075050000.0}, \"mode\": \"markers\", \"name\": \"\", \"showlegend\": false, \"subplot\": \"mapbox\", \"type\": \"scattermapbox\"}], \"name\": \"2/4/20\"}, {\"data\": [{\"customdata\": [[3, 0, 0]], \"hovertemplate\": \"Date=2/5/20<br>size=%{marker.size}<br>Confirmed=%{marker.color}<br>Recovered=%{customdata[1]}<br>Deaths=%{customdata[2]}<br>Lat=%{lat}<br>Long=%{lon}<extra></extra>\", \"lat\": [21.0], \"legendgroup\": \"\", \"lon\": [78.0], \"marker\": {\"color\": [3], \"coloraxis\": \"coloraxis\", \"size\": [270000000], \"sizemode\": \"area\", \"sizeref\": 1075050000.0}, \"mode\": \"markers\", \"name\": \"\", \"showlegend\": false, \"subplot\": \"mapbox\", \"type\": \"scattermapbox\"}], \"name\": \"2/5/20\"}, {\"data\": [{\"customdata\": [[3, 0, 0]], \"hovertemplate\": \"Date=2/6/20<br>size=%{marker.size}<br>Confirmed=%{marker.color}<br>Recovered=%{customdata[1]}<br>Deaths=%{customdata[2]}<br>Lat=%{lat}<br>Long=%{lon}<extra></extra>\", \"lat\": [21.0], \"legendgroup\": \"\", \"lon\": [78.0], \"marker\": {\"color\": [3], \"coloraxis\": \"coloraxis\", \"size\": [270000000], \"sizemode\": \"area\", \"sizeref\": 1075050000.0}, \"mode\": \"markers\", \"name\": \"\", \"showlegend\": false, \"subplot\": \"mapbox\", \"type\": \"scattermapbox\"}], \"name\": \"2/6/20\"}, {\"data\": [{\"customdata\": [[3, 0, 0]], \"hovertemplate\": \"Date=2/7/20<br>size=%{marker.size}<br>Confirmed=%{marker.color}<br>Recovered=%{customdata[1]}<br>Deaths=%{customdata[2]}<br>Lat=%{lat}<br>Long=%{lon}<extra></extra>\", \"lat\": [21.0], \"legendgroup\": \"\", \"lon\": [78.0], \"marker\": {\"color\": [3], \"coloraxis\": \"coloraxis\", \"size\": [270000000], \"sizemode\": \"area\", \"sizeref\": 1075050000.0}, \"mode\": \"markers\", \"name\": \"\", \"showlegend\": false, \"subplot\": \"mapbox\", \"type\": \"scattermapbox\"}], \"name\": \"2/7/20\"}, {\"data\": [{\"customdata\": [[3, 0, 0]], \"hovertemplate\": \"Date=2/8/20<br>size=%{marker.size}<br>Confirmed=%{marker.color}<br>Recovered=%{customdata[1]}<br>Deaths=%{customdata[2]}<br>Lat=%{lat}<br>Long=%{lon}<extra></extra>\", \"lat\": [21.0], \"legendgroup\": \"\", \"lon\": [78.0], \"marker\": {\"color\": [3], \"coloraxis\": \"coloraxis\", \"size\": [270000000], \"sizemode\": \"area\", \"sizeref\": 1075050000.0}, \"mode\": \"markers\", \"name\": \"\", \"showlegend\": false, \"subplot\": \"mapbox\", \"type\": \"scattermapbox\"}], \"name\": \"2/8/20\"}, {\"data\": [{\"customdata\": [[3, 0, 0]], \"hovertemplate\": \"Date=2/9/20<br>size=%{marker.size}<br>Confirmed=%{marker.color}<br>Recovered=%{customdata[1]}<br>Deaths=%{customdata[2]}<br>Lat=%{lat}<br>Long=%{lon}<extra></extra>\", \"lat\": [21.0], \"legendgroup\": \"\", \"lon\": [78.0], \"marker\": {\"color\": [3], \"coloraxis\": \"coloraxis\", \"size\": [270000000], \"sizemode\": \"area\", \"sizeref\": 1075050000.0}, \"mode\": \"markers\", \"name\": \"\", \"showlegend\": false, \"subplot\": \"mapbox\", \"type\": \"scattermapbox\"}], \"name\": \"2/9/20\"}, {\"data\": [{\"customdata\": [[3, 3, 0]], \"hovertemplate\": \"Date=3/1/20<br>size=%{marker.size}<br>Confirmed=%{marker.color}<br>Recovered=%{customdata[1]}<br>Deaths=%{customdata[2]}<br>Lat=%{lat}<br>Long=%{lon}<extra></extra>\", \"lat\": [21.0], \"legendgroup\": \"\", \"lon\": [78.0], \"marker\": {\"color\": [3], \"coloraxis\": \"coloraxis\", \"size\": [270000000], \"sizemode\": \"area\", \"sizeref\": 1075050000.0}, \"mode\": \"markers\", \"name\": \"\", \"showlegend\": false, \"subplot\": \"mapbox\", \"type\": \"scattermapbox\"}], \"name\": \"3/1/20\"}, {\"data\": [{\"customdata\": [[56, 4, 0]], \"hovertemplate\": \"Date=3/10/20<br>size=%{marker.size}<br>Confirmed=%{marker.color}<br>Recovered=%{customdata[1]}<br>Deaths=%{customdata[2]}<br>Lat=%{lat}<br>Long=%{lon}<extra></extra>\", \"lat\": [21.0], \"legendgroup\": \"\", \"lon\": [78.0], \"marker\": {\"color\": [56], \"coloraxis\": \"coloraxis\", \"size\": [5040000000], \"sizemode\": \"area\", \"sizeref\": 1075050000.0}, \"mode\": \"markers\", \"name\": \"\", \"showlegend\": false, \"subplot\": \"mapbox\", \"type\": \"scattermapbox\"}], \"name\": \"3/10/20\"}, {\"data\": [{\"customdata\": [[62, 4, 1]], \"hovertemplate\": \"Date=3/11/20<br>size=%{marker.size}<br>Confirmed=%{marker.color}<br>Recovered=%{customdata[1]}<br>Deaths=%{customdata[2]}<br>Lat=%{lat}<br>Long=%{lon}<extra></extra>\", \"lat\": [21.0], \"legendgroup\": \"\", \"lon\": [78.0], \"marker\": {\"color\": [62], \"coloraxis\": \"coloraxis\", \"size\": [5580000000], \"sizemode\": \"area\", \"sizeref\": 1075050000.0}, \"mode\": \"markers\", \"name\": \"\", \"showlegend\": false, \"subplot\": \"mapbox\", \"type\": \"scattermapbox\"}], \"name\": \"3/11/20\"}, {\"data\": [{\"customdata\": [[73, 4, 1]], \"hovertemplate\": \"Date=3/12/20<br>size=%{marker.size}<br>Confirmed=%{marker.color}<br>Recovered=%{customdata[1]}<br>Deaths=%{customdata[2]}<br>Lat=%{lat}<br>Long=%{lon}<extra></extra>\", \"lat\": [21.0], \"legendgroup\": \"\", \"lon\": [78.0], \"marker\": {\"color\": [73], \"coloraxis\": \"coloraxis\", \"size\": [6570000000], \"sizemode\": \"area\", \"sizeref\": 1075050000.0}, \"mode\": \"markers\", \"name\": \"\", \"showlegend\": false, \"subplot\": \"mapbox\", \"type\": \"scattermapbox\"}], \"name\": \"3/12/20\"}, {\"data\": [{\"customdata\": [[82, 4, 2]], \"hovertemplate\": \"Date=3/13/20<br>size=%{marker.size}<br>Confirmed=%{marker.color}<br>Recovered=%{customdata[1]}<br>Deaths=%{customdata[2]}<br>Lat=%{lat}<br>Long=%{lon}<extra></extra>\", \"lat\": [21.0], \"legendgroup\": \"\", \"lon\": [78.0], \"marker\": {\"color\": [82], \"coloraxis\": \"coloraxis\", \"size\": [7380000000], \"sizemode\": \"area\", \"sizeref\": 1075050000.0}, \"mode\": \"markers\", \"name\": \"\", \"showlegend\": false, \"subplot\": \"mapbox\", \"type\": \"scattermapbox\"}], \"name\": \"3/13/20\"}, {\"data\": [{\"customdata\": [[102, 4, 2]], \"hovertemplate\": \"Date=3/14/20<br>size=%{marker.size}<br>Confirmed=%{marker.color}<br>Recovered=%{customdata[1]}<br>Deaths=%{customdata[2]}<br>Lat=%{lat}<br>Long=%{lon}<extra></extra>\", \"lat\": [21.0], \"legendgroup\": \"\", \"lon\": [78.0], \"marker\": {\"color\": [102], \"coloraxis\": \"coloraxis\", \"size\": [9180000000], \"sizemode\": \"area\", \"sizeref\": 1075050000.0}, \"mode\": \"markers\", \"name\": \"\", \"showlegend\": false, \"subplot\": \"mapbox\", \"type\": \"scattermapbox\"}], \"name\": \"3/14/20\"}, {\"data\": [{\"customdata\": [[113, 13, 2]], \"hovertemplate\": \"Date=3/15/20<br>size=%{marker.size}<br>Confirmed=%{marker.color}<br>Recovered=%{customdata[1]}<br>Deaths=%{customdata[2]}<br>Lat=%{lat}<br>Long=%{lon}<extra></extra>\", \"lat\": [21.0], \"legendgroup\": \"\", \"lon\": [78.0], \"marker\": {\"color\": [113], \"coloraxis\": \"coloraxis\", \"size\": [10170000000], \"sizemode\": \"area\", \"sizeref\": 1075050000.0}, \"mode\": \"markers\", \"name\": \"\", \"showlegend\": false, \"subplot\": \"mapbox\", \"type\": \"scattermapbox\"}], \"name\": \"3/15/20\"}, {\"data\": [{\"customdata\": [[119, 13, 2]], \"hovertemplate\": \"Date=3/16/20<br>size=%{marker.size}<br>Confirmed=%{marker.color}<br>Recovered=%{customdata[1]}<br>Deaths=%{customdata[2]}<br>Lat=%{lat}<br>Long=%{lon}<extra></extra>\", \"lat\": [21.0], \"legendgroup\": \"\", \"lon\": [78.0], \"marker\": {\"color\": [119], \"coloraxis\": \"coloraxis\", \"size\": [10710000000], \"sizemode\": \"area\", \"sizeref\": 1075050000.0}, \"mode\": \"markers\", \"name\": \"\", \"showlegend\": false, \"subplot\": \"mapbox\", \"type\": \"scattermapbox\"}], \"name\": \"3/16/20\"}, {\"data\": [{\"customdata\": [[142, 14, 3]], \"hovertemplate\": \"Date=3/17/20<br>size=%{marker.size}<br>Confirmed=%{marker.color}<br>Recovered=%{customdata[1]}<br>Deaths=%{customdata[2]}<br>Lat=%{lat}<br>Long=%{lon}<extra></extra>\", \"lat\": [21.0], \"legendgroup\": \"\", \"lon\": [78.0], \"marker\": {\"color\": [142], \"coloraxis\": \"coloraxis\", \"size\": [12780000000], \"sizemode\": \"area\", \"sizeref\": 1075050000.0}, \"mode\": \"markers\", \"name\": \"\", \"showlegend\": false, \"subplot\": \"mapbox\", \"type\": \"scattermapbox\"}], \"name\": \"3/17/20\"}, {\"data\": [{\"customdata\": [[156, 14, 3]], \"hovertemplate\": \"Date=3/18/20<br>size=%{marker.size}<br>Confirmed=%{marker.color}<br>Recovered=%{customdata[1]}<br>Deaths=%{customdata[2]}<br>Lat=%{lat}<br>Long=%{lon}<extra></extra>\", \"lat\": [21.0], \"legendgroup\": \"\", \"lon\": [78.0], \"marker\": {\"color\": [156], \"coloraxis\": \"coloraxis\", \"size\": [14040000000], \"sizemode\": \"area\", \"sizeref\": 1075050000.0}, \"mode\": \"markers\", \"name\": \"\", \"showlegend\": false, \"subplot\": \"mapbox\", \"type\": \"scattermapbox\"}], \"name\": \"3/18/20\"}, {\"data\": [{\"customdata\": [[194, 15, 4]], \"hovertemplate\": \"Date=3/19/20<br>size=%{marker.size}<br>Confirmed=%{marker.color}<br>Recovered=%{customdata[1]}<br>Deaths=%{customdata[2]}<br>Lat=%{lat}<br>Long=%{lon}<extra></extra>\", \"lat\": [21.0], \"legendgroup\": \"\", \"lon\": [78.0], \"marker\": {\"color\": [194], \"coloraxis\": \"coloraxis\", \"size\": [17460000000], \"sizemode\": \"area\", \"sizeref\": 1075050000.0}, \"mode\": \"markers\", \"name\": \"\", \"showlegend\": false, \"subplot\": \"mapbox\", \"type\": \"scattermapbox\"}], \"name\": \"3/19/20\"}, {\"data\": [{\"customdata\": [[5, 3, 0]], \"hovertemplate\": \"Date=3/2/20<br>size=%{marker.size}<br>Confirmed=%{marker.color}<br>Recovered=%{customdata[1]}<br>Deaths=%{customdata[2]}<br>Lat=%{lat}<br>Long=%{lon}<extra></extra>\", \"lat\": [21.0], \"legendgroup\": \"\", \"lon\": [78.0], \"marker\": {\"color\": [5], \"coloraxis\": \"coloraxis\", \"size\": [450000000], \"sizemode\": \"area\", \"sizeref\": 1075050000.0}, \"mode\": \"markers\", \"name\": \"\", \"showlegend\": false, \"subplot\": \"mapbox\", \"type\": \"scattermapbox\"}], \"name\": \"3/2/20\"}, {\"data\": [{\"customdata\": [[244, 20, 5]], \"hovertemplate\": \"Date=3/20/20<br>size=%{marker.size}<br>Confirmed=%{marker.color}<br>Recovered=%{customdata[1]}<br>Deaths=%{customdata[2]}<br>Lat=%{lat}<br>Long=%{lon}<extra></extra>\", \"lat\": [21.0], \"legendgroup\": \"\", \"lon\": [78.0], \"marker\": {\"color\": [244], \"coloraxis\": \"coloraxis\", \"size\": [21960000000], \"sizemode\": \"area\", \"sizeref\": 1075050000.0}, \"mode\": \"markers\", \"name\": \"\", \"showlegend\": false, \"subplot\": \"mapbox\", \"type\": \"scattermapbox\"}], \"name\": \"3/20/20\"}, {\"data\": [{\"customdata\": [[330, 23, 4]], \"hovertemplate\": \"Date=3/21/20<br>size=%{marker.size}<br>Confirmed=%{marker.color}<br>Recovered=%{customdata[1]}<br>Deaths=%{customdata[2]}<br>Lat=%{lat}<br>Long=%{lon}<extra></extra>\", \"lat\": [21.0], \"legendgroup\": \"\", \"lon\": [78.0], \"marker\": {\"color\": [330], \"coloraxis\": \"coloraxis\", \"size\": [29700000000], \"sizemode\": \"area\", \"sizeref\": 1075050000.0}, \"mode\": \"markers\", \"name\": \"\", \"showlegend\": false, \"subplot\": \"mapbox\", \"type\": \"scattermapbox\"}], \"name\": \"3/21/20\"}, {\"data\": [{\"customdata\": [[396, 27, 7]], \"hovertemplate\": \"Date=3/22/20<br>size=%{marker.size}<br>Confirmed=%{marker.color}<br>Recovered=%{customdata[1]}<br>Deaths=%{customdata[2]}<br>Lat=%{lat}<br>Long=%{lon}<extra></extra>\", \"lat\": [21.0], \"legendgroup\": \"\", \"lon\": [78.0], \"marker\": {\"color\": [396], \"coloraxis\": \"coloraxis\", \"size\": [35640000000], \"sizemode\": \"area\", \"sizeref\": 1075050000.0}, \"mode\": \"markers\", \"name\": \"\", \"showlegend\": false, \"subplot\": \"mapbox\", \"type\": \"scattermapbox\"}], \"name\": \"3/22/20\"}, {\"data\": [{\"customdata\": [[499, 27, 10]], \"hovertemplate\": \"Date=3/23/20<br>size=%{marker.size}<br>Confirmed=%{marker.color}<br>Recovered=%{customdata[1]}<br>Deaths=%{customdata[2]}<br>Lat=%{lat}<br>Long=%{lon}<extra></extra>\", \"lat\": [21.0], \"legendgroup\": \"\", \"lon\": [78.0], \"marker\": {\"color\": [499], \"coloraxis\": \"coloraxis\", \"size\": [44910000000], \"sizemode\": \"area\", \"sizeref\": 1075050000.0}, \"mode\": \"markers\", \"name\": \"\", \"showlegend\": false, \"subplot\": \"mapbox\", \"type\": \"scattermapbox\"}], \"name\": \"3/23/20\"}, {\"data\": [{\"customdata\": [[536, 40, 10]], \"hovertemplate\": \"Date=3/24/20<br>size=%{marker.size}<br>Confirmed=%{marker.color}<br>Recovered=%{customdata[1]}<br>Deaths=%{customdata[2]}<br>Lat=%{lat}<br>Long=%{lon}<extra></extra>\", \"lat\": [21.0], \"legendgroup\": \"\", \"lon\": [78.0], \"marker\": {\"color\": [536], \"coloraxis\": \"coloraxis\", \"size\": [48240000000], \"sizemode\": \"area\", \"sizeref\": 1075050000.0}, \"mode\": \"markers\", \"name\": \"\", \"showlegend\": false, \"subplot\": \"mapbox\", \"type\": \"scattermapbox\"}], \"name\": \"3/24/20\"}, {\"data\": [{\"customdata\": [[657, 43, 12]], \"hovertemplate\": \"Date=3/25/20<br>size=%{marker.size}<br>Confirmed=%{marker.color}<br>Recovered=%{customdata[1]}<br>Deaths=%{customdata[2]}<br>Lat=%{lat}<br>Long=%{lon}<extra></extra>\", \"lat\": [21.0], \"legendgroup\": \"\", \"lon\": [78.0], \"marker\": {\"color\": [657], \"coloraxis\": \"coloraxis\", \"size\": [59130000000], \"sizemode\": \"area\", \"sizeref\": 1075050000.0}, \"mode\": \"markers\", \"name\": \"\", \"showlegend\": false, \"subplot\": \"mapbox\", \"type\": \"scattermapbox\"}], \"name\": \"3/25/20\"}, {\"data\": [{\"customdata\": [[727, 45, 20]], \"hovertemplate\": \"Date=3/26/20<br>size=%{marker.size}<br>Confirmed=%{marker.color}<br>Recovered=%{customdata[1]}<br>Deaths=%{customdata[2]}<br>Lat=%{lat}<br>Long=%{lon}<extra></extra>\", \"lat\": [21.0], \"legendgroup\": \"\", \"lon\": [78.0], \"marker\": {\"color\": [727], \"coloraxis\": \"coloraxis\", \"size\": [65430000000], \"sizemode\": \"area\", \"sizeref\": 1075050000.0}, \"mode\": \"markers\", \"name\": \"\", \"showlegend\": false, \"subplot\": \"mapbox\", \"type\": \"scattermapbox\"}], \"name\": \"3/26/20\"}, {\"data\": [{\"customdata\": [[887, 73, 20]], \"hovertemplate\": \"Date=3/27/20<br>size=%{marker.size}<br>Confirmed=%{marker.color}<br>Recovered=%{customdata[1]}<br>Deaths=%{customdata[2]}<br>Lat=%{lat}<br>Long=%{lon}<extra></extra>\", \"lat\": [21.0], \"legendgroup\": \"\", \"lon\": [78.0], \"marker\": {\"color\": [887], \"coloraxis\": \"coloraxis\", \"size\": [79830000000], \"sizemode\": \"area\", \"sizeref\": 1075050000.0}, \"mode\": \"markers\", \"name\": \"\", \"showlegend\": false, \"subplot\": \"mapbox\", \"type\": \"scattermapbox\"}], \"name\": \"3/27/20\"}, {\"data\": [{\"customdata\": [[987, 84, 24]], \"hovertemplate\": \"Date=3/28/20<br>size=%{marker.size}<br>Confirmed=%{marker.color}<br>Recovered=%{customdata[1]}<br>Deaths=%{customdata[2]}<br>Lat=%{lat}<br>Long=%{lon}<extra></extra>\", \"lat\": [21.0], \"legendgroup\": \"\", \"lon\": [78.0], \"marker\": {\"color\": [987], \"coloraxis\": \"coloraxis\", \"size\": [88830000000], \"sizemode\": \"area\", \"sizeref\": 1075050000.0}, \"mode\": \"markers\", \"name\": \"\", \"showlegend\": false, \"subplot\": \"mapbox\", \"type\": \"scattermapbox\"}], \"name\": \"3/28/20\"}, {\"data\": [{\"customdata\": [[1024, 95, 27]], \"hovertemplate\": \"Date=3/29/20<br>size=%{marker.size}<br>Confirmed=%{marker.color}<br>Recovered=%{customdata[1]}<br>Deaths=%{customdata[2]}<br>Lat=%{lat}<br>Long=%{lon}<extra></extra>\", \"lat\": [21.0], \"legendgroup\": \"\", \"lon\": [78.0], \"marker\": {\"color\": [1024], \"coloraxis\": \"coloraxis\", \"size\": [92160000000], \"sizemode\": \"area\", \"sizeref\": 1075050000.0}, \"mode\": \"markers\", \"name\": \"\", \"showlegend\": false, \"subplot\": \"mapbox\", \"type\": \"scattermapbox\"}], \"name\": \"3/29/20\"}, {\"data\": [{\"customdata\": [[5, 3, 0]], \"hovertemplate\": \"Date=3/3/20<br>size=%{marker.size}<br>Confirmed=%{marker.color}<br>Recovered=%{customdata[1]}<br>Deaths=%{customdata[2]}<br>Lat=%{lat}<br>Long=%{lon}<extra></extra>\", \"lat\": [21.0], \"legendgroup\": \"\", \"lon\": [78.0], \"marker\": {\"color\": [5], \"coloraxis\": \"coloraxis\", \"size\": [450000000], \"sizemode\": \"area\", \"sizeref\": 1075050000.0}, \"mode\": \"markers\", \"name\": \"\", \"showlegend\": false, \"subplot\": \"mapbox\", \"type\": \"scattermapbox\"}], \"name\": \"3/3/20\"}, {\"data\": [{\"customdata\": [[1251, 102, 32]], \"hovertemplate\": \"Date=3/30/20<br>size=%{marker.size}<br>Confirmed=%{marker.color}<br>Recovered=%{customdata[1]}<br>Deaths=%{customdata[2]}<br>Lat=%{lat}<br>Long=%{lon}<extra></extra>\", \"lat\": [21.0], \"legendgroup\": \"\", \"lon\": [78.0], \"marker\": {\"color\": [1251], \"coloraxis\": \"coloraxis\", \"size\": [112590000000], \"sizemode\": \"area\", \"sizeref\": 1075050000.0}, \"mode\": \"markers\", \"name\": \"\", \"showlegend\": false, \"subplot\": \"mapbox\", \"type\": \"scattermapbox\"}], \"name\": \"3/30/20\"}, {\"data\": [{\"customdata\": [[1397, 123, 35]], \"hovertemplate\": \"Date=3/31/20<br>size=%{marker.size}<br>Confirmed=%{marker.color}<br>Recovered=%{customdata[1]}<br>Deaths=%{customdata[2]}<br>Lat=%{lat}<br>Long=%{lon}<extra></extra>\", \"lat\": [21.0], \"legendgroup\": \"\", \"lon\": [78.0], \"marker\": {\"color\": [1397], \"coloraxis\": \"coloraxis\", \"size\": [125730000000], \"sizemode\": \"area\", \"sizeref\": 1075050000.0}, \"mode\": \"markers\", \"name\": \"\", \"showlegend\": false, \"subplot\": \"mapbox\", \"type\": \"scattermapbox\"}], \"name\": \"3/31/20\"}, {\"data\": [{\"customdata\": [[28, 3, 0]], \"hovertemplate\": \"Date=3/4/20<br>size=%{marker.size}<br>Confirmed=%{marker.color}<br>Recovered=%{customdata[1]}<br>Deaths=%{customdata[2]}<br>Lat=%{lat}<br>Long=%{lon}<extra></extra>\", \"lat\": [21.0], \"legendgroup\": \"\", \"lon\": [78.0], \"marker\": {\"color\": [28], \"coloraxis\": \"coloraxis\", \"size\": [2520000000], \"sizemode\": \"area\", \"sizeref\": 1075050000.0}, \"mode\": \"markers\", \"name\": \"\", \"showlegend\": false, \"subplot\": \"mapbox\", \"type\": \"scattermapbox\"}], \"name\": \"3/4/20\"}, {\"data\": [{\"customdata\": [[30, 3, 0]], \"hovertemplate\": \"Date=3/5/20<br>size=%{marker.size}<br>Confirmed=%{marker.color}<br>Recovered=%{customdata[1]}<br>Deaths=%{customdata[2]}<br>Lat=%{lat}<br>Long=%{lon}<extra></extra>\", \"lat\": [21.0], \"legendgroup\": \"\", \"lon\": [78.0], \"marker\": {\"color\": [30], \"coloraxis\": \"coloraxis\", \"size\": [2700000000], \"sizemode\": \"area\", \"sizeref\": 1075050000.0}, \"mode\": \"markers\", \"name\": \"\", \"showlegend\": false, \"subplot\": \"mapbox\", \"type\": \"scattermapbox\"}], \"name\": \"3/5/20\"}, {\"data\": [{\"customdata\": [[31, 3, 0]], \"hovertemplate\": \"Date=3/6/20<br>size=%{marker.size}<br>Confirmed=%{marker.color}<br>Recovered=%{customdata[1]}<br>Deaths=%{customdata[2]}<br>Lat=%{lat}<br>Long=%{lon}<extra></extra>\", \"lat\": [21.0], \"legendgroup\": \"\", \"lon\": [78.0], \"marker\": {\"color\": [31], \"coloraxis\": \"coloraxis\", \"size\": [2790000000], \"sizemode\": \"area\", \"sizeref\": 1075050000.0}, \"mode\": \"markers\", \"name\": \"\", \"showlegend\": false, \"subplot\": \"mapbox\", \"type\": \"scattermapbox\"}], \"name\": \"3/6/20\"}, {\"data\": [{\"customdata\": [[34, 3, 0]], \"hovertemplate\": \"Date=3/7/20<br>size=%{marker.size}<br>Confirmed=%{marker.color}<br>Recovered=%{customdata[1]}<br>Deaths=%{customdata[2]}<br>Lat=%{lat}<br>Long=%{lon}<extra></extra>\", \"lat\": [21.0], \"legendgroup\": \"\", \"lon\": [78.0], \"marker\": {\"color\": [34], \"coloraxis\": \"coloraxis\", \"size\": [3060000000], \"sizemode\": \"area\", \"sizeref\": 1075050000.0}, \"mode\": \"markers\", \"name\": \"\", \"showlegend\": false, \"subplot\": \"mapbox\", \"type\": \"scattermapbox\"}], \"name\": \"3/7/20\"}, {\"data\": [{\"customdata\": [[39, 3, 0]], \"hovertemplate\": \"Date=3/8/20<br>size=%{marker.size}<br>Confirmed=%{marker.color}<br>Recovered=%{customdata[1]}<br>Deaths=%{customdata[2]}<br>Lat=%{lat}<br>Long=%{lon}<extra></extra>\", \"lat\": [21.0], \"legendgroup\": \"\", \"lon\": [78.0], \"marker\": {\"color\": [39], \"coloraxis\": \"coloraxis\", \"size\": [3510000000], \"sizemode\": \"area\", \"sizeref\": 1075050000.0}, \"mode\": \"markers\", \"name\": \"\", \"showlegend\": false, \"subplot\": \"mapbox\", \"type\": \"scattermapbox\"}], \"name\": \"3/8/20\"}, {\"data\": [{\"customdata\": [[43, 3, 0]], \"hovertemplate\": \"Date=3/9/20<br>size=%{marker.size}<br>Confirmed=%{marker.color}<br>Recovered=%{customdata[1]}<br>Deaths=%{customdata[2]}<br>Lat=%{lat}<br>Long=%{lon}<extra></extra>\", \"lat\": [21.0], \"legendgroup\": \"\", \"lon\": [78.0], \"marker\": {\"color\": [43], \"coloraxis\": \"coloraxis\", \"size\": [3870000000], \"sizemode\": \"area\", \"sizeref\": 1075050000.0}, \"mode\": \"markers\", \"name\": \"\", \"showlegend\": false, \"subplot\": \"mapbox\", \"type\": \"scattermapbox\"}], \"name\": \"3/9/20\"}, {\"data\": [{\"customdata\": [[1998, 148, 58]], \"hovertemplate\": \"Date=4/1/20<br>size=%{marker.size}<br>Confirmed=%{marker.color}<br>Recovered=%{customdata[1]}<br>Deaths=%{customdata[2]}<br>Lat=%{lat}<br>Long=%{lon}<extra></extra>\", \"lat\": [21.0], \"legendgroup\": \"\", \"lon\": [78.0], \"marker\": {\"color\": [1998], \"coloraxis\": \"coloraxis\", \"size\": [179820000000], \"sizemode\": \"area\", \"sizeref\": 1075050000.0}, \"mode\": \"markers\", \"name\": \"\", \"showlegend\": false, \"subplot\": \"mapbox\", \"type\": \"scattermapbox\"}], \"name\": \"4/1/20\"}, {\"data\": [{\"customdata\": [[2543, 191, 72]], \"hovertemplate\": \"Date=4/2/20<br>size=%{marker.size}<br>Confirmed=%{marker.color}<br>Recovered=%{customdata[1]}<br>Deaths=%{customdata[2]}<br>Lat=%{lat}<br>Long=%{lon}<extra></extra>\", \"lat\": [21.0], \"legendgroup\": \"\", \"lon\": [78.0], \"marker\": {\"color\": [2543], \"coloraxis\": \"coloraxis\", \"size\": [228870000000], \"sizemode\": \"area\", \"sizeref\": 1075050000.0}, \"mode\": \"markers\", \"name\": \"\", \"showlegend\": false, \"subplot\": \"mapbox\", \"type\": \"scattermapbox\"}], \"name\": \"4/2/20\"}, {\"data\": [{\"customdata\": [[2567, 192, 72]], \"hovertemplate\": \"Date=4/3/20<br>size=%{marker.size}<br>Confirmed=%{marker.color}<br>Recovered=%{customdata[1]}<br>Deaths=%{customdata[2]}<br>Lat=%{lat}<br>Long=%{lon}<extra></extra>\", \"lat\": [21.0], \"legendgroup\": \"\", \"lon\": [78.0], \"marker\": {\"color\": [2567], \"coloraxis\": \"coloraxis\", \"size\": [231030000000], \"sizemode\": \"area\", \"sizeref\": 1075050000.0}, \"mode\": \"markers\", \"name\": \"\", \"showlegend\": false, \"subplot\": \"mapbox\", \"type\": \"scattermapbox\"}], \"name\": \"4/3/20\"}, {\"data\": [{\"customdata\": [[3082, 229, 86]], \"hovertemplate\": \"Date=4/4/20<br>size=%{marker.size}<br>Confirmed=%{marker.color}<br>Recovered=%{customdata[1]}<br>Deaths=%{customdata[2]}<br>Lat=%{lat}<br>Long=%{lon}<extra></extra>\", \"lat\": [21.0], \"legendgroup\": \"\", \"lon\": [78.0], \"marker\": {\"color\": [3082], \"coloraxis\": \"coloraxis\", \"size\": [277380000000], \"sizemode\": \"area\", \"sizeref\": 1075050000.0}, \"mode\": \"markers\", \"name\": \"\", \"showlegend\": false, \"subplot\": \"mapbox\", \"type\": \"scattermapbox\"}], \"name\": \"4/4/20\"}, {\"data\": [{\"customdata\": [[3588, 229, 99]], \"hovertemplate\": \"Date=4/5/20<br>size=%{marker.size}<br>Confirmed=%{marker.color}<br>Recovered=%{customdata[1]}<br>Deaths=%{customdata[2]}<br>Lat=%{lat}<br>Long=%{lon}<extra></extra>\", \"lat\": [21.0], \"legendgroup\": \"\", \"lon\": [78.0], \"marker\": {\"color\": [3588], \"coloraxis\": \"coloraxis\", \"size\": [322920000000], \"sizemode\": \"area\", \"sizeref\": 1075050000.0}, \"mode\": \"markers\", \"name\": \"\", \"showlegend\": false, \"subplot\": \"mapbox\", \"type\": \"scattermapbox\"}], \"name\": \"4/5/20\"}, {\"data\": [{\"customdata\": [[4778, 375, 136]], \"hovertemplate\": \"Date=4/6/20<br>size=%{marker.size}<br>Confirmed=%{marker.color}<br>Recovered=%{customdata[1]}<br>Deaths=%{customdata[2]}<br>Lat=%{lat}<br>Long=%{lon}<extra></extra>\", \"lat\": [21.0], \"legendgroup\": \"\", \"lon\": [78.0], \"marker\": {\"color\": [4778], \"coloraxis\": \"coloraxis\", \"size\": [430020000000], \"sizemode\": \"area\", \"sizeref\": 1075050000.0}, \"mode\": \"markers\", \"name\": \"\", \"showlegend\": false, \"subplot\": \"mapbox\", \"type\": \"scattermapbox\"}], \"name\": \"4/6/20\"}]);\n",
       "                        }).then(function(){\n",
       "                            \n",
       "var gd = document.getElementById('723709be-e629-4ff5-a25c-83db108b6758');\n",
       "var x = new MutationObserver(function (mutations, observer) {{\n",
       "        var display = window.getComputedStyle(gd).display;\n",
       "        if (!display || display === 'none') {{\n",
       "            console.log([gd, 'removed!']);\n",
       "            Plotly.purge(gd);\n",
       "            observer.disconnect();\n",
       "        }}\n",
       "}});\n",
       "\n",
       "// Listen for the removal of the full notebook cells\n",
       "var notebookContainer = gd.closest('#notebook-container');\n",
       "if (notebookContainer) {{\n",
       "    x.observe(notebookContainer, {childList: true});\n",
       "}}\n",
       "\n",
       "// Listen for the clearing of the current output cell\n",
       "var outputEl = gd.closest('.output');\n",
       "if (outputEl) {{\n",
       "    x.observe(outputEl, {childList: true});\n",
       "}}\n",
       "\n",
       "                        })\n",
       "                };\n",
       "                });\n",
       "            </script>\n",
       "        </div>"
      ]
     },
     "metadata": {},
     "output_type": "display_data"
    }
   ],
   "source": [
    "ind_map  = df_india.groupby(['Date', 'Country/Region','Lat','Long'])['Confirmed', 'Deaths', 'Recovered'].max()\n",
    "\n",
    "\n",
    "ind_map = ind_map.reset_index()\n",
    "ind_map.head()\n",
    "ind_map['size'] = ind_map['Confirmed']*90000000\n",
    "ind_map\n",
    "fig = px.scatter_mapbox(ind_map, lat=\"Lat\", lon=\"Long\",\n",
    "                     color=\"Confirmed\", size='size',hover_data=['Confirmed','Recovered','Deaths'],\n",
    "                     color_continuous_scale='burgyl',\n",
    "                     animation_frame=\"Date\", \n",
    "                     title='Spread total cases over time')\n",
    "fig.update(layout_coloraxis_showscale=True)\n",
    "fig.update_layout(mapbox_style=\"carto-positron\",\n",
    "                  mapbox_zoom=3)\n",
    "fig.update_layout(margin={\"r\":0,\"t\":30,\"l\":0,\"b\":0})\n",
    "fig.show()"
   ]
  },
  {
   "cell_type": "code",
   "execution_count": 53,
   "metadata": {},
   "outputs": [
    {
     "data": {
      "text/plain": [
       "[<matplotlib.lines.Line2D at 0x7f433d72b810>]"
      ]
     },
     "execution_count": 53,
     "metadata": {},
     "output_type": "execute_result"
    },
    {
     "data": {
      "image/png": "[encoded data removed]",
      "text/plain": [
       "<Figure size 2160x2016 with 1 Axes>"
      ]
     },
     "metadata": {
      "needs_background": "light"
     },
     "output_type": "display_data"
    }
   ],
   "source": [
    "plt.figure(figsize = (30,28))\n",
    "plt.plot(data['Date'], data['Active'])"
   ]
  },
  {
   "cell_type": "markdown",
   "metadata": {},
   "source": [
    "<h3>Confirmed Cases Prediction<h3>"
   ]
  },
  {
   "cell_type": "code",
   "execution_count": 54,
   "metadata": {},
   "outputs": [],
   "source": [
    "pred_cnfrm = df_india.loc[:,[\"Confirmed\"]]"
   ]
  },
  {
   "cell_type": "code",
   "execution_count": 55,
   "metadata": {},
   "outputs": [],
   "source": [
    "train_data = pred_cnfrm[:len(pred_cnfrm)-7]\n",
    "test_data = pred_cnfrm[len(pred_cnfrm)-7:]"
   ]
  },
  {
   "cell_type": "code",
   "execution_count": 56,
   "metadata": {},
   "outputs": [
    {
     "data": {
      "text/html": [
       "<div>\n",
       "<style scoped>\n",
       "    .dataframe tbody tr th:only-of-type {\n",
       "        vertical-align: middle;\n",
       "    }\n",
       "\n",
       "    .dataframe tbody tr th {\n",
       "        vertical-align: top;\n",
       "    }\n",
       "\n",
       "    .dataframe thead th {\n",
       "        text-align: right;\n",
       "    }\n",
       "</style>\n",
       "<table border=\"1\" class=\"dataframe\">\n",
       "  <thead>\n",
       "    <tr style=\"text-align: right;\">\n",
       "      <th></th>\n",
       "      <th>Confirmed</th>\n",
       "    </tr>\n",
       "    <tr>\n",
       "      <th>Date</th>\n",
       "      <th></th>\n",
       "    </tr>\n",
       "  </thead>\n",
       "  <tbody>\n",
       "    <tr>\n",
       "      <th>1/22/20</th>\n",
       "      <td>0</td>\n",
       "    </tr>\n",
       "    <tr>\n",
       "      <th>1/23/20</th>\n",
       "      <td>0</td>\n",
       "    </tr>\n",
       "    <tr>\n",
       "      <th>1/24/20</th>\n",
       "      <td>0</td>\n",
       "    </tr>\n",
       "    <tr>\n",
       "      <th>1/25/20</th>\n",
       "      <td>0</td>\n",
       "    </tr>\n",
       "    <tr>\n",
       "      <th>1/26/20</th>\n",
       "      <td>0</td>\n",
       "    </tr>\n",
       "    <tr>\n",
       "      <th>...</th>\n",
       "      <td>...</td>\n",
       "    </tr>\n",
       "    <tr>\n",
       "      <th>3/26/20</th>\n",
       "      <td>727</td>\n",
       "    </tr>\n",
       "    <tr>\n",
       "      <th>3/27/20</th>\n",
       "      <td>887</td>\n",
       "    </tr>\n",
       "    <tr>\n",
       "      <th>3/28/20</th>\n",
       "      <td>987</td>\n",
       "    </tr>\n",
       "    <tr>\n",
       "      <th>3/29/20</th>\n",
       "      <td>1024</td>\n",
       "    </tr>\n",
       "    <tr>\n",
       "      <th>3/30/20</th>\n",
       "      <td>1251</td>\n",
       "    </tr>\n",
       "  </tbody>\n",
       "</table>\n",
       "<p>69 rows × 1 columns</p>\n",
       "</div>"
      ],
      "text/plain": [
       "         Confirmed\n",
       "Date              \n",
       "1/22/20          0\n",
       "1/23/20          0\n",
       "1/24/20          0\n",
       "1/25/20          0\n",
       "1/26/20          0\n",
       "...            ...\n",
       "3/26/20        727\n",
       "3/27/20        887\n",
       "3/28/20        987\n",
       "3/29/20       1024\n",
       "3/30/20       1251\n",
       "\n",
       "[69 rows x 1 columns]"
      ]
     },
     "execution_count": 56,
     "metadata": {},
     "output_type": "execute_result"
    }
   ],
   "source": [
    "train_data"
   ]
  },
  {
   "cell_type": "code",
   "execution_count": 57,
   "metadata": {},
   "outputs": [
    {
     "data": {
      "text/html": [
       "<div>\n",
       "<style scoped>\n",
       "    .dataframe tbody tr th:only-of-type {\n",
       "        vertical-align: middle;\n",
       "    }\n",
       "\n",
       "    .dataframe tbody tr th {\n",
       "        vertical-align: top;\n",
       "    }\n",
       "\n",
       "    .dataframe thead th {\n",
       "        text-align: right;\n",
       "    }\n",
       "</style>\n",
       "<table border=\"1\" class=\"dataframe\">\n",
       "  <thead>\n",
       "    <tr style=\"text-align: right;\">\n",
       "      <th></th>\n",
       "      <th>Confirmed</th>\n",
       "    </tr>\n",
       "    <tr>\n",
       "      <th>Date</th>\n",
       "      <th></th>\n",
       "    </tr>\n",
       "  </thead>\n",
       "  <tbody>\n",
       "    <tr>\n",
       "      <th>3/31/20</th>\n",
       "      <td>1397</td>\n",
       "    </tr>\n",
       "    <tr>\n",
       "      <th>4/1/20</th>\n",
       "      <td>1998</td>\n",
       "    </tr>\n",
       "    <tr>\n",
       "      <th>4/2/20</th>\n",
       "      <td>2543</td>\n",
       "    </tr>\n",
       "    <tr>\n",
       "      <th>4/3/20</th>\n",
       "      <td>2567</td>\n",
       "    </tr>\n",
       "    <tr>\n",
       "      <th>4/4/20</th>\n",
       "      <td>3082</td>\n",
       "    </tr>\n",
       "    <tr>\n",
       "      <th>4/5/20</th>\n",
       "      <td>3588</td>\n",
       "    </tr>\n",
       "    <tr>\n",
       "      <th>4/6/20</th>\n",
       "      <td>4778</td>\n",
       "    </tr>\n",
       "  </tbody>\n",
       "</table>\n",
       "</div>"
      ],
      "text/plain": [
       "         Confirmed\n",
       "Date              \n",
       "3/31/20       1397\n",
       "4/1/20        1998\n",
       "4/2/20        2543\n",
       "4/3/20        2567\n",
       "4/4/20        3082\n",
       "4/5/20        3588\n",
       "4/6/20        4778"
      ]
     },
     "execution_count": 57,
     "metadata": {},
     "output_type": "execute_result"
    }
   ],
   "source": [
    "test_data"
   ]
  },
  {
   "cell_type": "code",
   "execution_count": 58,
   "metadata": {},
   "outputs": [
    {
     "data": {
      "text/plain": [
       "MinMaxScaler(copy=True, feature_range=(0, 1))"
      ]
     },
     "execution_count": 58,
     "metadata": {},
     "output_type": "execute_result"
    }
   ],
   "source": [
    "early_stop = EarlyStopping(patience = 2, monitor = \"val_loss\")\n",
    "\n",
    "scaler = MinMaxScaler()\n",
    "scaler.fit(train_data)"
   ]
  },
  {
   "cell_type": "code",
   "execution_count": 59,
   "metadata": {},
   "outputs": [],
   "source": [
    "scaled_train_data = scaler.transform(train_data)\n",
    "scaled_test_data = scaler.transform(test_data)\n",
    "scaled_full_data = scaler.transform(pred_cnfrm)"
   ]
  },
  {
   "cell_type": "code",
   "execution_count": 60,
   "metadata": {},
   "outputs": [],
   "source": [
    "n_input = 5\n",
    "n_features = 1\n",
    "                             \n",
    "generator = TimeseriesGenerator(scaled_train_data,scaled_train_data, length=n_input, batch_size=1)\n",
    "\n",
    "val_generator = TimeseriesGenerator(scaled_test_data,scaled_test_data, length=n_input, batch_size=1)"
   ]
  },
  {
   "cell_type": "code",
   "execution_count": 72,
   "metadata": {},
   "outputs": [
    {
     "name": "stdout",
     "output_type": "stream",
     "text": [
      "Epoch 1/200\n",
      "64/64 [==============================] - 1s 19ms/step - loss: 0.0481 - val_loss: 9.2821\n",
      "Epoch 2/200\n",
      "64/64 [==============================] - 1s 10ms/step - loss: 0.0272 - val_loss: 3.8106\n",
      "Epoch 3/200\n",
      "64/64 [==============================] - 1s 10ms/step - loss: 0.0079 - val_loss: 0.0582\n",
      "Epoch 4/200\n",
      "64/64 [==============================] - 1s 9ms/step - loss: 0.0036 - val_loss: 0.2429\n",
      "Epoch 5/200\n",
      "64/64 [==============================] - 0s 7ms/step - loss: 0.0025 - val_loss: 0.1036\n"
     ]
    },
    {
     "data": {
      "text/plain": [
       "<keras.callbacks.callbacks.History at 0x7f42f0d18e10>"
      ]
     },
     "execution_count": 72,
     "metadata": {},
     "output_type": "execute_result"
    }
   ],
   "source": [
    "lstm_model = Sequential()\n",
    "\n",
    "lstm_model.add(LSTM(units = 64, input_shape = (n_input, n_features)))\n",
    "lstm_model.add(Dropout(0.4))\n",
    "\n",
    "lstm_model.add(Dense(units = 1))\n",
    "\n",
    "\n",
    "lstm_model.compile(optimizer = 'adam', loss = 'mean_squared_error')\n",
    "\n",
    "lstm_model.fit(generator, epochs = 200,\n",
    "              validation_data = val_generator,\n",
    "              callbacks = [early_stop])"
   ]
  },
  {
   "cell_type": "code",
   "execution_count": 73,
   "metadata": {},
   "outputs": [
    {
     "data": {
      "text/plain": [
       "<matplotlib.axes._subplots.AxesSubplot at 0x7f42f0fd9dd0>"
      ]
     },
     "execution_count": 73,
     "metadata": {},
     "output_type": "execute_result"
    },
    {
     "data": {
      "image/png": "[encoded data removed]",
      "text/plain": [
       "<Figure size 432x288 with 1 Axes>"
      ]
     },
     "metadata": {
      "needs_background": "light"
     },
     "output_type": "display_data"
    }
   ],
   "source": [
    "pd.DataFrame(lstm_model.history.history).plot()"
   ]
  },
  {
   "cell_type": "code",
   "execution_count": 74,
   "metadata": {},
   "outputs": [
    {
     "data": {
      "text/html": [
       "<div>\n",
       "<style scoped>\n",
       "    .dataframe tbody tr th:only-of-type {\n",
       "        vertical-align: middle;\n",
       "    }\n",
       "\n",
       "    .dataframe tbody tr th {\n",
       "        vertical-align: top;\n",
       "    }\n",
       "\n",
       "    .dataframe thead th {\n",
       "        text-align: right;\n",
       "    }\n",
       "</style>\n",
       "<table border=\"1\" class=\"dataframe\">\n",
       "  <thead>\n",
       "    <tr style=\"text-align: right;\">\n",
       "      <th></th>\n",
       "      <th>0</th>\n",
       "    </tr>\n",
       "  </thead>\n",
       "  <tbody>\n",
       "    <tr>\n",
       "      <th>0</th>\n",
       "      <td>1555.574499</td>\n",
       "    </tr>\n",
       "    <tr>\n",
       "      <th>1</th>\n",
       "      <td>1829.103242</td>\n",
       "    </tr>\n",
       "    <tr>\n",
       "      <th>2</th>\n",
       "      <td>2130.330053</td>\n",
       "    </tr>\n",
       "    <tr>\n",
       "      <th>3</th>\n",
       "      <td>2512.327608</td>\n",
       "    </tr>\n",
       "    <tr>\n",
       "      <th>4</th>\n",
       "      <td>3032.874406</td>\n",
       "    </tr>\n",
       "    <tr>\n",
       "      <th>5</th>\n",
       "      <td>3586.486192</td>\n",
       "    </tr>\n",
       "    <tr>\n",
       "      <th>6</th>\n",
       "      <td>4124.208089</td>\n",
       "    </tr>\n",
       "  </tbody>\n",
       "</table>\n",
       "</div>"
      ],
      "text/plain": [
       "             0\n",
       "0  1555.574499\n",
       "1  1829.103242\n",
       "2  2130.330053\n",
       "3  2512.327608\n",
       "4  3032.874406\n",
       "5  3586.486192\n",
       "6  4124.208089"
      ]
     },
     "execution_count": 74,
     "metadata": {},
     "output_type": "execute_result"
    }
   ],
   "source": [
    "lstm_predictions_scaled = []\n",
    "\n",
    "batch = scaled_train_data[-n_input:]\n",
    "current_batch = batch.reshape((1, n_input, n_features))\n",
    "\n",
    "for i in range(len(test_data)):   \n",
    "    lstm_pred = lstm_model.predict(current_batch)[0]\n",
    "    lstm_predictions_scaled.append(lstm_pred) \n",
    "    current_batch = np.append(current_batch[:,1:,:],[[lstm_pred]],axis=1)\n",
    "\n",
    "confirmed_prediction = pd.DataFrame(scaler.inverse_transform(lstm_predictions_scaled))\n",
    "confirmed_prediction"
   ]
  },
  {
   "cell_type": "markdown",
   "metadata": {},
   "source": [
    "<h3>Deaths Predictions<h3>"
   ]
  },
  {
   "cell_type": "code",
   "execution_count": 76,
   "metadata": {},
   "outputs": [],
   "source": [
    "pred_cnfrm_deaths = df_india.loc[:,[\"Deaths\"]]"
   ]
  },
  {
   "cell_type": "code",
   "execution_count": 77,
   "metadata": {},
   "outputs": [],
   "source": [
    "train_data_deaths = pred_cnfrm_deaths[:len(pred_cnfrm)-7]\n",
    "test_data_deaths = pred_cnfrm_deaths[len(pred_cnfrm)-7:]"
   ]
  },
  {
   "cell_type": "code",
   "execution_count": 78,
   "metadata": {},
   "outputs": [
    {
     "data": {
      "text/plain": [
       "MinMaxScaler(copy=True, feature_range=(0, 1))"
      ]
     },
     "execution_count": 78,
     "metadata": {},
     "output_type": "execute_result"
    }
   ],
   "source": [
    "early_stop = EarlyStopping(patience = 2, monitor = \"val_loss\")\n",
    "\n",
    "scaler = MinMaxScaler()\n",
    "scaler.fit(train_data_deaths)"
   ]
  },
  {
   "cell_type": "code",
   "execution_count": 79,
   "metadata": {},
   "outputs": [],
   "source": [
    "scaled_train_data_deaths = scaler.transform(train_data_deaths)\n",
    "scaled_test_data_deaths = scaler.transform(test_data_deaths)\n",
    "scaled_full_data_deaths = scaler.transform(pred_cnfrm_deaths)"
   ]
  },
  {
   "cell_type": "code",
   "execution_count": 80,
   "metadata": {},
   "outputs": [],
   "source": [
    "n_input = 5\n",
    "n_features = 1\n",
    "                             \n",
    "generator = TimeseriesGenerator(scaled_train_data_deaths,scaled_train_data_deaths, length=n_input, batch_size=1)\n",
    "\n",
    "val_generator = TimeseriesGenerator(scaled_test_data_deaths,scaled_test_data_deaths, length=n_input, batch_size=1)"
   ]
  },
  {
   "cell_type": "code",
   "execution_count": 96,
   "metadata": {},
   "outputs": [
    {
     "name": "stdout",
     "output_type": "stream",
     "text": [
      "Epoch 1/20\n",
      "64/64 [==============================] - 2s 28ms/step - loss: 0.0438 - val_loss: 12.0092\n",
      "Epoch 2/20\n",
      "64/64 [==============================] - 0s 7ms/step - loss: 0.0288 - val_loss: 6.2020\n",
      "Epoch 3/20\n",
      "64/64 [==============================] - 0s 6ms/step - loss: 0.0124 - val_loss: 0.3231\n",
      "Epoch 4/20\n",
      "64/64 [==============================] - 0s 7ms/step - loss: 0.0035 - val_loss: 0.1699\n",
      "Epoch 5/20\n",
      "64/64 [==============================] - 0s 6ms/step - loss: 0.0079 - val_loss: 0.2617\n",
      "Epoch 6/20\n",
      "64/64 [==============================] - 0s 7ms/step - loss: 0.0027 - val_loss: 0.4902\n"
     ]
    },
    {
     "data": {
      "text/plain": [
       "<keras.callbacks.callbacks.History at 0x7f42b8da5e10>"
      ]
     },
     "execution_count": 96,
     "metadata": {},
     "output_type": "execute_result"
    }
   ],
   "source": [
    "lstm_model = Sequential()\n",
    "\n",
    "lstm_model.add(LSTM(units = 64, input_shape = (n_input, n_features)))\n",
    "lstm_model.add(Dropout(0.4))\n",
    "\n",
    "lstm_model.add(Dense(units = 1))\n",
    "\n",
    "\n",
    "lstm_model.compile(optimizer = 'adam', loss = 'mean_squared_error')\n",
    "\n",
    "lstm_model.fit(generator, epochs = 20,\n",
    "              validation_data = val_generator,\n",
    "              callbacks = [early_stop])"
   ]
  },
  {
   "cell_type": "code",
   "execution_count": 97,
   "metadata": {},
   "outputs": [
    {
     "data": {
      "text/plain": [
       "<matplotlib.axes._subplots.AxesSubplot at 0x7f42b9596e90>"
      ]
     },
     "execution_count": 97,
     "metadata": {},
     "output_type": "execute_result"
    },
    {
     "data": {
      "image/png": "[encoded data removed]",
      "text/plain": [
       "<Figure size 432x288 with 1 Axes>"
      ]
     },
     "metadata": {
      "needs_background": "light"
     },
     "output_type": "display_data"
    }
   ],
   "source": [
    "pd.DataFrame(lstm_model.history.history).plot()"
   ]
  },
  {
   "cell_type": "code",
   "execution_count": 98,
   "metadata": {},
   "outputs": [
    {
     "data": {
      "text/html": [
       "<div>\n",
       "<style scoped>\n",
       "    .dataframe tbody tr th:only-of-type {\n",
       "        vertical-align: middle;\n",
       "    }\n",
       "\n",
       "    .dataframe tbody tr th {\n",
       "        vertical-align: top;\n",
       "    }\n",
       "\n",
       "    .dataframe thead th {\n",
       "        text-align: right;\n",
       "    }\n",
       "</style>\n",
       "<table border=\"1\" class=\"dataframe\">\n",
       "  <thead>\n",
       "    <tr style=\"text-align: right;\">\n",
       "      <th></th>\n",
       "      <th>0</th>\n",
       "    </tr>\n",
       "  </thead>\n",
       "  <tbody>\n",
       "    <tr>\n",
       "      <th>0</th>\n",
       "      <td>39.697678</td>\n",
       "    </tr>\n",
       "    <tr>\n",
       "      <th>1</th>\n",
       "      <td>46.417347</td>\n",
       "    </tr>\n",
       "    <tr>\n",
       "      <th>2</th>\n",
       "      <td>53.672260</td>\n",
       "    </tr>\n",
       "    <tr>\n",
       "      <th>3</th>\n",
       "      <td>62.653763</td>\n",
       "    </tr>\n",
       "    <tr>\n",
       "      <th>4</th>\n",
       "      <td>74.602478</td>\n",
       "    </tr>\n",
       "    <tr>\n",
       "      <th>5</th>\n",
       "      <td>86.947792</td>\n",
       "    </tr>\n",
       "    <tr>\n",
       "      <th>6</th>\n",
       "      <td>98.618416</td>\n",
       "    </tr>\n",
       "  </tbody>\n",
       "</table>\n",
       "</div>"
      ],
      "text/plain": [
       "           0\n",
       "0  39.697678\n",
       "1  46.417347\n",
       "2  53.672260\n",
       "3  62.653763\n",
       "4  74.602478\n",
       "5  86.947792\n",
       "6  98.618416"
      ]
     },
     "execution_count": 98,
     "metadata": {},
     "output_type": "execute_result"
    }
   ],
   "source": [
    "lstm_predictions_scaled = []\n",
    "\n",
    "batch = scaled_train_data[-n_input:]\n",
    "current_batch = batch.reshape((1, n_input, n_features))\n",
    "\n",
    "for i in range(len(test_data)):   \n",
    "    lstm_pred = lstm_model.predict(current_batch)[0]\n",
    "    lstm_predictions_scaled.append(lstm_pred) \n",
    "    current_batch = np.append(current_batch[:,1:,:],[[lstm_pred]],axis=1)\n",
    "\n",
    "deaths_prediction = pd.DataFrame(scaler.inverse_transform(lstm_predictions_scaled))\n",
    "deaths_prediction"
   ]
  },
  {
   "cell_type": "markdown",
   "metadata": {},
   "source": [
    "<h3>Total Recovered Patients Predictions<h3>"
   ]
  },
  {
   "cell_type": "code",
   "execution_count": 99,
   "metadata": {},
   "outputs": [],
   "source": [
    "pred_cnfrm_recovered = df_india.loc[:,[\"Recovered\"]]"
   ]
  },
  {
   "cell_type": "code",
   "execution_count": 100,
   "metadata": {},
   "outputs": [],
   "source": [
    "train_data_recovered = pred_cnfrm_recovered[:len(pred_cnfrm_recovered)-7]\n",
    "test_data_recovered = pred_cnfrm_recovered[len(pred_cnfrm_recovered)-7:]"
   ]
  },
  {
   "cell_type": "code",
   "execution_count": 101,
   "metadata": {},
   "outputs": [
    {
     "data": {
      "text/plain": [
       "MinMaxScaler(copy=True, feature_range=(0, 1))"
      ]
     },
     "execution_count": 101,
     "metadata": {},
     "output_type": "execute_result"
    }
   ],
   "source": [
    "early_stop = EarlyStopping(patience = 2, monitor = \"val_loss\")\n",
    "\n",
    "scaler = MinMaxScaler()\n",
    "scaler.fit(train_data_recovered)"
   ]
  },
  {
   "cell_type": "code",
   "execution_count": 102,
   "metadata": {},
   "outputs": [],
   "source": [
    "scaled_train_data_recovered = scaler.transform(train_data_recovered)\n",
    "scaled_test_data_recovered = scaler.transform(test_data_recovered)\n",
    "scaled_full_data_recovered = scaler.transform(pred_cnfrm_recovered)"
   ]
  },
  {
   "cell_type": "code",
   "execution_count": 103,
   "metadata": {},
   "outputs": [],
   "source": [
    "n_input = 5\n",
    "n_features = 1\n",
    "                             \n",
    "generator = TimeseriesGenerator(scaled_train_data_recovered, scaled_train_data_recovered, length=n_input, batch_size=1)\n",
    "\n",
    "val_generator = TimeseriesGenerator(scaled_test_data_recovered,scaled_test_data_recovered, length=n_input, batch_size=1)"
   ]
  },
  {
   "cell_type": "code",
   "execution_count": 106,
   "metadata": {},
   "outputs": [
    {
     "name": "stdout",
     "output_type": "stream",
     "text": [
      "Epoch 1/20\n",
      "64/64 [==============================] - 1s 18ms/step - loss: 0.0441 - val_loss: 8.3956\n",
      "Epoch 2/20\n",
      "64/64 [==============================] - 0s 7ms/step - loss: 0.0224 - val_loss: 5.1852\n",
      "Epoch 3/20\n",
      "64/64 [==============================] - 0s 7ms/step - loss: 0.0137 - val_loss: 2.3758\n",
      "Epoch 4/20\n",
      "64/64 [==============================] - 0s 6ms/step - loss: 0.0051 - val_loss: 0.8175\n",
      "Epoch 5/20\n",
      "64/64 [==============================] - 0s 6ms/step - loss: 0.0118 - val_loss: 0.3667\n",
      "Epoch 6/20\n",
      "64/64 [==============================] - 0s 7ms/step - loss: 0.0062 - val_loss: 0.0583\n",
      "Epoch 7/20\n",
      "64/64 [==============================] - 0s 6ms/step - loss: 0.0014 - val_loss: 0.2169\n",
      "Epoch 8/20\n",
      "64/64 [==============================] - 0s 7ms/step - loss: 0.0026 - val_loss: 0.0130\n",
      "Epoch 9/20\n",
      "64/64 [==============================] - 0s 6ms/step - loss: 0.0079 - val_loss: 0.6649\n",
      "Epoch 10/20\n",
      "64/64 [==============================] - 0s 7ms/step - loss: 0.0056 - val_loss: 0.2265\n"
     ]
    },
    {
     "data": {
      "text/plain": [
       "<keras.callbacks.callbacks.History at 0x7f42b6824c90>"
      ]
     },
     "execution_count": 106,
     "metadata": {},
     "output_type": "execute_result"
    }
   ],
   "source": [
    "lstm_model = Sequential()\n",
    "\n",
    "lstm_model.add(LSTM(units = 32, input_shape = (n_input, n_features) ))\n",
    "lstm_model.add(Dropout(0.4))\n",
    "\n",
    "lstm_model.add(Dense(units = 1))\n",
    "\n",
    "\n",
    "lstm_model.compile(optimizer = 'adam', loss = 'mean_squared_error')\n",
    "\n",
    "lstm_model.fit(generator, epochs = 20,\n",
    "              validation_data = val_generator,\n",
    "              callbacks = [early_stop])"
   ]
  },
  {
   "cell_type": "code",
   "execution_count": 107,
   "metadata": {},
   "outputs": [
    {
     "data": {
      "text/plain": [
       "<matplotlib.axes._subplots.AxesSubplot at 0x7f42b6c10750>"
      ]
     },
     "execution_count": 107,
     "metadata": {},
     "output_type": "execute_result"
    },
    {
     "data": {
      "image/png": "[encoded data removed]",
      "text/plain": [
       "<Figure size 432x288 with 1 Axes>"
      ]
     },
     "metadata": {
      "needs_background": "light"
     },
     "output_type": "display_data"
    }
   ],
   "source": [
    "pd.DataFrame(lstm_model.history.history).plot()"
   ]
  },
  {
   "cell_type": "code",
   "execution_count": 108,
   "metadata": {},
   "outputs": [
    {
     "data": {
      "text/html": [
       "<div>\n",
       "<style scoped>\n",
       "    .dataframe tbody tr th:only-of-type {\n",
       "        vertical-align: middle;\n",
       "    }\n",
       "\n",
       "    .dataframe tbody tr th {\n",
       "        vertical-align: top;\n",
       "    }\n",
       "\n",
       "    .dataframe thead th {\n",
       "        text-align: right;\n",
       "    }\n",
       "</style>\n",
       "<table border=\"1\" class=\"dataframe\">\n",
       "  <thead>\n",
       "    <tr style=\"text-align: right;\">\n",
       "      <th></th>\n",
       "      <th>0</th>\n",
       "    </tr>\n",
       "  </thead>\n",
       "  <tbody>\n",
       "    <tr>\n",
       "      <th>0</th>\n",
       "      <td>143.402165</td>\n",
       "    </tr>\n",
       "    <tr>\n",
       "      <th>1</th>\n",
       "      <td>181.487454</td>\n",
       "    </tr>\n",
       "    <tr>\n",
       "      <th>2</th>\n",
       "      <td>214.800930</td>\n",
       "    </tr>\n",
       "    <tr>\n",
       "      <th>3</th>\n",
       "      <td>252.518156</td>\n",
       "    </tr>\n",
       "    <tr>\n",
       "      <th>4</th>\n",
       "      <td>292.325695</td>\n",
       "    </tr>\n",
       "    <tr>\n",
       "      <th>5</th>\n",
       "      <td>332.250353</td>\n",
       "    </tr>\n",
       "    <tr>\n",
       "      <th>6</th>\n",
       "      <td>358.889709</td>\n",
       "    </tr>\n",
       "  </tbody>\n",
       "</table>\n",
       "</div>"
      ],
      "text/plain": [
       "            0\n",
       "0  143.402165\n",
       "1  181.487454\n",
       "2  214.800930\n",
       "3  252.518156\n",
       "4  292.325695\n",
       "5  332.250353\n",
       "6  358.889709"
      ]
     },
     "execution_count": 108,
     "metadata": {},
     "output_type": "execute_result"
    }
   ],
   "source": [
    "lstm_predictions_scaled = []\n",
    "\n",
    "batch = scaled_train_data_recovered[-n_input:]\n",
    "current_batch = batch.reshape((1, n_input, n_features))\n",
    "\n",
    "for i in range(len(scaled_test_data_recovered)):   \n",
    "    lstm_pred = lstm_model.predict(current_batch)[0]\n",
    "    lstm_predictions_scaled.append(lstm_pred) \n",
    "    current_batch = np.append(current_batch[:,1:,:],[[lstm_pred]],axis=1)\n",
    "\n",
    "recovered_prediction = pd.DataFrame(scaler.inverse_transform(lstm_predictions_scaled))\n",
    "forecast_recovered_prediction = scaler.inverse_transform(lstm_predictions_scaled)\n",
    "recovered_prediction    "
   ]
  },
  {
   "cell_type": "markdown",
   "metadata": {},
   "source": [
    "<h3>Forecasting of Recovered Patients<h3>"
   ]
  },
  {
   "cell_type": "code",
   "execution_count": 109,
   "metadata": {},
   "outputs": [],
   "source": [
    "forecast_index = pd.date_range(start = '4/7/20', periods = 7, freq = 'D' )"
   ]
  },
  {
   "cell_type": "code",
   "execution_count": 110,
   "metadata": {},
   "outputs": [
    {
     "data": {
      "text/plain": [
       "DatetimeIndex(['2020-04-07', '2020-04-08', '2020-04-09', '2020-04-10',\n",
       "               '2020-04-11', '2020-04-12', '2020-04-13'],\n",
       "              dtype='datetime64[ns]', freq='D')"
      ]
     },
     "execution_count": 110,
     "metadata": {},
     "output_type": "execute_result"
    }
   ],
   "source": [
    "forecast_index"
   ]
  },
  {
   "cell_type": "code",
   "execution_count": 111,
   "metadata": {},
   "outputs": [],
   "source": [
    "forecast_df = pd.DataFrame(data = forecast_recovered_prediction, index = forecast_index, columns = ['RecoveredForecast'])"
   ]
  },
  {
   "cell_type": "code",
   "execution_count": 112,
   "metadata": {},
   "outputs": [
    {
     "data": {
      "text/html": [
       "<div>\n",
       "<style scoped>\n",
       "    .dataframe tbody tr th:only-of-type {\n",
       "        vertical-align: middle;\n",
       "    }\n",
       "\n",
       "    .dataframe tbody tr th {\n",
       "        vertical-align: top;\n",
       "    }\n",
       "\n",
       "    .dataframe thead th {\n",
       "        text-align: right;\n",
       "    }\n",
       "</style>\n",
       "<table border=\"1\" class=\"dataframe\">\n",
       "  <thead>\n",
       "    <tr style=\"text-align: right;\">\n",
       "      <th></th>\n",
       "      <th>RecoveredForecast</th>\n",
       "    </tr>\n",
       "  </thead>\n",
       "  <tbody>\n",
       "    <tr>\n",
       "      <th>2020-04-07</th>\n",
       "      <td>143.402165</td>\n",
       "    </tr>\n",
       "    <tr>\n",
       "      <th>2020-04-08</th>\n",
       "      <td>181.487454</td>\n",
       "    </tr>\n",
       "    <tr>\n",
       "      <th>2020-04-09</th>\n",
       "      <td>214.800930</td>\n",
       "    </tr>\n",
       "    <tr>\n",
       "      <th>2020-04-10</th>\n",
       "      <td>252.518156</td>\n",
       "    </tr>\n",
       "    <tr>\n",
       "      <th>2020-04-11</th>\n",
       "      <td>292.325695</td>\n",
       "    </tr>\n",
       "    <tr>\n",
       "      <th>2020-04-12</th>\n",
       "      <td>332.250353</td>\n",
       "    </tr>\n",
       "    <tr>\n",
       "      <th>2020-04-13</th>\n",
       "      <td>358.889709</td>\n",
       "    </tr>\n",
       "  </tbody>\n",
       "</table>\n",
       "</div>"
      ],
      "text/plain": [
       "            RecoveredForecast\n",
       "2020-04-07         143.402165\n",
       "2020-04-08         181.487454\n",
       "2020-04-09         214.800930\n",
       "2020-04-10         252.518156\n",
       "2020-04-11         292.325695\n",
       "2020-04-12         332.250353\n",
       "2020-04-13         358.889709"
      ]
     },
     "execution_count": 112,
     "metadata": {},
     "output_type": "execute_result"
    }
   ],
   "source": [
    "forecast_df"
   ]
  }
 ],
 "metadata": {
  "kernelspec": {
   "display_name": "Python 3",
   "language": "python",
   "name": "python3"
  },
  "language_info": {
   "codemirror_mode": {
    "name": "ipython",
    "version": 3
   },
   "file_extension": ".py",
   "mimetype": "text/x-python",
   "name": "python",
   "nbconvert_exporter": "python",
   "pygments_lexer": "ipython3",
   "version": "3.7.4"
  }
 },
 "nbformat": 4,
 "nbformat_minor": 2
}
